{
 "cells": [
  {
   "cell_type": "markdown",
   "metadata": {
    "pycharm": {
     "name": "#%% md\n"
    },
    "toc": true
   },
   "source": [
    "<h1>Table of Contents<span class=\"tocSkip\"></span></h1>\n",
    "<div class=\"toc\"><ul class=\"toc-item\"><li><span><a href=\"#Обзор-данных\" data-toc-modified-id=\"Обзор-данных-1\"><span class=\"toc-item-num\">1&nbsp;&nbsp;</span>Обзор данных</a></span></li><li><span><a href=\"#Предобработка-данных\" data-toc-modified-id=\"Предобработка-данных-2\"><span class=\"toc-item-num\">2&nbsp;&nbsp;</span>Предобработка данных</a></span><ul class=\"toc-item\"><li><span><a href=\"#Стиль-заголовков\" data-toc-modified-id=\"Стиль-заголовков-2.1\"><span class=\"toc-item-num\">2.1&nbsp;&nbsp;</span>Стиль заголовков</a></span></li><li><span><a href=\"#Пропуски-значений\" data-toc-modified-id=\"Пропуски-значений-2.2\"><span class=\"toc-item-num\">2.2&nbsp;&nbsp;</span>Пропуски значений</a></span></li><li><span><a href=\"#Дубликаты\" data-toc-modified-id=\"Дубликаты-2.3\"><span class=\"toc-item-num\">2.3&nbsp;&nbsp;</span>Дубликаты</a></span></li></ul></li><li><span><a href=\"#Проверка-гипотез\" data-toc-modified-id=\"Проверка-гипотез-3\"><span class=\"toc-item-num\">3&nbsp;&nbsp;</span>Проверка гипотез</a></span><ul class=\"toc-item\"><li><span><a href=\"#Сравнение-поведения-пользователей-двух-столиц\" data-toc-modified-id=\"Сравнение-поведения-пользователей-двух-столиц-3.1\"><span class=\"toc-item-num\">3.1&nbsp;&nbsp;</span>Сравнение поведения пользователей двух столиц</a></span></li><li><span><a href=\"#Музыка-в-начале-и-в-конце-недели\" data-toc-modified-id=\"Музыка-в-начале-и-в-конце-недели-3.2\"><span class=\"toc-item-num\">3.2&nbsp;&nbsp;</span>Музыка в начале и в конце недели</a></span></li><li><span><a href=\"#Жанровые-предпочтения-в-Москве-и-Петербурге\" data-toc-modified-id=\"Жанровые-предпочтения-в-Москве-и-Петербурге-3.3\"><span class=\"toc-item-num\">3.3&nbsp;&nbsp;</span>Жанровые предпочтения в Москве и Петербурге</a></span></li></ul></li><li><span><a href=\"#Итоги-исследования\" data-toc-modified-id=\"Итоги-исследования-4\"><span class=\"toc-item-num\">4&nbsp;&nbsp;</span>Итоги исследования</a></span></li></ul></div>"
   ]
  },
  {
   "cell_type": "markdown",
   "metadata": {
    "pycharm": {
     "name": "#%% md\n"
    }
   },
   "source": [
    "# Яндекс.Музыка"
   ]
  },
  {
   "cell_type": "markdown",
   "metadata": {
    "pycharm": {
     "name": "#%% md\n"
    }
   },
   "source": [
    "Сравнение Москвы и Петербурга окружено мифами. Например:\n",
    " * Москва — мегаполис, подчинённый жёсткому ритму рабочей недели;\n",
    " * Петербург — культурная столица, со своими вкусами.\n",
    "\n",
    "На данных Яндекс.Музыки вы сравните поведение пользователей двух столиц.\n",
    "\n",
    "**Цель исследования** — проверьте три гипотезы:\n",
    "1. Активность пользователей зависит от дня недели. Причём в Москве и Петербурге это проявляется по-разному.\n",
    "2. В понедельник утром в Москве преобладают одни жанры, а в Петербурге — другие. Так же и вечером пятницы преобладают разные жанры — в зависимости от города. \n",
    "3. Москва и Петербург предпочитают разные жанры музыки. В Москве чаще слушают поп-музыку, в Петербурге — русский рэп.\n",
    "\n",
    "**Ход исследования**\n",
    "\n",
    "Данные о поведении пользователей вы получите из файла `yandex_music_project.csv`. О качестве данных ничего не известно. Поэтому перед проверкой гипотез понадобится обзор данных. \n",
    "\n",
    "Вы проверите данные на ошибки и оцените их влияние на исследование. Затем, на этапе предобработки вы поищете возможность исправить самые критичные ошибки данных.\n",
    " \n",
    "Таким образом, исследование пройдёт в три этапа:\n",
    " 1. Обзор данных.\n",
    " 2. Предобработка данных.\n",
    " 3. Проверка гипотез.\n",
    "\n"
   ]
  },
  {
   "cell_type": "markdown",
   "metadata": {
    "pycharm": {
     "name": "#%% md\n"
    }
   },
   "source": [
    "## Обзор данных\n",
    "\n",
    "Составьте первое представление о данных Яндекс.Музыки.\n",
    "\n",
    "\n"
   ]
  },
  {
   "cell_type": "markdown",
   "metadata": {
    "pycharm": {
     "name": "#%% md\n"
    }
   },
   "source": [
    "Основной инструмент аналитика — `pandas`. Импортируйте эту библиотеку."
   ]
  },
  {
   "cell_type": "code",
   "execution_count": 2,
   "metadata": {
    "pycharm": {
     "name": "#%%\n"
    }
   },
   "outputs": [],
   "source": [
    "import pandas as pd"
   ]
  },
  {
   "cell_type": "markdown",
   "metadata": {
    "pycharm": {
     "name": "#%% md\n"
    }
   },
   "source": [
    "Прочитайте файл `yandex_music_project.csv` из папки `/datasets` и сохраните его в переменной `df`:"
   ]
  },
  {
   "cell_type": "code",
   "execution_count": 3,
   "metadata": {
    "pycharm": {
     "name": "#%%\n"
    }
   },
   "outputs": [],
   "source": [
    "df = pd.read_csv('./datasets/yandex_music_project.csv')"
   ]
  },
  {
   "cell_type": "markdown",
   "metadata": {
    "pycharm": {
     "name": "#%% md\n"
    }
   },
   "source": [
    "Выведите на экран первые десять строк таблицы:"
   ]
  },
  {
   "cell_type": "code",
   "execution_count": 4,
   "metadata": {
    "pycharm": {
     "name": "#%%\n"
    }
   },
   "outputs": [
    {
     "data": {
      "text/html": [
       "<div>\n",
       "<style scoped>\n",
       "    .dataframe tbody tr th:only-of-type {\n",
       "        vertical-align: middle;\n",
       "    }\n",
       "\n",
       "    .dataframe tbody tr th {\n",
       "        vertical-align: top;\n",
       "    }\n",
       "\n",
       "    .dataframe thead th {\n",
       "        text-align: right;\n",
       "    }\n",
       "</style>\n",
       "<table border=\"1\" class=\"dataframe\">\n",
       "  <thead>\n",
       "    <tr style=\"text-align: right;\">\n",
       "      <th></th>\n",
       "      <th>userID</th>\n",
       "      <th>Track</th>\n",
       "      <th>artist</th>\n",
       "      <th>genre</th>\n",
       "      <th>City</th>\n",
       "      <th>time</th>\n",
       "      <th>Day</th>\n",
       "    </tr>\n",
       "  </thead>\n",
       "  <tbody>\n",
       "    <tr>\n",
       "      <th>0</th>\n",
       "      <td>FFB692EC</td>\n",
       "      <td>Kamigata To Boots</td>\n",
       "      <td>The Mass Missile</td>\n",
       "      <td>rock</td>\n",
       "      <td>Saint-Petersburg</td>\n",
       "      <td>20:28:33</td>\n",
       "      <td>Wednesday</td>\n",
       "    </tr>\n",
       "    <tr>\n",
       "      <th>1</th>\n",
       "      <td>55204538</td>\n",
       "      <td>Delayed Because of Accident</td>\n",
       "      <td>Andreas Rönnberg</td>\n",
       "      <td>rock</td>\n",
       "      <td>Moscow</td>\n",
       "      <td>14:07:09</td>\n",
       "      <td>Friday</td>\n",
       "    </tr>\n",
       "    <tr>\n",
       "      <th>2</th>\n",
       "      <td>20EC38</td>\n",
       "      <td>Funiculì funiculà</td>\n",
       "      <td>Mario Lanza</td>\n",
       "      <td>pop</td>\n",
       "      <td>Saint-Petersburg</td>\n",
       "      <td>20:58:07</td>\n",
       "      <td>Wednesday</td>\n",
       "    </tr>\n",
       "    <tr>\n",
       "      <th>3</th>\n",
       "      <td>A3DD03C9</td>\n",
       "      <td>Dragons in the Sunset</td>\n",
       "      <td>Fire + Ice</td>\n",
       "      <td>folk</td>\n",
       "      <td>Saint-Petersburg</td>\n",
       "      <td>08:37:09</td>\n",
       "      <td>Monday</td>\n",
       "    </tr>\n",
       "    <tr>\n",
       "      <th>4</th>\n",
       "      <td>E2DC1FAE</td>\n",
       "      <td>Soul People</td>\n",
       "      <td>Space Echo</td>\n",
       "      <td>dance</td>\n",
       "      <td>Moscow</td>\n",
       "      <td>08:34:34</td>\n",
       "      <td>Monday</td>\n",
       "    </tr>\n",
       "    <tr>\n",
       "      <th>5</th>\n",
       "      <td>842029A1</td>\n",
       "      <td>Преданная</td>\n",
       "      <td>IMPERVTOR</td>\n",
       "      <td>rusrap</td>\n",
       "      <td>Saint-Petersburg</td>\n",
       "      <td>13:09:41</td>\n",
       "      <td>Friday</td>\n",
       "    </tr>\n",
       "    <tr>\n",
       "      <th>6</th>\n",
       "      <td>4CB90AA5</td>\n",
       "      <td>True</td>\n",
       "      <td>Roman Messer</td>\n",
       "      <td>dance</td>\n",
       "      <td>Moscow</td>\n",
       "      <td>13:00:07</td>\n",
       "      <td>Wednesday</td>\n",
       "    </tr>\n",
       "    <tr>\n",
       "      <th>7</th>\n",
       "      <td>F03E1C1F</td>\n",
       "      <td>Feeling This Way</td>\n",
       "      <td>Polina Griffith</td>\n",
       "      <td>dance</td>\n",
       "      <td>Moscow</td>\n",
       "      <td>20:47:49</td>\n",
       "      <td>Wednesday</td>\n",
       "    </tr>\n",
       "    <tr>\n",
       "      <th>8</th>\n",
       "      <td>8FA1D3BE</td>\n",
       "      <td>И вновь продолжается бой</td>\n",
       "      <td>NaN</td>\n",
       "      <td>ruspop</td>\n",
       "      <td>Moscow</td>\n",
       "      <td>09:17:40</td>\n",
       "      <td>Friday</td>\n",
       "    </tr>\n",
       "    <tr>\n",
       "      <th>9</th>\n",
       "      <td>E772D5C0</td>\n",
       "      <td>Pessimist</td>\n",
       "      <td>NaN</td>\n",
       "      <td>dance</td>\n",
       "      <td>Saint-Petersburg</td>\n",
       "      <td>21:20:49</td>\n",
       "      <td>Wednesday</td>\n",
       "    </tr>\n",
       "  </tbody>\n",
       "</table>\n",
       "</div>"
      ],
      "text/plain": [
       "     userID                        Track            artist   genre  \\\n",
       "0  FFB692EC            Kamigata To Boots  The Mass Missile    rock   \n",
       "1  55204538  Delayed Because of Accident  Andreas Rönnberg    rock   \n",
       "2    20EC38            Funiculì funiculà       Mario Lanza     pop   \n",
       "3  A3DD03C9        Dragons in the Sunset        Fire + Ice    folk   \n",
       "4  E2DC1FAE                  Soul People        Space Echo   dance   \n",
       "5  842029A1                    Преданная         IMPERVTOR  rusrap   \n",
       "6  4CB90AA5                         True      Roman Messer   dance   \n",
       "7  F03E1C1F             Feeling This Way   Polina Griffith   dance   \n",
       "8  8FA1D3BE     И вновь продолжается бой               NaN  ruspop   \n",
       "9  E772D5C0                    Pessimist               NaN   dance   \n",
       "\n",
       "             City        time        Day  \n",
       "0  Saint-Petersburg  20:28:33  Wednesday  \n",
       "1            Moscow  14:07:09     Friday  \n",
       "2  Saint-Petersburg  20:58:07  Wednesday  \n",
       "3  Saint-Petersburg  08:37:09     Monday  \n",
       "4            Moscow  08:34:34     Monday  \n",
       "5  Saint-Petersburg  13:09:41     Friday  \n",
       "6            Moscow  13:00:07  Wednesday  \n",
       "7            Moscow  20:47:49  Wednesday  \n",
       "8            Moscow  09:17:40     Friday  \n",
       "9  Saint-Petersburg  21:20:49  Wednesday  "
      ]
     },
     "execution_count": 4,
     "metadata": {},
     "output_type": "execute_result"
    }
   ],
   "source": [
    "df.head(10)"
   ]
  },
  {
   "cell_type": "markdown",
   "metadata": {
    "pycharm": {
     "name": "#%% md\n"
    }
   },
   "source": [
    "Одной командой получить общую информацию о таблице:"
   ]
  },
  {
   "cell_type": "code",
   "execution_count": 5,
   "metadata": {
    "pycharm": {
     "name": "#%%\n"
    }
   },
   "outputs": [
    {
     "name": "stdout",
     "output_type": "stream",
     "text": [
      "<class 'pandas.core.frame.DataFrame'>\n",
      "RangeIndex: 65079 entries, 0 to 65078\n",
      "Data columns (total 7 columns):\n",
      " #   Column    Non-Null Count  Dtype \n",
      "---  ------    --------------  ----- \n",
      " 0     userID  65079 non-null  object\n",
      " 1   Track     63848 non-null  object\n",
      " 2   artist    57876 non-null  object\n",
      " 3   genre     63881 non-null  object\n",
      " 4     City    65079 non-null  object\n",
      " 5   time      65079 non-null  object\n",
      " 6   Day       65079 non-null  object\n",
      "dtypes: object(7)\n",
      "memory usage: 3.5+ MB\n"
     ]
    }
   ],
   "source": [
    "df.info()"
   ]
  },
  {
   "cell_type": "markdown",
   "metadata": {
    "pycharm": {
     "name": "#%% md\n"
    }
   },
   "source": [
    "Итак, в таблице семь столбцов. Тип данных во всех столбцах — `object`.\n",
    "\n",
    "Согласно документации к данным:\n",
    "* `userID` — идентификатор пользователя;\n",
    "* `Track` — название трека;  \n",
    "* `artist` — имя исполнителя;\n",
    "* `genre` — название жанра;\n",
    "* `City` — город пользователя;\n",
    "* `time` — время начала прослушивания;\n",
    "* `Day` — день недели.\n",
    "\n",
    "В названиях колонок видны три нарушения стиля:\n",
    "1. Строчные буквы сочетаются с прописными.\n",
    "2. Встречаются пробелы.\n",
    "3. Не snake-case.\n",
    "\n",
    "\n",
    "\n",
    "Количество значений в столбцах различается. Значит, в данных есть пропущенные значения.\n"
   ]
  },
  {
   "cell_type": "markdown",
   "metadata": {
    "pycharm": {
     "name": "#%% md\n"
    }
   },
   "source": [
    "**Выводы**\n",
    "\n",
    "В каждой строке таблицы — данные о прослушанном треке. Часть колонок описывает саму композицию: название, исполнителя и жанр. Остальные данные рассказывают о пользователе: из какого он города, когда он слушал музыку. \n",
    "\n",
    "Предварительно можно утверждать, что, данных достаточно для проверки гипотез. Но встречаются пропуски в данных, а в названиях колонок — расхождения с хорошим стилем.\n",
    "\n",
    "Чтобы двигаться дальше, нужно устранить проблемы в данных."
   ]
  },
  {
   "cell_type": "markdown",
   "metadata": {
    "pycharm": {
     "name": "#%% md\n"
    }
   },
   "source": [
    "## Предобработка данных\n",
    "Исправьте стиль в заголовках столбцов, исключите пропуски. Затем проверьте данные на дубликаты."
   ]
  },
  {
   "cell_type": "markdown",
   "metadata": {
    "pycharm": {
     "name": "#%% md\n"
    }
   },
   "source": [
    "### Стиль заголовков\n",
    "Выведите на экран названия столбцов:"
   ]
  },
  {
   "cell_type": "code",
   "execution_count": 6,
   "metadata": {
    "pycharm": {
     "name": "#%%\n"
    }
   },
   "outputs": [
    {
     "data": {
      "text/plain": [
       "Index(['  userID', 'Track', 'artist', 'genre', '  City  ', 'time', 'Day'], dtype='object')"
      ]
     },
     "execution_count": 6,
     "metadata": {},
     "output_type": "execute_result"
    }
   ],
   "source": [
    "df.columns"
   ]
  },
  {
   "cell_type": "markdown",
   "metadata": {
    "pycharm": {
     "name": "#%% md\n"
    }
   },
   "source": [
    "Приведите названия в соответствие с хорошим стилем:\n",
    "* несколько слов в названии запишите в «змеином_регистре»,\n",
    "* все символы сделайте строчными,\n",
    "* устраните пробелы.\n",
    "\n",
    "Для этого переименуйте колонки так:\n",
    "* `'  userID'` → `'user_id'`;\n",
    "* `'Track'` → `'track'`;\n",
    "* `'  City  '` → `'city'`;\n",
    "* `'Day'` → `'day'`."
   ]
  },
  {
   "cell_type": "code",
   "execution_count": 7,
   "metadata": {
    "pycharm": {
     "name": "#%%\n"
    }
   },
   "outputs": [],
   "source": [
    "df = df.rename(columns={\n",
    "    '  userID': 'user_id',\n",
    "    'Track': 'track',\n",
    "    '  City  ': 'city',\n",
    "    'Day': 'day',\n",
    "})"
   ]
  },
  {
   "cell_type": "markdown",
   "metadata": {
    "pycharm": {
     "name": "#%% md\n"
    }
   },
   "source": [
    "Проверьте результат. Для этого ещё раз выведите на экран названия столбцов:"
   ]
  },
  {
   "cell_type": "code",
   "execution_count": 8,
   "metadata": {
    "pycharm": {
     "name": "#%%\n"
    }
   },
   "outputs": [
    {
     "data": {
      "text/plain": [
       "Index(['user_id', 'track', 'artist', 'genre', 'city', 'time', 'day'], dtype='object')"
      ]
     },
     "execution_count": 8,
     "metadata": {},
     "output_type": "execute_result"
    }
   ],
   "source": [
    "df.columns"
   ]
  },
  {
   "cell_type": "markdown",
   "metadata": {
    "pycharm": {
     "name": "#%% md\n"
    }
   },
   "source": [
    "### Пропуски значений\n",
    "Сначала посчитайте, сколько в таблице пропущенных значений. Для этого достаточно двух методов `pandas`:"
   ]
  },
  {
   "cell_type": "code",
   "execution_count": 9,
   "metadata": {
    "pycharm": {
     "name": "#%%\n"
    }
   },
   "outputs": [
    {
     "data": {
      "text/plain": [
       "user_id       0\n",
       "track      1231\n",
       "artist     7203\n",
       "genre      1198\n",
       "city          0\n",
       "time          0\n",
       "day           0\n",
       "dtype: int64"
      ]
     },
     "execution_count": 9,
     "metadata": {},
     "output_type": "execute_result"
    }
   ],
   "source": [
    "df.isna().sum()"
   ]
  },
  {
   "cell_type": "markdown",
   "metadata": {
    "pycharm": {
     "name": "#%% md\n"
    }
   },
   "source": [
    "Не все пропущенные значения влияют на исследование. Так в `track` и `artist` пропуски не важны для вашей работы. Достаточно заменить их явными обозначениями.\n",
    "\n",
    "Но пропуски в `genre` могут помешать сравнению музыкальных вкусов в Москве и Санкт-Петербурге. На практике было бы правильно установить причину пропусков и восстановить данные. Такой возможности нет в учебном проекте. Придётся:\n",
    "* заполнить и эти пропуски явными обозначениями,\n",
    "* оценить, насколько они повредят расчётам. "
   ]
  },
  {
   "cell_type": "markdown",
   "metadata": {
    "pycharm": {
     "name": "#%% md\n"
    }
   },
   "source": [
    "Замените пропущенные значения в столбцах `track`, `artist` и `genre` на строку `'unknown'`. Для этого создайте список `columns_to_replace`, переберите его элементы циклом `for` и для каждого столбца выполните замену пропущенных значений:"
   ]
  },
  {
   "cell_type": "code",
   "execution_count": 10,
   "metadata": {
    "pycharm": {
     "name": "#%%\n"
    }
   },
   "outputs": [],
   "source": [
    "columns_to_replace = ['track', 'artist', 'genre']\n",
    "for column in columns_to_replace:\n",
    "    df[column] = df[column].fillna('unknown')\n",
    "\n",
    "# примечание студента: а зачем так «сложно», если в остальных неуказанных столбцах нет NaN значений?\n",
    "# т. е. нам достаточно выполнить `df = df.fillna('unknown')`"
   ]
  },
  {
   "cell_type": "markdown",
   "metadata": {
    "pycharm": {
     "name": "#%% md\n"
    }
   },
   "source": [
    "Убедитесь, что в таблице не осталось пропусков. Для этого ещё раз посчитайте пропущенные значения."
   ]
  },
  {
   "cell_type": "code",
   "execution_count": 11,
   "metadata": {
    "pycharm": {
     "name": "#%%\n"
    }
   },
   "outputs": [
    {
     "data": {
      "text/plain": [
       "user_id    0\n",
       "track      0\n",
       "artist     0\n",
       "genre      0\n",
       "city       0\n",
       "time       0\n",
       "day        0\n",
       "dtype: int64"
      ]
     },
     "execution_count": 11,
     "metadata": {},
     "output_type": "execute_result"
    }
   ],
   "source": [
    "df.isna().sum()"
   ]
  },
  {
   "cell_type": "markdown",
   "metadata": {
    "pycharm": {
     "name": "#%% md\n"
    }
   },
   "source": [
    "### Дубликаты\n",
    "Посчитайте явные дубликаты в таблице одной командой:"
   ]
  },
  {
   "cell_type": "code",
   "execution_count": 12,
   "metadata": {
    "pycharm": {
     "name": "#%%\n"
    }
   },
   "outputs": [
    {
     "name": "stdout",
     "output_type": "stream",
     "text": [
      "Количество явных дубликатов: 3826\n"
     ]
    }
   ],
   "source": [
    "print('Количество явных дубликатов:',df.duplicated().sum())"
   ]
  },
  {
   "cell_type": "markdown",
   "metadata": {
    "pycharm": {
     "name": "#%% md\n"
    }
   },
   "source": [
    "Вызовите специальный метод `pandas`, чтобы удалить явные дубликаты:"
   ]
  },
  {
   "cell_type": "code",
   "execution_count": 13,
   "metadata": {
    "pycharm": {
     "name": "#%%\n"
    }
   },
   "outputs": [],
   "source": [
    "df = df.drop_duplicates().reset_index(drop=True)"
   ]
  },
  {
   "cell_type": "markdown",
   "metadata": {
    "pycharm": {
     "name": "#%% md\n"
    }
   },
   "source": [
    "Ещё раз посчитайте явные дубликаты в таблице — убедитесь, что полностью от них избавились:"
   ]
  },
  {
   "cell_type": "code",
   "execution_count": 14,
   "metadata": {
    "pycharm": {
     "name": "#%%\n"
    }
   },
   "outputs": [
    {
     "data": {
      "text/plain": [
       "0"
      ]
     },
     "execution_count": 14,
     "metadata": {},
     "output_type": "execute_result"
    }
   ],
   "source": [
    "df.duplicated().sum()"
   ]
  },
  {
   "cell_type": "markdown",
   "metadata": {
    "pycharm": {
     "name": "#%% md\n"
    }
   },
   "source": [
    "Теперь избавьтесь от неявных дубликатов в колонке `genre`. Например, название одного и того же жанра может быть записано немного по-разному. Такие ошибки тоже повлияют на результат исследования."
   ]
  },
  {
   "cell_type": "markdown",
   "metadata": {
    "pycharm": {
     "name": "#%% md\n"
    }
   },
   "source": [
    "Выведите на экран список уникальных названий жанров, отсортированный в алфавитном порядке. Для этого:\n",
    "* извлеките нужный столбец датафрейма, \n",
    "* примените к нему метод сортировки,\n",
    "* для отсортированного столбца вызовите метод, который вернёт уникальные значения из столбца."
   ]
  },
  {
   "cell_type": "code",
   "execution_count": 15,
   "metadata": {
    "pycharm": {
     "name": "#%%\n"
    }
   },
   "outputs": [
    {
     "data": {
      "text/plain": [
       "array(['acid', 'acoustic', 'action', 'adult', 'africa', 'afrikaans',\n",
       "       'alternative', 'alternativepunk', 'ambient', 'americana',\n",
       "       'animated', 'anime', 'arabesk', 'arabic', 'arena',\n",
       "       'argentinetango', 'art', 'audiobook', 'author', 'avantgarde',\n",
       "       'axé', 'baile', 'balkan', 'beats', 'bigroom', 'black', 'bluegrass',\n",
       "       'blues', 'bollywood', 'bossa', 'brazilian', 'breakbeat', 'breaks',\n",
       "       'broadway', 'cantautori', 'cantopop', 'canzone', 'caribbean',\n",
       "       'caucasian', 'celtic', 'chamber', 'chanson', 'children', 'chill',\n",
       "       'chinese', 'choral', 'christian', 'christmas', 'classical',\n",
       "       'classicmetal', 'club', 'colombian', 'comedy', 'conjazz',\n",
       "       'contemporary', 'country', 'cuban', 'dance', 'dancehall',\n",
       "       'dancepop', 'dark', 'death', 'deep', 'deutschrock', 'deutschspr',\n",
       "       'dirty', 'disco', 'dnb', 'documentary', 'downbeat', 'downtempo',\n",
       "       'drum', 'dub', 'dubstep', 'eastern', 'easy', 'electronic',\n",
       "       'electropop', 'emo', 'entehno', 'epicmetal', 'estrada', 'ethnic',\n",
       "       'eurofolk', 'european', 'experimental', 'extrememetal', 'fado',\n",
       "       'fairytail', 'film', 'fitness', 'flamenco', 'folk', 'folklore',\n",
       "       'folkmetal', 'folkrock', 'folktronica', 'forró', 'frankreich',\n",
       "       'französisch', 'french', 'funk', 'future', 'gangsta', 'garage',\n",
       "       'german', 'ghazal', 'gitarre', 'glitch', 'gospel', 'gothic',\n",
       "       'grime', 'grunge', 'gypsy', 'handsup', \"hard'n'heavy\", 'hardcore',\n",
       "       'hardstyle', 'hardtechno', 'hip', 'hip-hop', 'hiphop',\n",
       "       'historisch', 'holiday', 'hop', 'horror', 'house', 'hymn', 'idm',\n",
       "       'independent', 'indian', 'indie', 'indipop', 'industrial',\n",
       "       'inspirational', 'instrumental', 'international', 'irish', 'jam',\n",
       "       'japanese', 'jazz', 'jewish', 'jpop', 'jungle', 'k-pop',\n",
       "       'karadeniz', 'karaoke', 'kayokyoku', 'korean', 'laiko', 'latin',\n",
       "       'latino', 'leftfield', 'local', 'lounge', 'loungeelectronic',\n",
       "       'lovers', 'malaysian', 'mandopop', 'marschmusik', 'meditative',\n",
       "       'mediterranean', 'melodic', 'metal', 'metalcore', 'mexican',\n",
       "       'middle', 'minimal', 'miscellaneous', 'modern', 'mood', 'mpb',\n",
       "       'muslim', 'native', 'neoklassik', 'neue', 'new', 'newage',\n",
       "       'newwave', 'nu', 'nujazz', 'numetal', 'oceania', 'old', 'opera',\n",
       "       'orchestral', 'other', 'piano', 'podcasts', 'pop', 'popdance',\n",
       "       'popelectronic', 'popeurodance', 'poprussian', 'post',\n",
       "       'posthardcore', 'postrock', 'power', 'progmetal', 'progressive',\n",
       "       'psychedelic', 'punjabi', 'punk', 'quebecois', 'ragga', 'ram',\n",
       "       'rancheras', 'rap', 'rave', 'reggae', 'reggaeton', 'regional',\n",
       "       'relax', 'religious', 'retro', 'rhythm', 'rnb', 'rnr', 'rock',\n",
       "       'rockabilly', 'rockalternative', 'rockindie', 'rockother',\n",
       "       'romance', 'roots', 'ruspop', 'rusrap', 'rusrock', 'russian',\n",
       "       'salsa', 'samba', 'scenic', 'schlager', 'self', 'sertanejo',\n",
       "       'shanson', 'shoegazing', 'showtunes', 'singer', 'ska', 'skarock',\n",
       "       'slow', 'smooth', 'soft', 'soul', 'soulful', 'sound', 'soundtrack',\n",
       "       'southern', 'specialty', 'speech', 'spiritual', 'sport',\n",
       "       'stonerrock', 'surf', 'swing', 'synthpop', 'synthrock',\n",
       "       'sängerportrait', 'tango', 'tanzorchester', 'taraftar', 'tatar',\n",
       "       'tech', 'techno', 'teen', 'thrash', 'top', 'traditional',\n",
       "       'tradjazz', 'trance', 'tribal', 'trip', 'triphop', 'tropical',\n",
       "       'türk', 'türkçe', 'ukrrock', 'unknown', 'urban', 'uzbek',\n",
       "       'variété', 'vi', 'videogame', 'vocal', 'western', 'world',\n",
       "       'worldbeat', 'ïîï', 'электроника'], dtype=object)"
      ]
     },
     "execution_count": 15,
     "metadata": {},
     "output_type": "execute_result"
    }
   ],
   "source": [
    "df['genre'].sort_values().unique()"
   ]
  },
  {
   "cell_type": "markdown",
   "metadata": {
    "pycharm": {
     "name": "#%% md\n"
    }
   },
   "source": [
    "Просмотрите список и найдите неявные дубликаты названия `hiphop`. Это могут быть названия с ошибками или альтернативные названия того же жанра.\n",
    "\n",
    "Вы увидите следующие неявные дубликаты:\n",
    "* *hip*,\n",
    "* *hop*,\n",
    "* *hip-hop*.\n",
    "\n",
    "Чтобы очистить от них таблицу, напишите функцию `replace_wrong_genres()` с двумя параметрами: \n",
    "* `wrong_genres` — список дубликатов,\n",
    "* `correct_genre` — строка с правильным значением.\n",
    "\n",
    "Функция должна исправить колонку `genre` в таблице `df`: заменить каждое значение из списка `wrong_genres` на значение из `correct_genre`."
   ]
  },
  {
   "cell_type": "code",
   "execution_count": 16,
   "metadata": {
    "pycharm": {
     "name": "#%%\n"
    }
   },
   "outputs": [],
   "source": [
    "def replace_wrong_genres(wrong_genres, correct_genre):\n",
    "    df['genre'].replace(wrong_genres, correct_genre, inplace=True)"
   ]
  },
  {
   "cell_type": "markdown",
   "metadata": {
    "pycharm": {
     "name": "#%% md\n"
    }
   },
   "source": [
    "Вызовите `replace_wrong_genres()` и передайте ей такие аргументы, чтобы она устранила неявные дубликаты: вместо `hip`, `hop` и `hip-hop` в таблице должно быть значение `hiphop`:"
   ]
  },
  {
   "cell_type": "code",
   "execution_count": 17,
   "metadata": {
    "pycharm": {
     "name": "#%%\n"
    }
   },
   "outputs": [],
   "source": [
    "replace_wrong_genres(\n",
    "    ['hip', 'hop', 'hip-hop'],\n",
    "    'hiphop')"
   ]
  },
  {
   "cell_type": "markdown",
   "metadata": {
    "pycharm": {
     "name": "#%% md\n"
    }
   },
   "source": [
    "Проверьте, что заменили неправильные названия:\n",
    "\n",
    "*   hip\n",
    "*   hop\n",
    "*   hip-hop\n",
    "\n",
    "Выведите отсортированный список уникальных значений столбца `genre`:"
   ]
  },
  {
   "cell_type": "code",
   "execution_count": 18,
   "metadata": {
    "pycharm": {
     "name": "#%%\n"
    }
   },
   "outputs": [
    {
     "data": {
      "text/plain": [
       "array(['acid', 'acoustic', 'action', 'adult', 'africa', 'afrikaans',\n",
       "       'alternative', 'alternativepunk', 'ambient', 'americana',\n",
       "       'animated', 'anime', 'arabesk', 'arabic', 'arena',\n",
       "       'argentinetango', 'art', 'audiobook', 'author', 'avantgarde',\n",
       "       'axé', 'baile', 'balkan', 'beats', 'bigroom', 'black', 'bluegrass',\n",
       "       'blues', 'bollywood', 'bossa', 'brazilian', 'breakbeat', 'breaks',\n",
       "       'broadway', 'cantautori', 'cantopop', 'canzone', 'caribbean',\n",
       "       'caucasian', 'celtic', 'chamber', 'chanson', 'children', 'chill',\n",
       "       'chinese', 'choral', 'christian', 'christmas', 'classical',\n",
       "       'classicmetal', 'club', 'colombian', 'comedy', 'conjazz',\n",
       "       'contemporary', 'country', 'cuban', 'dance', 'dancehall',\n",
       "       'dancepop', 'dark', 'death', 'deep', 'deutschrock', 'deutschspr',\n",
       "       'dirty', 'disco', 'dnb', 'documentary', 'downbeat', 'downtempo',\n",
       "       'drum', 'dub', 'dubstep', 'eastern', 'easy', 'electronic',\n",
       "       'electropop', 'emo', 'entehno', 'epicmetal', 'estrada', 'ethnic',\n",
       "       'eurofolk', 'european', 'experimental', 'extrememetal', 'fado',\n",
       "       'fairytail', 'film', 'fitness', 'flamenco', 'folk', 'folklore',\n",
       "       'folkmetal', 'folkrock', 'folktronica', 'forró', 'frankreich',\n",
       "       'französisch', 'french', 'funk', 'future', 'gangsta', 'garage',\n",
       "       'german', 'ghazal', 'gitarre', 'glitch', 'gospel', 'gothic',\n",
       "       'grime', 'grunge', 'gypsy', 'handsup', \"hard'n'heavy\", 'hardcore',\n",
       "       'hardstyle', 'hardtechno', 'hiphop', 'historisch', 'holiday',\n",
       "       'horror', 'house', 'hymn', 'idm', 'independent', 'indian', 'indie',\n",
       "       'indipop', 'industrial', 'inspirational', 'instrumental',\n",
       "       'international', 'irish', 'jam', 'japanese', 'jazz', 'jewish',\n",
       "       'jpop', 'jungle', 'k-pop', 'karadeniz', 'karaoke', 'kayokyoku',\n",
       "       'korean', 'laiko', 'latin', 'latino', 'leftfield', 'local',\n",
       "       'lounge', 'loungeelectronic', 'lovers', 'malaysian', 'mandopop',\n",
       "       'marschmusik', 'meditative', 'mediterranean', 'melodic', 'metal',\n",
       "       'metalcore', 'mexican', 'middle', 'minimal', 'miscellaneous',\n",
       "       'modern', 'mood', 'mpb', 'muslim', 'native', 'neoklassik', 'neue',\n",
       "       'new', 'newage', 'newwave', 'nu', 'nujazz', 'numetal', 'oceania',\n",
       "       'old', 'opera', 'orchestral', 'other', 'piano', 'podcasts', 'pop',\n",
       "       'popdance', 'popelectronic', 'popeurodance', 'poprussian', 'post',\n",
       "       'posthardcore', 'postrock', 'power', 'progmetal', 'progressive',\n",
       "       'psychedelic', 'punjabi', 'punk', 'quebecois', 'ragga', 'ram',\n",
       "       'rancheras', 'rap', 'rave', 'reggae', 'reggaeton', 'regional',\n",
       "       'relax', 'religious', 'retro', 'rhythm', 'rnb', 'rnr', 'rock',\n",
       "       'rockabilly', 'rockalternative', 'rockindie', 'rockother',\n",
       "       'romance', 'roots', 'ruspop', 'rusrap', 'rusrock', 'russian',\n",
       "       'salsa', 'samba', 'scenic', 'schlager', 'self', 'sertanejo',\n",
       "       'shanson', 'shoegazing', 'showtunes', 'singer', 'ska', 'skarock',\n",
       "       'slow', 'smooth', 'soft', 'soul', 'soulful', 'sound', 'soundtrack',\n",
       "       'southern', 'specialty', 'speech', 'spiritual', 'sport',\n",
       "       'stonerrock', 'surf', 'swing', 'synthpop', 'synthrock',\n",
       "       'sängerportrait', 'tango', 'tanzorchester', 'taraftar', 'tatar',\n",
       "       'tech', 'techno', 'teen', 'thrash', 'top', 'traditional',\n",
       "       'tradjazz', 'trance', 'tribal', 'trip', 'triphop', 'tropical',\n",
       "       'türk', 'türkçe', 'ukrrock', 'unknown', 'urban', 'uzbek',\n",
       "       'variété', 'vi', 'videogame', 'vocal', 'western', 'world',\n",
       "       'worldbeat', 'ïîï', 'электроника'], dtype=object)"
      ]
     },
     "execution_count": 18,
     "metadata": {},
     "output_type": "execute_result"
    }
   ],
   "source": [
    "df['genre'].sort_values().unique()"
   ]
  },
  {
   "cell_type": "markdown",
   "metadata": {
    "pycharm": {
     "name": "#%% md\n"
    }
   },
   "source": [
    "**Выводы**\n",
    "\n",
    "Предобработка обнаружила три проблемы в данных:\n",
    "\n",
    "- нарушения в стиле заголовков,\n",
    "- пропущенные значения,\n",
    "- дубликаты — явные и неявные.\n",
    "\n",
    "Вы исправили заголовки, чтобы упростить работу с таблицей. Без дубликатов исследование станет более точным.\n",
    "\n",
    "Пропущенные значения вы заменили на `'unknown'`. Ещё предстоит увидеть, не повредят ли исследованию пропуски в колонке `genre`.\n",
    "\n",
    "Теперь можно перейти к проверке гипотез. "
   ]
  },
  {
   "cell_type": "markdown",
   "metadata": {
    "pycharm": {
     "name": "#%% md\n"
    }
   },
   "source": [
    "## Проверка гипотез"
   ]
  },
  {
   "cell_type": "markdown",
   "metadata": {
    "pycharm": {
     "name": "#%% md\n"
    }
   },
   "source": [
    "### Сравнение поведения пользователей двух столиц"
   ]
  },
  {
   "cell_type": "markdown",
   "metadata": {
    "pycharm": {
     "name": "#%% md\n"
    }
   },
   "source": [
    "Первая гипотеза утверждает, что пользователи по-разному слушают музыку в Москве и Санкт-Петербурге. Проверьте это предположение по данным о трёх днях недели — понедельнике, среде и пятнице. Для этого:\n",
    "\n",
    "* Разделите пользователей Москвы и Санкт-Петербурга\n",
    "* Сравните, сколько треков послушала каждая группа пользователей в понедельник, среду и пятницу.\n"
   ]
  },
  {
   "cell_type": "markdown",
   "metadata": {
    "pycharm": {
     "name": "#%% md\n"
    }
   },
   "source": [
    "Для тренировки сначала выполните каждый из расчётов по отдельности. \n",
    "\n",
    "Оцените активность пользователей в каждом городе. Сгруппируйте данные по городу и посчитайте прослушивания в каждой группе.\n",
    "\n"
   ]
  },
  {
   "cell_type": "code",
   "execution_count": 19,
   "metadata": {
    "pycharm": {
     "name": "#%%\n"
    }
   },
   "outputs": [
    {
     "data": {
      "text/html": [
       "<div>\n",
       "<style scoped>\n",
       "    .dataframe tbody tr th:only-of-type {\n",
       "        vertical-align: middle;\n",
       "    }\n",
       "\n",
       "    .dataframe tbody tr th {\n",
       "        vertical-align: top;\n",
       "    }\n",
       "\n",
       "    .dataframe thead th {\n",
       "        text-align: right;\n",
       "    }\n",
       "</style>\n",
       "<table border=\"1\" class=\"dataframe\">\n",
       "  <thead>\n",
       "    <tr style=\"text-align: right;\">\n",
       "      <th></th>\n",
       "      <th>genre</th>\n",
       "    </tr>\n",
       "    <tr>\n",
       "      <th>city</th>\n",
       "      <th></th>\n",
       "    </tr>\n",
       "  </thead>\n",
       "  <tbody>\n",
       "    <tr>\n",
       "      <th>Moscow</th>\n",
       "      <td>42741</td>\n",
       "    </tr>\n",
       "    <tr>\n",
       "      <th>Saint-Petersburg</th>\n",
       "      <td>18512</td>\n",
       "    </tr>\n",
       "  </tbody>\n",
       "</table>\n",
       "</div>"
      ],
      "text/plain": [
       "                  genre\n",
       "city                   \n",
       "Moscow            42741\n",
       "Saint-Petersburg  18512"
      ]
     },
     "execution_count": 19,
     "metadata": {},
     "output_type": "execute_result"
    }
   ],
   "source": [
    "df.groupby('city').count().loc[:,['genre']]"
   ]
  },
  {
   "cell_type": "markdown",
   "metadata": {
    "pycharm": {
     "name": "#%% md\n"
    }
   },
   "source": [
    "В Москве прослушиваний больше, чем в Петербурге. Из этого не следует, что московские пользователи чаще слушают музыку. Просто самих пользователей в Москве больше.\n",
    "\n",
    "Теперь сгруппируйте данные по дню недели и подсчитайте прослушивания в понедельник, среду и пятницу. Учтите, что в данных есть информация только о прослушиваниях только за эти дни.\n"
   ]
  },
  {
   "cell_type": "code",
   "execution_count": 20,
   "metadata": {
    "pycharm": {
     "name": "#%%\n"
    }
   },
   "outputs": [
    {
     "data": {
      "text/html": [
       "<div>\n",
       "<style scoped>\n",
       "    .dataframe tbody tr th:only-of-type {\n",
       "        vertical-align: middle;\n",
       "    }\n",
       "\n",
       "    .dataframe tbody tr th {\n",
       "        vertical-align: top;\n",
       "    }\n",
       "\n",
       "    .dataframe thead th {\n",
       "        text-align: right;\n",
       "    }\n",
       "</style>\n",
       "<table border=\"1\" class=\"dataframe\">\n",
       "  <thead>\n",
       "    <tr style=\"text-align: right;\">\n",
       "      <th></th>\n",
       "      <th>genre</th>\n",
       "    </tr>\n",
       "    <tr>\n",
       "      <th>day</th>\n",
       "      <th></th>\n",
       "    </tr>\n",
       "  </thead>\n",
       "  <tbody>\n",
       "    <tr>\n",
       "      <th>Friday</th>\n",
       "      <td>21840</td>\n",
       "    </tr>\n",
       "    <tr>\n",
       "      <th>Monday</th>\n",
       "      <td>21354</td>\n",
       "    </tr>\n",
       "    <tr>\n",
       "      <th>Wednesday</th>\n",
       "      <td>18059</td>\n",
       "    </tr>\n",
       "  </tbody>\n",
       "</table>\n",
       "</div>"
      ],
      "text/plain": [
       "           genre\n",
       "day             \n",
       "Friday     21840\n",
       "Monday     21354\n",
       "Wednesday  18059"
      ]
     },
     "execution_count": 20,
     "metadata": {},
     "output_type": "execute_result"
    }
   ],
   "source": [
    "df.groupby('day').count().loc[:,['genre']]"
   ]
  },
  {
   "cell_type": "markdown",
   "metadata": {
    "pycharm": {
     "name": "#%% md\n"
    }
   },
   "source": [
    "В среднем пользователи из двух городов менее активны по средам. Но картина может измениться, если рассмотреть каждый город в отдельности."
   ]
  },
  {
   "cell_type": "markdown",
   "metadata": {
    "pycharm": {
     "name": "#%% md\n"
    }
   },
   "source": [
    "Вы видели, как работает группировка по городу и по дням недели. Теперь напишите функцию, которая объединит два эти расчёта.\n",
    "\n",
    "Создайте функцию `number_tracks()`, которая посчитает прослушивания для заданного дня и города. Ей понадобятся два параметра:\n",
    "* день недели,\n",
    "* название города.\n",
    "\n",
    "В функции сохраните в переменную строки исходной таблицы, у которых значение:\n",
    "  * в колонке `day` равно параметру `day`,\n",
    "  * в колонке `city` равно параметру `city`.\n",
    "\n",
    "Для этого примените последовательную фильтрацию с логической индексацией.\n",
    "\n",
    "Затем посчитайте значения в столбце `user_id` получившейся таблицы. Результат сохраните в новую переменную. Верните эту переменную из функции."
   ]
  },
  {
   "cell_type": "code",
   "execution_count": 21,
   "metadata": {
    "pycharm": {
     "name": "#%%\n"
    }
   },
   "outputs": [],
   "source": [
    "def number_tracks(day, city):\n",
    "    matches = df[\n",
    "        (df['day'] == day)\n",
    "        & (df['city'] == city)]\n",
    "    return len(matches['user_id'])"
   ]
  },
  {
   "cell_type": "markdown",
   "metadata": {
    "pycharm": {
     "name": "#%% md\n"
    }
   },
   "source": [
    "Вызовите `number_tracks()` шесть раз, меняя значение параметров — так, чтобы получить данные для каждого города в каждый из трёх дней."
   ]
  },
  {
   "cell_type": "code",
   "execution_count": 22,
   "metadata": {
    "pycharm": {
     "name": "#%%\n"
    }
   },
   "outputs": [
    {
     "name": "stdout",
     "output_type": "stream",
     "text": [
      "Количество прослушиваний в Москве в понедельник: 15740\n"
     ]
    }
   ],
   "source": [
    "print(\n",
    "    'Количество прослушиваний в Москве в понедельник:',\n",
    "    number_tracks('Monday', 'Moscow'))"
   ]
  },
  {
   "cell_type": "code",
   "execution_count": 23,
   "metadata": {
    "pycharm": {
     "name": "#%%\n"
    }
   },
   "outputs": [
    {
     "name": "stdout",
     "output_type": "stream",
     "text": [
      "количество прослушиваний в Санкт-Петербурге по понедельникам 5614\n"
     ]
    }
   ],
   "source": [
    "print(\n",
    "    'количество прослушиваний в Санкт-Петербурге по понедельникам',\n",
    "    number_tracks('Monday', 'Saint-Petersburg'))"
   ]
  },
  {
   "cell_type": "code",
   "execution_count": 24,
   "metadata": {
    "pycharm": {
     "name": "#%%\n"
    }
   },
   "outputs": [
    {
     "name": "stdout",
     "output_type": "stream",
     "text": [
      "количество прослушиваний в Москве по средам 11056\n"
     ]
    }
   ],
   "source": [
    "print(\n",
    "    'количество прослушиваний в Москве по средам',\n",
    "    number_tracks('Wednesday', 'Moscow'))"
   ]
  },
  {
   "cell_type": "code",
   "execution_count": 25,
   "metadata": {
    "pycharm": {
     "name": "#%%\n"
    }
   },
   "outputs": [
    {
     "name": "stdout",
     "output_type": "stream",
     "text": [
      "количество прослушиваний в Санкт-Петербурге по средам 7003\n"
     ]
    }
   ],
   "source": [
    "print(\n",
    "    'количество прослушиваний в Санкт-Петербурге по средам',\n",
    "    number_tracks('Wednesday', 'Saint-Petersburg'))"
   ]
  },
  {
   "cell_type": "code",
   "execution_count": 26,
   "metadata": {
    "pycharm": {
     "name": "#%%\n"
    }
   },
   "outputs": [
    {
     "name": "stdout",
     "output_type": "stream",
     "text": [
      "количество прослушиваний в Москве по пятницам 15945\n"
     ]
    }
   ],
   "source": [
    "print(\n",
    "    'количество прослушиваний в Москве по пятницам',\n",
    "    number_tracks('Friday', 'Moscow'))"
   ]
  },
  {
   "cell_type": "code",
   "execution_count": 27,
   "metadata": {
    "pycharm": {
     "name": "#%%\n"
    }
   },
   "outputs": [
    {
     "name": "stdout",
     "output_type": "stream",
     "text": [
      "количество прослушиваний в Санкт-Петербурге по пятницам 5895\n"
     ]
    }
   ],
   "source": [
    "print(\n",
    "    'количество прослушиваний в Санкт-Петербурге по пятницам',\n",
    "    number_tracks('Friday', 'Saint-Petersburg'))"
   ]
  },
  {
   "cell_type": "markdown",
   "metadata": {
    "pycharm": {
     "name": "#%% md\n"
    }
   },
   "source": [
    "Создайте c помощью конструктора `pd.DataFrame` таблицу, где\n",
    "* названия колонок — `['city', 'monday', 'wednesday', 'friday']`;\n",
    "* данные — результаты, которые вы получили с помощью `number_tracks`."
   ]
  },
  {
   "cell_type": "code",
   "execution_count": 28,
   "metadata": {
    "pycharm": {
     "name": "#%%\n"
    }
   },
   "outputs": [
    {
     "data": {
      "text/html": [
       "<div>\n",
       "<style scoped>\n",
       "    .dataframe tbody tr th:only-of-type {\n",
       "        vertical-align: middle;\n",
       "    }\n",
       "\n",
       "    .dataframe tbody tr th {\n",
       "        vertical-align: top;\n",
       "    }\n",
       "\n",
       "    .dataframe thead th {\n",
       "        text-align: right;\n",
       "    }\n",
       "</style>\n",
       "<table border=\"1\" class=\"dataframe\">\n",
       "  <thead>\n",
       "    <tr style=\"text-align: right;\">\n",
       "      <th></th>\n",
       "      <th>city</th>\n",
       "      <th>monday</th>\n",
       "      <th>wednesday</th>\n",
       "      <th>friday</th>\n",
       "    </tr>\n",
       "  </thead>\n",
       "  <tbody>\n",
       "    <tr>\n",
       "      <th>0</th>\n",
       "      <td>Saint-Petersburg</td>\n",
       "      <td>5614</td>\n",
       "      <td>7003</td>\n",
       "      <td>5895</td>\n",
       "    </tr>\n",
       "    <tr>\n",
       "      <th>1</th>\n",
       "      <td>Moscow</td>\n",
       "      <td>15740</td>\n",
       "      <td>11056</td>\n",
       "      <td>15945</td>\n",
       "    </tr>\n",
       "  </tbody>\n",
       "</table>\n",
       "</div>"
      ],
      "text/plain": [
       "               city  monday  wednesday  friday\n",
       "0  Saint-Petersburg    5614       7003    5895\n",
       "1            Moscow   15740      11056   15945"
      ]
     },
     "execution_count": 28,
     "metadata": {},
     "output_type": "execute_result"
    }
   ],
   "source": [
    "cities = df['city'].unique()\n",
    "days = ['Monday', 'Wednesday', 'Friday']\n",
    "\n",
    "data = []\n",
    "\n",
    "for i in range(len(cities)):\n",
    "    city = cities[i]\n",
    "    data.append([city])\n",
    "    for day in days:\n",
    "        data[i].append(number_tracks(day, city))\n",
    "\n",
    "pd.DataFrame(\n",
    "    data=data,\n",
    "    columns=['city', 'monday', 'wednesday', 'friday'])"
   ]
  },
  {
   "cell_type": "markdown",
   "metadata": {
    "pycharm": {
     "name": "#%% md\n"
    }
   },
   "source": [
    "**Выводы**\n",
    "\n",
    "Данные показывают разницу поведения пользователей:\n",
    "\n",
    "- В Москве пик прослушиваний приходится на понедельник и пятницу, а в среду заметен спад.\n",
    "- В Петербурге, наоборот, больше слушают музыку по средам. Активность в понедельник и пятницу здесь почти в равной мере уступает среде.\n",
    "\n",
    "Значит, данные говорят в пользу первой гипотезы."
   ]
  },
  {
   "cell_type": "markdown",
   "metadata": {
    "pycharm": {
     "name": "#%% md\n"
    }
   },
   "source": [
    "### Музыка в начале и в конце недели"
   ]
  },
  {
   "cell_type": "markdown",
   "metadata": {
    "pycharm": {
     "name": "#%% md\n"
    }
   },
   "source": [
    "Согласно второй гипотезе, утром в понедельник в Москве преобладают одни жанры, а в Петербурге — другие. Так же и вечером пятницы преобладают разные жанры — в зависимости от города."
   ]
  },
  {
   "cell_type": "markdown",
   "metadata": {
    "pycharm": {
     "name": "#%% md\n"
    }
   },
   "source": [
    "Сохраните таблицы с данными в две переменные:\n",
    "* по Москве — в `moscow_general`;\n",
    "* по Санкт-Петербургу — в `spb_general`."
   ]
  },
  {
   "cell_type": "code",
   "execution_count": 29,
   "metadata": {
    "pycharm": {
     "name": "#%%\n"
    }
   },
   "outputs": [],
   "source": [
    "moscow_general = df[df['city'] == 'Moscow']"
   ]
  },
  {
   "cell_type": "code",
   "execution_count": 30,
   "metadata": {
    "pycharm": {
     "name": "#%%\n"
    }
   },
   "outputs": [],
   "source": [
    "spb_general = df[df['city'] == 'Saint-Petersburg']"
   ]
  },
  {
   "cell_type": "markdown",
   "metadata": {
    "pycharm": {
     "name": "#%% md\n"
    }
   },
   "source": [
    "Создайте функцию `genre_weekday()` с четырьмя параметрами:\n",
    "* таблица (датафрейм) с данными,\n",
    "* день недели,\n",
    "* начальная временная метка в формате 'hh:mm', \n",
    "* последняя временная метка в формате 'hh:mm'.\n",
    "\n",
    "Функция должна вернуть информацию о топ-10 жанров тех треков, которые прослушивали в указанный день, в промежутке между двумя отметками времени."
   ]
  },
  {
   "cell_type": "code",
   "execution_count": 31,
   "metadata": {
    "pycharm": {
     "name": "#%%\n"
    }
   },
   "outputs": [],
   "source": [
    "def genre_weekday(table, day, time1, time2):\n",
    "    genre_df = table[\n",
    "        (table['day'] == day) &\n",
    "        (table['time'] > time1) &\n",
    "        (table['time'] < time2)]\n",
    "    \n",
    "    genre_df_count = genre_df.groupby('genre')['user_id'].count()\n",
    "    genre_df_sorted = genre_df_count.sort_values(ascending=False)\n",
    "    return genre_df_sorted[:10]"
   ]
  },
  {
   "cell_type": "markdown",
   "metadata": {
    "pycharm": {
     "name": "#%% md\n"
    }
   },
   "source": [
    "Cравните результаты функции `genre_weekday()` для Москвы и Санкт-Петербурга в понедельник утром (с 7:00 до 11:00) и в пятницу вечером (с 17:00 до 23:00):"
   ]
  },
  {
   "cell_type": "code",
   "execution_count": 32,
   "metadata": {
    "pycharm": {
     "name": "#%%\n"
    }
   },
   "outputs": [
    {
     "data": {
      "text/plain": [
       "genre\n",
       "pop            781\n",
       "dance          549\n",
       "electronic     480\n",
       "rock           474\n",
       "hiphop         286\n",
       "ruspop         186\n",
       "world          181\n",
       "rusrap         175\n",
       "alternative    164\n",
       "unknown        161\n",
       "Name: user_id, dtype: int64"
      ]
     },
     "execution_count": 32,
     "metadata": {},
     "output_type": "execute_result"
    }
   ],
   "source": [
    "genre_weekday(moscow_general, 'Monday', '07:00', '11:00')"
   ]
  },
  {
   "cell_type": "code",
   "execution_count": 33,
   "metadata": {
    "pycharm": {
     "name": "#%%\n"
    }
   },
   "outputs": [
    {
     "data": {
      "text/plain": [
       "genre\n",
       "pop            218\n",
       "dance          182\n",
       "rock           162\n",
       "electronic     147\n",
       "hiphop          80\n",
       "ruspop          64\n",
       "alternative     58\n",
       "rusrap          55\n",
       "jazz            44\n",
       "classical       40\n",
       "Name: user_id, dtype: int64"
      ]
     },
     "execution_count": 33,
     "metadata": {},
     "output_type": "execute_result"
    }
   ],
   "source": [
    "genre_weekday(spb_general, 'Monday', '07:00', '11:00')"
   ]
  },
  {
   "cell_type": "code",
   "execution_count": 34,
   "metadata": {
    "pycharm": {
     "name": "#%%\n"
    }
   },
   "outputs": [
    {
     "data": {
      "text/plain": [
       "genre\n",
       "pop            713\n",
       "rock           517\n",
       "dance          495\n",
       "electronic     482\n",
       "hiphop         273\n",
       "world          208\n",
       "ruspop         170\n",
       "alternative    163\n",
       "classical      163\n",
       "rusrap         142\n",
       "Name: user_id, dtype: int64"
      ]
     },
     "execution_count": 34,
     "metadata": {},
     "output_type": "execute_result"
    }
   ],
   "source": [
    "genre_weekday(moscow_general, 'Friday', '17:00', '23:00')"
   ]
  },
  {
   "cell_type": "code",
   "execution_count": 35,
   "metadata": {
    "pycharm": {
     "name": "#%%\n"
    }
   },
   "outputs": [
    {
     "data": {
      "text/plain": [
       "genre\n",
       "pop            256\n",
       "electronic     216\n",
       "rock           216\n",
       "dance          210\n",
       "hiphop          97\n",
       "alternative     63\n",
       "jazz            61\n",
       "classical       60\n",
       "rusrap          59\n",
       "world           54\n",
       "Name: user_id, dtype: int64"
      ]
     },
     "execution_count": 35,
     "metadata": {},
     "output_type": "execute_result"
    }
   ],
   "source": [
    "genre_weekday(spb_general, 'Friday', '17:00', '23:00')"
   ]
  },
  {
   "cell_type": "markdown",
   "metadata": {
    "pycharm": {
     "name": "#%% md\n"
    }
   },
   "source": [
    "**Выводы**\n",
    "\n",
    "Если сравнить топ-10 жанров в понедельник утром, можно сделать такие выводы:\n",
    "\n",
    "1. В Москве и Петербурге слушают похожую музыку. Единственное отличие — в московский рейтинг вошёл жанр “world”, а в петербургский — джаз и классика.\n",
    "\n",
    "2. В Москве пропущенных значений оказалось так много, что значение `'unknown'` заняло десятое место среди самых популярных жанров. Значит, пропущенные значения занимают существенную долю в данных и угрожают достоверности исследования.\n",
    "\n",
    "Вечер пятницы не меняет эту картину. Некоторые жанры поднимаются немного выше, другие спускаются, но в целом топ-10 остаётся тем же самым.\n",
    "\n",
    "Таким образом, вторая гипотеза подтвердилась лишь частично:\n",
    "* Пользователи слушают похожую музыку в начале недели и в конце.\n",
    "* Разница между Москвой и Петербургом не слишком выражена. В Москве чаще слушают русскую популярную музыку, в Петербурге — джаз.\n",
    "\n",
    "Однако пропуски в данных ставят под сомнение этот результат. В Москве их так много, что рейтинг топ-10 мог бы выглядеть иначе, если бы не утерянные  данные о жанрах."
   ]
  },
  {
   "cell_type": "markdown",
   "metadata": {
    "pycharm": {
     "name": "#%% md\n"
    }
   },
   "source": [
    "### Жанровые предпочтения в Москве и Петербурге\n",
    "\n",
    "Гипотеза: Петербург — столица рэпа, музыку этого жанра там слушают чаще, чем в Москве.  А Москва — город контрастов, в котором, тем не менее, преобладает поп-музыка."
   ]
  },
  {
   "cell_type": "markdown",
   "metadata": {
    "pycharm": {
     "name": "#%% md\n"
    }
   },
   "source": [
    "Сгруппируйте таблицу `moscow_general` по жанру и посчитайте прослушивания треков каждого жанра методом `count()`. Затем отсортируйте результат в порядке убывания и сохраните его в таблице `moscow_genres`."
   ]
  },
  {
   "cell_type": "code",
   "execution_count": 36,
   "metadata": {
    "pycharm": {
     "name": "#%%\n"
    }
   },
   "outputs": [],
   "source": [
    "moscow_genres = (\n",
    "    moscow_general\n",
    "    .groupby('genre')['genre']\n",
    "    .count()\n",
    "    .sort_values(ascending=False)\n",
    ")"
   ]
  },
  {
   "cell_type": "markdown",
   "metadata": {
    "pycharm": {
     "name": "#%% md\n"
    }
   },
   "source": [
    "Выведите на экран первые десять строк `moscow_genres`:"
   ]
  },
  {
   "cell_type": "code",
   "execution_count": 37,
   "metadata": {
    "pycharm": {
     "name": "#%%\n"
    }
   },
   "outputs": [
    {
     "data": {
      "text/plain": [
       "genre\n",
       "pop            5892\n",
       "dance          4435\n",
       "rock           3965\n",
       "electronic     3786\n",
       "hiphop         2096\n",
       "classical      1616\n",
       "world          1432\n",
       "alternative    1379\n",
       "ruspop         1372\n",
       "rusrap         1161\n",
       "Name: genre, dtype: int64"
      ]
     },
     "execution_count": 37,
     "metadata": {},
     "output_type": "execute_result"
    }
   ],
   "source": [
    "moscow_genres.head(10)"
   ]
  },
  {
   "cell_type": "markdown",
   "metadata": {
    "pycharm": {
     "name": "#%% md\n"
    }
   },
   "source": [
    "Теперь повторите то же и для Петербурга.\n",
    "\n",
    "Сгруппируйте таблицу `spb_general` по жанру. Посчитайте прослушивания треков каждого жанра. Результат отсортируйте в порядке убывания и сохраните в таблице `spb_genres`:\n"
   ]
  },
  {
   "cell_type": "code",
   "execution_count": 38,
   "metadata": {
    "pycharm": {
     "name": "#%%\n"
    }
   },
   "outputs": [],
   "source": [
    "spb_genres = spb_general.groupby('genre')['genre'].count().sort_values(ascending=False)"
   ]
  },
  {
   "cell_type": "markdown",
   "metadata": {
    "pycharm": {
     "name": "#%% md\n"
    }
   },
   "source": [
    "Выведите на экран первые десять строк `spb_genres`:"
   ]
  },
  {
   "cell_type": "code",
   "execution_count": 39,
   "metadata": {
    "pycharm": {
     "name": "#%%\n"
    }
   },
   "outputs": [
    {
     "data": {
      "text/plain": [
       "genre\n",
       "pop            2431\n",
       "dance          1932\n",
       "rock           1879\n",
       "electronic     1736\n",
       "hiphop          960\n",
       "alternative     649\n",
       "classical       646\n",
       "rusrap          564\n",
       "ruspop          538\n",
       "world           515\n",
       "Name: genre, dtype: int64"
      ]
     },
     "execution_count": 39,
     "metadata": {},
     "output_type": "execute_result"
    }
   ],
   "source": [
    "spb_genres.head(10)"
   ]
  },
  {
   "cell_type": "code",
   "execution_count": 40,
   "metadata": {
    "pycharm": {
     "name": "#%%\n"
    }
   },
   "outputs": [
    {
     "data": {
      "text/plain": [
       "genre\n",
       "pop            2431\n",
       "dance          1932\n",
       "rock           1879\n",
       "electronic     1736\n",
       "hiphop          960\n",
       "alternative     649\n",
       "classical       646\n",
       "rusrap          564\n",
       "ruspop          538\n",
       "world           515\n",
       "Name: genre, dtype: int64"
      ]
     },
     "execution_count": 40,
     "metadata": {},
     "output_type": "execute_result"
    }
   ],
   "source": [
    "spb_genres.head(10)"
   ]
  },
  {
   "cell_type": "code",
   "execution_count": 41,
   "metadata": {
    "id": "uaGJHjVU_Zcv",
    "pycharm": {
     "name": "#%%\n"
    }
   },
   "outputs": [
    {
     "data": {
      "text/plain": [
       "genre\n",
       "pop            2431\n",
       "dance          1932\n",
       "rock           1879\n",
       "electronic     1736\n",
       "hiphop          960\n",
       "alternative     649\n",
       "classical       646\n",
       "rusrap          564\n",
       "ruspop          538\n",
       "world           515\n",
       "Name: genre, dtype: int64"
      ]
     },
     "execution_count": 41,
     "metadata": {},
     "output_type": "execute_result"
    }
   ],
   "source": [
    "spb_genres.head(10)"
   ]
  },
  {
   "cell_type": "markdown",
   "metadata": {
    "id": "RY51YJYu_Zcv",
    "pycharm": {
     "name": "#%% md\n"
    }
   },
   "source": [
    "**Выводы**"
   ]
  },
  {
   "cell_type": "markdown",
   "metadata": {
    "id": "nVhnJEm__Zcv",
    "pycharm": {
     "name": "#%% md\n"
    }
   },
   "source": [
    "Гипотеза частично подтвердилась:\n",
    "* Поп-музыка — самый популярный жанр в Москве, как и предполагала гипотеза. Более того, в топ-10 жанров встречается близкий жанр — русская популярная музыка.\n",
    "* Вопреки ожиданиям, рэп одинаково популярен в Москве и Петербурге. \n"
   ]
  },
  {
   "cell_type": "markdown",
   "metadata": {
    "id": "ykKQ0N65_Zcv",
    "pycharm": {
     "name": "#%% md\n"
    }
   },
   "source": [
    "## Итоги исследования"
   ]
  },
  {
   "cell_type": "markdown",
   "metadata": {
    "id": "tjUwbHb3_Zcv",
    "pycharm": {
     "name": "#%% md\n"
    }
   },
   "source": [
    "Вы проверили три гипотезы и установили:\n",
    "\n",
    "1. День недели по-разному влияет на активность пользователей в Москве и Петербурге. \n",
    "\n",
    "Первая гипотеза полностью подтвердилась.\n",
    "\n",
    "2. Музыкальные предпочтения не сильно меняются в течение недели — будь то Москва или Петербург. Небольшие различия заметны в начале недели, по понедельникам:\n",
    "* в Москве слушают музыку жанра “world”,\n",
    "* в Петербурге — джаз и классику.\n",
    "\n",
    "Таким образом, вторая гипотеза подтвердилась лишь отчасти. Этот результат мог оказаться иным, если бы не пропуски в данных.\n",
    "\n",
    "3. Во вкусах пользователей Москвы и Петербурга больше общего чем различий. Вопреки ожиданиям, предпочтения жанров в Петербурге напоминают московские.\n",
    "\n",
    "Третья гипотеза не подтвердилась. Если различия в предпочтениях и существуют, на основной массе пользователей они незаметны.\n",
    "\n",
    "**На практике исследования содержат проверки статистических гипотез.**\n",
    "Из данных одного сервиса не всегда можно сделать вывод о всех жителях города.\n",
    "Проверки статистических гипотез покажут, насколько они достоверны, исходя из имеющихся данных. \n",
    "С методами проверок гипотез вы ещё познакомитесь в следующих темах."
   ]
  }
 ],
 "metadata": {
  "ExecuteTimeLog": [
   {
    "duration": 942,
    "start_time": "2021-11-01T21:32:42.665Z"
   },
   {
    "duration": 195,
    "start_time": "2021-11-01T21:32:44.890Z"
   },
   {
    "duration": 26,
    "start_time": "2021-11-01T21:32:50.723Z"
   },
   {
    "duration": 17,
    "start_time": "2021-11-01T21:32:54.244Z"
   },
   {
    "duration": 33,
    "start_time": "2021-11-01T21:33:17.662Z"
   },
   {
    "duration": 6,
    "start_time": "2021-11-01T21:37:55.853Z"
   },
   {
    "duration": 481,
    "start_time": "2021-11-01T21:38:02.061Z"
   },
   {
    "duration": 6,
    "start_time": "2021-11-01T21:38:03.721Z"
   },
   {
    "duration": 5,
    "start_time": "2021-11-01T21:38:07.978Z"
   },
   {
    "duration": 6,
    "start_time": "2021-11-01T21:38:17.643Z"
   },
   {
    "duration": 26,
    "start_time": "2021-11-01T21:39:58.096Z"
   },
   {
    "duration": 4,
    "start_time": "2021-11-01T21:40:02.747Z"
   },
   {
    "duration": 5,
    "start_time": "2021-11-01T21:40:07.804Z"
   },
   {
    "duration": 42,
    "start_time": "2021-11-01T21:40:52.658Z"
   },
   {
    "duration": 32,
    "start_time": "2021-11-01T21:40:57.754Z"
   },
   {
    "duration": 3,
    "start_time": "2021-11-01T21:41:22.963Z"
   },
   {
    "duration": 35,
    "start_time": "2021-11-01T21:41:43.414Z"
   },
   {
    "duration": 39,
    "start_time": "2021-11-01T21:42:04.668Z"
   },
   {
    "duration": 57,
    "start_time": "2021-11-01T21:42:10.428Z"
   },
   {
    "duration": 60,
    "start_time": "2021-11-01T21:42:15.337Z"
   },
   {
    "duration": 33,
    "start_time": "2021-11-01T21:43:24.027Z"
   },
   {
    "duration": 3,
    "start_time": "2021-11-01T21:44:56.233Z"
   },
   {
    "duration": 4,
    "start_time": "2021-11-01T21:45:03.891Z"
   },
   {
    "duration": 3,
    "start_time": "2021-11-01T21:45:38.709Z"
   },
   {
    "duration": 32,
    "start_time": "2021-11-01T21:45:53.232Z"
   },
   {
    "duration": 63,
    "start_time": "2021-11-01T21:47:02.221Z"
   },
   {
    "duration": 31,
    "start_time": "2021-11-01T21:47:10.532Z"
   },
   {
    "duration": 20,
    "start_time": "2021-11-01T21:48:49.275Z"
   },
   {
    "duration": 186,
    "start_time": "2021-11-01T21:48:54.481Z"
   },
   {
    "duration": 15,
    "start_time": "2021-11-01T21:48:55.216Z"
   },
   {
    "duration": 32,
    "start_time": "2021-11-01T21:48:56.796Z"
   },
   {
    "duration": 6,
    "start_time": "2021-11-01T21:49:02.286Z"
   },
   {
    "duration": 23,
    "start_time": "2021-11-01T21:49:08.082Z"
   },
   {
    "duration": 7,
    "start_time": "2021-11-01T21:49:09.817Z"
   },
   {
    "duration": 24,
    "start_time": "2021-11-01T21:49:22.313Z"
   },
   {
    "duration": 19,
    "start_time": "2021-11-01T21:49:33.154Z"
   },
   {
    "duration": 5,
    "start_time": "2021-11-01T21:49:33.939Z"
   },
   {
    "duration": 33,
    "start_time": "2021-11-01T21:49:34.724Z"
   },
   {
    "duration": 20,
    "start_time": "2021-11-01T21:49:52.045Z"
   },
   {
    "duration": 31,
    "start_time": "2021-11-01T21:49:54.065Z"
   },
   {
    "duration": 24,
    "start_time": "2021-11-01T21:50:06.028Z"
   },
   {
    "duration": 31,
    "start_time": "2021-11-01T21:50:06.856Z"
   },
   {
    "duration": 386,
    "start_time": "2021-11-01T21:50:20.482Z"
   },
   {
    "duration": 83,
    "start_time": "2021-11-01T21:50:23.028Z"
   },
   {
    "duration": 82,
    "start_time": "2021-11-01T21:50:44.924Z"
   },
   {
    "duration": 81,
    "start_time": "2021-11-01T21:50:54.420Z"
   },
   {
    "duration": 83,
    "start_time": "2021-11-01T21:51:21.630Z"
   },
   {
    "duration": 33,
    "start_time": "2021-11-01T21:51:42.688Z"
   },
   {
    "duration": 25,
    "start_time": "2021-11-01T21:51:52.252Z"
   },
   {
    "duration": 31,
    "start_time": "2021-11-01T21:51:52.970Z"
   },
   {
    "duration": 84,
    "start_time": "2021-11-01T21:51:54.760Z"
   },
   {
    "duration": 99,
    "start_time": "2021-11-01T21:52:23.681Z"
   },
   {
    "duration": 4,
    "start_time": "2021-11-01T21:52:30.456Z"
   },
   {
    "duration": 80,
    "start_time": "2021-11-01T21:52:32.245Z"
   },
   {
    "duration": 323,
    "start_time": "2021-11-01T21:54:17.091Z"
   },
   {
    "duration": 10,
    "start_time": "2021-11-01T21:54:33.886Z"
   },
   {
    "duration": 266,
    "start_time": "2021-11-01T21:54:40.578Z"
   },
   {
    "duration": 471,
    "start_time": "2021-11-01T21:54:50.782Z"
   },
   {
    "duration": 7,
    "start_time": "2021-11-01T21:54:54.846Z"
   },
   {
    "duration": 60,
    "start_time": "2021-11-01T21:55:08.127Z"
   },
   {
    "duration": 276,
    "start_time": "2021-11-01T21:59:23.953Z"
   },
   {
    "duration": 4,
    "start_time": "2021-11-01T21:59:30.531Z"
   },
   {
    "duration": 10,
    "start_time": "2021-11-01T21:59:36.576Z"
   },
   {
    "duration": 58,
    "start_time": "2021-11-01T22:00:00.407Z"
   },
   {
    "duration": 9,
    "start_time": "2021-11-01T22:01:35.880Z"
   },
   {
    "duration": 7968,
    "start_time": "2021-11-01T22:02:03.257Z"
   },
   {
    "duration": 46,
    "start_time": "2021-11-01T22:02:23.905Z"
   },
   {
    "duration": 298,
    "start_time": "2021-11-01T22:03:14.936Z"
   },
   {
    "duration": 616,
    "start_time": "2021-11-01T22:03:39.281Z"
   },
   {
    "duration": 300,
    "start_time": "2021-11-01T22:03:42.797Z"
   },
   {
    "duration": 282,
    "start_time": "2021-11-01T22:03:53.697Z"
   },
   {
    "duration": 8,
    "start_time": "2021-11-01T22:04:50.629Z"
   },
   {
    "duration": 1128,
    "start_time": "2021-11-01T22:04:57.085Z"
   },
   {
    "duration": 277,
    "start_time": "2021-11-01T22:05:03.068Z"
   },
   {
    "duration": 48,
    "start_time": "2021-11-01T22:05:08.539Z"
   },
   {
    "duration": 291,
    "start_time": "2021-11-01T22:06:38.288Z"
   },
   {
    "duration": 47,
    "start_time": "2021-11-01T22:06:41.414Z"
   },
   {
    "duration": 8089,
    "start_time": "2021-11-01T22:10:31.042Z"
   },
   {
    "duration": 50,
    "start_time": "2021-11-01T22:10:41.065Z"
   },
   {
    "duration": 108,
    "start_time": "2021-11-01T22:11:41.430Z"
   },
   {
    "duration": 5,
    "start_time": "2021-11-01T22:13:22.123Z"
   },
   {
    "duration": 1406,
    "start_time": "2021-11-01T22:13:53.739Z"
   },
   {
    "duration": 4,
    "start_time": "2021-11-01T22:14:09.382Z"
   },
   {
    "duration": 1446,
    "start_time": "2021-11-01T22:14:10.134Z"
   },
   {
    "duration": 1934,
    "start_time": "2021-11-01T22:14:31.468Z"
   },
   {
    "duration": 5,
    "start_time": "2021-11-01T22:15:58.408Z"
   },
   {
    "duration": 1496,
    "start_time": "2021-11-01T22:15:59.110Z"
   },
   {
    "duration": 5,
    "start_time": "2021-11-01T22:16:11.035Z"
   },
   {
    "duration": 7787,
    "start_time": "2021-11-01T22:16:11.716Z"
   },
   {
    "duration": 5,
    "start_time": "2021-11-01T22:16:26.378Z"
   },
   {
    "duration": 16,
    "start_time": "2021-11-01T22:16:28.192Z"
   },
   {
    "duration": 4,
    "start_time": "2021-11-01T22:16:34.077Z"
   },
   {
    "duration": 16,
    "start_time": "2021-11-01T22:16:34.823Z"
   },
   {
    "duration": 22,
    "start_time": "2021-11-01T22:16:40.078Z"
   },
   {
    "duration": 6,
    "start_time": "2021-11-01T22:16:48.467Z"
   },
   {
    "duration": 1448,
    "start_time": "2021-11-01T22:16:48.867Z"
   },
   {
    "duration": 5,
    "start_time": "2021-11-01T22:16:58.882Z"
   },
   {
    "duration": 22,
    "start_time": "2021-11-01T22:16:59.540Z"
   },
   {
    "duration": 5,
    "start_time": "2021-11-01T22:17:27.399Z"
   },
   {
    "duration": 20,
    "start_time": "2021-11-01T22:17:28.373Z"
   },
   {
    "duration": 5,
    "start_time": "2021-11-01T22:17:39.899Z"
   },
   {
    "duration": 20,
    "start_time": "2021-11-01T22:17:41.131Z"
   },
   {
    "duration": 17,
    "start_time": "2021-11-01T22:18:52.523Z"
   },
   {
    "duration": 3,
    "start_time": "2021-11-01T22:18:52.865Z"
   },
   {
    "duration": 17,
    "start_time": "2021-11-01T22:18:56.402Z"
   },
   {
    "duration": 15,
    "start_time": "2021-11-01T22:19:11.173Z"
   },
   {
    "duration": 20,
    "start_time": "2021-11-01T22:19:12.460Z"
   },
   {
    "duration": 18,
    "start_time": "2021-11-01T22:19:21.994Z"
   },
   {
    "duration": 3,
    "start_time": "2021-11-01T22:19:48.844Z"
   },
   {
    "duration": 20,
    "start_time": "2021-11-01T22:19:50.092Z"
   },
   {
    "duration": 19,
    "start_time": "2021-11-01T22:19:50.540Z"
   },
   {
    "duration": 20,
    "start_time": "2021-11-01T22:20:11.245Z"
   },
   {
    "duration": 17,
    "start_time": "2021-11-01T22:20:11.687Z"
   },
   {
    "duration": 19,
    "start_time": "2021-11-01T22:20:14.692Z"
   },
   {
    "duration": 19,
    "start_time": "2021-11-01T22:20:15.166Z"
   },
   {
    "duration": 21,
    "start_time": "2021-11-01T22:20:16.211Z"
   },
   {
    "duration": 18,
    "start_time": "2021-11-01T22:20:16.552Z"
   },
   {
    "duration": 290,
    "start_time": "2021-11-01T22:20:47.282Z"
   },
   {
    "duration": 301,
    "start_time": "2021-11-01T22:20:53.870Z"
   },
   {
    "duration": 348,
    "start_time": "2021-11-01T22:26:14.507Z"
   },
   {
    "duration": 336,
    "start_time": "2021-11-01T22:26:29.376Z"
   },
   {
    "duration": 326,
    "start_time": "2021-11-01T22:26:38.109Z"
   },
   {
    "duration": 365,
    "start_time": "2021-11-01T22:27:05.067Z"
   },
   {
    "duration": 374,
    "start_time": "2021-11-01T22:27:10.129Z"
   },
   {
    "duration": 363,
    "start_time": "2021-11-01T22:28:00.977Z"
   },
   {
    "duration": 364,
    "start_time": "2021-11-01T22:28:49.458Z"
   },
   {
    "duration": 375,
    "start_time": "2021-11-01T22:29:10.162Z"
   },
   {
    "duration": 103,
    "start_time": "2021-11-01T22:29:27.069Z"
   },
   {
    "duration": 91,
    "start_time": "2021-11-01T22:29:36.411Z"
   },
   {
    "duration": 91,
    "start_time": "2021-11-01T22:30:44.450Z"
   },
   {
    "duration": 4,
    "start_time": "2021-11-01T22:32:32.893Z"
   },
   {
    "duration": 110,
    "start_time": "2021-11-01T22:34:32.960Z"
   },
   {
    "duration": 105,
    "start_time": "2021-11-01T22:34:38.956Z"
   },
   {
    "duration": 85,
    "start_time": "2021-11-01T22:34:47.859Z"
   },
   {
    "duration": 5,
    "start_time": "2021-11-01T22:34:57.164Z"
   },
   {
    "duration": 20,
    "start_time": "2021-11-01T22:34:58.663Z"
   },
   {
    "duration": 87,
    "start_time": "2021-11-01T22:35:17.881Z"
   },
   {
    "duration": 90,
    "start_time": "2021-11-01T22:35:38.395Z"
   },
   {
    "duration": 15,
    "start_time": "2021-11-01T22:36:03.605Z"
   },
   {
    "duration": 14,
    "start_time": "2021-11-01T22:36:12.947Z"
   },
   {
    "duration": 102,
    "start_time": "2021-11-01T22:41:23.986Z"
   },
   {
    "duration": 95,
    "start_time": "2021-11-01T22:41:27.633Z"
   },
   {
    "duration": 108,
    "start_time": "2021-11-01T22:41:33.086Z"
   },
   {
    "duration": 92,
    "start_time": "2021-11-01T22:41:34.733Z"
   },
   {
    "duration": 5,
    "start_time": "2021-11-01T22:41:37.201Z"
   },
   {
    "duration": 577,
    "start_time": "2021-11-01T22:41:55.541Z"
   },
   {
    "duration": 6,
    "start_time": "2021-11-01T22:42:04.809Z"
   },
   {
    "duration": 599,
    "start_time": "2021-11-01T22:42:05.465Z"
   },
   {
    "duration": 6,
    "start_time": "2021-11-01T22:42:20.585Z"
   },
   {
    "duration": 786,
    "start_time": "2021-11-01T22:42:21.406Z"
   },
   {
    "duration": 5,
    "start_time": "2021-11-01T22:42:38.604Z"
   },
   {
    "duration": 1911,
    "start_time": "2021-11-01T22:42:39.423Z"
   },
   {
    "duration": 7,
    "start_time": "2021-11-01T22:43:01.926Z"
   },
   {
    "duration": 604,
    "start_time": "2021-11-01T22:43:02.312Z"
   },
   {
    "duration": 6,
    "start_time": "2021-11-01T22:43:23.993Z"
   },
   {
    "duration": 632,
    "start_time": "2021-11-01T22:43:24.678Z"
   },
   {
    "duration": 7,
    "start_time": "2021-11-01T22:43:45.934Z"
   },
   {
    "duration": 622,
    "start_time": "2021-11-01T22:43:46.709Z"
   },
   {
    "duration": 6,
    "start_time": "2021-11-01T22:44:01.208Z"
   },
   {
    "duration": 608,
    "start_time": "2021-11-01T22:44:01.768Z"
   },
   {
    "duration": 6,
    "start_time": "2021-11-01T22:44:29.671Z"
   },
   {
    "duration": 29,
    "start_time": "2021-11-01T22:44:30.564Z"
   },
   {
    "duration": 6,
    "start_time": "2021-11-01T22:44:34.614Z"
   },
   {
    "duration": 25,
    "start_time": "2021-11-01T22:44:35.379Z"
   },
   {
    "duration": 17,
    "start_time": "2021-11-01T22:44:54.734Z"
   },
   {
    "duration": 26,
    "start_time": "2021-11-01T22:45:16.555Z"
   },
   {
    "duration": 23,
    "start_time": "2021-11-01T22:45:29.801Z"
   },
   {
    "duration": 759,
    "start_time": "2021-11-01T22:48:18.133Z"
   },
   {
    "duration": 25,
    "start_time": "2021-11-01T22:48:19.048Z"
   },
   {
    "duration": 96,
    "start_time": "2021-11-01T22:48:33.420Z"
   },
   {
    "duration": 26,
    "start_time": "2021-11-01T22:48:33.972Z"
   },
   {
    "duration": 88,
    "start_time": "2021-11-01T22:48:37.393Z"
   },
   {
    "duration": 6,
    "start_time": "2021-11-01T22:48:50.333Z"
   },
   {
    "duration": 26,
    "start_time": "2021-11-01T22:48:51.569Z"
   },
   {
    "duration": 18,
    "start_time": "2021-11-01T22:49:34.043Z"
   },
   {
    "duration": 12,
    "start_time": "2021-11-01T22:50:37.463Z"
   },
   {
    "duration": 15,
    "start_time": "2021-11-01T22:50:42.956Z"
   },
   {
    "duration": 12,
    "start_time": "2021-11-01T22:50:45.426Z"
   },
   {
    "duration": 6,
    "start_time": "2021-11-01T22:50:52.862Z"
   },
   {
    "duration": 11,
    "start_time": "2021-11-01T22:51:18.270Z"
   },
   {
    "duration": 7,
    "start_time": "2021-11-01T22:51:19.196Z"
   },
   {
    "duration": 9,
    "start_time": "2021-11-01T22:51:29.573Z"
   },
   {
    "duration": 7,
    "start_time": "2021-11-01T22:51:35.295Z"
   },
   {
    "duration": 92,
    "start_time": "2021-11-02T07:16:50.686Z"
   },
   {
    "duration": 587,
    "start_time": "2021-11-02T07:17:44.781Z"
   },
   {
    "duration": 140,
    "start_time": "2021-11-02T07:17:45.497Z"
   },
   {
    "duration": 24,
    "start_time": "2021-11-02T07:17:45.913Z"
   },
   {
    "duration": 25,
    "start_time": "2021-11-02T07:17:46.360Z"
   },
   {
    "duration": 5,
    "start_time": "2021-11-02T07:17:48.497Z"
   },
   {
    "duration": 21,
    "start_time": "2021-11-02T07:17:49.473Z"
   },
   {
    "duration": 4,
    "start_time": "2021-11-02T07:17:52.678Z"
   },
   {
    "duration": 28,
    "start_time": "2021-11-02T07:17:52.684Z"
   },
   {
    "duration": 16,
    "start_time": "2021-11-02T07:17:58.643Z"
   },
   {
    "duration": 91,
    "start_time": "2021-11-02T07:19:48.050Z"
   },
   {
    "duration": 161,
    "start_time": "2021-11-02T16:44:38.035Z"
   },
   {
    "duration": 158,
    "start_time": "2021-11-02T16:45:31.316Z"
   },
   {
    "duration": 433,
    "start_time": "2021-11-02T16:45:45.113Z"
   },
   {
    "duration": 821,
    "start_time": "2021-11-02T16:45:56.357Z"
   },
   {
    "duration": 192,
    "start_time": "2021-11-02T16:45:57.181Z"
   },
   {
    "duration": 32,
    "start_time": "2021-11-02T16:45:57.376Z"
   },
   {
    "duration": 36,
    "start_time": "2021-11-02T16:45:57.411Z"
   },
   {
    "duration": 6,
    "start_time": "2021-11-02T16:45:57.450Z"
   },
   {
    "duration": 56,
    "start_time": "2021-11-02T16:45:57.458Z"
   },
   {
    "duration": 5,
    "start_time": "2021-11-02T16:45:57.517Z"
   },
   {
    "duration": 34,
    "start_time": "2021-11-02T16:45:57.525Z"
   },
   {
    "duration": 50,
    "start_time": "2021-11-02T16:45:57.561Z"
   },
   {
    "duration": 30,
    "start_time": "2021-11-02T16:45:57.614Z"
   },
   {
    "duration": 106,
    "start_time": "2021-11-02T16:45:57.647Z"
   },
   {
    "duration": 114,
    "start_time": "2021-11-02T16:45:57.755Z"
   },
   {
    "duration": 100,
    "start_time": "2021-11-02T16:45:57.872Z"
   },
   {
    "duration": 67,
    "start_time": "2021-11-02T16:45:57.975Z"
   },
   {
    "duration": 4,
    "start_time": "2021-11-02T16:45:58.044Z"
   },
   {
    "duration": 12,
    "start_time": "2021-11-02T16:45:58.051Z"
   },
   {
    "duration": 82,
    "start_time": "2021-11-02T16:45:58.065Z"
   },
   {
    "duration": 58,
    "start_time": "2021-11-02T16:45:58.149Z"
   },
   {
    "duration": 47,
    "start_time": "2021-11-02T16:46:04.632Z"
   },
   {
    "duration": 41,
    "start_time": "2021-11-02T16:46:27.712Z"
   },
   {
    "duration": 41,
    "start_time": "2021-11-02T16:46:54.485Z"
   },
   {
    "duration": 40,
    "start_time": "2021-11-02T16:46:59.731Z"
   },
   {
    "duration": 42,
    "start_time": "2021-11-02T16:47:04.908Z"
   },
   {
    "duration": 43,
    "start_time": "2021-11-02T16:47:16.033Z"
   },
   {
    "duration": -745,
    "start_time": "2021-11-02T16:47:41.823Z"
   },
   {
    "duration": 41,
    "start_time": "2021-11-02T16:47:49.323Z"
   },
   {
    "duration": 40,
    "start_time": "2021-11-02T16:47:59.185Z"
   },
   {
    "duration": 40,
    "start_time": "2021-11-02T16:48:03.449Z"
   },
   {
    "duration": 46,
    "start_time": "2021-11-02T16:50:05.799Z"
   },
   {
    "duration": 45,
    "start_time": "2021-11-02T16:50:24.331Z"
   },
   {
    "duration": 58,
    "start_time": "2021-11-02T16:50:33.073Z"
   },
   {
    "duration": 45,
    "start_time": "2021-11-02T16:50:43.848Z"
   },
   {
    "duration": 77,
    "start_time": "2021-11-02T16:51:49.888Z"
   },
   {
    "duration": 4,
    "start_time": "2021-11-02T16:52:00.343Z"
   },
   {
    "duration": 221,
    "start_time": "2021-11-02T16:52:00.350Z"
   },
   {
    "duration": 28,
    "start_time": "2021-11-02T16:52:00.574Z"
   },
   {
    "duration": 36,
    "start_time": "2021-11-02T16:52:00.605Z"
   },
   {
    "duration": 24,
    "start_time": "2021-11-02T16:52:00.644Z"
   },
   {
    "duration": 36,
    "start_time": "2021-11-02T16:52:00.670Z"
   },
   {
    "duration": 8,
    "start_time": "2021-11-02T16:52:00.709Z"
   },
   {
    "duration": 52,
    "start_time": "2021-11-02T16:52:00.723Z"
   },
   {
    "duration": 34,
    "start_time": "2021-11-02T16:52:00.778Z"
   },
   {
    "duration": 31,
    "start_time": "2021-11-02T16:52:00.815Z"
   },
   {
    "duration": 120,
    "start_time": "2021-11-02T16:52:00.848Z"
   },
   {
    "duration": 115,
    "start_time": "2021-11-02T16:52:00.971Z"
   },
   {
    "duration": 93,
    "start_time": "2021-11-02T16:52:01.089Z"
   },
   {
    "duration": 67,
    "start_time": "2021-11-02T16:52:01.184Z"
   },
   {
    "duration": 4,
    "start_time": "2021-11-02T16:52:01.254Z"
   },
   {
    "duration": 23,
    "start_time": "2021-11-02T16:52:01.260Z"
   },
   {
    "duration": 66,
    "start_time": "2021-11-02T16:52:01.286Z"
   },
   {
    "duration": 63,
    "start_time": "2021-11-02T16:52:01.355Z"
   },
   {
    "duration": 46,
    "start_time": "2021-11-02T16:52:01.421Z"
   },
   {
    "duration": 7,
    "start_time": "2021-11-02T16:52:01.470Z"
   },
   {
    "duration": 22,
    "start_time": "2021-11-02T16:52:01.501Z"
   },
   {
    "duration": 25,
    "start_time": "2021-11-02T16:52:01.525Z"
   },
   {
    "duration": 47,
    "start_time": "2021-11-02T16:52:01.555Z"
   },
   {
    "duration": 18,
    "start_time": "2021-11-02T16:52:01.605Z"
   },
   {
    "duration": 41,
    "start_time": "2021-11-02T16:52:01.626Z"
   },
   {
    "duration": 18,
    "start_time": "2021-11-02T16:52:01.669Z"
   },
   {
    "duration": 97,
    "start_time": "2021-11-02T16:52:01.689Z"
   },
   {
    "duration": 15,
    "start_time": "2021-11-02T16:52:01.801Z"
   },
   {
    "duration": 44,
    "start_time": "2021-11-02T16:52:01.818Z"
   },
   {
    "duration": 17,
    "start_time": "2021-11-02T16:52:01.864Z"
   },
   {
    "duration": 60,
    "start_time": "2021-11-02T16:52:01.883Z"
   },
   {
    "duration": 39,
    "start_time": "2021-11-02T16:52:01.945Z"
   },
   {
    "duration": 32,
    "start_time": "2021-11-02T16:52:01.987Z"
   },
   {
    "duration": 42,
    "start_time": "2021-11-02T16:52:02.021Z"
   },
   {
    "duration": 12,
    "start_time": "2021-11-02T16:52:02.066Z"
   },
   {
    "duration": 16,
    "start_time": "2021-11-02T16:52:02.081Z"
   },
   {
    "duration": 52,
    "start_time": "2021-11-02T16:52:02.100Z"
   },
   {
    "duration": 15,
    "start_time": "2021-11-02T16:52:02.155Z"
   },
   {
    "duration": 4,
    "start_time": "2021-11-02T16:55:20.377Z"
   },
   {
    "duration": 284,
    "start_time": "2021-11-02T16:55:20.384Z"
   },
   {
    "duration": 28,
    "start_time": "2021-11-02T16:55:20.672Z"
   },
   {
    "duration": 34,
    "start_time": "2021-11-02T16:55:20.703Z"
   },
   {
    "duration": 10,
    "start_time": "2021-11-02T16:55:20.740Z"
   },
   {
    "duration": 55,
    "start_time": "2021-11-02T16:55:20.752Z"
   },
   {
    "duration": 6,
    "start_time": "2021-11-02T16:55:20.810Z"
   },
   {
    "duration": 34,
    "start_time": "2021-11-02T16:55:20.818Z"
   },
   {
    "duration": 48,
    "start_time": "2021-11-02T16:55:20.855Z"
   },
   {
    "duration": 30,
    "start_time": "2021-11-02T16:55:20.906Z"
   },
   {
    "duration": 109,
    "start_time": "2021-11-02T16:55:20.938Z"
   },
   {
    "duration": 98,
    "start_time": "2021-11-02T16:55:21.050Z"
   },
   {
    "duration": 88,
    "start_time": "2021-11-02T16:55:21.150Z"
   },
   {
    "duration": 66,
    "start_time": "2021-11-02T16:55:21.241Z"
   },
   {
    "duration": 4,
    "start_time": "2021-11-02T16:55:26.609Z"
   },
   {
    "duration": 8,
    "start_time": "2021-11-02T16:55:29.762Z"
   },
   {
    "duration": 59,
    "start_time": "2021-11-02T16:55:32.373Z"
   },
   {
    "duration": 3,
    "start_time": "2021-11-02T16:56:36.542Z"
   },
   {
    "duration": 189,
    "start_time": "2021-11-02T16:56:36.548Z"
   },
   {
    "duration": 16,
    "start_time": "2021-11-02T16:56:36.740Z"
   },
   {
    "duration": 54,
    "start_time": "2021-11-02T16:56:36.758Z"
   },
   {
    "duration": 6,
    "start_time": "2021-11-02T16:56:36.816Z"
   },
   {
    "duration": 18,
    "start_time": "2021-11-02T16:56:36.824Z"
   },
   {
    "duration": 4,
    "start_time": "2021-11-02T16:56:36.845Z"
   },
   {
    "duration": 67,
    "start_time": "2021-11-02T16:56:36.853Z"
   },
   {
    "duration": 23,
    "start_time": "2021-11-02T16:56:36.924Z"
   },
   {
    "duration": 56,
    "start_time": "2021-11-02T16:56:36.949Z"
   },
   {
    "duration": 98,
    "start_time": "2021-11-02T16:56:37.008Z"
   },
   {
    "duration": 105,
    "start_time": "2021-11-02T16:56:37.108Z"
   },
   {
    "duration": 90,
    "start_time": "2021-11-02T16:56:37.216Z"
   },
   {
    "duration": 60,
    "start_time": "2021-11-02T16:56:37.309Z"
   },
   {
    "duration": 30,
    "start_time": "2021-11-02T16:56:37.372Z"
   },
   {
    "duration": 13,
    "start_time": "2021-11-02T16:56:37.404Z"
   },
   {
    "duration": 61,
    "start_time": "2021-11-02T16:56:37.419Z"
   },
   {
    "duration": 44,
    "start_time": "2021-11-02T16:56:37.499Z"
   },
   {
    "duration": 69,
    "start_time": "2021-11-02T16:56:37.546Z"
   },
   {
    "duration": 5,
    "start_time": "2021-11-02T16:56:37.617Z"
   },
   {
    "duration": 22,
    "start_time": "2021-11-02T16:56:40.359Z"
   },
   {
    "duration": 28,
    "start_time": "2021-11-02T16:57:55.940Z"
   },
   {
    "duration": 18,
    "start_time": "2021-11-02T16:57:57.579Z"
   },
   {
    "duration": 17,
    "start_time": "2021-11-02T16:57:58.579Z"
   },
   {
    "duration": 30,
    "start_time": "2021-11-02T16:57:59.439Z"
   },
   {
    "duration": 28,
    "start_time": "2021-11-02T16:58:00.558Z"
   },
   {
    "duration": 145,
    "start_time": "2021-11-02T16:58:58.824Z"
   },
   {
    "duration": 124,
    "start_time": "2021-11-02T16:59:02.460Z"
   },
   {
    "duration": 3,
    "start_time": "2021-11-02T17:00:08.601Z"
   },
   {
    "duration": 324,
    "start_time": "2021-11-02T17:00:08.606Z"
   },
   {
    "duration": 14,
    "start_time": "2021-11-02T17:00:08.933Z"
   },
   {
    "duration": 53,
    "start_time": "2021-11-02T17:00:08.950Z"
   },
   {
    "duration": 6,
    "start_time": "2021-11-02T17:00:09.006Z"
   },
   {
    "duration": 22,
    "start_time": "2021-11-02T17:00:09.015Z"
   },
   {
    "duration": 7,
    "start_time": "2021-11-02T17:00:09.040Z"
   },
   {
    "duration": 55,
    "start_time": "2021-11-02T17:00:09.052Z"
   },
   {
    "duration": 33,
    "start_time": "2021-11-02T17:00:09.111Z"
   },
   {
    "duration": 32,
    "start_time": "2021-11-02T17:00:09.146Z"
   },
   {
    "duration": 102,
    "start_time": "2021-11-02T17:00:09.180Z"
   },
   {
    "duration": 127,
    "start_time": "2021-11-02T17:00:09.285Z"
   },
   {
    "duration": 112,
    "start_time": "2021-11-02T17:00:09.414Z"
   },
   {
    "duration": 95,
    "start_time": "2021-11-02T17:00:09.529Z"
   },
   {
    "duration": 4,
    "start_time": "2021-11-02T17:00:09.626Z"
   },
   {
    "duration": 16,
    "start_time": "2021-11-02T17:00:09.632Z"
   },
   {
    "duration": 74,
    "start_time": "2021-11-02T17:00:09.650Z"
   },
   {
    "duration": 46,
    "start_time": "2021-11-02T17:00:09.727Z"
   },
   {
    "duration": 65,
    "start_time": "2021-11-02T17:00:09.776Z"
   },
   {
    "duration": 6,
    "start_time": "2021-11-02T17:00:09.843Z"
   },
   {
    "duration": 49,
    "start_time": "2021-11-02T17:00:09.852Z"
   },
   {
    "duration": 17,
    "start_time": "2021-11-02T17:00:09.904Z"
   },
   {
    "duration": 19,
    "start_time": "2021-11-02T17:00:09.927Z"
   },
   {
    "duration": 17,
    "start_time": "2021-11-02T17:00:09.949Z"
   },
   {
    "duration": 19,
    "start_time": "2021-11-02T17:00:10.002Z"
   },
   {
    "duration": 36,
    "start_time": "2021-11-02T17:00:10.023Z"
   },
   {
    "duration": 102,
    "start_time": "2021-11-02T17:00:10.062Z"
   },
   {
    "duration": 17,
    "start_time": "2021-11-02T17:00:10.166Z"
   },
   {
    "duration": 25,
    "start_time": "2021-11-02T17:00:10.186Z"
   },
   {
    "duration": 7,
    "start_time": "2021-11-02T17:00:10.214Z"
   },
   {
    "duration": 30,
    "start_time": "2021-11-02T17:00:10.224Z"
   },
   {
    "duration": 46,
    "start_time": "2021-11-02T17:00:10.256Z"
   },
   {
    "duration": 29,
    "start_time": "2021-11-02T17:00:10.304Z"
   },
   {
    "duration": 17,
    "start_time": "2021-11-02T17:00:10.336Z"
   },
   {
    "duration": 33,
    "start_time": "2021-11-02T17:00:10.355Z"
   },
   {
    "duration": 14,
    "start_time": "2021-11-02T17:00:10.391Z"
   },
   {
    "duration": 15,
    "start_time": "2021-11-02T17:00:10.408Z"
   },
   {
    "duration": 12,
    "start_time": "2021-11-02T17:00:10.426Z"
   },
   {
    "duration": 121,
    "start_time": "2021-11-02T17:12:43.540Z"
   }
  ],
  "colab": {
   "collapsed_sections": [
    "E0vqbgi9ay0H",
    "VUC88oWjTJw2"
   ],
   "name": "yandex_music_project_2021.2.ipynb",
   "provenance": []
  },
  "kernelspec": {
   "display_name": "Python 3 (ipykernel)",
   "language": "python",
   "name": "python3"
  },
  "language_info": {
   "codemirror_mode": {
    "name": "ipython",
    "version": 3
   },
   "file_extension": ".py",
   "mimetype": "text/x-python",
   "name": "python",
   "nbconvert_exporter": "python",
   "pygments_lexer": "ipython3",
   "version": "3.9.12"
  },
  "toc": {
   "base_numbering": 1,
   "nav_menu": {},
   "number_sections": true,
   "sideBar": true,
   "skip_h1_title": true,
   "title_cell": "Table of Contents",
   "title_sidebar": "Contents",
   "toc_cell": true,
   "toc_position": {},
   "toc_section_display": true,
   "toc_window_display": true
  }
 },
 "nbformat": 4,
 "nbformat_minor": 1
}