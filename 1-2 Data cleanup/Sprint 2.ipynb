{
 "cells": [
  {
   "cell_type": "markdown",
   "metadata": {
    "pycharm": {
     "name": "#%% md\n"
    }
   },
   "source": [
    "# Исследование надёжности заёмщиков"
   ]
  },
  {
   "cell_type": "markdown",
   "metadata": {
    "pycharm": {
     "name": "#%% md\n"
    }
   },
   "source": [
    "Заказчик — кредитный отдел банка. Нужно разобраться, влияет ли семейное положение и количество детей клиента на факт погашения кредита в срок. Входные данные от банка — статистика о платёжеспособности клиентов.\n",
    "\n",
    "Результаты исследования будут учтены при построении модели кредитного скоринга — специальной системы, которая оценивает способность потенциального заёмщика вернуть кредит банку.\n",
    "\n",
    "Необходимо ответить на следующие вопросы:\n",
    "1. Есть ли зависимость между количеством детей и возвратом кредита в срок?\n",
    "2. Есть ли зависимость между семейным положением и возвратом кредита в срок?\n",
    "3. Есть ли зависимость между уровнем дохода и возвратом кредита в срок?\n",
    "4. Как разные цели кредита влияют на его возврат в срок?"
   ]
  },
  {
   "cell_type": "markdown",
   "metadata": {
    "pycharm": {
     "name": "#%% md\n"
    }
   },
   "source": [
    "## Обзор данных"
   ]
  },
  {
   "cell_type": "markdown",
   "metadata": {
    "pycharm": {
     "name": "#%% md\n"
    }
   },
   "source": [
    "Прочитаем данные"
   ]
  },
  {
   "cell_type": "code",
   "execution_count": 1,
   "metadata": {
    "pycharm": {
     "name": "#%%\n"
    }
   },
   "outputs": [],
   "source": [
    "import pandas as pd"
   ]
  },
  {
   "cell_type": "code",
   "execution_count": 2,
   "metadata": {
    "pycharm": {
     "name": "#%%\n"
    }
   },
   "outputs": [],
   "source": [
    "def read_file() -> pd.DataFrame:\n",
    "    # try open local file first then — if failed — open on server\n",
    "    try:\n",
    "        df = pd.read_csv('./datasets/data.csv')\n",
    "        return df\n",
    "    except FileNotFoundError:\n",
    "        try:\n",
    "            df = pd.read_csv('/datasets/data.csv')\n",
    "            return df\n",
    "        except Exception as e:\n",
    "            print('Не удалось считать файл с данными на сервере', e, sep='\\n')\n",
    "            return None\n",
    "\n",
    "    except Exception as e:\n",
    "        print('Не удалось считать файл с данными на диске', e, sep='\\n')\n",
    "    return None"
   ]
  },
  {
   "cell_type": "code",
   "execution_count": 51,
   "metadata": {
    "pycharm": {
     "name": "#%%\n"
    }
   },
   "outputs": [],
   "source": [
    "df = read_file()"
   ]
  },
  {
   "cell_type": "markdown",
   "metadata": {
    "pycharm": {
     "name": "#%% md\n"
    }
   },
   "source": [
    "Посмотрим на случайные 7 записей в таблице"
   ]
  },
  {
   "cell_type": "code",
   "execution_count": 52,
   "metadata": {
    "pycharm": {
     "name": "#%%\n"
    }
   },
   "outputs": [
    {
     "data": {
      "text/html": [
       "<div>\n",
       "<style scoped>\n",
       "    .dataframe tbody tr th:only-of-type {\n",
       "        vertical-align: middle;\n",
       "    }\n",
       "\n",
       "    .dataframe tbody tr th {\n",
       "        vertical-align: top;\n",
       "    }\n",
       "\n",
       "    .dataframe thead th {\n",
       "        text-align: right;\n",
       "    }\n",
       "</style>\n",
       "<table border=\"1\" class=\"dataframe\">\n",
       "  <thead>\n",
       "    <tr style=\"text-align: right;\">\n",
       "      <th></th>\n",
       "      <th>children</th>\n",
       "      <th>days_employed</th>\n",
       "      <th>dob_years</th>\n",
       "      <th>education</th>\n",
       "      <th>education_id</th>\n",
       "      <th>family_status</th>\n",
       "      <th>family_status_id</th>\n",
       "      <th>gender</th>\n",
       "      <th>income_type</th>\n",
       "      <th>debt</th>\n",
       "      <th>total_income</th>\n",
       "      <th>purpose</th>\n",
       "    </tr>\n",
       "  </thead>\n",
       "  <tbody>\n",
       "    <tr>\n",
       "      <th>1383</th>\n",
       "      <td>0</td>\n",
       "      <td>353802.811675</td>\n",
       "      <td>37</td>\n",
       "      <td>среднее</td>\n",
       "      <td>1</td>\n",
       "      <td>вдовец / вдова</td>\n",
       "      <td>2</td>\n",
       "      <td>F</td>\n",
       "      <td>пенсионер</td>\n",
       "      <td>0</td>\n",
       "      <td>216452.226085</td>\n",
       "      <td>строительство недвижимости</td>\n",
       "    </tr>\n",
       "    <tr>\n",
       "      <th>300</th>\n",
       "      <td>1</td>\n",
       "      <td>-359.193975</td>\n",
       "      <td>33</td>\n",
       "      <td>СРЕДНЕЕ</td>\n",
       "      <td>1</td>\n",
       "      <td>гражданский брак</td>\n",
       "      <td>1</td>\n",
       "      <td>M</td>\n",
       "      <td>сотрудник</td>\n",
       "      <td>0</td>\n",
       "      <td>223001.623994</td>\n",
       "      <td>на проведение свадьбы</td>\n",
       "    </tr>\n",
       "    <tr>\n",
       "      <th>6565</th>\n",
       "      <td>2</td>\n",
       "      <td>-1064.854333</td>\n",
       "      <td>35</td>\n",
       "      <td>среднее</td>\n",
       "      <td>1</td>\n",
       "      <td>гражданский брак</td>\n",
       "      <td>1</td>\n",
       "      <td>F</td>\n",
       "      <td>компаньон</td>\n",
       "      <td>0</td>\n",
       "      <td>163591.209323</td>\n",
       "      <td>свадьба</td>\n",
       "    </tr>\n",
       "    <tr>\n",
       "      <th>17027</th>\n",
       "      <td>0</td>\n",
       "      <td>NaN</td>\n",
       "      <td>48</td>\n",
       "      <td>высшее</td>\n",
       "      <td>0</td>\n",
       "      <td>гражданский брак</td>\n",
       "      <td>1</td>\n",
       "      <td>F</td>\n",
       "      <td>сотрудник</td>\n",
       "      <td>0</td>\n",
       "      <td>NaN</td>\n",
       "      <td>операции с жильем</td>\n",
       "    </tr>\n",
       "    <tr>\n",
       "      <th>4077</th>\n",
       "      <td>0</td>\n",
       "      <td>-7059.100220</td>\n",
       "      <td>45</td>\n",
       "      <td>высшее</td>\n",
       "      <td>0</td>\n",
       "      <td>гражданский брак</td>\n",
       "      <td>1</td>\n",
       "      <td>F</td>\n",
       "      <td>компаньон</td>\n",
       "      <td>1</td>\n",
       "      <td>194820.185757</td>\n",
       "      <td>сыграть свадьбу</td>\n",
       "    </tr>\n",
       "    <tr>\n",
       "      <th>10437</th>\n",
       "      <td>0</td>\n",
       "      <td>-2258.301455</td>\n",
       "      <td>50</td>\n",
       "      <td>среднее</td>\n",
       "      <td>1</td>\n",
       "      <td>женат / замужем</td>\n",
       "      <td>0</td>\n",
       "      <td>F</td>\n",
       "      <td>сотрудник</td>\n",
       "      <td>0</td>\n",
       "      <td>146768.250599</td>\n",
       "      <td>операции с коммерческой недвижимостью</td>\n",
       "    </tr>\n",
       "    <tr>\n",
       "      <th>9631</th>\n",
       "      <td>1</td>\n",
       "      <td>-1045.752744</td>\n",
       "      <td>23</td>\n",
       "      <td>среднее</td>\n",
       "      <td>1</td>\n",
       "      <td>женат / замужем</td>\n",
       "      <td>0</td>\n",
       "      <td>M</td>\n",
       "      <td>сотрудник</td>\n",
       "      <td>0</td>\n",
       "      <td>81734.568425</td>\n",
       "      <td>операции с коммерческой недвижимостью</td>\n",
       "    </tr>\n",
       "  </tbody>\n",
       "</table>\n",
       "</div>"
      ],
      "text/plain": [
       "       children  days_employed  dob_years education  education_id  \\\n",
       "1383          0  353802.811675         37   среднее             1   \n",
       "300           1    -359.193975         33   СРЕДНЕЕ             1   \n",
       "6565          2   -1064.854333         35   среднее             1   \n",
       "17027         0            NaN         48    высшее             0   \n",
       "4077          0   -7059.100220         45    высшее             0   \n",
       "10437         0   -2258.301455         50   среднее             1   \n",
       "9631          1   -1045.752744         23   среднее             1   \n",
       "\n",
       "          family_status  family_status_id gender income_type  debt  \\\n",
       "1383     вдовец / вдова                 2      F   пенсионер     0   \n",
       "300    гражданский брак                 1      M   сотрудник     0   \n",
       "6565   гражданский брак                 1      F   компаньон     0   \n",
       "17027  гражданский брак                 1      F   сотрудник     0   \n",
       "4077   гражданский брак                 1      F   компаньон     1   \n",
       "10437   женат / замужем                 0      F   сотрудник     0   \n",
       "9631    женат / замужем                 0      M   сотрудник     0   \n",
       "\n",
       "        total_income                                purpose  \n",
       "1383   216452.226085             строительство недвижимости  \n",
       "300    223001.623994                  на проведение свадьбы  \n",
       "6565   163591.209323                                свадьба  \n",
       "17027            NaN                      операции с жильем  \n",
       "4077   194820.185757                        сыграть свадьбу  \n",
       "10437  146768.250599  операции с коммерческой недвижимостью  \n",
       "9631    81734.568425  операции с коммерческой недвижимостью  "
      ]
     },
     "execution_count": 52,
     "metadata": {},
     "output_type": "execute_result"
    }
   ],
   "source": [
    "df.sample(n=7, random_state=1)"
   ]
  },
  {
   "cell_type": "markdown",
   "metadata": {
    "pycharm": {
     "name": "#%% md\n"
    }
   },
   "source": [
    "Сразу видно множество проблем с данными:\n",
    "- общий трудовой стаж может быть отрицательным или отсутствующим;\n",
    "- тип образования имеет дубликаты по сути, но с разным написанием (капслок или нет);\n",
    "- цель кредита может быть по сути одинаковой, но выражена синонимами. "
   ]
  },
  {
   "cell_type": "markdown",
   "metadata": {
    "pycharm": {
     "name": "#%% md\n"
    }
   },
   "source": [
    "### Описание колонок"
   ]
  },
  {
   "cell_type": "markdown",
   "metadata": {
    "pycharm": {
     "name": "#%% md\n"
    }
   },
   "source": [
    "- `children` — количество детей в семье\n",
    "- `days_employed` — общий трудовой стаж в днях\n",
    "- `dob_years` — возраст клиента в годах\n",
    "- `education` — уровень образования клиента\n",
    "- `education_id` — идентификатор уровня образования\n",
    "- `family_status` — семейное положение\n",
    "- `family_status_id` — идентификатор семейного положения\n",
    "- `gender` — пол клиента\n",
    "- `income_type` — тип занятости\n",
    "- `debt` — имел ли задолженность по возврату кредитов\n",
    "- `total_income` — ежемесячный доход\n",
    "- `purpose` — цель получения кредита"
   ]
  },
  {
   "cell_type": "markdown",
   "metadata": {
    "pycharm": {
     "name": "#%% md\n"
    }
   },
   "source": [
    "Колонки стоит переименовать: например, категориальные данные то имеют\n",
    "суффикc `type` (`income_type`), то нет (`education`). Бинарным типа имеет смысл\n",
    "дать приставку `is`/`has`\n"
   ]
  },
  {
   "cell_type": "markdown",
   "metadata": {
    "pycharm": {
     "name": "#%% md\n"
    }
   },
   "source": [
    "### Тип данных"
   ]
  },
  {
   "cell_type": "code",
   "execution_count": 53,
   "metadata": {
    "pycharm": {
     "name": "#%%\n"
    }
   },
   "outputs": [
    {
     "name": "stdout",
     "output_type": "stream",
     "text": [
      "<class 'pandas.core.frame.DataFrame'>\n",
      "RangeIndex: 21525 entries, 0 to 21524\n",
      "Data columns (total 12 columns):\n",
      " #   Column            Non-Null Count  Dtype  \n",
      "---  ------            --------------  -----  \n",
      " 0   children          21525 non-null  int64  \n",
      " 1   days_employed     19351 non-null  float64\n",
      " 2   dob_years         21525 non-null  int64  \n",
      " 3   education         21525 non-null  object \n",
      " 4   education_id      21525 non-null  int64  \n",
      " 5   family_status     21525 non-null  object \n",
      " 6   family_status_id  21525 non-null  int64  \n",
      " 7   gender            21525 non-null  object \n",
      " 8   income_type       21525 non-null  object \n",
      " 9   debt              21525 non-null  int64  \n",
      " 10  total_income      19351 non-null  float64\n",
      " 11  purpose           21525 non-null  object \n",
      "dtypes: float64(2), int64(5), object(5)\n",
      "memory usage: 2.0+ MB\n"
     ]
    }
   ],
   "source": [
    "df.info()"
   ]
  },
  {
   "cell_type": "markdown",
   "metadata": {
    "pycharm": {
     "name": "#%% md\n"
    }
   },
   "source": [
    "Видно множество пропущенных значений в столбцах `days_employed`\n",
    "и `total_income`, а также — местами — не совсем удачные автоматически типы."
   ]
  },
  {
   "cell_type": "markdown",
   "metadata": {
    "pycharm": {
     "name": "#%% md\n"
    }
   },
   "source": [
    "- `children` — количество детей в семье\n",
    "- `days_employed` — общий трудовой стаж в днях\n",
    "- `dob_years` — возраст клиента в годах\n",
    "- `education` — уровень образования клиента\n",
    "- `education_id` — идентификатор уровня образования\n",
    "- `family_status` — семейное положение\n",
    "- `family_status_id` — идентификатор семейного положения\n",
    "- `gender` — пол клиента\n",
    "- `income_type` — тип занятости\n",
    "- `debt` — имел ли задолженность по возврату кредитов\n",
    "- `total_income` — ежемесячный доход\n",
    "- `purpose` — цель получения кредита"
   ]
  },
  {
   "cell_type": "markdown",
   "metadata": {
    "pycharm": {
     "name": "#%% md\n"
    }
   },
   "source": [
    "Колонки стоит переименовать: например, категориальные данные то имеют\n",
    "суффикc `type` (`income_type`), то нет (`education`). Бинарным типам имеет смысл\n",
    "дать приставку `is_`/`has`. Часть имен просто не очень удачна (`dob_years`)"
   ]
  },
  {
   "cell_type": "markdown",
   "metadata": {
    "pycharm": {
     "name": "#%% md\n"
    }
   },
   "source": [
    "Покажем колонки с пустыми значениями:"
   ]
  },
  {
   "cell_type": "code",
   "execution_count": 54,
   "metadata": {
    "pycharm": {
     "name": "#%%\n"
    }
   },
   "outputs": [
    {
     "data": {
      "text/plain": [
       "days_employed    2174\n",
       "total_income     2174\n",
       "dtype: int64"
      ]
     },
     "execution_count": 54,
     "metadata": {},
     "output_type": "execute_result"
    }
   ],
   "source": [
    "columns_with_na = df.isna().sum()\n",
    "columns_with_na = columns_with_na[columns_with_na > 0]\n",
    "columns_with_na"
   ]
  },
  {
   "cell_type": "markdown",
   "metadata": {
    "pycharm": {
     "name": "#%% md\n"
    }
   },
   "source": [
    "## Первичная проверка и обработка данных"
   ]
  },
  {
   "cell_type": "markdown",
   "metadata": {
    "pycharm": {
     "name": "#%% md\n"
    }
   },
   "source": [
    "### Смена названий колонок"
   ]
  },
  {
   "cell_type": "code",
   "execution_count": 55,
   "metadata": {
    "pycharm": {
     "name": "#%%\n"
    }
   },
   "outputs": [],
   "source": [
    "df = df.rename(columns={\n",
    "    'dob_years': 'age',\n",
    "    'education': 'education_type',\n",
    "    'education_id': 'education_type_id',\n",
    "    'family_status': 'marital_type',\n",
    "    'family_status_id': 'marital_type_id',\n",
    "    'debt': 'had_past_due_credits',\n",
    "    'total_income': 'income',\n",
    "    'purpose': 'purpose_type',\n",
    "})"
   ]
  },
  {
   "cell_type": "markdown",
   "metadata": {
    "pycharm": {
     "name": "#%% md\n"
    }
   },
   "source": [
    "Выделим имена колонок в константы для удобства автокомплита (в т.ч. в массивах)"
   ]
  },
  {
   "cell_type": "code",
   "execution_count": 56,
   "metadata": {
    "pycharm": {
     "name": "#%%\n"
    }
   },
   "outputs": [],
   "source": [
    "CHILDREN_COLUMN = 'children'\n",
    "DAYS_EMPLOYED_COLUMN = 'days_employed'\n",
    "AGE_COLUMN = 'age'\n",
    "EDUCATION_TYPE_COLUMN = 'education_type'\n",
    "EDUCATION_TYPE_ID_COLUMN = 'education_type_id'\n",
    "MARITAL_TYPE_COLUMN = 'marital_type'\n",
    "MARITAL_TYPE_ID_COLUMN = 'marital_type_id'\n",
    "GENDER_COLUMN = 'gender'\n",
    "INCOME_TYPE_COLUMN = 'income_type'\n",
    "HAD_PAST_DUE_CREDITS_COLUMN = 'had_past_due_credits'\n",
    "INCOME_COLUMN = 'income'\n",
    "PURPOSE_TYPE_COLUMN = 'purpose_type'"
   ]
  },
  {
   "cell_type": "markdown",
   "metadata": {
    "pycharm": {
     "name": "#%% md\n"
    }
   },
   "source": [
    "### Доход (удаение пропусков)"
   ]
  },
  {
   "cell_type": "code",
   "execution_count": 57,
   "metadata": {
    "pycharm": {
     "name": "#%%\n"
    }
   },
   "outputs": [
    {
     "data": {
      "text/plain": [
       "count    1.935100e+04\n",
       "mean     1.674223e+05\n",
       "std      1.029716e+05\n",
       "min      2.066726e+04\n",
       "25%      1.030532e+05\n",
       "50%      1.450179e+05\n",
       "75%      2.034351e+05\n",
       "max      2.265604e+06\n",
       "Name: income, dtype: float64"
      ]
     },
     "execution_count": 57,
     "metadata": {},
     "output_type": "execute_result"
    }
   ],
   "source": [
    "df[INCOME_COLUMN].describe()"
   ]
  },
  {
   "cell_type": "markdown",
   "metadata": {
    "pycharm": {
     "name": "#%% md\n"
    }
   },
   "source": [
    "Отрицательных значений не видно"
   ]
  },
  {
   "cell_type": "code",
   "execution_count": 58,
   "metadata": {
    "pycharm": {
     "name": "#%%\n"
    }
   },
   "outputs": [
    {
     "name": "stdout",
     "output_type": "stream",
     "text": [
      "Доля пропущенных: 10%\n"
     ]
    }
   ],
   "source": [
    "missing_share = df[INCOME_COLUMN].isna().sum() / len(df)\n",
    "print(f'Доля пропущенных: {missing_share:.0%}')"
   ]
  },
  {
   "cell_type": "markdown",
   "metadata": {
    "pycharm": {
     "name": "#%% md\n"
    }
   },
   "source": [
    "Заменим пропущенные (скорее всего, чтобы не указывать большой\n",
    "или нелегальный доход) на медиану из-за большой разницы между значениями.\n",
    "Пропущенных значений достаточно много, чтобы просто их удалить."
   ]
  },
  {
   "cell_type": "code",
   "execution_count": 59,
   "metadata": {
    "pycharm": {
     "name": "#%%\n"
    }
   },
   "outputs": [],
   "source": [
    "df[INCOME_COLUMN].fillna(df[INCOME_COLUMN].median(), inplace=True)"
   ]
  },
  {
   "cell_type": "markdown",
   "metadata": {
    "pycharm": {
     "name": "#%% md\n"
    }
   },
   "source": [
    "### Количество детей"
   ]
  },
  {
   "cell_type": "markdown",
   "metadata": {
    "pycharm": {
     "name": "#%% md\n"
    }
   },
   "source": [
    "Посмотрим на разные значения (как было видно выше, пропущенных тут нет)"
   ]
  },
  {
   "cell_type": "code",
   "execution_count": 60,
   "metadata": {
    "pycharm": {
     "name": "#%%\n"
    }
   },
   "outputs": [
    {
     "data": {
      "text/plain": [
       " 0     14149\n",
       " 1      4818\n",
       " 2      2055\n",
       " 3       330\n",
       " 20       76\n",
       "-1        47\n",
       " 4        41\n",
       " 5         9\n",
       "Name: children, dtype: int64"
      ]
     },
     "execution_count": 60,
     "metadata": {},
     "output_type": "execute_result"
    }
   ],
   "source": [
    "df[CHILDREN_COLUMN].value_counts()"
   ]
  },
  {
   "cell_type": "markdown",
   "metadata": {
    "pycharm": {
     "name": "#%% md\n"
    }
   },
   "source": [
    "20 детей — похоже на ошибку (обратим внимание, но ничего с этим делать не будем).\n",
    "Видно -1 количество детей — исправим их на положительные"
   ]
  },
  {
   "cell_type": "code",
   "execution_count": 61,
   "metadata": {
    "pycharm": {
     "name": "#%%\n"
    }
   },
   "outputs": [],
   "source": [
    "df[CHILDREN_COLUMN] = df[CHILDREN_COLUMN].apply(lambda x: x if x >= 0 else -x)"
   ]
  },
  {
   "cell_type": "markdown",
   "metadata": {
    "pycharm": {
     "name": "#%% md\n"
    }
   },
   "source": [
    "### Стаж"
   ]
  },
  {
   "cell_type": "code",
   "execution_count": 62,
   "metadata": {
    "pycharm": {
     "name": "#%%\n"
    }
   },
   "outputs": [
    {
     "data": {
      "text/plain": [
       "count     19351.000000\n",
       "mean      63046.497661\n",
       "std      140827.311974\n",
       "min      -18388.949901\n",
       "25%       -2747.423625\n",
       "50%       -1203.369529\n",
       "75%        -291.095954\n",
       "max      401755.400475\n",
       "Name: days_employed, dtype: float64"
      ]
     },
     "execution_count": 62,
     "metadata": {},
     "output_type": "execute_result"
    }
   ],
   "source": [
    "df[DAYS_EMPLOYED_COLUMN].describe()"
   ]
  },
  {
   "cell_type": "markdown",
   "metadata": {
    "pycharm": {
     "name": "#%% md\n"
    }
   },
   "source": [
    "Видно, что есть отрицательные значения. Посмотрим на их долю"
   ]
  },
  {
   "cell_type": "code",
   "execution_count": 63,
   "metadata": {
    "pycharm": {
     "name": "#%%\n"
    }
   },
   "outputs": [
    {
     "name": "stdout",
     "output_type": "stream",
     "text": [
      "Доля отрицательных: 74%\n"
     ]
    }
   ],
   "source": [
    "negative_share = len(df[df[DAYS_EMPLOYED_COLUMN] < 0]) / len(df)\n",
    "print(f'Доля отрицательных: {negative_share:.0%}')"
   ]
  },
  {
   "cell_type": "markdown",
   "metadata": {
    "pycharm": {
     "name": "#%% md\n"
    }
   },
   "source": [
    "Скорее всего, дело в том, что при подсчете перепутали местами дату начала\n",
    "и конца — заменим отрицательные на положительные"
   ]
  },
  {
   "cell_type": "code",
   "execution_count": 64,
   "metadata": {
    "pycharm": {
     "name": "#%%\n"
    }
   },
   "outputs": [],
   "source": [
    "df[DAYS_EMPLOYED_COLUMN] = df[DAYS_EMPLOYED_COLUMN].apply(\n",
    "    lambda x: x if x >= 0 else -x)"
   ]
  },
  {
   "cell_type": "markdown",
   "metadata": {
    "pycharm": {
     "name": "#%% md\n"
    }
   },
   "source": [
    "Посмотрим на долю пропущенных значений"
   ]
  },
  {
   "cell_type": "code",
   "execution_count": 65,
   "metadata": {
    "pycharm": {
     "name": "#%%\n"
    }
   },
   "outputs": [
    {
     "name": "stdout",
     "output_type": "stream",
     "text": [
      "Доля пропущенных: 10%\n"
     ]
    }
   ],
   "source": [
    "missing_share = df[DAYS_EMPLOYED_COLUMN].isna().sum() / len(df)\n",
    "print(f'Доля пропущенных: {missing_share:.0%}')"
   ]
  },
  {
   "cell_type": "code",
   "execution_count": 66,
   "metadata": {
    "pycharm": {
     "name": "#%%\n"
    }
   },
   "outputs": [
    {
     "data": {
      "text/plain": [
       "income_type\n",
       "госслужащий         147\n",
       "компаньон           508\n",
       "пенсионер           413\n",
       "предприниматель       1\n",
       "сотрудник          1105\n",
       "Name: income_type, dtype: int64"
      ]
     },
     "execution_count": 66,
     "metadata": {},
     "output_type": "execute_result"
    }
   ],
   "source": [
    "(\n",
    "    df[df[DAYS_EMPLOYED_COLUMN].isna()]\n",
    "    .groupby(INCOME_TYPE_COLUMN)[INCOME_TYPE_COLUMN]\n",
    "    .count()\n",
    ")"
   ]
  },
  {
   "cell_type": "markdown",
   "metadata": {
    "pycharm": {
     "name": "#%% md\n"
    }
   },
   "source": [
    "Данных достаточно много и пропущены они, скорее всего, по незнанию"
   ]
  },
  {
   "cell_type": "code",
   "execution_count": 67,
   "metadata": {
    "pycharm": {
     "name": "#%%\n"
    }
   },
   "outputs": [
    {
     "data": {
      "text/plain": [
       "count     19351.000000\n",
       "mean      66914.728907\n",
       "std      139030.880527\n",
       "min          24.141633\n",
       "25%         927.009265\n",
       "50%        2194.220567\n",
       "75%        5537.882441\n",
       "max      401755.400475\n",
       "Name: days_employed, dtype: float64"
      ]
     },
     "execution_count": 67,
     "metadata": {},
     "output_type": "execute_result"
    }
   ],
   "source": [
    "df[DAYS_EMPLOYED_COLUMN].describe()"
   ]
  },
  {
   "cell_type": "markdown",
   "metadata": {
    "pycharm": {
     "name": "#%% md\n"
    }
   },
   "source": [
    "Cтранно видеть очень большие значения. Посмотрим сколько таких чей стаж\n",
    "неоправданно высок"
   ]
  },
  {
   "cell_type": "code",
   "execution_count": 68,
   "metadata": {
    "pycharm": {
     "name": "#%%\n"
    }
   },
   "outputs": [
    {
     "name": "stdout",
     "output_type": "stream",
     "text": [
      "Процент людей со слишком большим стажем 16%\n"
     ]
    }
   ],
   "source": [
    "invalid_employed_age = len(df[df[DAYS_EMPLOYED_COLUMN] / 365 > df[AGE_COLUMN] + 14]) / len(df)\n",
    "print(f'Процент людей со слишком большим стажем {invalid_employed_age:.0%}')"
   ]
  },
  {
   "cell_type": "markdown",
   "metadata": {
    "pycharm": {
     "name": "#%% md\n"
    }
   },
   "source": [
    "Итого: 74% отрицательных и 10% пропущенных. Даже если исправить отрицательные,\n",
    "16% со слишком большим стажем. Удалим эту колонку, верить данным нельзя."
   ]
  },
  {
   "cell_type": "code",
   "execution_count": 69,
   "metadata": {
    "pycharm": {
     "name": "#%%\n"
    }
   },
   "outputs": [],
   "source": [
    "df = df.drop(columns=DAYS_EMPLOYED_COLUMN)"
   ]
  },
  {
   "cell_type": "markdown",
   "metadata": {
    "pycharm": {
     "name": "#%% md\n"
    }
   },
   "source": [
    "### Возраст"
   ]
  },
  {
   "cell_type": "code",
   "execution_count": 70,
   "metadata": {
    "pycharm": {
     "name": "#%%\n"
    }
   },
   "outputs": [
    {
     "data": {
      "text/plain": [
       "count    21525.000000\n",
       "mean        43.293380\n",
       "std         12.574584\n",
       "min          0.000000\n",
       "25%         33.000000\n",
       "50%         42.000000\n",
       "75%         53.000000\n",
       "max         75.000000\n",
       "Name: age, dtype: float64"
      ]
     },
     "execution_count": 70,
     "metadata": {},
     "output_type": "execute_result"
    }
   ],
   "source": [
    "df[AGE_COLUMN].describe()"
   ]
  },
  {
   "cell_type": "markdown",
   "metadata": {
    "pycharm": {
     "name": "#%% md\n"
    }
   },
   "source": [
    "Проблем с возрастом не видно"
   ]
  },
  {
   "cell_type": "markdown",
   "metadata": {
    "pycharm": {
     "name": "#%% md\n"
    }
   },
   "source": [
    "### Образование"
   ]
  },
  {
   "cell_type": "code",
   "execution_count": 71,
   "metadata": {
    "pycharm": {
     "name": "#%%\n"
    }
   },
   "outputs": [
    {
     "data": {
      "text/plain": [
       "среднее                13750\n",
       "высшее                  4718\n",
       "СРЕДНЕЕ                  772\n",
       "Среднее                  711\n",
       "неоконченное высшее      668\n",
       "ВЫСШЕЕ                   274\n",
       "Высшее                   268\n",
       "начальное                250\n",
       "Неоконченное высшее       47\n",
       "НЕОКОНЧЕННОЕ ВЫСШЕЕ       29\n",
       "НАЧАЛЬНОЕ                 17\n",
       "Начальное                 15\n",
       "ученая степень             4\n",
       "Ученая степень             1\n",
       "УЧЕНАЯ СТЕПЕНЬ             1\n",
       "Name: education_type, dtype: int64"
      ]
     },
     "execution_count": 71,
     "metadata": {},
     "output_type": "execute_result"
    }
   ],
   "source": [
    "df[EDUCATION_TYPE_COLUMN].value_counts()"
   ]
  },
  {
   "cell_type": "markdown",
   "metadata": {
    "pycharm": {
     "name": "#%% md\n"
    }
   },
   "source": [
    "Видны неявные дубликаты из-за разных написаний — поправим"
   ]
  },
  {
   "cell_type": "code",
   "execution_count": 72,
   "metadata": {
    "pycharm": {
     "name": "#%%\n"
    }
   },
   "outputs": [],
   "source": [
    "df[EDUCATION_TYPE_COLUMN] = df[EDUCATION_TYPE_COLUMN].str.lower()"
   ]
  },
  {
   "cell_type": "markdown",
   "metadata": {
    "pycharm": {
     "name": "#%% md\n"
    }
   },
   "source": [
    "### Семейное положение"
   ]
  },
  {
   "cell_type": "code",
   "execution_count": 73,
   "metadata": {
    "pycharm": {
     "name": "#%%\n"
    }
   },
   "outputs": [
    {
     "data": {
      "text/plain": [
       "женат / замужем          12380\n",
       "гражданский брак          4177\n",
       "Не женат / не замужем     2813\n",
       "в разводе                 1195\n",
       "вдовец / вдова             960\n",
       "Name: marital_type, dtype: int64"
      ]
     },
     "execution_count": 73,
     "metadata": {},
     "output_type": "execute_result"
    }
   ],
   "source": [
    "df[MARITAL_TYPE_COLUMN].value_counts()"
   ]
  },
  {
   "cell_type": "markdown",
   "metadata": {
    "pycharm": {
     "name": "#%% md\n"
    }
   },
   "source": [
    "Проблем не видно"
   ]
  },
  {
   "cell_type": "markdown",
   "metadata": {
    "pycharm": {
     "name": "#%% md\n"
    }
   },
   "source": [
    "### Пол"
   ]
  },
  {
   "cell_type": "markdown",
   "metadata": {
    "pycharm": {
     "name": "#%% md\n"
    }
   },
   "source": [
    "Посмотрим на разные значения в столбце"
   ]
  },
  {
   "cell_type": "code",
   "execution_count": 74,
   "metadata": {
    "pycharm": {
     "name": "#%%\n"
    }
   },
   "outputs": [
    {
     "data": {
      "text/plain": [
       "F      14236\n",
       "M       7288\n",
       "XNA        1\n",
       "Name: gender, dtype: int64"
      ]
     },
     "execution_count": 74,
     "metadata": {},
     "output_type": "execute_result"
    }
   ],
   "source": [
    "df[GENDER_COLUMN].value_counts()"
   ]
  },
  {
   "cell_type": "markdown",
   "metadata": {
    "pycharm": {
     "name": "#%% md\n"
    }
   },
   "source": [
    "Плохая запись только одна — удалим"
   ]
  },
  {
   "cell_type": "code",
   "execution_count": 75,
   "metadata": {
    "pycharm": {
     "name": "#%%\n"
    }
   },
   "outputs": [],
   "source": [
    "df = df[df[GENDER_COLUMN] != 'XNA']"
   ]
  },
  {
   "cell_type": "markdown",
   "metadata": {
    "pycharm": {
     "name": "#%% md\n"
    }
   },
   "source": [
    "### Тип дохода"
   ]
  },
  {
   "cell_type": "code",
   "execution_count": 76,
   "metadata": {
    "pycharm": {
     "name": "#%%\n"
    }
   },
   "outputs": [
    {
     "data": {
      "text/plain": [
       "сотрудник          11119\n",
       "компаньон           5084\n",
       "пенсионер           3856\n",
       "госслужащий         1459\n",
       "безработный            2\n",
       "предприниматель        2\n",
       "студент                1\n",
       "в декрете              1\n",
       "Name: income_type, dtype: int64"
      ]
     },
     "execution_count": 76,
     "metadata": {},
     "output_type": "execute_result"
    }
   ],
   "source": [
    "df[INCOME_TYPE_COLUMN].value_counts()"
   ]
  },
  {
   "cell_type": "markdown",
   "metadata": {
    "pycharm": {
     "name": "#%% md\n"
    }
   },
   "source": [
    "Проблем не видно"
   ]
  },
  {
   "cell_type": "markdown",
   "metadata": {
    "pycharm": {
     "name": "#%% md\n"
    }
   },
   "source": [
    "### Наличие просрочек"
   ]
  },
  {
   "cell_type": "code",
   "execution_count": 77,
   "metadata": {
    "pycharm": {
     "name": "#%%\n"
    }
   },
   "outputs": [
    {
     "data": {
      "text/plain": [
       "0    19783\n",
       "1     1741\n",
       "Name: had_past_due_credits, dtype: int64"
      ]
     },
     "execution_count": 77,
     "metadata": {},
     "output_type": "execute_result"
    }
   ],
   "source": [
    "df[HAD_PAST_DUE_CREDITS_COLUMN].value_counts()"
   ]
  },
  {
   "cell_type": "markdown",
   "metadata": {
    "pycharm": {
     "name": "#%% md\n"
    }
   },
   "source": [
    "Проблем не видно"
   ]
  },
  {
   "cell_type": "markdown",
   "metadata": {
    "pycharm": {
     "name": "#%% md\n"
    }
   },
   "source": [
    "### Доход (отбросим дробную часть)"
   ]
  },
  {
   "cell_type": "markdown",
   "metadata": {
    "pycharm": {
     "name": "#%% md\n"
    }
   },
   "source": [
    "Округлим в меньшую сторону до целого"
   ]
  },
  {
   "cell_type": "code",
   "execution_count": 78,
   "metadata": {
    "pycharm": {
     "name": "#%%\n"
    }
   },
   "outputs": [],
   "source": [
    "df[INCOME_COLUMN] = df[INCOME_COLUMN].astype('int')"
   ]
  },
  {
   "cell_type": "markdown",
   "metadata": {
    "pycharm": {
     "name": "#%% md\n"
    }
   },
   "source": [
    "### Цель кредита"
   ]
  },
  {
   "cell_type": "code",
   "execution_count": 79,
   "metadata": {
    "pycharm": {
     "name": "#%%\n"
    }
   },
   "outputs": [
    {
     "data": {
      "text/plain": [
       "свадьба                              797\n",
       "на проведение свадьбы                777\n",
       "сыграть свадьбу                      774\n",
       "операции с недвижимостью             676\n",
       "покупка коммерческой недвижимости    664\n",
       "Name: purpose_type, dtype: int64"
      ]
     },
     "execution_count": 79,
     "metadata": {},
     "output_type": "execute_result"
    }
   ],
   "source": [
    "df[PURPOSE_TYPE_COLUMN].value_counts().head()"
   ]
  },
  {
   "cell_type": "markdown",
   "metadata": {
    "pycharm": {
     "name": "#%% md\n"
    }
   },
   "source": [
    "Видно большое количество неявных дубликатов, разберемся с ними позже"
   ]
  },
  {
   "cell_type": "markdown",
   "metadata": {
    "pycharm": {
     "name": "#%% md\n"
    }
   },
   "source": [
    "### Резюме по первичной обработке\n",
    "1. Было 47 записей с -1 количеством детей (поправили на 1).\n",
    "2. Отрицательные значения в стаже были заменены на положительные. Пропущенные заменены медианным значением.\n",
    "3. В образовании были исправлены разные написания одних и тех же значений.\n",
    "4. Один «пол» был неверным — запись удалена.\n",
    "5. 10% пропущенных значений в доходе заменены медианным. Дробная часть отброшена."
   ]
  },
  {
   "cell_type": "markdown",
   "metadata": {
    "pycharm": {
     "name": "#%% md\n"
    }
   },
   "source": [
    "## Нормализация данных"
   ]
  },
  {
   "cell_type": "markdown",
   "metadata": {
    "pycharm": {
     "name": "#%% md\n"
    }
   },
   "source": [
    "Выделим повторяющиеся данные (тип образования и семейное положение)"
   ]
  },
  {
   "cell_type": "code",
   "execution_count": 80,
   "metadata": {
    "pycharm": {
     "name": "#%%\n"
    }
   },
   "outputs": [],
   "source": [
    "education_types = df[[EDUCATION_TYPE_COLUMN, EDUCATION_TYPE_ID_COLUMN]].copy()\n",
    "education_types = education_types.drop_duplicates().reset_index(drop=True)"
   ]
  },
  {
   "cell_type": "code",
   "execution_count": 81,
   "metadata": {
    "pycharm": {
     "name": "#%%\n"
    }
   },
   "outputs": [
    {
     "data": {
      "text/html": [
       "<div>\n",
       "<style scoped>\n",
       "    .dataframe tbody tr th:only-of-type {\n",
       "        vertical-align: middle;\n",
       "    }\n",
       "\n",
       "    .dataframe tbody tr th {\n",
       "        vertical-align: top;\n",
       "    }\n",
       "\n",
       "    .dataframe thead th {\n",
       "        text-align: right;\n",
       "    }\n",
       "</style>\n",
       "<table border=\"1\" class=\"dataframe\">\n",
       "  <thead>\n",
       "    <tr style=\"text-align: right;\">\n",
       "      <th></th>\n",
       "      <th>education_type</th>\n",
       "      <th>education_type_id</th>\n",
       "    </tr>\n",
       "  </thead>\n",
       "  <tbody>\n",
       "    <tr>\n",
       "      <th>0</th>\n",
       "      <td>высшее</td>\n",
       "      <td>0</td>\n",
       "    </tr>\n",
       "    <tr>\n",
       "      <th>1</th>\n",
       "      <td>среднее</td>\n",
       "      <td>1</td>\n",
       "    </tr>\n",
       "    <tr>\n",
       "      <th>2</th>\n",
       "      <td>неоконченное высшее</td>\n",
       "      <td>2</td>\n",
       "    </tr>\n",
       "    <tr>\n",
       "      <th>3</th>\n",
       "      <td>начальное</td>\n",
       "      <td>3</td>\n",
       "    </tr>\n",
       "    <tr>\n",
       "      <th>4</th>\n",
       "      <td>ученая степень</td>\n",
       "      <td>4</td>\n",
       "    </tr>\n",
       "  </tbody>\n",
       "</table>\n",
       "</div>"
      ],
      "text/plain": [
       "        education_type  education_type_id\n",
       "0               высшее                  0\n",
       "1              среднее                  1\n",
       "2  неоконченное высшее                  2\n",
       "3            начальное                  3\n",
       "4       ученая степень                  4"
      ]
     },
     "execution_count": 81,
     "metadata": {},
     "output_type": "execute_result"
    }
   ],
   "source": [
    "education_types"
   ]
  },
  {
   "cell_type": "code",
   "execution_count": 82,
   "metadata": {
    "pycharm": {
     "name": "#%%\n"
    }
   },
   "outputs": [],
   "source": [
    "marital_types = df[[MARITAL_TYPE_COLUMN, MARITAL_TYPE_ID_COLUMN]].copy()\n",
    "marital_types = marital_types.drop_duplicates().reset_index(drop=True)"
   ]
  },
  {
   "cell_type": "code",
   "execution_count": 83,
   "metadata": {
    "pycharm": {
     "name": "#%%\n"
    }
   },
   "outputs": [
    {
     "data": {
      "text/html": [
       "<div>\n",
       "<style scoped>\n",
       "    .dataframe tbody tr th:only-of-type {\n",
       "        vertical-align: middle;\n",
       "    }\n",
       "\n",
       "    .dataframe tbody tr th {\n",
       "        vertical-align: top;\n",
       "    }\n",
       "\n",
       "    .dataframe thead th {\n",
       "        text-align: right;\n",
       "    }\n",
       "</style>\n",
       "<table border=\"1\" class=\"dataframe\">\n",
       "  <thead>\n",
       "    <tr style=\"text-align: right;\">\n",
       "      <th></th>\n",
       "      <th>marital_type</th>\n",
       "      <th>marital_type_id</th>\n",
       "    </tr>\n",
       "  </thead>\n",
       "  <tbody>\n",
       "    <tr>\n",
       "      <th>0</th>\n",
       "      <td>женат / замужем</td>\n",
       "      <td>0</td>\n",
       "    </tr>\n",
       "    <tr>\n",
       "      <th>1</th>\n",
       "      <td>гражданский брак</td>\n",
       "      <td>1</td>\n",
       "    </tr>\n",
       "    <tr>\n",
       "      <th>2</th>\n",
       "      <td>вдовец / вдова</td>\n",
       "      <td>2</td>\n",
       "    </tr>\n",
       "    <tr>\n",
       "      <th>3</th>\n",
       "      <td>в разводе</td>\n",
       "      <td>3</td>\n",
       "    </tr>\n",
       "    <tr>\n",
       "      <th>4</th>\n",
       "      <td>Не женат / не замужем</td>\n",
       "      <td>4</td>\n",
       "    </tr>\n",
       "  </tbody>\n",
       "</table>\n",
       "</div>"
      ],
      "text/plain": [
       "            marital_type  marital_type_id\n",
       "0        женат / замужем                0\n",
       "1       гражданский брак                1\n",
       "2         вдовец / вдова                2\n",
       "3              в разводе                3\n",
       "4  Не женат / не замужем                4"
      ]
     },
     "execution_count": 83,
     "metadata": {},
     "output_type": "execute_result"
    }
   ],
   "source": [
    "marital_types"
   ]
  },
  {
   "cell_type": "markdown",
   "metadata": {
    "pycharm": {
     "name": "#%% md\n"
    }
   },
   "source": [
    "Удалим из таблицы строковые столбцы"
   ]
  },
  {
   "cell_type": "code",
   "execution_count": 84,
   "metadata": {
    "pycharm": {
     "name": "#%%\n"
    }
   },
   "outputs": [],
   "source": [
    "df.drop(columns=[EDUCATION_TYPE_COLUMN, MARITAL_TYPE_COLUMN], inplace=True)"
   ]
  },
  {
   "cell_type": "markdown",
   "metadata": {
    "pycharm": {
     "name": "#%% md\n"
    }
   },
   "source": [
    "Вывод: выделили из таблицы повторяющиеся строковые значения в отдельные таблицы."
   ]
  },
  {
   "cell_type": "markdown",
   "metadata": {
    "pycharm": {
     "name": "#%% md\n"
    }
   },
   "source": [
    "## Валидация данных"
   ]
  },
  {
   "cell_type": "markdown",
   "metadata": {
    "pycharm": {
     "name": "#%% md\n"
    }
   },
   "source": [
    "Проверим данные «на вшивость». Посмотрим на образование и возраст"
   ]
  },
  {
   "cell_type": "markdown",
   "metadata": {
    "pycharm": {
     "name": "#%% md\n"
    }
   },
   "source": [
    "### Образование"
   ]
  },
  {
   "cell_type": "code",
   "execution_count": 85,
   "metadata": {
    "pycharm": {
     "name": "#%%\n"
    }
   },
   "outputs": [
    {
     "data": {
      "text/html": [
       "<div>\n",
       "<style scoped>\n",
       "    .dataframe tbody tr th:only-of-type {\n",
       "        vertical-align: middle;\n",
       "    }\n",
       "\n",
       "    .dataframe tbody tr th {\n",
       "        vertical-align: top;\n",
       "    }\n",
       "\n",
       "    .dataframe thead th {\n",
       "        text-align: right;\n",
       "    }\n",
       "</style>\n",
       "<table border=\"1\" class=\"dataframe\">\n",
       "  <thead>\n",
       "    <tr style=\"text-align: right;\">\n",
       "      <th></th>\n",
       "      <th>education_type</th>\n",
       "      <th>education_type_id</th>\n",
       "    </tr>\n",
       "  </thead>\n",
       "  <tbody>\n",
       "    <tr>\n",
       "      <th>0</th>\n",
       "      <td>высшее</td>\n",
       "      <td>0</td>\n",
       "    </tr>\n",
       "    <tr>\n",
       "      <th>1</th>\n",
       "      <td>среднее</td>\n",
       "      <td>1</td>\n",
       "    </tr>\n",
       "    <tr>\n",
       "      <th>2</th>\n",
       "      <td>неоконченное высшее</td>\n",
       "      <td>2</td>\n",
       "    </tr>\n",
       "    <tr>\n",
       "      <th>3</th>\n",
       "      <td>начальное</td>\n",
       "      <td>3</td>\n",
       "    </tr>\n",
       "    <tr>\n",
       "      <th>4</th>\n",
       "      <td>ученая степень</td>\n",
       "      <td>4</td>\n",
       "    </tr>\n",
       "  </tbody>\n",
       "</table>\n",
       "</div>"
      ],
      "text/plain": [
       "        education_type  education_type_id\n",
       "0               высшее                  0\n",
       "1              среднее                  1\n",
       "2  неоконченное высшее                  2\n",
       "3            начальное                  3\n",
       "4       ученая степень                  4"
      ]
     },
     "execution_count": 85,
     "metadata": {},
     "output_type": "execute_result"
    }
   ],
   "source": [
    "education_types"
   ]
  },
  {
   "cell_type": "code",
   "execution_count": 86,
   "metadata": {
    "pycharm": {
     "name": "#%%\n"
    }
   },
   "outputs": [],
   "source": [
    "def get_education_id(type: str) -> int:\n",
    "    return (\n",
    "        education_types\n",
    "        .loc[education_types[EDUCATION_TYPE_COLUMN] == type,\n",
    "             EDUCATION_TYPE_ID_COLUMN]\n",
    "        .iloc[0])"
   ]
  },
  {
   "cell_type": "code",
   "execution_count": 87,
   "metadata": {
    "pycharm": {
     "name": "#%%\n"
    }
   },
   "outputs": [],
   "source": [
    "def get_count(type_id: int, age_limit: int) -> int:\n",
    "    return len(\n",
    "        df[(df[EDUCATION_TYPE_ID_COLUMN] == type_id)\n",
    "           & (df[AGE_COLUMN] <= age_limit)\n",
    "           & (df[AGE_COLUMN] != 0)])"
   ]
  },
  {
   "cell_type": "code",
   "execution_count": 88,
   "metadata": {
    "pycharm": {
     "name": "#%%\n"
    }
   },
   "outputs": [
    {
     "name": "stdout",
     "output_type": "stream",
     "text": [
      "Количество людей с невозможной учёной степенью: 0\n",
      "Количество людей с невозможным высшим образованием: 0\n",
      "Количество людей с невозможным неоконченным высшим: 0\n",
      "Количество людей с невозможным средним образованием: 0\n"
     ]
    }
   ],
   "source": [
    "type_id = get_education_id('ученая степень')\n",
    "print(f'Количество людей с невозможной учёной степенью: {get_count(type_id, 22)}')\n",
    "\n",
    "type_id = get_education_id('высшее')\n",
    "print(f'Количество людей с невозможным высшим образованием: {get_count(type_id, 19)}')\n",
    "\n",
    "type_id = get_education_id('неоконченное высшее')\n",
    "print(f'Количество людей с невозможным неоконченным высшим: {get_count(type_id, 17)}')\n",
    "\n",
    "type_id = get_education_id('среднее')\n",
    "print(f'Количество людей с невозможным средним образованием: {get_count(type_id, 16)}')\n",
    "\n"
   ]
  },
  {
   "cell_type": "markdown",
   "metadata": {
    "pycharm": {
     "name": "#%% md\n"
    }
   },
   "source": [
    "Проблем с несоответствующему возрасту уровню образования не найдено"
   ]
  },
  {
   "cell_type": "markdown",
   "metadata": {
    "pycharm": {
     "name": "#%% md\n"
    }
   },
   "source": [
    "## Категоризация данных"
   ]
  },
  {
   "cell_type": "markdown",
   "metadata": {
    "pycharm": {
     "name": "#%% md\n"
    }
   },
   "source": [
    "### Доход"
   ]
  },
  {
   "cell_type": "markdown",
   "metadata": {
    "pycharm": {
     "name": "#%% md\n"
    }
   },
   "source": [
    "Введем 5 категорий дохода:\n",
    "1. 0–30000 — `E`;\n",
    "2. 30001–50000 — `D`;\n",
    "3. 50001–200000 — `C`;\n",
    "4. 200001–1000000 — `B`;\n",
    "5. 1000001 и выше — `A`."
   ]
  },
  {
   "cell_type": "code",
   "execution_count": 89,
   "metadata": {
    "pycharm": {
     "name": "#%%\n"
    }
   },
   "outputs": [],
   "source": [
    "def get_income_category(income: int) -> str:\n",
    "    if income <= 30_000:\n",
    "        return 'E'\n",
    "    if 30_000 < income <= 50_000:\n",
    "        return 'D'\n",
    "    if 50_000 < income <= 200_000:\n",
    "        return 'C'\n",
    "    if 200_000 < income <= 1_000_000:\n",
    "        return 'B'\n",
    "    return 'A'"
   ]
  },
  {
   "cell_type": "code",
   "execution_count": 90,
   "metadata": {
    "pycharm": {
     "name": "#%%\n"
    }
   },
   "outputs": [],
   "source": [
    "TOTAL_INCOME_CATEGORY_COLUMN = 'total_income_category'\n",
    "df[TOTAL_INCOME_CATEGORY_COLUMN] = df[INCOME_COLUMN].apply(get_income_category)"
   ]
  },
  {
   "cell_type": "markdown",
   "metadata": {
    "pycharm": {
     "name": "#%% md\n"
    }
   },
   "source": [
    "### Цель кредита"
   ]
  },
  {
   "cell_type": "markdown",
   "metadata": {
    "pycharm": {
     "name": "#%% md\n"
    }
   },
   "source": [
    "Введем следующие категории целей кредита:\n",
    "- операции с автомобилем\n",
    "- операции с недвижимостью\n",
    "- проведение свадьбы\n",
    "- получение образования"
   ]
  },
  {
   "cell_type": "code",
   "execution_count": 91,
   "metadata": {
    "pycharm": {
     "name": "#%%\n"
    }
   },
   "outputs": [],
   "source": [
    "PURPOSE_CATEGORY_COLUMN = 'purpose_category'\n",
    "\n",
    "\n",
    "def set_normalized_purpose(pattern: str, category: str) -> None:\n",
    "    df.loc[df[PURPOSE_TYPE_COLUMN].str.contains(pattern),\n",
    "           PURPOSE_CATEGORY_COLUMN] = category"
   ]
  },
  {
   "cell_type": "code",
   "execution_count": 92,
   "metadata": {
    "pycharm": {
     "name": "#%%\n"
    }
   },
   "outputs": [],
   "source": [
    "set_normalized_purpose('авто', 'операции с автомобилем')\n",
    "set_normalized_purpose('недвиж|жиль', 'операции с недвижимостью')\n",
    "set_normalized_purpose('свадь', 'проведение свадьбы')\n",
    "set_normalized_purpose('образ', 'получение образования')"
   ]
  },
  {
   "cell_type": "markdown",
   "metadata": {
    "pycharm": {
     "name": "#%% md\n"
    }
   },
   "source": [
    " Проверим, что покрыли все цели кредита"
   ]
  },
  {
   "cell_type": "code",
   "execution_count": 93,
   "metadata": {
    "pycharm": {
     "name": "#%%\n"
    }
   },
   "outputs": [
    {
     "name": "stdout",
     "output_type": "stream",
     "text": [
      "Количество неразмеченных категорий 0\n"
     ]
    }
   ],
   "source": [
    "print('Количество неразмеченных категорий', len(df[df[PURPOSE_CATEGORY_COLUMN].isna()]))"
   ]
  },
  {
   "cell_type": "markdown",
   "metadata": {
    "pycharm": {
     "name": "#%% md\n"
    }
   },
   "source": [
    "## Количество детей и возврат кредита в срок"
   ]
  },
  {
   "cell_type": "code",
   "execution_count": 114,
   "metadata": {
    "pycharm": {
     "name": "#%%\n"
    }
   },
   "outputs": [
    {
     "data": {
      "text/html": [
       "<div>\n",
       "<style scoped>\n",
       "    .dataframe tbody tr th:only-of-type {\n",
       "        vertical-align: middle;\n",
       "    }\n",
       "\n",
       "    .dataframe tbody tr th {\n",
       "        vertical-align: top;\n",
       "    }\n",
       "\n",
       "    .dataframe thead th {\n",
       "        text-align: right;\n",
       "    }\n",
       "</style>\n",
       "<table border=\"1\" class=\"dataframe\">\n",
       "  <thead>\n",
       "    <tr style=\"text-align: right;\">\n",
       "      <th></th>\n",
       "      <th>count</th>\n",
       "      <th>sum</th>\n",
       "      <th>mean</th>\n",
       "    </tr>\n",
       "    <tr>\n",
       "      <th>children</th>\n",
       "      <th></th>\n",
       "      <th></th>\n",
       "      <th></th>\n",
       "    </tr>\n",
       "  </thead>\n",
       "  <tbody>\n",
       "    <tr>\n",
       "      <th>20</th>\n",
       "      <td>76</td>\n",
       "      <td>8</td>\n",
       "      <td>0.105263</td>\n",
       "    </tr>\n",
       "    <tr>\n",
       "      <th>4</th>\n",
       "      <td>41</td>\n",
       "      <td>4</td>\n",
       "      <td>0.097561</td>\n",
       "    </tr>\n",
       "    <tr>\n",
       "      <th>2</th>\n",
       "      <td>2055</td>\n",
       "      <td>194</td>\n",
       "      <td>0.094404</td>\n",
       "    </tr>\n",
       "    <tr>\n",
       "      <th>1</th>\n",
       "      <td>4865</td>\n",
       "      <td>445</td>\n",
       "      <td>0.091470</td>\n",
       "    </tr>\n",
       "    <tr>\n",
       "      <th>3</th>\n",
       "      <td>330</td>\n",
       "      <td>27</td>\n",
       "      <td>0.081818</td>\n",
       "    </tr>\n",
       "    <tr>\n",
       "      <th>0</th>\n",
       "      <td>14148</td>\n",
       "      <td>1063</td>\n",
       "      <td>0.075134</td>\n",
       "    </tr>\n",
       "    <tr>\n",
       "      <th>5</th>\n",
       "      <td>9</td>\n",
       "      <td>0</td>\n",
       "      <td>0.000000</td>\n",
       "    </tr>\n",
       "  </tbody>\n",
       "</table>\n",
       "</div>"
      ],
      "text/plain": [
       "          count   sum      mean\n",
       "children                       \n",
       "20           76     8  0.105263\n",
       "4            41     4  0.097561\n",
       "2          2055   194  0.094404\n",
       "1          4865   445  0.091470\n",
       "3           330    27  0.081818\n",
       "0         14148  1063  0.075134\n",
       "5             9     0  0.000000"
      ]
     },
     "execution_count": 114,
     "metadata": {},
     "output_type": "execute_result"
    }
   ],
   "source": [
    "(df\n",
    " .groupby(CHILDREN_COLUMN)[HAD_PAST_DUE_CREDITS_COLUMN]\n",
    " .agg(['count', 'sum', 'mean'])\n",
    " .sort_values(by='mean', ascending=False))"
   ]
  },
  {
   "cell_type": "markdown",
   "metadata": {
    "pycharm": {
     "name": "#%% md\n"
    }
   },
   "source": [
    "Если просто смотреть на детей без группировки, особой разницы нет.\n",
    "\n",
    "Выделим две категории: есть дети или нет:"
   ]
  },
  {
   "cell_type": "code",
   "execution_count": 51,
   "metadata": {
    "pycharm": {
     "name": "#%%\n"
    }
   },
   "outputs": [
    {
     "name": "stdout",
     "output_type": "stream",
     "text": [
      "Без детей, не было просрочек 7.5%\n",
      "Есть дети, не было просрочек 9.2%\n"
     ]
    }
   ],
   "source": [
    "print(f'Без детей, не было просрочек {df[df[CHILDREN_COLUMN] == 0][HAD_PAST_DUE_CREDITS_COLUMN].mean():0.1%}')\n",
    "print(f'Есть дети, не было просрочек {df[df[CHILDREN_COLUMN] > 0][HAD_PAST_DUE_CREDITS_COLUMN].mean():0.1%}')"
   ]
  },
  {
   "cell_type": "markdown",
   "metadata": {
    "pycharm": {
     "name": "#%% md\n"
    }
   },
   "source": [
    "Вывод: бездетные на 1.7% «выгоднее»"
   ]
  },
  {
   "cell_type": "markdown",
   "metadata": {
    "pycharm": {
     "name": "#%% md\n"
    }
   },
   "source": [
    "## Семейное положение и возврат кредита в срок"
   ]
  },
  {
   "cell_type": "code",
   "execution_count": 112,
   "metadata": {
    "pycharm": {
     "name": "#%%\n"
    }
   },
   "outputs": [
    {
     "data": {
      "text/html": [
       "<div>\n",
       "<style scoped>\n",
       "    .dataframe tbody tr th:only-of-type {\n",
       "        vertical-align: middle;\n",
       "    }\n",
       "\n",
       "    .dataframe tbody tr th {\n",
       "        vertical-align: top;\n",
       "    }\n",
       "\n",
       "    .dataframe thead th {\n",
       "        text-align: right;\n",
       "    }\n",
       "</style>\n",
       "<table border=\"1\" class=\"dataframe\">\n",
       "  <thead>\n",
       "    <tr style=\"text-align: right;\">\n",
       "      <th></th>\n",
       "      <th>count</th>\n",
       "      <th>sum</th>\n",
       "      <th>mean</th>\n",
       "    </tr>\n",
       "    <tr>\n",
       "      <th>marital_type</th>\n",
       "      <th></th>\n",
       "      <th></th>\n",
       "      <th></th>\n",
       "    </tr>\n",
       "  </thead>\n",
       "  <tbody>\n",
       "    <tr>\n",
       "      <th>Не женат / не замужем</th>\n",
       "      <td>2813</td>\n",
       "      <td>274</td>\n",
       "      <td>0.097405</td>\n",
       "    </tr>\n",
       "    <tr>\n",
       "      <th>гражданский брак</th>\n",
       "      <td>4176</td>\n",
       "      <td>388</td>\n",
       "      <td>0.092912</td>\n",
       "    </tr>\n",
       "    <tr>\n",
       "      <th>женат / замужем</th>\n",
       "      <td>12380</td>\n",
       "      <td>931</td>\n",
       "      <td>0.075202</td>\n",
       "    </tr>\n",
       "    <tr>\n",
       "      <th>в разводе</th>\n",
       "      <td>1195</td>\n",
       "      <td>85</td>\n",
       "      <td>0.071130</td>\n",
       "    </tr>\n",
       "    <tr>\n",
       "      <th>вдовец / вдова</th>\n",
       "      <td>960</td>\n",
       "      <td>63</td>\n",
       "      <td>0.065625</td>\n",
       "    </tr>\n",
       "  </tbody>\n",
       "</table>\n",
       "</div>"
      ],
      "text/plain": [
       "                       count  sum      mean\n",
       "marital_type                               \n",
       "Не женат / не замужем   2813  274  0.097405\n",
       "гражданский брак        4176  388  0.092912\n",
       "женат / замужем        12380  931  0.075202\n",
       "в разводе               1195   85  0.071130\n",
       "вдовец / вдова           960   63  0.065625"
      ]
     },
     "execution_count": 112,
     "metadata": {},
     "output_type": "execute_result"
    }
   ],
   "source": [
    "(df[[HAD_PAST_DUE_CREDITS_COLUMN, MARITAL_TYPE_ID_COLUMN]]\n",
    " .merge(marital_types, on=MARITAL_TYPE_ID_COLUMN)\n",
    " .groupby(MARITAL_TYPE_COLUMN)\n",
    " .agg(['count', 'sum', 'mean'])['had_past_due_credits']\n",
    " .sort_values(by='mean', ascending=False))"
   ]
  },
  {
   "cell_type": "markdown",
   "metadata": {
    "pycharm": {
     "name": "#%% md\n"
    }
   },
   "source": [
    "Вывод: неженатые ненамного, но все же чаще имеют просрочки, чем люди в/бывшие в отношениях."
   ]
  },
  {
   "cell_type": "markdown",
   "metadata": {
    "pycharm": {
     "name": "#%% md\n"
    }
   },
   "source": [
    "## Уровень дохода и возврат кредита в срок"
   ]
  },
  {
   "cell_type": "code",
   "execution_count": 113,
   "metadata": {
    "pycharm": {
     "name": "#%%\n"
    }
   },
   "outputs": [
    {
     "data": {
      "text/html": [
       "<div>\n",
       "<style scoped>\n",
       "    .dataframe tbody tr th:only-of-type {\n",
       "        vertical-align: middle;\n",
       "    }\n",
       "\n",
       "    .dataframe tbody tr th {\n",
       "        vertical-align: top;\n",
       "    }\n",
       "\n",
       "    .dataframe thead th {\n",
       "        text-align: right;\n",
       "    }\n",
       "</style>\n",
       "<table border=\"1\" class=\"dataframe\">\n",
       "  <thead>\n",
       "    <tr style=\"text-align: right;\">\n",
       "      <th></th>\n",
       "      <th>count</th>\n",
       "      <th>sum</th>\n",
       "      <th>mean</th>\n",
       "    </tr>\n",
       "    <tr>\n",
       "      <th>total_income_category</th>\n",
       "      <th></th>\n",
       "      <th></th>\n",
       "      <th></th>\n",
       "    </tr>\n",
       "  </thead>\n",
       "  <tbody>\n",
       "    <tr>\n",
       "      <th>E</th>\n",
       "      <td>22</td>\n",
       "      <td>2</td>\n",
       "      <td>0.090909</td>\n",
       "    </tr>\n",
       "    <tr>\n",
       "      <th>C</th>\n",
       "      <td>16087</td>\n",
       "      <td>1360</td>\n",
       "      <td>0.084540</td>\n",
       "    </tr>\n",
       "    <tr>\n",
       "      <th>A</th>\n",
       "      <td>25</td>\n",
       "      <td>2</td>\n",
       "      <td>0.080000</td>\n",
       "    </tr>\n",
       "    <tr>\n",
       "      <th>B</th>\n",
       "      <td>5040</td>\n",
       "      <td>356</td>\n",
       "      <td>0.070635</td>\n",
       "    </tr>\n",
       "    <tr>\n",
       "      <th>D</th>\n",
       "      <td>350</td>\n",
       "      <td>21</td>\n",
       "      <td>0.060000</td>\n",
       "    </tr>\n",
       "  </tbody>\n",
       "</table>\n",
       "</div>"
      ],
      "text/plain": [
       "                       count   sum      mean\n",
       "total_income_category                       \n",
       "E                         22     2  0.090909\n",
       "C                      16087  1360  0.084540\n",
       "A                         25     2  0.080000\n",
       "B                       5040   356  0.070635\n",
       "D                        350    21  0.060000"
      ]
     },
     "execution_count": 113,
     "metadata": {},
     "output_type": "execute_result"
    }
   ],
   "source": [
    "(df\n",
    " .groupby(TOTAL_INCOME_CATEGORY_COLUMN)[HAD_PAST_DUE_CREDITS_COLUMN]\n",
    " .agg(['count', 'sum', 'mean'])\n",
    " .sort_values(by='mean', ascending=False))"
   ]
  },
  {
   "cell_type": "markdown",
   "metadata": {
    "pycharm": {
     "name": "#%% md\n"
    }
   },
   "source": [
    "Вывод: более-менее нормальная выборка только в двух категориях (B и С),\n",
    "но и здесь видно, что люди с большим доходом реже имеют просрочки."
   ]
  },
  {
   "cell_type": "markdown",
   "metadata": {
    "pycharm": {
     "name": "#%% md\n"
    }
   },
   "source": [
    "## Цели кредита и возврат в срок"
   ]
  },
  {
   "cell_type": "code",
   "execution_count": 115,
   "metadata": {
    "pycharm": {
     "name": "#%%\n"
    }
   },
   "outputs": [
    {
     "data": {
      "text/html": [
       "<div>\n",
       "<style scoped>\n",
       "    .dataframe tbody tr th:only-of-type {\n",
       "        vertical-align: middle;\n",
       "    }\n",
       "\n",
       "    .dataframe tbody tr th {\n",
       "        vertical-align: top;\n",
       "    }\n",
       "\n",
       "    .dataframe thead th {\n",
       "        text-align: right;\n",
       "    }\n",
       "</style>\n",
       "<table border=\"1\" class=\"dataframe\">\n",
       "  <thead>\n",
       "    <tr style=\"text-align: right;\">\n",
       "      <th></th>\n",
       "      <th>count</th>\n",
       "      <th>sum</th>\n",
       "      <th>mean</th>\n",
       "    </tr>\n",
       "    <tr>\n",
       "      <th>purpose_category</th>\n",
       "      <th></th>\n",
       "      <th></th>\n",
       "      <th></th>\n",
       "    </tr>\n",
       "  </thead>\n",
       "  <tbody>\n",
       "    <tr>\n",
       "      <th>операции с автомобилем</th>\n",
       "      <td>4315</td>\n",
       "      <td>403</td>\n",
       "      <td>0.093395</td>\n",
       "    </tr>\n",
       "    <tr>\n",
       "      <th>получение образования</th>\n",
       "      <td>4022</td>\n",
       "      <td>370</td>\n",
       "      <td>0.091994</td>\n",
       "    </tr>\n",
       "    <tr>\n",
       "      <th>проведение свадьбы</th>\n",
       "      <td>2348</td>\n",
       "      <td>186</td>\n",
       "      <td>0.079216</td>\n",
       "    </tr>\n",
       "    <tr>\n",
       "      <th>операции с недвижимостью</th>\n",
       "      <td>10839</td>\n",
       "      <td>782</td>\n",
       "      <td>0.072147</td>\n",
       "    </tr>\n",
       "  </tbody>\n",
       "</table>\n",
       "</div>"
      ],
      "text/plain": [
       "                          count  sum      mean\n",
       "purpose_category                              \n",
       "операции с автомобилем     4315  403  0.093395\n",
       "получение образования      4022  370  0.091994\n",
       "проведение свадьбы         2348  186  0.079216\n",
       "операции с недвижимостью  10839  782  0.072147"
      ]
     },
     "execution_count": 115,
     "metadata": {},
     "output_type": "execute_result"
    }
   ],
   "source": [
    "(df\n",
    " .groupby(PURPOSE_CATEGORY_COLUMN)[HAD_PAST_DUE_CREDITS_COLUMN]\n",
    " .agg(['count', 'sum', 'mean'])\n",
    " .sort_values(by='mean', ascending=False))"
   ]
  },
  {
   "cell_type": "markdown",
   "metadata": {
    "pycharm": {
     "name": "#%% md\n"
    }
   },
   "source": [
    "Вывод: недвижимость на 1-2 процентных пункта реже страдает от просрочек."
   ]
  },
  {
   "cell_type": "markdown",
   "metadata": {
    "pycharm": {
     "name": "#%% md\n"
    }
   },
   "source": [
    "## Выводы"
   ]
  },
  {
   "cell_type": "markdown",
   "metadata": {
    "pycharm": {
     "name": "#%% md\n"
    }
   },
   "source": [
    "1. Во входных данных было много проблем:\n",
    "- 47 записей с «-1» количеством детей (поправили на 1);\n",
    "- стаж в данных был невалиден: 74% отрицательных чисел и 10% пропущенных. Даже если исправить отрицательные, 16% со слишком большим (невозможным) стажем. Эта колонку не стоит использовать в анализе без уточнения данных в источниках.\n",
    "- в образовании были исправлены разные написания одних и тех же значений;\n",
    "- один «пол» был неверным — запись удалена;\n",
    "- 10% пропущенных значений в доходе заменены медианным. Дробная часть отброшена.\n",
    "\n",
    "2. На возврат кредита в срок не очень сильно влияет (1-2 процентных пункта) ни количество детей, ни семейное положение, ни цель, ни уровень дохода. Для более\n",
    "точного скоринга не стоит полагаться только на один такой параметр в отдельности.\n",
    "Но если других вариантов нет, то анализ показывает очевидное:\n",
    "- бездетные ненамного, но реже имеют просроки;\n",
    "- незамужние ненамного, но чаще имеют просрочки по сравнению с людьми в текущих или бывших отношениях;\n",
    "- люди с более высоким доходом ненамного, но реже имеют просрочки;\n",
    "- люди, взявшие кредит на недвижимость, ненамного, но реже имеют просрочки.\n",
    "- повторим: разница везде в 1-2 процентных пункта."
   ]
  }
 ],
 "metadata": {
  "ExecuteTimeLog": [
   {
    "duration": 394,
    "start_time": "2022-06-09T00:07:11.632Z"
   },
   {
    "duration": 3,
    "start_time": "2022-06-09T00:07:12.028Z"
   },
   {
    "duration": 308,
    "start_time": "2022-06-09T00:07:12.033Z"
   },
   {
    "duration": 27,
    "start_time": "2022-06-09T00:07:12.343Z"
   },
   {
    "duration": 13,
    "start_time": "2022-06-09T00:07:12.372Z"
   },
   {
    "duration": 4,
    "start_time": "2022-06-09T00:07:12.387Z"
   },
   {
    "duration": 14,
    "start_time": "2022-06-09T00:07:12.392Z"
   },
   {
    "duration": 10,
    "start_time": "2022-06-09T00:07:12.407Z"
   },
   {
    "duration": 12,
    "start_time": "2022-06-09T00:07:12.418Z"
   },
   {
    "duration": 8,
    "start_time": "2022-06-09T00:07:12.431Z"
   },
   {
    "duration": 27,
    "start_time": "2022-06-09T00:07:12.440Z"
   },
   {
    "duration": 15,
    "start_time": "2022-06-09T00:07:12.468Z"
   },
   {
    "duration": 18,
    "start_time": "2022-06-09T00:07:12.484Z"
   },
   {
    "duration": 13,
    "start_time": "2022-06-09T00:07:12.505Z"
   },
   {
    "duration": 10,
    "start_time": "2022-06-09T00:07:12.520Z"
   },
   {
    "duration": 6,
    "start_time": "2022-06-09T00:07:12.531Z"
   },
   {
    "duration": 8,
    "start_time": "2022-06-09T00:07:12.539Z"
   },
   {
    "duration": 39,
    "start_time": "2022-06-09T00:07:12.548Z"
   },
   {
    "duration": 20,
    "start_time": "2022-06-09T00:07:12.588Z"
   },
   {
    "duration": 13,
    "start_time": "2022-06-09T00:07:12.610Z"
   },
   {
    "duration": 11,
    "start_time": "2022-06-09T00:07:12.624Z"
   },
   {
    "duration": 12,
    "start_time": "2022-06-09T00:07:12.636Z"
   },
   {
    "duration": 24,
    "start_time": "2022-06-09T00:07:12.650Z"
   },
   {
    "duration": 11,
    "start_time": "2022-06-09T00:07:12.676Z"
   },
   {
    "duration": 10,
    "start_time": "2022-06-09T00:07:12.688Z"
   },
   {
    "duration": 12,
    "start_time": "2022-06-09T00:07:12.699Z"
   },
   {
    "duration": 4,
    "start_time": "2022-06-09T00:07:12.712Z"
   },
   {
    "duration": 16,
    "start_time": "2022-06-09T00:07:12.717Z"
   },
   {
    "duration": 6,
    "start_time": "2022-06-09T00:07:12.735Z"
   },
   {
    "duration": 22,
    "start_time": "2022-06-09T00:07:12.742Z"
   },
   {
    "duration": 13,
    "start_time": "2022-06-09T00:07:12.765Z"
   },
   {
    "duration": 13,
    "start_time": "2022-06-09T00:07:12.779Z"
   },
   {
    "duration": 43,
    "start_time": "2022-06-09T00:07:12.793Z"
   },
   {
    "duration": 26,
    "start_time": "2022-06-09T00:07:12.838Z"
   },
   {
    "duration": 42,
    "start_time": "2022-06-09T00:07:12.866Z"
   },
   {
    "duration": 23,
    "start_time": "2022-06-09T00:07:12.910Z"
   },
   {
    "duration": 38,
    "start_time": "2022-06-09T00:07:12.934Z"
   },
   {
    "duration": 11,
    "start_time": "2022-06-09T00:07:12.973Z"
   },
   {
    "duration": 16,
    "start_time": "2022-06-09T00:07:12.986Z"
   },
   {
    "duration": 11,
    "start_time": "2022-06-09T00:07:13.004Z"
   },
   {
    "duration": 16,
    "start_time": "2022-06-09T00:07:13.018Z"
   },
   {
    "duration": 11,
    "start_time": "2022-06-09T00:07:13.036Z"
   },
   {
    "duration": 62,
    "start_time": "2022-06-09T00:07:13.048Z"
   },
   {
    "duration": 6,
    "start_time": "2022-06-09T00:07:13.112Z"
   },
   {
    "duration": 46,
    "start_time": "2022-06-09T00:07:13.119Z"
   },
   {
    "duration": 5,
    "start_time": "2022-06-09T00:07:13.167Z"
   },
   {
    "duration": 41,
    "start_time": "2022-06-09T00:07:13.174Z"
   },
   {
    "duration": 7,
    "start_time": "2022-06-09T00:07:13.216Z"
   },
   {
    "duration": 49,
    "start_time": "2022-06-09T00:07:13.224Z"
   },
   {
    "duration": 6,
    "start_time": "2022-06-09T00:07:13.275Z"
   },
   {
    "duration": 51,
    "start_time": "2022-06-09T00:07:13.282Z"
   },
   {
    "duration": 5,
    "start_time": "2022-06-09T00:07:13.335Z"
   },
   {
    "duration": 338,
    "start_time": "2022-06-09T17:51:51.341Z"
   },
   {
    "duration": 3,
    "start_time": "2022-06-09T17:51:51.681Z"
   },
   {
    "duration": 73,
    "start_time": "2022-06-09T17:51:51.686Z"
   },
   {
    "duration": 18,
    "start_time": "2022-06-09T17:51:51.762Z"
   },
   {
    "duration": 13,
    "start_time": "2022-06-09T17:51:51.781Z"
   },
   {
    "duration": 4,
    "start_time": "2022-06-09T17:51:51.796Z"
   },
   {
    "duration": 7,
    "start_time": "2022-06-09T17:51:51.802Z"
   },
   {
    "duration": 8,
    "start_time": "2022-06-09T17:51:51.810Z"
   },
   {
    "duration": 9,
    "start_time": "2022-06-09T17:51:51.819Z"
   },
   {
    "duration": 9,
    "start_time": "2022-06-09T17:51:51.830Z"
   },
   {
    "duration": 6,
    "start_time": "2022-06-09T17:51:51.840Z"
   },
   {
    "duration": 14,
    "start_time": "2022-06-09T17:51:51.847Z"
   },
   {
    "duration": 10,
    "start_time": "2022-06-09T17:51:51.862Z"
   },
   {
    "duration": 23,
    "start_time": "2022-06-09T17:51:51.874Z"
   },
   {
    "duration": 7,
    "start_time": "2022-06-09T17:51:51.899Z"
   },
   {
    "duration": 5,
    "start_time": "2022-06-09T17:51:51.907Z"
   },
   {
    "duration": 10,
    "start_time": "2022-06-09T17:51:51.914Z"
   },
   {
    "duration": 11,
    "start_time": "2022-06-09T17:51:51.925Z"
   },
   {
    "duration": 6,
    "start_time": "2022-06-09T17:51:51.938Z"
   },
   {
    "duration": 11,
    "start_time": "2022-06-09T17:51:51.945Z"
   },
   {
    "duration": 39,
    "start_time": "2022-06-09T17:51:51.957Z"
   },
   {
    "duration": 8,
    "start_time": "2022-06-09T17:51:51.997Z"
   },
   {
    "duration": 7,
    "start_time": "2022-06-09T17:51:52.006Z"
   },
   {
    "duration": 10,
    "start_time": "2022-06-09T17:51:52.014Z"
   },
   {
    "duration": 10,
    "start_time": "2022-06-09T17:51:52.025Z"
   },
   {
    "duration": 13,
    "start_time": "2022-06-09T17:51:52.037Z"
   },
   {
    "duration": 3,
    "start_time": "2022-06-09T17:51:52.052Z"
   },
   {
    "duration": 8,
    "start_time": "2022-06-09T17:51:52.059Z"
   },
   {
    "duration": 30,
    "start_time": "2022-06-09T17:51:52.068Z"
   },
   {
    "duration": 6,
    "start_time": "2022-06-09T17:51:52.100Z"
   },
   {
    "duration": 12,
    "start_time": "2022-06-09T17:51:52.108Z"
   },
   {
    "duration": 5,
    "start_time": "2022-06-09T17:51:52.121Z"
   },
   {
    "duration": 8,
    "start_time": "2022-06-09T17:51:52.128Z"
   },
   {
    "duration": 5,
    "start_time": "2022-06-09T17:51:52.137Z"
   },
   {
    "duration": 7,
    "start_time": "2022-06-09T17:51:52.143Z"
   },
   {
    "duration": 9,
    "start_time": "2022-06-09T17:51:52.151Z"
   },
   {
    "duration": 34,
    "start_time": "2022-06-09T17:51:52.161Z"
   },
   {
    "duration": 4,
    "start_time": "2022-06-09T17:51:52.197Z"
   },
   {
    "duration": 10,
    "start_time": "2022-06-09T17:51:52.203Z"
   },
   {
    "duration": 2,
    "start_time": "2022-06-09T17:51:52.215Z"
   },
   {
    "duration": 14,
    "start_time": "2022-06-09T17:51:52.218Z"
   },
   {
    "duration": 2,
    "start_time": "2022-06-09T17:51:52.233Z"
   },
   {
    "duration": 63,
    "start_time": "2022-06-09T17:51:52.237Z"
   },
   {
    "duration": 6,
    "start_time": "2022-06-09T17:51:52.301Z"
   },
   {
    "duration": 12,
    "start_time": "2022-06-09T17:51:52.309Z"
   },
   {
    "duration": 34,
    "start_time": "2022-06-09T17:51:52.322Z"
   },
   {
    "duration": 5,
    "start_time": "2022-06-09T17:51:52.357Z"
   },
   {
    "duration": 59,
    "start_time": "2022-06-09T17:51:52.364Z"
   },
   {
    "duration": 5,
    "start_time": "2022-06-09T17:51:52.425Z"
   },
   {
    "duration": 34,
    "start_time": "2022-06-09T17:51:52.431Z"
   },
   {
    "duration": 5,
    "start_time": "2022-06-09T17:51:52.466Z"
   },
   {
    "duration": 59,
    "start_time": "2022-06-09T17:51:52.473Z"
   },
   {
    "duration": 6,
    "start_time": "2022-06-09T17:51:52.533Z"
   },
   {
    "duration": 27,
    "start_time": "2022-06-09T20:16:15.640Z"
   },
   {
    "duration": 23,
    "start_time": "2022-06-09T20:22:43.111Z"
   },
   {
    "duration": 394,
    "start_time": "2022-06-09T20:24:59.936Z"
   },
   {
    "duration": 4,
    "start_time": "2022-06-09T20:25:00.815Z"
   },
   {
    "duration": 323,
    "start_time": "2022-06-09T20:25:02.088Z"
   },
   {
    "duration": 20,
    "start_time": "2022-06-09T20:25:03.633Z"
   },
   {
    "duration": 17,
    "start_time": "2022-06-09T20:25:15.734Z"
   },
   {
    "duration": 10,
    "start_time": "2022-06-09T20:25:39.299Z"
   },
   {
    "duration": 11,
    "start_time": "2022-06-09T20:25:45.741Z"
   },
   {
    "duration": 9,
    "start_time": "2022-06-09T20:25:50.817Z"
   },
   {
    "duration": 11,
    "start_time": "2022-06-09T20:25:53.698Z"
   },
   {
    "duration": 35,
    "start_time": "2022-06-09T20:27:11.439Z"
   },
   {
    "duration": 13,
    "start_time": "2022-06-09T20:27:14.852Z"
   },
   {
    "duration": 11,
    "start_time": "2022-06-09T20:28:23.405Z"
   },
   {
    "duration": 27,
    "start_time": "2022-06-09T20:43:55.018Z"
   },
   {
    "duration": 79,
    "start_time": "2022-06-09T20:45:13.707Z"
   },
   {
    "duration": 2,
    "start_time": "2022-06-09T20:45:22.628Z"
   },
   {
    "duration": 5,
    "start_time": "2022-06-09T20:45:22.633Z"
   },
   {
    "duration": 89,
    "start_time": "2022-06-09T20:45:22.640Z"
   },
   {
    "duration": 13,
    "start_time": "2022-06-09T20:45:22.731Z"
   },
   {
    "duration": 19,
    "start_time": "2022-06-09T20:45:22.746Z"
   },
   {
    "duration": 10,
    "start_time": "2022-06-09T20:45:22.766Z"
   },
   {
    "duration": 5,
    "start_time": "2022-06-09T20:45:22.778Z"
   },
   {
    "duration": 37,
    "start_time": "2022-06-09T20:45:22.784Z"
   },
   {
    "duration": 8,
    "start_time": "2022-06-09T20:45:22.823Z"
   },
   {
    "duration": 12,
    "start_time": "2022-06-09T20:45:22.832Z"
   },
   {
    "duration": 12,
    "start_time": "2022-06-09T20:45:22.845Z"
   },
   {
    "duration": 6,
    "start_time": "2022-06-09T20:45:22.859Z"
   },
   {
    "duration": 8,
    "start_time": "2022-06-09T20:45:22.867Z"
   },
   {
    "duration": 7,
    "start_time": "2022-06-09T20:45:22.878Z"
   },
   {
    "duration": 11,
    "start_time": "2022-06-09T20:45:22.886Z"
   },
   {
    "duration": 31,
    "start_time": "2022-06-09T20:45:22.899Z"
   },
   {
    "duration": 5,
    "start_time": "2022-06-09T20:45:22.932Z"
   },
   {
    "duration": 4,
    "start_time": "2022-06-09T20:45:22.938Z"
   },
   {
    "duration": 5,
    "start_time": "2022-06-09T20:45:24.852Z"
   },
   {
    "duration": 3,
    "start_time": "2022-06-09T21:04:17.905Z"
   },
   {
    "duration": 6,
    "start_time": "2022-06-09T21:04:17.910Z"
   },
   {
    "duration": 98,
    "start_time": "2022-06-09T21:04:17.918Z"
   },
   {
    "duration": 14,
    "start_time": "2022-06-09T21:04:18.018Z"
   },
   {
    "duration": 15,
    "start_time": "2022-06-09T21:04:18.034Z"
   },
   {
    "duration": 10,
    "start_time": "2022-06-09T21:04:18.051Z"
   },
   {
    "duration": 5,
    "start_time": "2022-06-09T21:04:18.063Z"
   },
   {
    "duration": 3,
    "start_time": "2022-06-09T21:04:18.069Z"
   },
   {
    "duration": 7,
    "start_time": "2022-06-09T21:04:18.074Z"
   },
   {
    "duration": 10,
    "start_time": "2022-06-09T21:04:18.083Z"
   },
   {
    "duration": 33,
    "start_time": "2022-06-09T21:04:18.095Z"
   },
   {
    "duration": 6,
    "start_time": "2022-06-09T21:04:18.129Z"
   },
   {
    "duration": 28,
    "start_time": "2022-06-09T21:04:18.136Z"
   },
   {
    "duration": 5,
    "start_time": "2022-06-09T21:04:18.168Z"
   },
   {
    "duration": 16,
    "start_time": "2022-06-09T21:04:18.174Z"
   },
   {
    "duration": 11,
    "start_time": "2022-06-09T21:04:18.192Z"
   },
   {
    "duration": 6,
    "start_time": "2022-06-09T21:04:18.205Z"
   },
   {
    "duration": 2,
    "start_time": "2022-06-09T21:04:18.227Z"
   },
   {
    "duration": 9,
    "start_time": "2022-06-09T21:04:18.231Z"
   },
   {
    "duration": 11,
    "start_time": "2022-06-09T21:04:18.242Z"
   },
   {
    "duration": 8,
    "start_time": "2022-06-09T21:04:18.254Z"
   },
   {
    "duration": 14,
    "start_time": "2022-06-09T21:04:18.263Z"
   },
   {
    "duration": 9,
    "start_time": "2022-06-09T21:04:18.279Z"
   },
   {
    "duration": 8,
    "start_time": "2022-06-09T21:04:18.290Z"
   },
   {
    "duration": 28,
    "start_time": "2022-06-09T21:04:18.299Z"
   },
   {
    "duration": 7,
    "start_time": "2022-06-09T21:04:18.328Z"
   },
   {
    "duration": 21,
    "start_time": "2022-06-09T21:04:18.336Z"
   },
   {
    "duration": 16,
    "start_time": "2022-06-09T21:04:18.359Z"
   },
   {
    "duration": 4,
    "start_time": "2022-06-09T21:04:18.376Z"
   },
   {
    "duration": 9,
    "start_time": "2022-06-09T21:04:18.381Z"
   },
   {
    "duration": 4,
    "start_time": "2022-06-09T21:04:18.392Z"
   },
   {
    "duration": 10,
    "start_time": "2022-06-09T21:04:18.398Z"
   },
   {
    "duration": 21,
    "start_time": "2022-06-09T21:04:18.409Z"
   },
   {
    "duration": 6,
    "start_time": "2022-06-09T21:04:18.431Z"
   },
   {
    "duration": 9,
    "start_time": "2022-06-09T21:04:18.438Z"
   },
   {
    "duration": 6,
    "start_time": "2022-06-09T21:04:18.448Z"
   },
   {
    "duration": 9,
    "start_time": "2022-06-09T21:04:18.455Z"
   },
   {
    "duration": 9,
    "start_time": "2022-06-09T21:04:18.465Z"
   },
   {
    "duration": 5,
    "start_time": "2022-06-09T21:04:18.475Z"
   },
   {
    "duration": 5,
    "start_time": "2022-06-09T21:04:18.481Z"
   },
   {
    "duration": 47,
    "start_time": "2022-06-09T21:04:18.489Z"
   },
   {
    "duration": 3,
    "start_time": "2022-06-09T21:04:18.537Z"
   },
   {
    "duration": 11,
    "start_time": "2022-06-09T21:04:18.541Z"
   },
   {
    "duration": 10,
    "start_time": "2022-06-09T21:04:18.554Z"
   },
   {
    "duration": 62,
    "start_time": "2022-06-09T21:04:18.565Z"
   },
   {
    "duration": 6,
    "start_time": "2022-06-09T21:04:18.629Z"
   },
   {
    "duration": 51,
    "start_time": "2022-06-09T21:04:21.873Z"
   },
   {
    "duration": 17,
    "start_time": "2022-06-09T21:07:18.558Z"
   },
   {
    "duration": 13,
    "start_time": "2022-06-09T21:21:06.750Z"
   },
   {
    "duration": 12,
    "start_time": "2022-06-09T21:22:28.571Z"
   },
   {
    "duration": 5,
    "start_time": "2022-06-09T21:22:38.010Z"
   },
   {
    "duration": 12,
    "start_time": "2022-06-09T21:23:32.604Z"
   },
   {
    "duration": 7,
    "start_time": "2022-06-09T21:23:38.947Z"
   },
   {
    "duration": 8,
    "start_time": "2022-06-09T21:24:48.342Z"
   },
   {
    "duration": 26,
    "start_time": "2022-06-09T21:26:42.607Z"
   },
   {
    "duration": 4,
    "start_time": "2022-06-09T21:26:59.605Z"
   },
   {
    "duration": 13,
    "start_time": "2022-06-09T21:27:12.100Z"
   },
   {
    "duration": 25,
    "start_time": "2022-06-09T21:27:34.856Z"
   },
   {
    "duration": 9,
    "start_time": "2022-06-09T21:27:38.493Z"
   },
   {
    "duration": 8,
    "start_time": "2022-06-09T21:28:00.653Z"
   },
   {
    "duration": 6,
    "start_time": "2022-06-09T21:28:07.928Z"
   },
   {
    "duration": 33,
    "start_time": "2022-06-09T21:28:31.437Z"
   },
   {
    "duration": 6,
    "start_time": "2022-06-09T21:28:32.861Z"
   },
   {
    "duration": 11,
    "start_time": "2022-06-09T21:44:19.117Z"
   },
   {
    "duration": 8,
    "start_time": "2022-06-09T21:45:07.115Z"
   },
   {
    "duration": 16,
    "start_time": "2022-06-09T21:45:15.514Z"
   },
   {
    "duration": 10,
    "start_time": "2022-06-09T21:45:27.097Z"
   },
   {
    "duration": 11,
    "start_time": "2022-06-09T21:49:53.216Z"
   },
   {
    "duration": 8,
    "start_time": "2022-06-09T21:52:12.419Z"
   },
   {
    "duration": 3,
    "start_time": "2022-06-09T21:52:17.505Z"
   },
   {
    "duration": 5,
    "start_time": "2022-06-09T21:52:17.512Z"
   },
   {
    "duration": 95,
    "start_time": "2022-06-09T21:52:17.556Z"
   },
   {
    "duration": 15,
    "start_time": "2022-06-09T21:52:17.652Z"
   },
   {
    "duration": 17,
    "start_time": "2022-06-09T21:52:17.669Z"
   },
   {
    "duration": 10,
    "start_time": "2022-06-09T21:52:17.688Z"
   },
   {
    "duration": 27,
    "start_time": "2022-06-09T21:52:17.700Z"
   },
   {
    "duration": 6,
    "start_time": "2022-06-09T21:52:17.730Z"
   },
   {
    "duration": 10,
    "start_time": "2022-06-09T21:52:17.737Z"
   },
   {
    "duration": 10,
    "start_time": "2022-06-09T21:52:17.749Z"
   },
   {
    "duration": 10,
    "start_time": "2022-06-09T21:52:17.760Z"
   },
   {
    "duration": 5,
    "start_time": "2022-06-09T21:52:17.772Z"
   },
   {
    "duration": 15,
    "start_time": "2022-06-09T21:52:17.780Z"
   },
   {
    "duration": 32,
    "start_time": "2022-06-09T21:52:17.796Z"
   },
   {
    "duration": 8,
    "start_time": "2022-06-09T21:52:17.830Z"
   },
   {
    "duration": 8,
    "start_time": "2022-06-09T21:52:17.839Z"
   },
   {
    "duration": 5,
    "start_time": "2022-06-09T21:52:17.849Z"
   },
   {
    "duration": 6,
    "start_time": "2022-06-09T21:52:17.855Z"
   },
   {
    "duration": 5,
    "start_time": "2022-06-09T21:52:17.863Z"
   },
   {
    "duration": 9,
    "start_time": "2022-06-09T21:52:17.870Z"
   },
   {
    "duration": 49,
    "start_time": "2022-06-09T21:52:17.880Z"
   },
   {
    "duration": 19,
    "start_time": "2022-06-09T21:52:17.931Z"
   },
   {
    "duration": 22,
    "start_time": "2022-06-09T21:52:17.951Z"
   },
   {
    "duration": 28,
    "start_time": "2022-06-09T21:52:17.974Z"
   },
   {
    "duration": 11,
    "start_time": "2022-06-09T21:52:18.004Z"
   },
   {
    "duration": 10,
    "start_time": "2022-06-09T21:52:18.018Z"
   },
   {
    "duration": 8,
    "start_time": "2022-06-09T21:52:18.030Z"
   },
   {
    "duration": 13,
    "start_time": "2022-06-09T21:52:18.040Z"
   },
   {
    "duration": 4,
    "start_time": "2022-06-09T21:52:18.055Z"
   },
   {
    "duration": 8,
    "start_time": "2022-06-09T21:52:18.060Z"
   },
   {
    "duration": 6,
    "start_time": "2022-06-09T21:52:18.070Z"
   },
   {
    "duration": 10,
    "start_time": "2022-06-09T21:52:18.077Z"
   },
   {
    "duration": 11,
    "start_time": "2022-06-09T21:52:18.088Z"
   },
   {
    "duration": 27,
    "start_time": "2022-06-09T21:52:18.101Z"
   },
   {
    "duration": 13,
    "start_time": "2022-06-09T21:52:18.130Z"
   },
   {
    "duration": 7,
    "start_time": "2022-06-09T21:52:18.145Z"
   },
   {
    "duration": 8,
    "start_time": "2022-06-09T21:52:18.154Z"
   },
   {
    "duration": 9,
    "start_time": "2022-06-09T21:52:18.164Z"
   },
   {
    "duration": 6,
    "start_time": "2022-06-09T21:52:18.176Z"
   },
   {
    "duration": 10,
    "start_time": "2022-06-09T21:52:18.183Z"
   },
   {
    "duration": 33,
    "start_time": "2022-06-09T21:52:18.195Z"
   },
   {
    "duration": 3,
    "start_time": "2022-06-09T21:52:18.229Z"
   },
   {
    "duration": 13,
    "start_time": "2022-06-09T21:52:18.234Z"
   },
   {
    "duration": 5,
    "start_time": "2022-06-09T21:52:18.248Z"
   },
   {
    "duration": 45,
    "start_time": "2022-06-09T21:52:18.254Z"
   },
   {
    "duration": 6,
    "start_time": "2022-06-09T21:52:18.301Z"
   },
   {
    "duration": 35,
    "start_time": "2022-06-09T21:52:18.327Z"
   },
   {
    "duration": 7,
    "start_time": "2022-06-09T21:52:18.363Z"
   },
   {
    "duration": 18,
    "start_time": "2022-06-09T21:52:18.371Z"
   },
   {
    "duration": 77,
    "start_time": "2022-06-09T21:52:18.390Z"
   },
   {
    "duration": 7,
    "start_time": "2022-06-09T21:52:18.468Z"
   },
   {
    "duration": 12,
    "start_time": "2022-06-09T21:52:25.483Z"
   },
   {
    "duration": 10,
    "start_time": "2022-06-09T21:53:34.515Z"
   },
   {
    "duration": 11,
    "start_time": "2022-06-09T21:59:21.454Z"
   },
   {
    "duration": 2,
    "start_time": "2022-06-09T21:59:32.819Z"
   },
   {
    "duration": 4,
    "start_time": "2022-06-09T21:59:32.826Z"
   },
   {
    "duration": 90,
    "start_time": "2022-06-09T21:59:32.870Z"
   },
   {
    "duration": 13,
    "start_time": "2022-06-09T21:59:32.962Z"
   },
   {
    "duration": 17,
    "start_time": "2022-06-09T21:59:32.976Z"
   },
   {
    "duration": 10,
    "start_time": "2022-06-09T21:59:32.994Z"
   },
   {
    "duration": 21,
    "start_time": "2022-06-09T21:59:33.006Z"
   },
   {
    "duration": 3,
    "start_time": "2022-06-09T21:59:33.029Z"
   },
   {
    "duration": 9,
    "start_time": "2022-06-09T21:59:33.033Z"
   },
   {
    "duration": 11,
    "start_time": "2022-06-09T21:59:33.043Z"
   },
   {
    "duration": 9,
    "start_time": "2022-06-09T21:59:33.055Z"
   },
   {
    "duration": 6,
    "start_time": "2022-06-09T21:59:33.065Z"
   },
   {
    "duration": 9,
    "start_time": "2022-06-09T21:59:33.072Z"
   },
   {
    "duration": 7,
    "start_time": "2022-06-09T21:59:33.082Z"
   },
   {
    "duration": 38,
    "start_time": "2022-06-09T21:59:33.090Z"
   },
   {
    "duration": 10,
    "start_time": "2022-06-09T21:59:33.131Z"
   },
   {
    "duration": 5,
    "start_time": "2022-06-09T21:59:33.143Z"
   },
   {
    "duration": 4,
    "start_time": "2022-06-09T21:59:33.150Z"
   },
   {
    "duration": 7,
    "start_time": "2022-06-09T21:59:33.156Z"
   },
   {
    "duration": 12,
    "start_time": "2022-06-09T21:59:33.164Z"
   },
   {
    "duration": 10,
    "start_time": "2022-06-09T21:59:33.177Z"
   },
   {
    "duration": 39,
    "start_time": "2022-06-09T21:59:33.188Z"
   },
   {
    "duration": 8,
    "start_time": "2022-06-09T21:59:33.229Z"
   },
   {
    "duration": 13,
    "start_time": "2022-06-09T21:59:33.238Z"
   },
   {
    "duration": 17,
    "start_time": "2022-06-09T21:59:33.253Z"
   },
   {
    "duration": 15,
    "start_time": "2022-06-09T21:59:33.272Z"
   },
   {
    "duration": 9,
    "start_time": "2022-06-09T21:59:33.288Z"
   },
   {
    "duration": 16,
    "start_time": "2022-06-09T21:59:33.299Z"
   },
   {
    "duration": 4,
    "start_time": "2022-06-09T21:59:33.329Z"
   },
   {
    "duration": 8,
    "start_time": "2022-06-09T21:59:33.335Z"
   },
   {
    "duration": 12,
    "start_time": "2022-06-09T21:59:33.345Z"
   },
   {
    "duration": 23,
    "start_time": "2022-06-09T21:59:33.359Z"
   },
   {
    "duration": 17,
    "start_time": "2022-06-09T21:59:33.384Z"
   },
   {
    "duration": 8,
    "start_time": "2022-06-09T21:59:33.403Z"
   },
   {
    "duration": 20,
    "start_time": "2022-06-09T21:59:33.413Z"
   },
   {
    "duration": 8,
    "start_time": "2022-06-09T21:59:33.435Z"
   },
   {
    "duration": 7,
    "start_time": "2022-06-09T21:59:33.445Z"
   },
   {
    "duration": 8,
    "start_time": "2022-06-09T21:59:33.454Z"
   },
   {
    "duration": 6,
    "start_time": "2022-06-09T21:59:33.464Z"
   },
   {
    "duration": 5,
    "start_time": "2022-06-09T21:59:33.472Z"
   },
   {
    "duration": 15,
    "start_time": "2022-06-09T21:59:33.479Z"
   },
   {
    "duration": 3,
    "start_time": "2022-06-09T21:59:33.495Z"
   },
   {
    "duration": 31,
    "start_time": "2022-06-09T21:59:33.500Z"
   },
   {
    "duration": 6,
    "start_time": "2022-06-09T21:59:33.532Z"
   },
   {
    "duration": 46,
    "start_time": "2022-06-09T21:59:33.540Z"
   },
   {
    "duration": 5,
    "start_time": "2022-06-09T21:59:33.588Z"
   },
   {
    "duration": 47,
    "start_time": "2022-06-09T21:59:33.594Z"
   },
   {
    "duration": 6,
    "start_time": "2022-06-09T21:59:33.642Z"
   },
   {
    "duration": 13,
    "start_time": "2022-06-09T21:59:33.649Z"
   },
   {
    "duration": 88,
    "start_time": "2022-06-09T21:59:33.664Z"
   },
   {
    "duration": 5,
    "start_time": "2022-06-09T21:59:33.755Z"
   },
   {
    "duration": 14,
    "start_time": "2022-06-09T21:59:33.761Z"
   },
   {
    "duration": 453,
    "start_time": "2022-06-09T22:00:05.290Z"
   },
   {
    "duration": 4,
    "start_time": "2022-06-09T22:00:05.745Z"
   },
   {
    "duration": 98,
    "start_time": "2022-06-09T22:00:05.751Z"
   },
   {
    "duration": 21,
    "start_time": "2022-06-09T22:00:05.851Z"
   },
   {
    "duration": 16,
    "start_time": "2022-06-09T22:00:05.874Z"
   },
   {
    "duration": 11,
    "start_time": "2022-06-09T22:00:05.891Z"
   },
   {
    "duration": 27,
    "start_time": "2022-06-09T22:00:05.904Z"
   },
   {
    "duration": 12,
    "start_time": "2022-06-09T22:00:05.932Z"
   },
   {
    "duration": 21,
    "start_time": "2022-06-09T22:00:05.946Z"
   },
   {
    "duration": 17,
    "start_time": "2022-06-09T22:00:05.971Z"
   },
   {
    "duration": 22,
    "start_time": "2022-06-09T22:00:05.990Z"
   },
   {
    "duration": 9,
    "start_time": "2022-06-09T22:00:06.013Z"
   },
   {
    "duration": 12,
    "start_time": "2022-06-09T22:00:06.024Z"
   },
   {
    "duration": 4,
    "start_time": "2022-06-09T22:00:06.037Z"
   },
   {
    "duration": 18,
    "start_time": "2022-06-09T22:00:06.043Z"
   },
   {
    "duration": 9,
    "start_time": "2022-06-09T22:00:06.062Z"
   },
   {
    "duration": 11,
    "start_time": "2022-06-09T22:00:06.073Z"
   },
   {
    "duration": 14,
    "start_time": "2022-06-09T22:00:06.085Z"
   },
   {
    "duration": 19,
    "start_time": "2022-06-09T22:00:06.101Z"
   },
   {
    "duration": 19,
    "start_time": "2022-06-09T22:00:06.122Z"
   },
   {
    "duration": 8,
    "start_time": "2022-06-09T22:00:06.143Z"
   },
   {
    "duration": 25,
    "start_time": "2022-06-09T22:00:06.152Z"
   },
   {
    "duration": 28,
    "start_time": "2022-06-09T22:00:06.179Z"
   },
   {
    "duration": 15,
    "start_time": "2022-06-09T22:00:06.209Z"
   },
   {
    "duration": 24,
    "start_time": "2022-06-09T22:00:06.225Z"
   },
   {
    "duration": 34,
    "start_time": "2022-06-09T22:00:06.251Z"
   },
   {
    "duration": 22,
    "start_time": "2022-06-09T22:00:06.287Z"
   },
   {
    "duration": 20,
    "start_time": "2022-06-09T22:00:06.314Z"
   },
   {
    "duration": 6,
    "start_time": "2022-06-09T22:00:06.336Z"
   },
   {
    "duration": 8,
    "start_time": "2022-06-09T22:00:06.345Z"
   },
   {
    "duration": 29,
    "start_time": "2022-06-09T22:00:06.355Z"
   },
   {
    "duration": 34,
    "start_time": "2022-06-09T22:00:06.390Z"
   },
   {
    "duration": 34,
    "start_time": "2022-06-09T22:00:06.427Z"
   },
   {
    "duration": 16,
    "start_time": "2022-06-09T22:00:06.463Z"
   },
   {
    "duration": 32,
    "start_time": "2022-06-09T22:00:06.481Z"
   },
   {
    "duration": 11,
    "start_time": "2022-06-09T22:00:06.516Z"
   },
   {
    "duration": 18,
    "start_time": "2022-06-09T22:00:06.529Z"
   },
   {
    "duration": 12,
    "start_time": "2022-06-09T22:00:06.549Z"
   },
   {
    "duration": 7,
    "start_time": "2022-06-09T22:00:06.562Z"
   },
   {
    "duration": 5,
    "start_time": "2022-06-09T22:00:06.571Z"
   },
   {
    "duration": 19,
    "start_time": "2022-06-09T22:00:06.579Z"
   },
   {
    "duration": 10,
    "start_time": "2022-06-09T22:00:06.600Z"
   },
   {
    "duration": 20,
    "start_time": "2022-06-09T22:00:06.612Z"
   },
   {
    "duration": 4,
    "start_time": "2022-06-09T22:00:06.634Z"
   },
   {
    "duration": 63,
    "start_time": "2022-06-09T22:00:06.640Z"
   },
   {
    "duration": 8,
    "start_time": "2022-06-09T22:00:06.705Z"
   },
   {
    "duration": 39,
    "start_time": "2022-06-09T22:00:06.728Z"
   },
   {
    "duration": 7,
    "start_time": "2022-06-09T22:00:06.769Z"
   },
   {
    "duration": 14,
    "start_time": "2022-06-09T22:00:06.778Z"
   },
   {
    "duration": 70,
    "start_time": "2022-06-09T22:00:06.794Z"
   },
   {
    "duration": 6,
    "start_time": "2022-06-09T22:00:06.866Z"
   },
   {
    "duration": 14,
    "start_time": "2022-06-09T22:00:06.873Z"
   },
   {
    "duration": 54,
    "start_time": "2022-06-09T22:00:06.889Z"
   },
   {
    "duration": 6,
    "start_time": "2022-06-09T22:00:06.944Z"
   },
   {
    "duration": 15,
    "start_time": "2022-06-09T22:00:06.952Z"
   },
   {
    "duration": 51,
    "start_time": "2022-06-09T22:00:06.969Z"
   },
   {
    "duration": 6,
    "start_time": "2022-06-09T22:00:07.026Z"
   },
   {
    "duration": 10,
    "start_time": "2022-06-09T22:02:54.530Z"
   },
   {
    "duration": 410,
    "start_time": "2022-06-09T22:08:51.226Z"
   },
   {
    "duration": 4,
    "start_time": "2022-06-09T22:08:51.638Z"
   },
   {
    "duration": 86,
    "start_time": "2022-06-09T22:08:51.644Z"
   },
   {
    "duration": 18,
    "start_time": "2022-06-09T22:08:51.732Z"
   },
   {
    "duration": 16,
    "start_time": "2022-06-09T22:08:51.752Z"
   },
   {
    "duration": 13,
    "start_time": "2022-06-09T22:08:51.770Z"
   },
   {
    "duration": 6,
    "start_time": "2022-06-09T22:08:51.785Z"
   },
   {
    "duration": 36,
    "start_time": "2022-06-09T22:08:51.793Z"
   },
   {
    "duration": 9,
    "start_time": "2022-06-09T22:08:51.830Z"
   },
   {
    "duration": 11,
    "start_time": "2022-06-09T22:08:51.842Z"
   },
   {
    "duration": 11,
    "start_time": "2022-06-09T22:08:51.854Z"
   },
   {
    "duration": 6,
    "start_time": "2022-06-09T22:08:51.867Z"
   },
   {
    "duration": 15,
    "start_time": "2022-06-09T22:08:51.874Z"
   },
   {
    "duration": 6,
    "start_time": "2022-06-09T22:08:51.891Z"
   },
   {
    "duration": 41,
    "start_time": "2022-06-09T22:08:51.899Z"
   },
   {
    "duration": 9,
    "start_time": "2022-06-09T22:08:51.942Z"
   },
   {
    "duration": 6,
    "start_time": "2022-06-09T22:08:51.953Z"
   },
   {
    "duration": 10,
    "start_time": "2022-06-09T22:08:51.961Z"
   },
   {
    "duration": 10,
    "start_time": "2022-06-09T22:08:51.973Z"
   },
   {
    "duration": 9,
    "start_time": "2022-06-09T22:08:51.985Z"
   },
   {
    "duration": 7,
    "start_time": "2022-06-09T22:08:51.996Z"
   },
   {
    "duration": 11,
    "start_time": "2022-06-09T22:08:52.027Z"
   },
   {
    "duration": 12,
    "start_time": "2022-06-09T22:08:52.040Z"
   },
   {
    "duration": 9,
    "start_time": "2022-06-09T22:08:52.054Z"
   },
   {
    "duration": 10,
    "start_time": "2022-06-09T22:08:52.064Z"
   },
   {
    "duration": 9,
    "start_time": "2022-06-09T22:08:52.075Z"
   },
   {
    "duration": 10,
    "start_time": "2022-06-09T22:08:52.086Z"
   },
   {
    "duration": 28,
    "start_time": "2022-06-09T22:08:52.100Z"
   },
   {
    "duration": 4,
    "start_time": "2022-06-09T22:08:52.130Z"
   },
   {
    "duration": 9,
    "start_time": "2022-06-09T22:08:52.136Z"
   },
   {
    "duration": 9,
    "start_time": "2022-06-09T22:08:52.147Z"
   },
   {
    "duration": 15,
    "start_time": "2022-06-09T22:08:52.158Z"
   },
   {
    "duration": 12,
    "start_time": "2022-06-09T22:08:52.175Z"
   },
   {
    "duration": 9,
    "start_time": "2022-06-09T22:08:52.189Z"
   },
   {
    "duration": 33,
    "start_time": "2022-06-09T22:08:52.200Z"
   },
   {
    "duration": 9,
    "start_time": "2022-06-09T22:08:52.235Z"
   },
   {
    "duration": 15,
    "start_time": "2022-06-09T22:08:52.246Z"
   },
   {
    "duration": 14,
    "start_time": "2022-06-09T22:08:52.263Z"
   },
   {
    "duration": 7,
    "start_time": "2022-06-09T22:08:52.279Z"
   },
   {
    "duration": 5,
    "start_time": "2022-06-09T22:08:52.288Z"
   },
   {
    "duration": 25,
    "start_time": "2022-06-09T22:08:52.295Z"
   },
   {
    "duration": 4,
    "start_time": "2022-06-09T22:08:52.326Z"
   },
   {
    "duration": 12,
    "start_time": "2022-06-09T22:08:52.332Z"
   },
   {
    "duration": 13,
    "start_time": "2022-06-09T22:08:52.346Z"
   },
   {
    "duration": 52,
    "start_time": "2022-06-09T22:08:52.361Z"
   },
   {
    "duration": 16,
    "start_time": "2022-06-09T22:08:52.415Z"
   },
   {
    "duration": 43,
    "start_time": "2022-06-09T22:08:52.433Z"
   },
   {
    "duration": 6,
    "start_time": "2022-06-09T22:08:52.478Z"
   },
   {
    "duration": 14,
    "start_time": "2022-06-09T22:08:52.486Z"
   },
   {
    "duration": 54,
    "start_time": "2022-06-09T22:08:52.501Z"
   },
   {
    "duration": 6,
    "start_time": "2022-06-09T22:08:52.556Z"
   },
   {
    "duration": 16,
    "start_time": "2022-06-09T22:08:52.563Z"
   },
   {
    "duration": 48,
    "start_time": "2022-06-09T22:08:52.580Z"
   },
   {
    "duration": 5,
    "start_time": "2022-06-09T22:08:52.630Z"
   },
   {
    "duration": 13,
    "start_time": "2022-06-09T22:08:52.637Z"
   },
   {
    "duration": 36,
    "start_time": "2022-06-09T22:08:52.651Z"
   },
   {
    "duration": 6,
    "start_time": "2022-06-09T22:08:52.688Z"
   },
   {
    "duration": 39,
    "start_time": "2022-06-09T22:08:52.695Z"
   },
   {
    "duration": 380,
    "start_time": "2022-06-10T05:54:19.593Z"
   },
   {
    "duration": 4,
    "start_time": "2022-06-10T05:54:19.975Z"
   },
   {
    "duration": 71,
    "start_time": "2022-06-10T05:54:19.981Z"
   },
   {
    "duration": 19,
    "start_time": "2022-06-10T05:54:20.054Z"
   },
   {
    "duration": 15,
    "start_time": "2022-06-10T05:54:20.074Z"
   },
   {
    "duration": 11,
    "start_time": "2022-06-10T05:54:20.091Z"
   },
   {
    "duration": 24,
    "start_time": "2022-06-10T05:54:20.103Z"
   },
   {
    "duration": 3,
    "start_time": "2022-06-10T05:54:20.129Z"
   },
   {
    "duration": 11,
    "start_time": "2022-06-10T05:54:20.134Z"
   },
   {
    "duration": 11,
    "start_time": "2022-06-10T05:54:20.148Z"
   },
   {
    "duration": 8,
    "start_time": "2022-06-10T05:54:20.160Z"
   },
   {
    "duration": 4,
    "start_time": "2022-06-10T05:54:20.169Z"
   },
   {
    "duration": 9,
    "start_time": "2022-06-10T05:54:20.175Z"
   },
   {
    "duration": 16,
    "start_time": "2022-06-10T05:54:20.185Z"
   },
   {
    "duration": 25,
    "start_time": "2022-06-10T05:54:20.202Z"
   },
   {
    "duration": 7,
    "start_time": "2022-06-10T05:54:20.229Z"
   },
   {
    "duration": 4,
    "start_time": "2022-06-10T05:54:20.238Z"
   },
   {
    "duration": 4,
    "start_time": "2022-06-10T05:54:20.243Z"
   },
   {
    "duration": 7,
    "start_time": "2022-06-10T05:54:20.248Z"
   },
   {
    "duration": 9,
    "start_time": "2022-06-10T05:54:20.257Z"
   },
   {
    "duration": 6,
    "start_time": "2022-06-10T05:54:20.268Z"
   },
   {
    "duration": 13,
    "start_time": "2022-06-10T05:54:20.275Z"
   },
   {
    "duration": 10,
    "start_time": "2022-06-10T05:54:20.289Z"
   },
   {
    "duration": 11,
    "start_time": "2022-06-10T05:54:20.327Z"
   },
   {
    "duration": 12,
    "start_time": "2022-06-10T05:54:20.340Z"
   },
   {
    "duration": 10,
    "start_time": "2022-06-10T05:54:20.353Z"
   },
   {
    "duration": 8,
    "start_time": "2022-06-10T05:54:20.364Z"
   },
   {
    "duration": 8,
    "start_time": "2022-06-10T05:54:20.375Z"
   },
   {
    "duration": 4,
    "start_time": "2022-06-10T05:54:20.384Z"
   },
   {
    "duration": 8,
    "start_time": "2022-06-10T05:54:20.389Z"
   },
   {
    "duration": 7,
    "start_time": "2022-06-10T05:54:20.398Z"
   },
   {
    "duration": 12,
    "start_time": "2022-06-10T05:54:20.406Z"
   },
   {
    "duration": 8,
    "start_time": "2022-06-10T05:54:20.426Z"
   },
   {
    "duration": 5,
    "start_time": "2022-06-10T05:54:20.436Z"
   },
   {
    "duration": 7,
    "start_time": "2022-06-10T05:54:20.443Z"
   },
   {
    "duration": 6,
    "start_time": "2022-06-10T05:54:20.452Z"
   },
   {
    "duration": 12,
    "start_time": "2022-06-10T05:54:20.459Z"
   },
   {
    "duration": 15,
    "start_time": "2022-06-10T05:54:20.472Z"
   },
   {
    "duration": 5,
    "start_time": "2022-06-10T05:54:20.489Z"
   },
   {
    "duration": 7,
    "start_time": "2022-06-10T05:54:20.495Z"
   },
   {
    "duration": 27,
    "start_time": "2022-06-10T05:54:20.503Z"
   },
   {
    "duration": 3,
    "start_time": "2022-06-10T05:54:20.531Z"
   },
   {
    "duration": 22,
    "start_time": "2022-06-10T05:54:20.536Z"
   },
   {
    "duration": 3,
    "start_time": "2022-06-10T05:54:20.560Z"
   },
   {
    "duration": 48,
    "start_time": "2022-06-10T05:54:20.564Z"
   },
   {
    "duration": 6,
    "start_time": "2022-06-10T05:54:20.614Z"
   },
   {
    "duration": 35,
    "start_time": "2022-06-10T05:54:20.621Z"
   },
   {
    "duration": 5,
    "start_time": "2022-06-10T05:54:20.658Z"
   },
   {
    "duration": 12,
    "start_time": "2022-06-10T05:54:20.664Z"
   },
   {
    "duration": 51,
    "start_time": "2022-06-10T05:54:20.677Z"
   },
   {
    "duration": 5,
    "start_time": "2022-06-10T05:54:20.729Z"
   },
   {
    "duration": 13,
    "start_time": "2022-06-10T05:54:20.735Z"
   },
   {
    "duration": 32,
    "start_time": "2022-06-10T05:54:20.750Z"
   },
   {
    "duration": 5,
    "start_time": "2022-06-10T05:54:20.784Z"
   },
   {
    "duration": 14,
    "start_time": "2022-06-10T05:54:20.790Z"
   },
   {
    "duration": 48,
    "start_time": "2022-06-10T05:54:20.806Z"
   },
   {
    "duration": 5,
    "start_time": "2022-06-10T05:54:20.856Z"
   },
   {
    "duration": 13,
    "start_time": "2022-06-10T05:54:20.862Z"
   },
   {
    "duration": 60,
    "start_time": "2022-06-10T06:12:12.909Z"
   },
   {
    "duration": 7,
    "start_time": "2022-06-10T06:12:45.443Z"
   },
   {
    "duration": 6,
    "start_time": "2022-06-10T06:12:58.030Z"
   },
   {
    "duration": 8,
    "start_time": "2022-06-10T06:13:22.659Z"
   },
   {
    "duration": 11,
    "start_time": "2022-06-10T06:13:43.114Z"
   },
   {
    "duration": 184,
    "start_time": "2022-06-10T14:43:40.774Z"
   },
   {
    "duration": 32,
    "start_time": "2022-06-10T14:52:28.573Z"
   },
   {
    "duration": 452,
    "start_time": "2022-06-10T14:55:29.946Z"
   },
   {
    "duration": 6,
    "start_time": "2022-06-10T14:55:30.400Z"
   },
   {
    "duration": 147,
    "start_time": "2022-06-10T14:55:30.408Z"
   },
   {
    "duration": 25,
    "start_time": "2022-06-10T14:55:30.556Z"
   },
   {
    "duration": 23,
    "start_time": "2022-06-10T14:55:30.583Z"
   },
   {
    "duration": 12,
    "start_time": "2022-06-10T14:55:30.609Z"
   },
   {
    "duration": 17,
    "start_time": "2022-06-10T14:55:30.623Z"
   },
   {
    "duration": 4,
    "start_time": "2022-06-10T14:55:30.658Z"
   },
   {
    "duration": 21,
    "start_time": "2022-06-10T14:55:30.663Z"
   },
   {
    "duration": 13,
    "start_time": "2022-06-10T14:55:30.686Z"
   },
   {
    "duration": 20,
    "start_time": "2022-06-10T14:55:30.700Z"
   },
   {
    "duration": 11,
    "start_time": "2022-06-10T14:55:30.722Z"
   },
   {
    "duration": 18,
    "start_time": "2022-06-10T14:55:30.734Z"
   },
   {
    "duration": 20,
    "start_time": "2022-06-10T14:55:30.756Z"
   },
   {
    "duration": 29,
    "start_time": "2022-06-10T14:55:30.778Z"
   },
   {
    "duration": 23,
    "start_time": "2022-06-10T14:55:30.809Z"
   },
   {
    "duration": 7,
    "start_time": "2022-06-10T14:55:30.834Z"
   },
   {
    "duration": 21,
    "start_time": "2022-06-10T14:55:30.843Z"
   },
   {
    "duration": 42,
    "start_time": "2022-06-10T14:55:30.865Z"
   },
   {
    "duration": 34,
    "start_time": "2022-06-10T14:55:30.908Z"
   },
   {
    "duration": 36,
    "start_time": "2022-06-10T14:55:30.944Z"
   },
   {
    "duration": 12,
    "start_time": "2022-06-10T14:55:30.982Z"
   },
   {
    "duration": 27,
    "start_time": "2022-06-10T14:55:30.996Z"
   },
   {
    "duration": 24,
    "start_time": "2022-06-10T14:55:31.025Z"
   },
   {
    "duration": 25,
    "start_time": "2022-06-10T14:55:31.051Z"
   },
   {
    "duration": 14,
    "start_time": "2022-06-10T14:55:31.078Z"
   },
   {
    "duration": 25,
    "start_time": "2022-06-10T14:55:31.094Z"
   },
   {
    "duration": 34,
    "start_time": "2022-06-10T14:55:31.121Z"
   },
   {
    "duration": 21,
    "start_time": "2022-06-10T14:55:31.158Z"
   },
   {
    "duration": 14,
    "start_time": "2022-06-10T14:55:31.181Z"
   },
   {
    "duration": 13,
    "start_time": "2022-06-10T14:55:31.197Z"
   },
   {
    "duration": 18,
    "start_time": "2022-06-10T14:55:31.212Z"
   },
   {
    "duration": 17,
    "start_time": "2022-06-10T14:55:31.231Z"
   },
   {
    "duration": 18,
    "start_time": "2022-06-10T14:55:31.250Z"
   },
   {
    "duration": 16,
    "start_time": "2022-06-10T14:55:31.270Z"
   },
   {
    "duration": 11,
    "start_time": "2022-06-10T14:55:31.288Z"
   },
   {
    "duration": 9,
    "start_time": "2022-06-10T14:55:31.301Z"
   },
   {
    "duration": 12,
    "start_time": "2022-06-10T14:55:31.311Z"
   },
   {
    "duration": 14,
    "start_time": "2022-06-10T14:55:31.325Z"
   },
   {
    "duration": 20,
    "start_time": "2022-06-10T14:55:31.341Z"
   },
   {
    "duration": 28,
    "start_time": "2022-06-10T14:55:31.365Z"
   },
   {
    "duration": 3,
    "start_time": "2022-06-10T14:55:31.395Z"
   },
   {
    "duration": 27,
    "start_time": "2022-06-10T14:55:31.399Z"
   },
   {
    "duration": 11,
    "start_time": "2022-06-10T14:55:31.428Z"
   },
   {
    "duration": 53,
    "start_time": "2022-06-10T14:55:31.440Z"
   },
   {
    "duration": 6,
    "start_time": "2022-06-10T14:55:31.495Z"
   },
   {
    "duration": 43,
    "start_time": "2022-06-10T14:55:31.503Z"
   },
   {
    "duration": 10,
    "start_time": "2022-06-10T14:55:31.548Z"
   },
   {
    "duration": 13,
    "start_time": "2022-06-10T14:55:31.560Z"
   },
   {
    "duration": 11,
    "start_time": "2022-06-10T14:55:31.574Z"
   },
   {
    "duration": 49,
    "start_time": "2022-06-10T14:55:31.587Z"
   },
   {
    "duration": 24,
    "start_time": "2022-06-10T14:55:31.638Z"
   },
   {
    "duration": 21,
    "start_time": "2022-06-10T14:55:31.663Z"
   },
   {
    "duration": 44,
    "start_time": "2022-06-10T14:55:31.686Z"
   },
   {
    "duration": 5,
    "start_time": "2022-06-10T14:55:31.732Z"
   },
   {
    "duration": 16,
    "start_time": "2022-06-10T14:55:31.738Z"
   },
   {
    "duration": 38,
    "start_time": "2022-06-10T14:55:31.759Z"
   },
   {
    "duration": 6,
    "start_time": "2022-06-10T14:55:31.799Z"
   },
   {
    "duration": 26,
    "start_time": "2022-06-10T14:55:31.806Z"
   },
   {
    "duration": 13,
    "start_time": "2022-06-10T15:03:50.717Z"
   },
   {
    "duration": 76,
    "start_time": "2022-06-10T15:04:18.785Z"
   },
   {
    "duration": 410,
    "start_time": "2022-06-10T15:04:23.696Z"
   },
   {
    "duration": 11,
    "start_time": "2022-06-10T15:04:31.522Z"
   },
   {
    "duration": 3,
    "start_time": "2022-06-10T15:09:45.695Z"
   },
   {
    "duration": 5,
    "start_time": "2022-06-10T15:10:01.802Z"
   },
   {
    "duration": 444,
    "start_time": "2022-06-10T15:10:16.612Z"
   },
   {
    "duration": 469,
    "start_time": "2022-06-10T15:10:36.242Z"
   },
   {
    "duration": 6,
    "start_time": "2022-06-10T15:10:56.115Z"
   },
   {
    "duration": 48,
    "start_time": "2022-06-10T15:12:07.910Z"
   },
   {
    "duration": 25,
    "start_time": "2022-06-10T15:12:13.448Z"
   },
   {
    "duration": 27,
    "start_time": "2022-06-10T15:12:21.388Z"
   },
   {
    "duration": 6,
    "start_time": "2022-06-10T15:12:26.063Z"
   },
   {
    "duration": 6,
    "start_time": "2022-06-10T15:12:59.666Z"
   },
   {
    "duration": 10,
    "start_time": "2022-06-10T15:15:13.381Z"
   },
   {
    "duration": 27,
    "start_time": "2022-06-10T15:17:43.279Z"
   },
   {
    "duration": 22,
    "start_time": "2022-06-10T15:17:51.315Z"
   },
   {
    "duration": 24,
    "start_time": "2022-06-10T15:17:56.371Z"
   },
   {
    "duration": 19,
    "start_time": "2022-06-10T15:17:59.670Z"
   },
   {
    "duration": 19,
    "start_time": "2022-06-10T15:18:56.154Z"
   },
   {
    "duration": 13,
    "start_time": "2022-06-10T15:19:55.334Z"
   },
   {
    "duration": 91,
    "start_time": "2022-06-10T15:20:05.769Z"
   },
   {
    "duration": 16,
    "start_time": "2022-06-10T15:20:19.762Z"
   },
   {
    "duration": 53,
    "start_time": "2022-06-10T15:20:33.735Z"
   },
   {
    "duration": 9,
    "start_time": "2022-06-10T15:21:47.938Z"
   },
   {
    "duration": 27,
    "start_time": "2022-06-10T15:23:50.405Z"
   },
   {
    "duration": 27,
    "start_time": "2022-06-10T15:23:56.711Z"
   },
   {
    "duration": 31,
    "start_time": "2022-06-10T15:24:37.137Z"
   },
   {
    "duration": 16,
    "start_time": "2022-06-10T15:24:47.028Z"
   },
   {
    "duration": 35,
    "start_time": "2022-06-10T15:25:03.886Z"
   },
   {
    "duration": 9,
    "start_time": "2022-06-10T15:25:08.342Z"
   },
   {
    "duration": 54,
    "start_time": "2022-06-10T15:25:13.994Z"
   },
   {
    "duration": 26,
    "start_time": "2022-06-10T15:25:16.905Z"
   },
   {
    "duration": 25,
    "start_time": "2022-06-10T15:25:58.019Z"
   },
   {
    "duration": 23,
    "start_time": "2022-06-10T15:26:12.993Z"
   },
   {
    "duration": 26,
    "start_time": "2022-06-10T15:26:21.776Z"
   },
   {
    "duration": 23,
    "start_time": "2022-06-10T15:26:25.938Z"
   },
   {
    "duration": 30,
    "start_time": "2022-06-10T15:28:44.545Z"
   },
   {
    "duration": 28,
    "start_time": "2022-06-10T15:28:53.429Z"
   },
   {
    "duration": 13,
    "start_time": "2022-06-10T15:54:19.533Z"
   },
   {
    "duration": 14,
    "start_time": "2022-06-10T16:04:12.499Z"
   },
   {
    "duration": 2,
    "start_time": "2022-06-10T16:10:43.209Z"
   },
   {
    "duration": 11,
    "start_time": "2022-06-10T16:10:43.213Z"
   },
   {
    "duration": 103,
    "start_time": "2022-06-10T16:10:43.226Z"
   },
   {
    "duration": 26,
    "start_time": "2022-06-10T16:10:43.332Z"
   },
   {
    "duration": 16,
    "start_time": "2022-06-10T16:10:43.360Z"
   },
   {
    "duration": 15,
    "start_time": "2022-06-10T16:10:43.377Z"
   },
   {
    "duration": 11,
    "start_time": "2022-06-10T16:10:43.394Z"
   },
   {
    "duration": 9,
    "start_time": "2022-06-10T16:10:43.406Z"
   },
   {
    "duration": 17,
    "start_time": "2022-06-10T16:10:43.417Z"
   },
   {
    "duration": 10,
    "start_time": "2022-06-10T16:10:43.435Z"
   },
   {
    "duration": 5,
    "start_time": "2022-06-10T16:10:43.459Z"
   },
   {
    "duration": 14,
    "start_time": "2022-06-10T16:10:43.466Z"
   },
   {
    "duration": 15,
    "start_time": "2022-06-10T16:10:43.482Z"
   },
   {
    "duration": 27,
    "start_time": "2022-06-10T16:10:43.499Z"
   },
   {
    "duration": 10,
    "start_time": "2022-06-10T16:10:43.528Z"
   },
   {
    "duration": 21,
    "start_time": "2022-06-10T16:10:43.539Z"
   },
   {
    "duration": 6,
    "start_time": "2022-06-10T16:10:43.562Z"
   },
   {
    "duration": 9,
    "start_time": "2022-06-10T16:10:43.570Z"
   },
   {
    "duration": 9,
    "start_time": "2022-06-10T16:10:43.581Z"
   },
   {
    "duration": 6,
    "start_time": "2022-06-10T16:10:43.591Z"
   },
   {
    "duration": 4,
    "start_time": "2022-06-10T16:10:43.599Z"
   },
   {
    "duration": 8,
    "start_time": "2022-06-10T16:10:43.604Z"
   },
   {
    "duration": 20,
    "start_time": "2022-06-10T16:10:43.613Z"
   },
   {
    "duration": 27,
    "start_time": "2022-06-10T16:10:43.637Z"
   },
   {
    "duration": 33,
    "start_time": "2022-06-10T16:10:43.666Z"
   },
   {
    "duration": 15,
    "start_time": "2022-06-10T16:10:43.701Z"
   },
   {
    "duration": 14,
    "start_time": "2022-06-10T16:10:43.718Z"
   },
   {
    "duration": 13,
    "start_time": "2022-06-10T16:10:43.734Z"
   },
   {
    "duration": 16,
    "start_time": "2022-06-10T16:10:43.749Z"
   },
   {
    "duration": 12,
    "start_time": "2022-06-10T16:10:43.767Z"
   },
   {
    "duration": 8,
    "start_time": "2022-06-10T16:10:43.781Z"
   },
   {
    "duration": 11,
    "start_time": "2022-06-10T16:10:43.791Z"
   },
   {
    "duration": 28,
    "start_time": "2022-06-10T16:10:43.804Z"
   },
   {
    "duration": 13,
    "start_time": "2022-06-10T16:10:43.834Z"
   },
   {
    "duration": 13,
    "start_time": "2022-06-10T16:10:43.849Z"
   },
   {
    "duration": 10,
    "start_time": "2022-06-10T16:10:43.864Z"
   },
   {
    "duration": 11,
    "start_time": "2022-06-10T16:10:43.876Z"
   },
   {
    "duration": 12,
    "start_time": "2022-06-10T16:10:43.889Z"
   },
   {
    "duration": 6,
    "start_time": "2022-06-10T16:10:43.903Z"
   },
   {
    "duration": 7,
    "start_time": "2022-06-10T16:10:43.910Z"
   },
   {
    "duration": 14,
    "start_time": "2022-06-10T16:10:43.919Z"
   },
   {
    "duration": 4,
    "start_time": "2022-06-10T16:10:43.934Z"
   },
   {
    "duration": 30,
    "start_time": "2022-06-10T16:10:43.939Z"
   },
   {
    "duration": 7,
    "start_time": "2022-06-10T16:10:43.970Z"
   },
   {
    "duration": 55,
    "start_time": "2022-06-10T16:10:43.978Z"
   },
   {
    "duration": 6,
    "start_time": "2022-06-10T16:10:44.035Z"
   },
   {
    "duration": 62,
    "start_time": "2022-06-10T16:10:44.043Z"
   },
   {
    "duration": 38,
    "start_time": "2022-06-10T16:10:44.106Z"
   },
   {
    "duration": 7,
    "start_time": "2022-06-10T16:10:44.159Z"
   },
   {
    "duration": 15,
    "start_time": "2022-06-10T16:10:44.168Z"
   },
   {
    "duration": 7,
    "start_time": "2022-06-10T16:10:44.185Z"
   },
   {
    "duration": 65,
    "start_time": "2022-06-10T16:10:44.194Z"
   },
   {
    "duration": 7,
    "start_time": "2022-06-10T16:10:44.261Z"
   },
   {
    "duration": 18,
    "start_time": "2022-06-10T16:10:44.269Z"
   },
   {
    "duration": 25,
    "start_time": "2022-06-10T16:10:44.289Z"
   },
   {
    "duration": 54,
    "start_time": "2022-06-10T16:10:44.315Z"
   },
   {
    "duration": 6,
    "start_time": "2022-06-10T16:10:44.371Z"
   },
   {
    "duration": 13,
    "start_time": "2022-06-10T16:10:44.378Z"
   },
   {
    "duration": 14,
    "start_time": "2022-06-10T16:10:44.392Z"
   },
   {
    "duration": 63,
    "start_time": "2022-06-10T16:10:44.408Z"
   },
   {
    "duration": 7,
    "start_time": "2022-06-10T16:10:44.473Z"
   },
   {
    "duration": 11,
    "start_time": "2022-06-10T16:10:44.482Z"
   },
   {
    "duration": 15,
    "start_time": "2022-06-10T16:10:44.495Z"
   },
   {
    "duration": 3,
    "start_time": "2022-06-10T16:23:55.971Z"
   },
   {
    "duration": 5,
    "start_time": "2022-06-10T16:23:55.976Z"
   },
   {
    "duration": 96,
    "start_time": "2022-06-10T16:23:55.983Z"
   },
   {
    "duration": 14,
    "start_time": "2022-06-10T16:23:56.082Z"
   },
   {
    "duration": 18,
    "start_time": "2022-06-10T16:23:56.098Z"
   },
   {
    "duration": 11,
    "start_time": "2022-06-10T16:23:56.118Z"
   },
   {
    "duration": 6,
    "start_time": "2022-06-10T16:23:56.131Z"
   },
   {
    "duration": 21,
    "start_time": "2022-06-10T16:23:56.138Z"
   },
   {
    "duration": 14,
    "start_time": "2022-06-10T16:23:56.162Z"
   },
   {
    "duration": 4,
    "start_time": "2022-06-10T16:23:56.178Z"
   },
   {
    "duration": 8,
    "start_time": "2022-06-10T16:23:56.183Z"
   },
   {
    "duration": 9,
    "start_time": "2022-06-10T16:23:56.192Z"
   },
   {
    "duration": 18,
    "start_time": "2022-06-10T16:23:56.203Z"
   },
   {
    "duration": 12,
    "start_time": "2022-06-10T16:23:56.222Z"
   },
   {
    "duration": 26,
    "start_time": "2022-06-10T16:23:56.236Z"
   },
   {
    "duration": 10,
    "start_time": "2022-06-10T16:23:56.264Z"
   },
   {
    "duration": 11,
    "start_time": "2022-06-10T16:23:56.276Z"
   },
   {
    "duration": 18,
    "start_time": "2022-06-10T16:23:56.289Z"
   },
   {
    "duration": 11,
    "start_time": "2022-06-10T16:23:56.309Z"
   },
   {
    "duration": 6,
    "start_time": "2022-06-10T16:23:56.322Z"
   },
   {
    "duration": 2,
    "start_time": "2022-06-10T16:23:56.330Z"
   },
   {
    "duration": 14,
    "start_time": "2022-06-10T16:23:56.358Z"
   },
   {
    "duration": 8,
    "start_time": "2022-06-10T16:23:56.374Z"
   },
   {
    "duration": 7,
    "start_time": "2022-06-10T16:23:56.386Z"
   },
   {
    "duration": 13,
    "start_time": "2022-06-10T16:23:56.395Z"
   },
   {
    "duration": 11,
    "start_time": "2022-06-10T16:23:56.410Z"
   },
   {
    "duration": 13,
    "start_time": "2022-06-10T16:23:56.422Z"
   },
   {
    "duration": 26,
    "start_time": "2022-06-10T16:23:56.437Z"
   },
   {
    "duration": 9,
    "start_time": "2022-06-10T16:23:56.465Z"
   },
   {
    "duration": 9,
    "start_time": "2022-06-10T16:23:56.475Z"
   },
   {
    "duration": 5,
    "start_time": "2022-06-10T16:23:56.485Z"
   },
   {
    "duration": 10,
    "start_time": "2022-06-10T16:23:56.492Z"
   },
   {
    "duration": 17,
    "start_time": "2022-06-10T16:23:56.503Z"
   },
   {
    "duration": 6,
    "start_time": "2022-06-10T16:23:56.522Z"
   },
   {
    "duration": 33,
    "start_time": "2022-06-10T16:23:56.530Z"
   },
   {
    "duration": 6,
    "start_time": "2022-06-10T16:23:56.565Z"
   },
   {
    "duration": 16,
    "start_time": "2022-06-10T16:23:56.572Z"
   },
   {
    "duration": 11,
    "start_time": "2022-06-10T16:23:56.590Z"
   },
   {
    "duration": 9,
    "start_time": "2022-06-10T16:23:56.603Z"
   },
   {
    "duration": 11,
    "start_time": "2022-06-10T16:23:56.614Z"
   },
   {
    "duration": 15,
    "start_time": "2022-06-10T16:23:56.626Z"
   },
   {
    "duration": 4,
    "start_time": "2022-06-10T16:23:56.642Z"
   },
   {
    "duration": 19,
    "start_time": "2022-06-10T16:23:56.648Z"
   },
   {
    "duration": 3,
    "start_time": "2022-06-10T16:23:56.669Z"
   },
   {
    "duration": 47,
    "start_time": "2022-06-10T16:23:56.674Z"
   },
   {
    "duration": 7,
    "start_time": "2022-06-10T16:23:56.723Z"
   },
   {
    "duration": 30,
    "start_time": "2022-06-10T16:23:56.732Z"
   },
   {
    "duration": 37,
    "start_time": "2022-06-10T16:23:56.764Z"
   },
   {
    "duration": 6,
    "start_time": "2022-06-10T16:23:56.802Z"
   },
   {
    "duration": 13,
    "start_time": "2022-06-10T16:23:56.810Z"
   },
   {
    "duration": 35,
    "start_time": "2022-06-10T16:23:56.826Z"
   },
   {
    "duration": 45,
    "start_time": "2022-06-10T16:23:56.863Z"
   },
   {
    "duration": 6,
    "start_time": "2022-06-10T16:23:56.910Z"
   },
   {
    "duration": 11,
    "start_time": "2022-06-10T16:23:56.918Z"
   },
   {
    "duration": 50,
    "start_time": "2022-06-10T16:23:56.931Z"
   },
   {
    "duration": 36,
    "start_time": "2022-06-10T16:23:56.982Z"
   },
   {
    "duration": 6,
    "start_time": "2022-06-10T16:23:57.020Z"
   },
   {
    "duration": 39,
    "start_time": "2022-06-10T16:23:57.028Z"
   },
   {
    "duration": 14,
    "start_time": "2022-06-10T16:23:57.069Z"
   },
   {
    "duration": 36,
    "start_time": "2022-06-10T16:23:57.085Z"
   },
   {
    "duration": 6,
    "start_time": "2022-06-10T16:23:57.122Z"
   },
   {
    "duration": 36,
    "start_time": "2022-06-10T16:23:57.129Z"
   },
   {
    "duration": 15,
    "start_time": "2022-06-10T16:23:57.167Z"
   },
   {
    "duration": 341,
    "start_time": "2022-06-10T17:43:21.581Z"
   },
   {
    "duration": 5,
    "start_time": "2022-06-10T17:43:21.923Z"
   },
   {
    "duration": 77,
    "start_time": "2022-06-10T17:43:21.929Z"
   },
   {
    "duration": 19,
    "start_time": "2022-06-10T17:43:22.007Z"
   },
   {
    "duration": 14,
    "start_time": "2022-06-10T17:43:22.028Z"
   },
   {
    "duration": 10,
    "start_time": "2022-06-10T17:43:22.043Z"
   },
   {
    "duration": 6,
    "start_time": "2022-06-10T17:43:22.055Z"
   },
   {
    "duration": 3,
    "start_time": "2022-06-10T17:43:22.063Z"
   },
   {
    "duration": 14,
    "start_time": "2022-06-10T17:43:22.067Z"
   },
   {
    "duration": 3,
    "start_time": "2022-06-10T17:43:22.082Z"
   },
   {
    "duration": 43,
    "start_time": "2022-06-10T17:43:22.086Z"
   },
   {
    "duration": 5,
    "start_time": "2022-06-10T17:43:22.130Z"
   },
   {
    "duration": 10,
    "start_time": "2022-06-10T17:43:22.136Z"
   },
   {
    "duration": 16,
    "start_time": "2022-06-10T17:43:22.149Z"
   },
   {
    "duration": 5,
    "start_time": "2022-06-10T17:43:22.166Z"
   },
   {
    "duration": 9,
    "start_time": "2022-06-10T17:43:22.172Z"
   },
   {
    "duration": 6,
    "start_time": "2022-06-10T17:43:22.183Z"
   },
   {
    "duration": 40,
    "start_time": "2022-06-10T17:43:22.190Z"
   },
   {
    "duration": 7,
    "start_time": "2022-06-10T17:43:22.232Z"
   },
   {
    "duration": 7,
    "start_time": "2022-06-10T17:43:22.241Z"
   },
   {
    "duration": 7,
    "start_time": "2022-06-10T17:43:22.249Z"
   },
   {
    "duration": 7,
    "start_time": "2022-06-10T17:43:22.257Z"
   },
   {
    "duration": 9,
    "start_time": "2022-06-10T17:43:22.266Z"
   },
   {
    "duration": 6,
    "start_time": "2022-06-10T17:43:22.276Z"
   },
   {
    "duration": 12,
    "start_time": "2022-06-10T17:43:22.284Z"
   },
   {
    "duration": 30,
    "start_time": "2022-06-10T17:43:22.298Z"
   },
   {
    "duration": 8,
    "start_time": "2022-06-10T17:43:22.330Z"
   },
   {
    "duration": 9,
    "start_time": "2022-06-10T17:43:22.340Z"
   },
   {
    "duration": 8,
    "start_time": "2022-06-10T17:43:22.350Z"
   },
   {
    "duration": 10,
    "start_time": "2022-06-10T17:43:22.359Z"
   },
   {
    "duration": 11,
    "start_time": "2022-06-10T17:43:22.370Z"
   },
   {
    "duration": 13,
    "start_time": "2022-06-10T17:43:22.382Z"
   },
   {
    "duration": 14,
    "start_time": "2022-06-10T17:43:22.396Z"
   },
   {
    "duration": 7,
    "start_time": "2022-06-10T17:43:22.427Z"
   },
   {
    "duration": 11,
    "start_time": "2022-06-10T17:43:22.435Z"
   },
   {
    "duration": 6,
    "start_time": "2022-06-10T17:43:22.447Z"
   },
   {
    "duration": 12,
    "start_time": "2022-06-10T17:43:22.455Z"
   },
   {
    "duration": 26,
    "start_time": "2022-06-10T17:43:22.469Z"
   },
   {
    "duration": 6,
    "start_time": "2022-06-10T17:43:22.497Z"
   },
   {
    "duration": 6,
    "start_time": "2022-06-10T17:43:22.505Z"
   },
   {
    "duration": 20,
    "start_time": "2022-06-10T17:43:22.515Z"
   },
   {
    "duration": 3,
    "start_time": "2022-06-10T17:43:22.536Z"
   },
   {
    "duration": 13,
    "start_time": "2022-06-10T17:43:22.541Z"
   },
   {
    "duration": 3,
    "start_time": "2022-06-10T17:43:22.555Z"
   },
   {
    "duration": 52,
    "start_time": "2022-06-10T17:43:22.559Z"
   },
   {
    "duration": 16,
    "start_time": "2022-06-10T17:43:22.612Z"
   },
   {
    "duration": 8,
    "start_time": "2022-06-10T17:43:22.630Z"
   },
   {
    "duration": 42,
    "start_time": "2022-06-10T17:43:22.639Z"
   },
   {
    "duration": 6,
    "start_time": "2022-06-10T17:43:22.683Z"
   },
   {
    "duration": 12,
    "start_time": "2022-06-10T17:43:22.691Z"
   },
   {
    "duration": 31,
    "start_time": "2022-06-10T17:43:22.704Z"
   },
   {
    "duration": 35,
    "start_time": "2022-06-10T17:43:22.737Z"
   },
   {
    "duration": 6,
    "start_time": "2022-06-10T17:43:22.774Z"
   },
   {
    "duration": 15,
    "start_time": "2022-06-10T17:43:22.781Z"
   },
   {
    "duration": 47,
    "start_time": "2022-06-10T17:43:22.798Z"
   },
   {
    "duration": 32,
    "start_time": "2022-06-10T17:43:22.847Z"
   },
   {
    "duration": 6,
    "start_time": "2022-06-10T17:43:22.880Z"
   },
   {
    "duration": 16,
    "start_time": "2022-06-10T17:43:22.887Z"
   },
   {
    "duration": 27,
    "start_time": "2022-06-10T17:43:22.904Z"
   },
   {
    "duration": 34,
    "start_time": "2022-06-10T17:43:22.932Z"
   },
   {
    "duration": 5,
    "start_time": "2022-06-10T17:43:22.968Z"
   },
   {
    "duration": 11,
    "start_time": "2022-06-10T17:43:22.974Z"
   },
   {
    "duration": 20,
    "start_time": "2022-06-10T17:43:22.986Z"
   },
   {
    "duration": 427,
    "start_time": "2022-06-10T17:50:12.411Z"
   },
   {
    "duration": 6,
    "start_time": "2022-06-10T17:50:12.840Z"
   },
   {
    "duration": 119,
    "start_time": "2022-06-10T17:50:12.848Z"
   },
   {
    "duration": 28,
    "start_time": "2022-06-10T17:50:12.970Z"
   },
   {
    "duration": 32,
    "start_time": "2022-06-10T17:50:13.000Z"
   },
   {
    "duration": 16,
    "start_time": "2022-06-10T17:50:13.034Z"
   },
   {
    "duration": 9,
    "start_time": "2022-06-10T17:50:13.052Z"
   },
   {
    "duration": 4,
    "start_time": "2022-06-10T17:50:13.062Z"
   },
   {
    "duration": 15,
    "start_time": "2022-06-10T17:50:13.067Z"
   },
   {
    "duration": 4,
    "start_time": "2022-06-10T17:50:13.087Z"
   },
   {
    "duration": 8,
    "start_time": "2022-06-10T17:50:13.093Z"
   },
   {
    "duration": 28,
    "start_time": "2022-06-10T17:50:13.103Z"
   },
   {
    "duration": 14,
    "start_time": "2022-06-10T17:50:13.134Z"
   },
   {
    "duration": 15,
    "start_time": "2022-06-10T17:50:13.149Z"
   },
   {
    "duration": 5,
    "start_time": "2022-06-10T17:50:13.166Z"
   },
   {
    "duration": 12,
    "start_time": "2022-06-10T17:50:13.173Z"
   },
   {
    "duration": 7,
    "start_time": "2022-06-10T17:50:13.187Z"
   },
   {
    "duration": 33,
    "start_time": "2022-06-10T17:50:13.196Z"
   },
   {
    "duration": 8,
    "start_time": "2022-06-10T17:50:13.231Z"
   },
   {
    "duration": 10,
    "start_time": "2022-06-10T17:50:13.241Z"
   },
   {
    "duration": 12,
    "start_time": "2022-06-10T17:50:13.252Z"
   },
   {
    "duration": 7,
    "start_time": "2022-06-10T17:50:13.265Z"
   },
   {
    "duration": 36,
    "start_time": "2022-06-10T17:50:13.274Z"
   },
   {
    "duration": 7,
    "start_time": "2022-06-10T17:50:13.312Z"
   },
   {
    "duration": 16,
    "start_time": "2022-06-10T17:50:13.327Z"
   },
   {
    "duration": 11,
    "start_time": "2022-06-10T17:50:13.345Z"
   },
   {
    "duration": 11,
    "start_time": "2022-06-10T17:50:13.358Z"
   },
   {
    "duration": 7,
    "start_time": "2022-06-10T17:50:13.374Z"
   },
   {
    "duration": 9,
    "start_time": "2022-06-10T17:50:13.382Z"
   },
   {
    "duration": 6,
    "start_time": "2022-06-10T17:50:13.392Z"
   },
   {
    "duration": 5,
    "start_time": "2022-06-10T17:50:13.400Z"
   },
   {
    "duration": 22,
    "start_time": "2022-06-10T17:50:13.406Z"
   },
   {
    "duration": 16,
    "start_time": "2022-06-10T17:50:13.430Z"
   },
   {
    "duration": 11,
    "start_time": "2022-06-10T17:50:13.448Z"
   },
   {
    "duration": 9,
    "start_time": "2022-06-10T17:50:13.461Z"
   },
   {
    "duration": 6,
    "start_time": "2022-06-10T17:50:13.472Z"
   },
   {
    "duration": 7,
    "start_time": "2022-06-10T17:50:13.479Z"
   },
   {
    "duration": 9,
    "start_time": "2022-06-10T17:50:13.487Z"
   },
   {
    "duration": 5,
    "start_time": "2022-06-10T17:50:13.498Z"
   },
   {
    "duration": 6,
    "start_time": "2022-06-10T17:50:13.504Z"
   },
   {
    "duration": 26,
    "start_time": "2022-06-10T17:50:13.511Z"
   },
   {
    "duration": 4,
    "start_time": "2022-06-10T17:50:13.539Z"
   },
   {
    "duration": 11,
    "start_time": "2022-06-10T17:50:13.544Z"
   },
   {
    "duration": 2,
    "start_time": "2022-06-10T17:50:13.558Z"
   },
   {
    "duration": 89,
    "start_time": "2022-06-10T17:50:13.562Z"
   },
   {
    "duration": 7,
    "start_time": "2022-06-10T17:50:13.653Z"
   },
   {
    "duration": 13,
    "start_time": "2022-06-10T17:50:13.662Z"
   },
   {
    "duration": 41,
    "start_time": "2022-06-10T17:50:13.677Z"
   },
   {
    "duration": 7,
    "start_time": "2022-06-10T17:50:13.727Z"
   },
   {
    "duration": 18,
    "start_time": "2022-06-10T17:50:13.735Z"
   },
   {
    "duration": 7,
    "start_time": "2022-06-10T17:50:13.755Z"
   },
   {
    "duration": 40,
    "start_time": "2022-06-10T17:50:13.763Z"
   },
   {
    "duration": 24,
    "start_time": "2022-06-10T17:50:13.805Z"
   },
   {
    "duration": 18,
    "start_time": "2022-06-10T17:50:13.831Z"
   },
   {
    "duration": 42,
    "start_time": "2022-06-10T17:50:13.851Z"
   },
   {
    "duration": 53,
    "start_time": "2022-06-10T17:50:13.895Z"
   },
   {
    "duration": 6,
    "start_time": "2022-06-10T17:50:13.950Z"
   },
   {
    "duration": 22,
    "start_time": "2022-06-10T17:50:13.957Z"
   },
   {
    "duration": 20,
    "start_time": "2022-06-10T17:50:13.981Z"
   },
   {
    "duration": 72,
    "start_time": "2022-06-10T17:50:14.003Z"
   },
   {
    "duration": 7,
    "start_time": "2022-06-10T17:50:14.077Z"
   },
   {
    "duration": 16,
    "start_time": "2022-06-10T17:50:14.086Z"
   },
   {
    "duration": 24,
    "start_time": "2022-06-10T17:50:14.104Z"
   },
   {
    "duration": 81,
    "start_time": "2022-06-10T18:05:03.179Z"
   },
   {
    "duration": 7,
    "start_time": "2022-06-10T18:05:26.696Z"
   }
  ],
  "kernelspec": {
   "display_name": "Python 3 (ipykernel)",
   "language": "python",
   "name": "python3"
  },
  "language_info": {
   "codemirror_mode": {
    "name": "ipython",
    "version": 3
   },
   "file_extension": ".py",
   "mimetype": "text/x-python",
   "name": "python",
   "nbconvert_exporter": "python",
   "pygments_lexer": "ipython3",
   "version": "3.9.12"
  },
  "toc": {
   "base_numbering": 1,
   "nav_menu": {},
   "number_sections": true,
   "sideBar": true,
   "skip_h1_title": true,
   "title_cell": "Table of Contents",
   "title_sidebar": "Contents",
   "toc_cell": false,
   "toc_position": {
    "height": "calc(100% - 180px)",
    "left": "10px",
    "top": "150px",
    "width": "238.390625px"
   },
   "toc_section_display": true,
   "toc_window_display": false
  }
 },
 "nbformat": 4,
 "nbformat_minor": 1
}