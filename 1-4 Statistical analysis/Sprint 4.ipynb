{
 "cells": [
  {
   "cell_type": "markdown",
   "metadata": {
    "pycharm": {
     "name": "#%% md\n"
    },
    "toc": true
   },
   "source": [
    "<h1>Table of Contents<span class=\"tocSkip\"></span></h1>\n",
    "<div class=\"toc\"><ul class=\"toc-item\"><li><span><a href=\"#Описание-тарифов\" data-toc-modified-id=\"Описание-тарифов-1\"><span class=\"toc-item-num\">1&nbsp;&nbsp;</span>Описание тарифов</a></span><ul class=\"toc-item\"><li><span><a href=\"#Тариф-«Смарт»\" data-toc-modified-id=\"Тариф-«Смарт»-1.1\"><span class=\"toc-item-num\">1.1&nbsp;&nbsp;</span>Тариф «Смарт»</a></span></li><li><span><a href=\"#Тариф-«Ультра»\" data-toc-modified-id=\"Тариф-«Ультра»-1.2\"><span class=\"toc-item-num\">1.2&nbsp;&nbsp;</span>Тариф «Ультра»</a></span></li></ul></li><li><span><a href=\"#Загрузка-данных\" data-toc-modified-id=\"Загрузка-данных-2\"><span class=\"toc-item-num\">2&nbsp;&nbsp;</span>Загрузка данных</a></span></li><li><span><a href=\"#Предобработка-данных\" data-toc-modified-id=\"Предобработка-данных-3\"><span class=\"toc-item-num\">3&nbsp;&nbsp;</span>Предобработка данных</a></span><ul class=\"toc-item\"><li><span><a href=\"#Звонки\" data-toc-modified-id=\"Звонки-3.1\"><span class=\"toc-item-num\">3.1&nbsp;&nbsp;</span>Звонки</a></span><ul class=\"toc-item\"><li><span><a href=\"#Описание-колонок\" data-toc-modified-id=\"Описание-колонок-3.1.1\"><span class=\"toc-item-num\">3.1.1&nbsp;&nbsp;</span>Описание колонок</a></span></li><li><span><a href=\"#Обработка-данных\" data-toc-modified-id=\"Обработка-данных-3.1.2\"><span class=\"toc-item-num\">3.1.2&nbsp;&nbsp;</span>Обработка данных</a></span></li><li><span><a href=\"#Вывод\" data-toc-modified-id=\"Вывод-3.1.3\"><span class=\"toc-item-num\">3.1.3&nbsp;&nbsp;</span>Вывод</a></span></li></ul></li><li><span><a href=\"#Сообщения\" data-toc-modified-id=\"Сообщения-3.2\"><span class=\"toc-item-num\">3.2&nbsp;&nbsp;</span>Сообщения</a></span><ul class=\"toc-item\"><li><span><a href=\"#Описание-колонок\" data-toc-modified-id=\"Описание-колонок-3.2.1\"><span class=\"toc-item-num\">3.2.1&nbsp;&nbsp;</span>Описание колонок</a></span></li><li><span><a href=\"#Обработка-данных\" data-toc-modified-id=\"Обработка-данных-3.2.2\"><span class=\"toc-item-num\">3.2.2&nbsp;&nbsp;</span>Обработка данных</a></span></li><li><span><a href=\"#Вывод\" data-toc-modified-id=\"Вывод-3.2.3\"><span class=\"toc-item-num\">3.2.3&nbsp;&nbsp;</span>Вывод</a></span></li></ul></li><li><span><a href=\"#Трафик\" data-toc-modified-id=\"Трафик-3.3\"><span class=\"toc-item-num\">3.3&nbsp;&nbsp;</span>Трафик</a></span><ul class=\"toc-item\"><li><span><a href=\"#Описание-колонок\" data-toc-modified-id=\"Описание-колонок-3.3.1\"><span class=\"toc-item-num\">3.3.1&nbsp;&nbsp;</span>Описание колонок</a></span></li><li><span><a href=\"#Обработка-данных\" data-toc-modified-id=\"Обработка-данных-3.3.2\"><span class=\"toc-item-num\">3.3.2&nbsp;&nbsp;</span>Обработка данных</a></span></li><li><span><a href=\"#Вывод\" data-toc-modified-id=\"Вывод-3.3.3\"><span class=\"toc-item-num\">3.3.3&nbsp;&nbsp;</span>Вывод</a></span></li></ul></li><li><span><a href=\"#Пользователи\" data-toc-modified-id=\"Пользователи-3.4\"><span class=\"toc-item-num\">3.4&nbsp;&nbsp;</span>Пользователи</a></span><ul class=\"toc-item\"><li><span><a href=\"#Описание-колонок\" data-toc-modified-id=\"Описание-колонок-3.4.1\"><span class=\"toc-item-num\">3.4.1&nbsp;&nbsp;</span>Описание колонок</a></span></li><li><span><a href=\"#Обработка-данных\" data-toc-modified-id=\"Обработка-данных-3.4.2\"><span class=\"toc-item-num\">3.4.2&nbsp;&nbsp;</span>Обработка данных</a></span></li></ul></li><li><span><a href=\"#Тарифные-планы\" data-toc-modified-id=\"Тарифные-планы-3.5\"><span class=\"toc-item-num\">3.5&nbsp;&nbsp;</span>Тарифные планы</a></span><ul class=\"toc-item\"><li><span><a href=\"#Описание-колонок\" data-toc-modified-id=\"Описание-колонок-3.5.1\"><span class=\"toc-item-num\">3.5.1&nbsp;&nbsp;</span>Описание колонок</a></span></li></ul></li><li><span><a href=\"#Вывод\" data-toc-modified-id=\"Вывод-3.6\"><span class=\"toc-item-num\">3.6&nbsp;&nbsp;</span>Вывод</a></span></li></ul></li><li><span><a href=\"#Подсчет-данных\" data-toc-modified-id=\"Подсчет-данных-4\"><span class=\"toc-item-num\">4&nbsp;&nbsp;</span>Подсчет данных</a></span><ul class=\"toc-item\"><li><span><a href=\"#Группировка-данных\" data-toc-modified-id=\"Группировка-данных-4.1\"><span class=\"toc-item-num\">4.1&nbsp;&nbsp;</span>Группировка данных</a></span></li><li><span><a href=\"#Объединение-данных-о-пользователях\" data-toc-modified-id=\"Объединение-данных-о-пользователях-4.2\"><span class=\"toc-item-num\">4.2&nbsp;&nbsp;</span>Объединение данных о пользователях</a></span></li><li><span><a href=\"#Валидация-и-очистка-данных\" data-toc-modified-id=\"Валидация-и-очистка-данных-4.3\"><span class=\"toc-item-num\">4.3&nbsp;&nbsp;</span>Валидация и очистка данных</a></span></li><li><span><a href=\"#Выручка-с-пользователя-по-месяцам\" data-toc-modified-id=\"Выручка-с-пользователя-по-месяцам-4.4\"><span class=\"toc-item-num\">4.4&nbsp;&nbsp;</span>Выручка с пользователя по месяцам</a></span></li><li><span><a href=\"#Вывод\" data-toc-modified-id=\"Вывод-4.5\"><span class=\"toc-item-num\">4.5&nbsp;&nbsp;</span>Вывод</a></span></li></ul></li><li><span><a href=\"#Анализ-данных\" data-toc-modified-id=\"Анализ-данных-5\"><span class=\"toc-item-num\">5&nbsp;&nbsp;</span>Анализ данных</a></span><ul class=\"toc-item\"><li><span><a href=\"#Минуты-разговора\" data-toc-modified-id=\"Минуты-разговора-5.1\"><span class=\"toc-item-num\">5.1&nbsp;&nbsp;</span>Минуты разговора</a></span></li><li><span><a href=\"#Количество-сообщений\" data-toc-modified-id=\"Количество-сообщений-5.2\"><span class=\"toc-item-num\">5.2&nbsp;&nbsp;</span>Количество сообщений</a></span></li><li><span><a href=\"#Интернет\" data-toc-modified-id=\"Интернет-5.3\"><span class=\"toc-item-num\">5.3&nbsp;&nbsp;</span>Интернет</a></span></li><li><span><a href=\"#Выручка\" data-toc-modified-id=\"Выручка-5.4\"><span class=\"toc-item-num\">5.4&nbsp;&nbsp;</span>Выручка</a></span></li><li><span><a href=\"#Вывод\" data-toc-modified-id=\"Вывод-5.5\"><span class=\"toc-item-num\">5.5&nbsp;&nbsp;</span>Вывод</a></span></li></ul></li><li><span><a href=\"#Гипотеза-1.-Разница-средней-выручки\" data-toc-modified-id=\"Гипотеза-1.-Разница-средней-выручки-6\"><span class=\"toc-item-num\">6&nbsp;&nbsp;</span>Гипотеза 1. Разница средней выручки</a></span></li><li><span><a href=\"#Гипотеза-2.-Разница-выручки-Москвы-vs.-регионы\" data-toc-modified-id=\"Гипотеза-2.-Разница-выручки-Москвы-vs.-регионы-7\"><span class=\"toc-item-num\">7&nbsp;&nbsp;</span>Гипотеза 2. Разница выручки Москвы vs. регионы</a></span></li><li><span><a href=\"#Общий-вывод\" data-toc-modified-id=\"Общий-вывод-8\"><span class=\"toc-item-num\">8&nbsp;&nbsp;</span>Общий вывод</a></span></li><li><span><a href=\"#Бонус\" data-toc-modified-id=\"Бонус-9\"><span class=\"toc-item-num\">9&nbsp;&nbsp;</span>Бонус</a></span></li></ul></div>"
   ]
  },
  {
   "cell_type": "markdown",
   "metadata": {
    "pycharm": {
     "name": "#%% md\n"
    }
   },
   "source": [
    "# Определение перспективного тарифа для телеком-компании"
   ]
  },
  {
   "cell_type": "markdown",
   "metadata": {
    "pycharm": {
     "name": "#%% md\n"
    }
   },
   "source": [
    "«Мегалайн» — федеральный оператор сотовой связи. Клиентам предлагают два тарифных\n",
    "плана: «Смарт» и «Ультра». Чтобы скорректировать рекламный бюджет, коммерческий\n",
    "департамент хочет понять, какой тариф приносит больше денег.\n",
    "\n",
    "Предстоит сделать предварительный анализ тарифов на небольшой выборке клиентов.\n",
    "В нашем распоряжении данные 500 пользователей «Мегалайна»: кто они, откуда, каким\n",
    "тарифом пользуются, сколько звонков и сообщений каждый отправил за 2018 год.\n",
    "\n",
    "Нужно проанализировать поведение клиентов и сделать вывод — какой тариф лучше."
   ]
  },
  {
   "cell_type": "markdown",
   "metadata": {
    "pycharm": {
     "name": "#%% md\n"
    }
   },
   "source": [
    "## Описание тарифов\n",
    "«Мегалайн» всегда округляет секунды до минут, а мегабайты — до гигабайт.\n",
    "Каждый звонок округляется отдельно: даже если он длился всего 1 секунду, будет\n",
    "засчитан как 1 минута.\n",
    "\n",
    "Для веб-трафика отдельные сессии не считаются. Вместо этого общая сумма за месяц\n",
    "округляется в бо́льшую сторону. Если абонент использует 1025 мегабайт в этом\n",
    "месяце, с него возьмут плату за 2 гигабайта. Неиспользованные за предыдущий месяц\n",
    "звонки, смс, интернет на следующий месяц не переносятся.\n",
    "\n",
    "### Тариф «Смарт»\n",
    "1. Ежемесячная плата: 550 рублей.\n",
    "2. Включено 500 минут разговора, 50 сообщений и 15 Гб интернет-трафика.\n",
    "3. Стоимость услуг сверх тарифного пакета:\n",
    "- минута разговора: 3 рубля\n",
    "- сообщение: 3 рубля\n",
    "- 1 Гб интернет-трафика: 200 рублей\n",
    "\n",
    "### Тариф «Ультра»\n",
    "1. Ежемесячная плата: 1950 рублей\n",
    "1. Включено 3000 минут разговора, 1000 сообщений и 30 Гб интернет-трафика\n",
    "1. Стоимость услуг сверх тарифного пакета:\n",
    "- минута разговора: 1 рубль\n",
    "- сообщение: 1 рубль\n",
    "- 1 Гб интернет-трафика: 150 рублей"
   ]
  },
  {
   "cell_type": "markdown",
   "metadata": {
    "pycharm": {
     "name": "#%% md\n"
    }
   },
   "source": [
    "## Загрузка данных"
   ]
  },
  {
   "cell_type": "code",
   "execution_count": 1,
   "metadata": {
    "pycharm": {
     "name": "#%%\n"
    }
   },
   "outputs": [],
   "source": [
    "import math\n",
    "\n",
    "import matplotlib.pyplot as plt\n",
    "import numpy as np\n",
    "import pandas as pd\n",
    "from pylab import rcParams\n",
    "from scipy import stats as st"
   ]
  },
  {
   "cell_type": "code",
   "execution_count": 2,
   "metadata": {
    "pycharm": {
     "name": "#%%\n"
    }
   },
   "outputs": [],
   "source": [
    "rcParams['figure.figsize'] = 8, 5\n",
    "pd.options.display.float_format = '{:,.1f}'.format"
   ]
  },
  {
   "cell_type": "code",
   "execution_count": 3,
   "metadata": {
    "pycharm": {
     "name": "#%%\n"
    }
   },
   "outputs": [],
   "source": [
    "def read_file(name: str):\n",
    "    # try open local file first then — if failed — open on server\n",
    "    try:\n",
    "        return pd.read_csv(f'./datasets/{name}.csv', sep=',')\n",
    "    except FileNotFoundError:\n",
    "        try:\n",
    "            return pd.read_csv(f'/datasets/{name}.csv', sep=',')\n",
    "        except Exception as e:\n",
    "            print('Не удалось считать файл с данными на сервере', e, sep='\\n')\n",
    "            return None\n",
    "\n",
    "    except Exception as e:\n",
    "        print('Не удалось считать файл с данными на диске', e, sep='\\n')\n",
    "    return None"
   ]
  },
  {
   "cell_type": "code",
   "execution_count": 4,
   "metadata": {
    "pycharm": {
     "name": "#%%\n"
    }
   },
   "outputs": [],
   "source": [
    "calls_df = read_file('calls')\n",
    "internet_df = read_file('internet')\n",
    "messages_df = read_file('messages')\n",
    "tariffs_df = read_file('tariffs')\n",
    "users_df = read_file('users')"
   ]
  },
  {
   "cell_type": "markdown",
   "metadata": {
    "pycharm": {
     "name": "#%% md\n"
    }
   },
   "source": [
    "## Предобработка данных"
   ]
  },
  {
   "cell_type": "markdown",
   "metadata": {
    "pycharm": {
     "name": "#%% md\n"
    }
   },
   "source": [
    "### Звонки"
   ]
  },
  {
   "cell_type": "markdown",
   "metadata": {
    "pycharm": {
     "name": "#%% md\n"
    }
   },
   "source": [
    "#### Описание колонок"
   ]
  },
  {
   "cell_type": "markdown",
   "metadata": {
    "pycharm": {
     "name": "#%% md\n"
    }
   },
   "source": [
    "- `id` — уникальный номер звонка\n",
    "- `call_date` — дата звонка\n",
    "- `duration` — длительность звонка в минутах\n",
    "- `user_id` — идентификатор пользователя, сделавшего звонок"
   ]
  },
  {
   "cell_type": "markdown",
   "metadata": {
    "pycharm": {
     "name": "#%% md\n"
    }
   },
   "source": [
    "Посмотрим на случайные 7 записей в таблице"
   ]
  },
  {
   "cell_type": "code",
   "execution_count": 5,
   "metadata": {
    "pycharm": {
     "name": "#%%\n"
    }
   },
   "outputs": [
    {
     "data": {
      "text/html": [
       "<div>\n",
       "<style scoped>\n",
       "    .dataframe tbody tr th:only-of-type {\n",
       "        vertical-align: middle;\n",
       "    }\n",
       "\n",
       "    .dataframe tbody tr th {\n",
       "        vertical-align: top;\n",
       "    }\n",
       "\n",
       "    .dataframe thead th {\n",
       "        text-align: right;\n",
       "    }\n",
       "</style>\n",
       "<table border=\"1\" class=\"dataframe\">\n",
       "  <thead>\n",
       "    <tr style=\"text-align: right;\">\n",
       "      <th></th>\n",
       "      <th>id</th>\n",
       "      <th>call_date</th>\n",
       "      <th>duration</th>\n",
       "      <th>user_id</th>\n",
       "    </tr>\n",
       "  </thead>\n",
       "  <tbody>\n",
       "    <tr>\n",
       "      <th>26953</th>\n",
       "      <td>1066_374</td>\n",
       "      <td>2018-08-26</td>\n",
       "      <td>0.0</td>\n",
       "      <td>1066</td>\n",
       "    </tr>\n",
       "    <tr>\n",
       "      <th>66122</th>\n",
       "      <td>1168_1273</td>\n",
       "      <td>2018-03-28</td>\n",
       "      <td>16.1</td>\n",
       "      <td>1168</td>\n",
       "    </tr>\n",
       "    <tr>\n",
       "      <th>67325</th>\n",
       "      <td>1171_350</td>\n",
       "      <td>2018-09-14</td>\n",
       "      <td>6.2</td>\n",
       "      <td>1171</td>\n",
       "    </tr>\n",
       "    <tr>\n",
       "      <th>74643</th>\n",
       "      <td>1186_465</td>\n",
       "      <td>2018-09-02</td>\n",
       "      <td>0.8</td>\n",
       "      <td>1186</td>\n",
       "    </tr>\n",
       "    <tr>\n",
       "      <th>192311</th>\n",
       "      <td>1472_124</td>\n",
       "      <td>2018-05-04</td>\n",
       "      <td>5.9</td>\n",
       "      <td>1472</td>\n",
       "    </tr>\n",
       "    <tr>\n",
       "      <th>47375</th>\n",
       "      <td>1118_664</td>\n",
       "      <td>2018-10-24</td>\n",
       "      <td>13.4</td>\n",
       "      <td>1118</td>\n",
       "    </tr>\n",
       "    <tr>\n",
       "      <th>91143</th>\n",
       "      <td>1227_563</td>\n",
       "      <td>2018-08-03</td>\n",
       "      <td>15.2</td>\n",
       "      <td>1227</td>\n",
       "    </tr>\n",
       "  </tbody>\n",
       "</table>\n",
       "</div>"
      ],
      "text/plain": [
       "               id   call_date  duration  user_id\n",
       "26953    1066_374  2018-08-26       0.0     1066\n",
       "66122   1168_1273  2018-03-28      16.1     1168\n",
       "67325    1171_350  2018-09-14       6.2     1171\n",
       "74643    1186_465  2018-09-02       0.8     1186\n",
       "192311   1472_124  2018-05-04       5.9     1472\n",
       "47375    1118_664  2018-10-24      13.4     1118\n",
       "91143    1227_563  2018-08-03      15.2     1227"
      ]
     },
     "execution_count": 5,
     "metadata": {},
     "output_type": "execute_result"
    }
   ],
   "source": [
    "calls_df.sample(n=7, random_state=1)"
   ]
  },
  {
   "cell_type": "code",
   "execution_count": 6,
   "metadata": {
    "pycharm": {
     "name": "#%%\n"
    }
   },
   "outputs": [
    {
     "name": "stdout",
     "output_type": "stream",
     "text": [
      "<class 'pandas.core.frame.DataFrame'>\n",
      "RangeIndex: 202607 entries, 0 to 202606\n",
      "Data columns (total 4 columns):\n",
      " #   Column     Non-Null Count   Dtype  \n",
      "---  ------     --------------   -----  \n",
      " 0   id         202607 non-null  object \n",
      " 1   call_date  202607 non-null  object \n",
      " 2   duration   202607 non-null  float64\n",
      " 3   user_id    202607 non-null  int64  \n",
      "dtypes: float64(1), int64(1), object(2)\n",
      "memory usage: 6.2+ MB\n"
     ]
    }
   ],
   "source": [
    "calls_df.info()"
   ]
  },
  {
   "cell_type": "markdown",
   "metadata": {
    "pycharm": {
     "name": "#%% md\n"
    }
   },
   "source": [
    "Пропущенных значений нет, но нужно проставить правильные типы и сменить имена\n",
    "колонок."
   ]
  },
  {
   "cell_type": "markdown",
   "metadata": {
    "pycharm": {
     "name": "#%% md\n"
    }
   },
   "source": [
    "#### Обработка данных"
   ]
  },
  {
   "cell_type": "markdown",
   "metadata": {
    "pycharm": {
     "name": "#%% md\n"
    }
   },
   "source": [
    "Сменим имена колонок, сделаем id звонка индексом, проставим правильный тип дате"
   ]
  },
  {
   "cell_type": "code",
   "execution_count": 7,
   "metadata": {
    "pycharm": {
     "name": "#%%\n"
    }
   },
   "outputs": [],
   "source": [
    "calls_df.columns = ['call_id', 'call_date', 'duration_minutes', 'user_id']\n",
    "calls_df = calls_df.set_index('call_id')\n",
    "calls_df['call_date'] = pd.to_datetime(calls_df['call_date'], format='%Y-%m-%d')"
   ]
  },
  {
   "cell_type": "markdown",
   "metadata": {
    "pycharm": {
     "name": "#%% md\n"
    }
   },
   "source": [
    "Звонки округляют до целых минут в большую сторону. Округлим:"
   ]
  },
  {
   "cell_type": "code",
   "execution_count": 8,
   "metadata": {
    "pycharm": {
     "name": "#%%\n"
    }
   },
   "outputs": [],
   "source": [
    "calls_df['duration_minutes'] = np.ceil(calls_df['duration_minutes'])\n",
    "calls_df['duration_minutes'] = calls_df['duration_minutes'].astype('int')"
   ]
  },
  {
   "cell_type": "markdown",
   "metadata": {
    "pycharm": {
     "name": "#%% md\n"
    }
   },
   "source": [
    "Проверим:"
   ]
  },
  {
   "cell_type": "code",
   "execution_count": 9,
   "metadata": {
    "pycharm": {
     "name": "#%%\n"
    }
   },
   "outputs": [
    {
     "data": {
      "text/html": [
       "<div>\n",
       "<style scoped>\n",
       "    .dataframe tbody tr th:only-of-type {\n",
       "        vertical-align: middle;\n",
       "    }\n",
       "\n",
       "    .dataframe tbody tr th {\n",
       "        vertical-align: top;\n",
       "    }\n",
       "\n",
       "    .dataframe thead th {\n",
       "        text-align: right;\n",
       "    }\n",
       "</style>\n",
       "<table border=\"1\" class=\"dataframe\">\n",
       "  <thead>\n",
       "    <tr style=\"text-align: right;\">\n",
       "      <th></th>\n",
       "      <th>call_date</th>\n",
       "      <th>duration_minutes</th>\n",
       "      <th>user_id</th>\n",
       "    </tr>\n",
       "    <tr>\n",
       "      <th>call_id</th>\n",
       "      <th></th>\n",
       "      <th></th>\n",
       "      <th></th>\n",
       "    </tr>\n",
       "  </thead>\n",
       "  <tbody>\n",
       "    <tr>\n",
       "      <th>1066_374</th>\n",
       "      <td>2018-08-26</td>\n",
       "      <td>0</td>\n",
       "      <td>1066</td>\n",
       "    </tr>\n",
       "    <tr>\n",
       "      <th>1168_1273</th>\n",
       "      <td>2018-03-28</td>\n",
       "      <td>17</td>\n",
       "      <td>1168</td>\n",
       "    </tr>\n",
       "    <tr>\n",
       "      <th>1171_350</th>\n",
       "      <td>2018-09-14</td>\n",
       "      <td>7</td>\n",
       "      <td>1171</td>\n",
       "    </tr>\n",
       "    <tr>\n",
       "      <th>1186_465</th>\n",
       "      <td>2018-09-02</td>\n",
       "      <td>1</td>\n",
       "      <td>1186</td>\n",
       "    </tr>\n",
       "    <tr>\n",
       "      <th>1472_124</th>\n",
       "      <td>2018-05-04</td>\n",
       "      <td>6</td>\n",
       "      <td>1472</td>\n",
       "    </tr>\n",
       "    <tr>\n",
       "      <th>1118_664</th>\n",
       "      <td>2018-10-24</td>\n",
       "      <td>14</td>\n",
       "      <td>1118</td>\n",
       "    </tr>\n",
       "    <tr>\n",
       "      <th>1227_563</th>\n",
       "      <td>2018-08-03</td>\n",
       "      <td>16</td>\n",
       "      <td>1227</td>\n",
       "    </tr>\n",
       "  </tbody>\n",
       "</table>\n",
       "</div>"
      ],
      "text/plain": [
       "           call_date  duration_minutes  user_id\n",
       "call_id                                        \n",
       "1066_374  2018-08-26                 0     1066\n",
       "1168_1273 2018-03-28                17     1168\n",
       "1171_350  2018-09-14                 7     1171\n",
       "1186_465  2018-09-02                 1     1186\n",
       "1472_124  2018-05-04                 6     1472\n",
       "1118_664  2018-10-24                14     1118\n",
       "1227_563  2018-08-03                16     1227"
      ]
     },
     "execution_count": 9,
     "metadata": {},
     "output_type": "execute_result"
    }
   ],
   "source": [
    "calls_df.sample(n=7, random_state=1)"
   ]
  },
  {
   "cell_type": "code",
   "execution_count": 10,
   "metadata": {
    "pycharm": {
     "name": "#%%\n"
    }
   },
   "outputs": [
    {
     "name": "stdout",
     "output_type": "stream",
     "text": [
      "<class 'pandas.core.frame.DataFrame'>\n",
      "Index: 202607 entries, 1000_0 to 1499_219\n",
      "Data columns (total 3 columns):\n",
      " #   Column            Non-Null Count   Dtype         \n",
      "---  ------            --------------   -----         \n",
      " 0   call_date         202607 non-null  datetime64[ns]\n",
      " 1   duration_minutes  202607 non-null  int64         \n",
      " 2   user_id           202607 non-null  int64         \n",
      "dtypes: datetime64[ns](1), int64(2)\n",
      "memory usage: 6.2+ MB\n"
     ]
    }
   ],
   "source": [
    "calls_df.info()"
   ]
  },
  {
   "cell_type": "markdown",
   "metadata": {
    "pycharm": {
     "name": "#%% md\n"
    }
   },
   "source": [
    "#### Вывод"
   ]
  },
  {
   "cell_type": "markdown",
   "metadata": {
    "pycharm": {
     "name": "#%% md\n"
    }
   },
   "source": [
    "- пропущенных значений не было;\n",
    "- минуты округлили до целых в большую сторону согласно правилам тарифных планов;\n",
    "- переименовали колонки и выставили им правильные типы."
   ]
  },
  {
   "cell_type": "markdown",
   "metadata": {
    "pycharm": {
     "name": "#%% md\n"
    }
   },
   "source": [
    "### Сообщения"
   ]
  },
  {
   "cell_type": "markdown",
   "metadata": {
    "pycharm": {
     "name": "#%% md\n"
    }
   },
   "source": [
    "#### Описание колонок"
   ]
  },
  {
   "cell_type": "markdown",
   "metadata": {
    "pycharm": {
     "name": "#%% md\n"
    }
   },
   "source": [
    "- `id` — уникальный номер сообщения\n",
    "- `message_date` — дата сообщения\n",
    "- `user_id` — идентификатор пользователя, отправившего сообщение"
   ]
  },
  {
   "cell_type": "markdown",
   "metadata": {
    "pycharm": {
     "name": "#%% md\n"
    }
   },
   "source": [
    "Посмотрим на случайные 7 записей в таблице"
   ]
  },
  {
   "cell_type": "code",
   "execution_count": 11,
   "metadata": {
    "pycharm": {
     "name": "#%%\n"
    }
   },
   "outputs": [
    {
     "data": {
      "text/html": [
       "<div>\n",
       "<style scoped>\n",
       "    .dataframe tbody tr th:only-of-type {\n",
       "        vertical-align: middle;\n",
       "    }\n",
       "\n",
       "    .dataframe tbody tr th {\n",
       "        vertical-align: top;\n",
       "    }\n",
       "\n",
       "    .dataframe thead th {\n",
       "        text-align: right;\n",
       "    }\n",
       "</style>\n",
       "<table border=\"1\" class=\"dataframe\">\n",
       "  <thead>\n",
       "    <tr style=\"text-align: right;\">\n",
       "      <th></th>\n",
       "      <th>id</th>\n",
       "      <th>message_date</th>\n",
       "      <th>user_id</th>\n",
       "    </tr>\n",
       "  </thead>\n",
       "  <tbody>\n",
       "    <tr>\n",
       "      <th>45696</th>\n",
       "      <td>1197_26</td>\n",
       "      <td>2018-12-31</td>\n",
       "      <td>1197</td>\n",
       "    </tr>\n",
       "    <tr>\n",
       "      <th>66091</th>\n",
       "      <td>1282_523</td>\n",
       "      <td>2018-11-30</td>\n",
       "      <td>1282</td>\n",
       "    </tr>\n",
       "    <tr>\n",
       "      <th>18743</th>\n",
       "      <td>1082_184</td>\n",
       "      <td>2018-10-18</td>\n",
       "      <td>1082</td>\n",
       "    </tr>\n",
       "    <tr>\n",
       "      <th>33759</th>\n",
       "      <td>1146_557</td>\n",
       "      <td>2018-12-22</td>\n",
       "      <td>1146</td>\n",
       "    </tr>\n",
       "    <tr>\n",
       "      <th>11403</th>\n",
       "      <td>1048_49</td>\n",
       "      <td>2018-09-27</td>\n",
       "      <td>1048</td>\n",
       "    </tr>\n",
       "    <tr>\n",
       "      <th>97793</th>\n",
       "      <td>1401_125</td>\n",
       "      <td>2018-08-10</td>\n",
       "      <td>1401</td>\n",
       "    </tr>\n",
       "    <tr>\n",
       "      <th>406</th>\n",
       "      <td>1000_406</td>\n",
       "      <td>2018-12-29</td>\n",
       "      <td>1000</td>\n",
       "    </tr>\n",
       "  </tbody>\n",
       "</table>\n",
       "</div>"
      ],
      "text/plain": [
       "             id message_date  user_id\n",
       "45696   1197_26   2018-12-31     1197\n",
       "66091  1282_523   2018-11-30     1282\n",
       "18743  1082_184   2018-10-18     1082\n",
       "33759  1146_557   2018-12-22     1146\n",
       "11403   1048_49   2018-09-27     1048\n",
       "97793  1401_125   2018-08-10     1401\n",
       "406    1000_406   2018-12-29     1000"
      ]
     },
     "execution_count": 11,
     "metadata": {},
     "output_type": "execute_result"
    }
   ],
   "source": [
    "messages_df.sample(n=7, random_state=1)"
   ]
  },
  {
   "cell_type": "code",
   "execution_count": 12,
   "metadata": {
    "pycharm": {
     "name": "#%%\n"
    }
   },
   "outputs": [
    {
     "name": "stdout",
     "output_type": "stream",
     "text": [
      "<class 'pandas.core.frame.DataFrame'>\n",
      "RangeIndex: 123036 entries, 0 to 123035\n",
      "Data columns (total 3 columns):\n",
      " #   Column        Non-Null Count   Dtype \n",
      "---  ------        --------------   ----- \n",
      " 0   id            123036 non-null  object\n",
      " 1   message_date  123036 non-null  object\n",
      " 2   user_id       123036 non-null  int64 \n",
      "dtypes: int64(1), object(2)\n",
      "memory usage: 2.8+ MB\n"
     ]
    }
   ],
   "source": [
    "messages_df.info()"
   ]
  },
  {
   "cell_type": "markdown",
   "metadata": {
    "pycharm": {
     "name": "#%% md\n"
    }
   },
   "source": [
    "Пропущенных значений нет, но нужно проставить правильные типы и сменить имена колонок."
   ]
  },
  {
   "cell_type": "markdown",
   "metadata": {
    "pycharm": {
     "name": "#%% md\n"
    }
   },
   "source": [
    "#### Обработка данных"
   ]
  },
  {
   "cell_type": "markdown",
   "metadata": {
    "pycharm": {
     "name": "#%% md\n"
    }
   },
   "source": [
    "Сменим имена колонок, сделаем id звонка индексом, проставим правильный тип дате"
   ]
  },
  {
   "cell_type": "code",
   "execution_count": 13,
   "metadata": {
    "pycharm": {
     "name": "#%%\n"
    }
   },
   "outputs": [],
   "source": [
    "messages_df.columns = ['message_id', 'message_date', 'user_id']\n",
    "messages_df = messages_df.set_index('message_id')\n",
    "messages_df['message_date'] = pd.to_datetime(messages_df['message_date'], format='%Y-%m-%d')"
   ]
  },
  {
   "cell_type": "markdown",
   "metadata": {
    "pycharm": {
     "name": "#%% md\n"
    }
   },
   "source": [
    "Проверим:"
   ]
  },
  {
   "cell_type": "code",
   "execution_count": 14,
   "metadata": {
    "pycharm": {
     "name": "#%%\n"
    }
   },
   "outputs": [
    {
     "data": {
      "text/html": [
       "<div>\n",
       "<style scoped>\n",
       "    .dataframe tbody tr th:only-of-type {\n",
       "        vertical-align: middle;\n",
       "    }\n",
       "\n",
       "    .dataframe tbody tr th {\n",
       "        vertical-align: top;\n",
       "    }\n",
       "\n",
       "    .dataframe thead th {\n",
       "        text-align: right;\n",
       "    }\n",
       "</style>\n",
       "<table border=\"1\" class=\"dataframe\">\n",
       "  <thead>\n",
       "    <tr style=\"text-align: right;\">\n",
       "      <th></th>\n",
       "      <th>message_date</th>\n",
       "      <th>user_id</th>\n",
       "    </tr>\n",
       "    <tr>\n",
       "      <th>message_id</th>\n",
       "      <th></th>\n",
       "      <th></th>\n",
       "    </tr>\n",
       "  </thead>\n",
       "  <tbody>\n",
       "    <tr>\n",
       "      <th>1197_26</th>\n",
       "      <td>2018-12-31</td>\n",
       "      <td>1197</td>\n",
       "    </tr>\n",
       "    <tr>\n",
       "      <th>1282_523</th>\n",
       "      <td>2018-11-30</td>\n",
       "      <td>1282</td>\n",
       "    </tr>\n",
       "    <tr>\n",
       "      <th>1082_184</th>\n",
       "      <td>2018-10-18</td>\n",
       "      <td>1082</td>\n",
       "    </tr>\n",
       "    <tr>\n",
       "      <th>1146_557</th>\n",
       "      <td>2018-12-22</td>\n",
       "      <td>1146</td>\n",
       "    </tr>\n",
       "    <tr>\n",
       "      <th>1048_49</th>\n",
       "      <td>2018-09-27</td>\n",
       "      <td>1048</td>\n",
       "    </tr>\n",
       "    <tr>\n",
       "      <th>1401_125</th>\n",
       "      <td>2018-08-10</td>\n",
       "      <td>1401</td>\n",
       "    </tr>\n",
       "    <tr>\n",
       "      <th>1000_406</th>\n",
       "      <td>2018-12-29</td>\n",
       "      <td>1000</td>\n",
       "    </tr>\n",
       "  </tbody>\n",
       "</table>\n",
       "</div>"
      ],
      "text/plain": [
       "           message_date  user_id\n",
       "message_id                      \n",
       "1197_26      2018-12-31     1197\n",
       "1282_523     2018-11-30     1282\n",
       "1082_184     2018-10-18     1082\n",
       "1146_557     2018-12-22     1146\n",
       "1048_49      2018-09-27     1048\n",
       "1401_125     2018-08-10     1401\n",
       "1000_406     2018-12-29     1000"
      ]
     },
     "execution_count": 14,
     "metadata": {},
     "output_type": "execute_result"
    }
   ],
   "source": [
    "messages_df.sample(n=7, random_state=1)"
   ]
  },
  {
   "cell_type": "code",
   "execution_count": 15,
   "metadata": {
    "pycharm": {
     "name": "#%%\n"
    }
   },
   "outputs": [
    {
     "name": "stdout",
     "output_type": "stream",
     "text": [
      "<class 'pandas.core.frame.DataFrame'>\n",
      "Index: 123036 entries, 1000_0 to 1499_183\n",
      "Data columns (total 2 columns):\n",
      " #   Column        Non-Null Count   Dtype         \n",
      "---  ------        --------------   -----         \n",
      " 0   message_date  123036 non-null  datetime64[ns]\n",
      " 1   user_id       123036 non-null  int64         \n",
      "dtypes: datetime64[ns](1), int64(1)\n",
      "memory usage: 2.8+ MB\n"
     ]
    }
   ],
   "source": [
    "messages_df.info()"
   ]
  },
  {
   "cell_type": "markdown",
   "metadata": {
    "pycharm": {
     "name": "#%% md\n"
    }
   },
   "source": [
    "#### Вывод"
   ]
  },
  {
   "cell_type": "markdown",
   "metadata": {
    "pycharm": {
     "name": "#%% md\n"
    }
   },
   "source": [
    "- пропущенных значений не было;\n",
    "- переименовали колонки и выставили им правильные типы."
   ]
  },
  {
   "cell_type": "markdown",
   "metadata": {
    "pycharm": {
     "name": "#%% md\n"
    }
   },
   "source": [
    "### Трафик"
   ]
  },
  {
   "cell_type": "markdown",
   "metadata": {
    "pycharm": {
     "name": "#%% md\n"
    }
   },
   "source": [
    "#### Описание колонок"
   ]
  },
  {
   "cell_type": "markdown",
   "metadata": {
    "pycharm": {
     "name": "#%% md\n"
    }
   },
   "source": [
    "- `id` — уникальный номер сессии\n",
    "- `mb_used` — объём потраченного за сессию интернет-трафика (в мегабайтах)\n",
    "- `session_date` — дата интернет-сессии\n",
    "- `user_id` — идентификатор пользователя"
   ]
  },
  {
   "cell_type": "markdown",
   "metadata": {
    "pycharm": {
     "name": "#%% md\n"
    }
   },
   "source": [
    "Посмотрим на случайные 7 записей в таблице"
   ]
  },
  {
   "cell_type": "code",
   "execution_count": 16,
   "metadata": {
    "pycharm": {
     "name": "#%%\n"
    }
   },
   "outputs": [
    {
     "data": {
      "text/html": [
       "<div>\n",
       "<style scoped>\n",
       "    .dataframe tbody tr th:only-of-type {\n",
       "        vertical-align: middle;\n",
       "    }\n",
       "\n",
       "    .dataframe tbody tr th {\n",
       "        vertical-align: top;\n",
       "    }\n",
       "\n",
       "    .dataframe thead th {\n",
       "        text-align: right;\n",
       "    }\n",
       "</style>\n",
       "<table border=\"1\" class=\"dataframe\">\n",
       "  <thead>\n",
       "    <tr style=\"text-align: right;\">\n",
       "      <th></th>\n",
       "      <th>Unnamed: 0</th>\n",
       "      <th>id</th>\n",
       "      <th>mb_used</th>\n",
       "      <th>session_date</th>\n",
       "      <th>user_id</th>\n",
       "    </tr>\n",
       "  </thead>\n",
       "  <tbody>\n",
       "    <tr>\n",
       "      <th>35745</th>\n",
       "      <td>35745</td>\n",
       "      <td>1124_125</td>\n",
       "      <td>122.5</td>\n",
       "      <td>2018-12-03</td>\n",
       "      <td>1124</td>\n",
       "    </tr>\n",
       "    <tr>\n",
       "      <th>18383</th>\n",
       "      <td>18383</td>\n",
       "      <td>1064_102</td>\n",
       "      <td>320.6</td>\n",
       "      <td>2018-12-19</td>\n",
       "      <td>1064</td>\n",
       "    </tr>\n",
       "    <tr>\n",
       "      <th>59774</th>\n",
       "      <td>59774</td>\n",
       "      <td>1203_22</td>\n",
       "      <td>606.0</td>\n",
       "      <td>2018-06-17</td>\n",
       "      <td>1203</td>\n",
       "    </tr>\n",
       "    <tr>\n",
       "      <th>56317</th>\n",
       "      <td>56317</td>\n",
       "      <td>1188_123</td>\n",
       "      <td>781.7</td>\n",
       "      <td>2018-05-08</td>\n",
       "      <td>1188</td>\n",
       "    </tr>\n",
       "    <tr>\n",
       "      <th>52231</th>\n",
       "      <td>52231</td>\n",
       "      <td>1176_386</td>\n",
       "      <td>151.0</td>\n",
       "      <td>2018-08-20</td>\n",
       "      <td>1176</td>\n",
       "    </tr>\n",
       "    <tr>\n",
       "      <th>20276</th>\n",
       "      <td>20276</td>\n",
       "      <td>1068_26</td>\n",
       "      <td>389.6</td>\n",
       "      <td>2018-12-04</td>\n",
       "      <td>1068</td>\n",
       "    </tr>\n",
       "    <tr>\n",
       "      <th>82748</th>\n",
       "      <td>82748</td>\n",
       "      <td>1281_64</td>\n",
       "      <td>841.9</td>\n",
       "      <td>2018-11-07</td>\n",
       "      <td>1281</td>\n",
       "    </tr>\n",
       "  </tbody>\n",
       "</table>\n",
       "</div>"
      ],
      "text/plain": [
       "       Unnamed: 0        id  mb_used session_date  user_id\n",
       "35745       35745  1124_125    122.5   2018-12-03     1124\n",
       "18383       18383  1064_102    320.6   2018-12-19     1064\n",
       "59774       59774   1203_22    606.0   2018-06-17     1203\n",
       "56317       56317  1188_123    781.7   2018-05-08     1188\n",
       "52231       52231  1176_386    151.0   2018-08-20     1176\n",
       "20276       20276   1068_26    389.6   2018-12-04     1068\n",
       "82748       82748   1281_64    841.9   2018-11-07     1281"
      ]
     },
     "execution_count": 16,
     "metadata": {},
     "output_type": "execute_result"
    }
   ],
   "source": [
    "internet_df.sample(n=7, random_state=1)"
   ]
  },
  {
   "cell_type": "code",
   "execution_count": 17,
   "metadata": {
    "pycharm": {
     "name": "#%%\n"
    }
   },
   "outputs": [
    {
     "name": "stdout",
     "output_type": "stream",
     "text": [
      "<class 'pandas.core.frame.DataFrame'>\n",
      "RangeIndex: 149396 entries, 0 to 149395\n",
      "Data columns (total 5 columns):\n",
      " #   Column        Non-Null Count   Dtype  \n",
      "---  ------        --------------   -----  \n",
      " 0   Unnamed: 0    149396 non-null  int64  \n",
      " 1   id            149396 non-null  object \n",
      " 2   mb_used       149396 non-null  float64\n",
      " 3   session_date  149396 non-null  object \n",
      " 4   user_id       149396 non-null  int64  \n",
      "dtypes: float64(1), int64(2), object(2)\n",
      "memory usage: 5.7+ MB\n"
     ]
    }
   ],
   "source": [
    "internet_df.info()"
   ]
  },
  {
   "cell_type": "markdown",
   "metadata": {
    "pycharm": {
     "name": "#%% md\n"
    }
   },
   "source": [
    "Пропущенных значений нет, но при сохранении явно записали индекс + нужно проставить\n",
    " правильные типы и сменить имена колонок."
   ]
  },
  {
   "cell_type": "markdown",
   "metadata": {
    "pycharm": {
     "name": "#%% md\n"
    }
   },
   "source": [
    "#### Обработка данных"
   ]
  },
  {
   "cell_type": "markdown",
   "metadata": {
    "pycharm": {
     "name": "#%% md\n"
    }
   },
   "source": [
    "Сменим имена колонок, сделаем id звонка индексом, проставим правильный тип дате,\n",
    "уберем лишнюю колонку.\n"
   ]
  },
  {
   "cell_type": "code",
   "execution_count": 18,
   "metadata": {
    "pycharm": {
     "name": "#%%\n"
    }
   },
   "outputs": [],
   "source": [
    "internet_df.columns = ['unused', 'session_id', 'mb_used', 'session_date', 'user_id']\n",
    "internet_df = internet_df.set_index('session_id')\n",
    "internet_df['session_date'] = pd.to_datetime(internet_df['session_date'], format='%Y-%m-%d')\n",
    "internet_df = internet_df.drop(['unused'], axis=1)"
   ]
  },
  {
   "cell_type": "markdown",
   "metadata": {
    "pycharm": {
     "name": "#%% md\n"
    }
   },
   "source": [
    "Проверим:"
   ]
  },
  {
   "cell_type": "code",
   "execution_count": 19,
   "metadata": {
    "pycharm": {
     "name": "#%%\n"
    }
   },
   "outputs": [
    {
     "data": {
      "text/html": [
       "<div>\n",
       "<style scoped>\n",
       "    .dataframe tbody tr th:only-of-type {\n",
       "        vertical-align: middle;\n",
       "    }\n",
       "\n",
       "    .dataframe tbody tr th {\n",
       "        vertical-align: top;\n",
       "    }\n",
       "\n",
       "    .dataframe thead th {\n",
       "        text-align: right;\n",
       "    }\n",
       "</style>\n",
       "<table border=\"1\" class=\"dataframe\">\n",
       "  <thead>\n",
       "    <tr style=\"text-align: right;\">\n",
       "      <th></th>\n",
       "      <th>mb_used</th>\n",
       "      <th>session_date</th>\n",
       "      <th>user_id</th>\n",
       "    </tr>\n",
       "    <tr>\n",
       "      <th>session_id</th>\n",
       "      <th></th>\n",
       "      <th></th>\n",
       "      <th></th>\n",
       "    </tr>\n",
       "  </thead>\n",
       "  <tbody>\n",
       "    <tr>\n",
       "      <th>1124_125</th>\n",
       "      <td>122.5</td>\n",
       "      <td>2018-12-03</td>\n",
       "      <td>1124</td>\n",
       "    </tr>\n",
       "    <tr>\n",
       "      <th>1064_102</th>\n",
       "      <td>320.6</td>\n",
       "      <td>2018-12-19</td>\n",
       "      <td>1064</td>\n",
       "    </tr>\n",
       "    <tr>\n",
       "      <th>1203_22</th>\n",
       "      <td>606.0</td>\n",
       "      <td>2018-06-17</td>\n",
       "      <td>1203</td>\n",
       "    </tr>\n",
       "    <tr>\n",
       "      <th>1188_123</th>\n",
       "      <td>781.7</td>\n",
       "      <td>2018-05-08</td>\n",
       "      <td>1188</td>\n",
       "    </tr>\n",
       "    <tr>\n",
       "      <th>1176_386</th>\n",
       "      <td>151.0</td>\n",
       "      <td>2018-08-20</td>\n",
       "      <td>1176</td>\n",
       "    </tr>\n",
       "    <tr>\n",
       "      <th>1068_26</th>\n",
       "      <td>389.6</td>\n",
       "      <td>2018-12-04</td>\n",
       "      <td>1068</td>\n",
       "    </tr>\n",
       "    <tr>\n",
       "      <th>1281_64</th>\n",
       "      <td>841.9</td>\n",
       "      <td>2018-11-07</td>\n",
       "      <td>1281</td>\n",
       "    </tr>\n",
       "  </tbody>\n",
       "</table>\n",
       "</div>"
      ],
      "text/plain": [
       "            mb_used session_date  user_id\n",
       "session_id                               \n",
       "1124_125      122.5   2018-12-03     1124\n",
       "1064_102      320.6   2018-12-19     1064\n",
       "1203_22       606.0   2018-06-17     1203\n",
       "1188_123      781.7   2018-05-08     1188\n",
       "1176_386      151.0   2018-08-20     1176\n",
       "1068_26       389.6   2018-12-04     1068\n",
       "1281_64       841.9   2018-11-07     1281"
      ]
     },
     "execution_count": 19,
     "metadata": {},
     "output_type": "execute_result"
    }
   ],
   "source": [
    "internet_df.sample(n=7, random_state=1)"
   ]
  },
  {
   "cell_type": "code",
   "execution_count": 20,
   "metadata": {
    "pycharm": {
     "name": "#%%\n"
    }
   },
   "outputs": [
    {
     "name": "stdout",
     "output_type": "stream",
     "text": [
      "<class 'pandas.core.frame.DataFrame'>\n",
      "Index: 149396 entries, 1000_0 to 1499_156\n",
      "Data columns (total 3 columns):\n",
      " #   Column        Non-Null Count   Dtype         \n",
      "---  ------        --------------   -----         \n",
      " 0   mb_used       149396 non-null  float64       \n",
      " 1   session_date  149396 non-null  datetime64[ns]\n",
      " 2   user_id       149396 non-null  int64         \n",
      "dtypes: datetime64[ns](1), float64(1), int64(1)\n",
      "memory usage: 4.6+ MB\n"
     ]
    }
   ],
   "source": [
    "internet_df.info()"
   ]
  },
  {
   "cell_type": "markdown",
   "metadata": {
    "pycharm": {
     "name": "#%% md\n"
    }
   },
   "source": [
    "#### Вывод"
   ]
  },
  {
   "cell_type": "markdown",
   "metadata": {
    "pycharm": {
     "name": "#%% md\n"
    }
   },
   "source": [
    "- пропущенных значений не было;\n",
    "- удалили лишнюю колонку (индекс, который был записан при сохранении файла);\n",
    "- переименовали колонки и выставили им правильные типы."
   ]
  },
  {
   "cell_type": "markdown",
   "metadata": {
    "pycharm": {
     "name": "#%% md\n"
    }
   },
   "source": [
    "### Пользователи"
   ]
  },
  {
   "cell_type": "markdown",
   "metadata": {
    "pycharm": {
     "name": "#%% md\n"
    }
   },
   "source": [
    "#### Описание колонок"
   ]
  },
  {
   "cell_type": "markdown",
   "metadata": {
    "pycharm": {
     "name": "#%% md\n"
    }
   },
   "source": [
    "- `user_id` — уникальный идентификатор пользователя\n",
    "- `first_name` — имя пользователя\n",
    "- `last_name` — фамилия пользователя\n",
    "- `age` — возраст пользователя (годы)\n",
    "- `reg_date` — дата подключения тарифа (день, месяц, год)\n",
    "- `churn_date` — дата прекращения пользования тарифом (если значение пропущено,\n",
    "то тариф ещё действовал на момент выгрузки данных)\n",
    "- `city` — город проживания пользователя\n",
    "- `tariff` — название тарифного план"
   ]
  },
  {
   "cell_type": "markdown",
   "metadata": {
    "pycharm": {
     "name": "#%% md\n"
    }
   },
   "source": [
    "Посмотрим на случайные 7 записей в таблице"
   ]
  },
  {
   "cell_type": "code",
   "execution_count": 21,
   "metadata": {
    "pycharm": {
     "name": "#%%\n"
    }
   },
   "outputs": [
    {
     "data": {
      "text/html": [
       "<div>\n",
       "<style scoped>\n",
       "    .dataframe tbody tr th:only-of-type {\n",
       "        vertical-align: middle;\n",
       "    }\n",
       "\n",
       "    .dataframe tbody tr th {\n",
       "        vertical-align: top;\n",
       "    }\n",
       "\n",
       "    .dataframe thead th {\n",
       "        text-align: right;\n",
       "    }\n",
       "</style>\n",
       "<table border=\"1\" class=\"dataframe\">\n",
       "  <thead>\n",
       "    <tr style=\"text-align: right;\">\n",
       "      <th></th>\n",
       "      <th>user_id</th>\n",
       "      <th>age</th>\n",
       "      <th>churn_date</th>\n",
       "      <th>city</th>\n",
       "      <th>first_name</th>\n",
       "      <th>last_name</th>\n",
       "      <th>reg_date</th>\n",
       "      <th>tariff</th>\n",
       "    </tr>\n",
       "  </thead>\n",
       "  <tbody>\n",
       "    <tr>\n",
       "      <th>304</th>\n",
       "      <td>1304</td>\n",
       "      <td>68</td>\n",
       "      <td>NaN</td>\n",
       "      <td>Владимир</td>\n",
       "      <td>Илья</td>\n",
       "      <td>Соловьёв</td>\n",
       "      <td>2018-11-05</td>\n",
       "      <td>ultra</td>\n",
       "    </tr>\n",
       "    <tr>\n",
       "      <th>340</th>\n",
       "      <td>1340</td>\n",
       "      <td>50</td>\n",
       "      <td>NaN</td>\n",
       "      <td>Пенза</td>\n",
       "      <td>Тимофей</td>\n",
       "      <td>Алютин</td>\n",
       "      <td>2018-01-30</td>\n",
       "      <td>smart</td>\n",
       "    </tr>\n",
       "    <tr>\n",
       "      <th>47</th>\n",
       "      <td>1047</td>\n",
       "      <td>67</td>\n",
       "      <td>NaN</td>\n",
       "      <td>Саратов</td>\n",
       "      <td>Милица</td>\n",
       "      <td>Меркулова</td>\n",
       "      <td>2018-10-29</td>\n",
       "      <td>smart</td>\n",
       "    </tr>\n",
       "    <tr>\n",
       "      <th>67</th>\n",
       "      <td>1067</td>\n",
       "      <td>45</td>\n",
       "      <td>NaN</td>\n",
       "      <td>Москва</td>\n",
       "      <td>Юзефа</td>\n",
       "      <td>Абашкина</td>\n",
       "      <td>2018-04-09</td>\n",
       "      <td>smart</td>\n",
       "    </tr>\n",
       "    <tr>\n",
       "      <th>479</th>\n",
       "      <td>1479</td>\n",
       "      <td>40</td>\n",
       "      <td>NaN</td>\n",
       "      <td>Хабаровск</td>\n",
       "      <td>Игорь</td>\n",
       "      <td>Богданов</td>\n",
       "      <td>2018-07-03</td>\n",
       "      <td>smart</td>\n",
       "    </tr>\n",
       "    <tr>\n",
       "      <th>485</th>\n",
       "      <td>1485</td>\n",
       "      <td>34</td>\n",
       "      <td>NaN</td>\n",
       "      <td>Киров</td>\n",
       "      <td>Таисия</td>\n",
       "      <td>Сухова</td>\n",
       "      <td>2018-12-29</td>\n",
       "      <td>ultra</td>\n",
       "    </tr>\n",
       "    <tr>\n",
       "      <th>310</th>\n",
       "      <td>1310</td>\n",
       "      <td>28</td>\n",
       "      <td>NaN</td>\n",
       "      <td>Уфа</td>\n",
       "      <td>Рудольф</td>\n",
       "      <td>Нестеров</td>\n",
       "      <td>2018-03-22</td>\n",
       "      <td>ultra</td>\n",
       "    </tr>\n",
       "  </tbody>\n",
       "</table>\n",
       "</div>"
      ],
      "text/plain": [
       "     user_id  age churn_date       city first_name  last_name    reg_date  \\\n",
       "304     1304   68        NaN   Владимир       Илья   Соловьёв  2018-11-05   \n",
       "340     1340   50        NaN      Пенза    Тимофей     Алютин  2018-01-30   \n",
       "47      1047   67        NaN    Саратов     Милица  Меркулова  2018-10-29   \n",
       "67      1067   45        NaN     Москва      Юзефа   Абашкина  2018-04-09   \n",
       "479     1479   40        NaN  Хабаровск      Игорь   Богданов  2018-07-03   \n",
       "485     1485   34        NaN      Киров     Таисия     Сухова  2018-12-29   \n",
       "310     1310   28        NaN        Уфа    Рудольф   Нестеров  2018-03-22   \n",
       "\n",
       "    tariff  \n",
       "304  ultra  \n",
       "340  smart  \n",
       "47   smart  \n",
       "67   smart  \n",
       "479  smart  \n",
       "485  ultra  \n",
       "310  ultra  "
      ]
     },
     "execution_count": 21,
     "metadata": {},
     "output_type": "execute_result"
    }
   ],
   "source": [
    "users_df.sample(n=7, random_state=1)"
   ]
  },
  {
   "cell_type": "code",
   "execution_count": 22,
   "metadata": {
    "pycharm": {
     "name": "#%%\n"
    }
   },
   "outputs": [
    {
     "name": "stdout",
     "output_type": "stream",
     "text": [
      "<class 'pandas.core.frame.DataFrame'>\n",
      "RangeIndex: 500 entries, 0 to 499\n",
      "Data columns (total 8 columns):\n",
      " #   Column      Non-Null Count  Dtype \n",
      "---  ------      --------------  ----- \n",
      " 0   user_id     500 non-null    int64 \n",
      " 1   age         500 non-null    int64 \n",
      " 2   churn_date  38 non-null     object\n",
      " 3   city        500 non-null    object\n",
      " 4   first_name  500 non-null    object\n",
      " 5   last_name   500 non-null    object\n",
      " 6   reg_date    500 non-null    object\n",
      " 7   tariff      500 non-null    object\n",
      "dtypes: int64(2), object(6)\n",
      "memory usage: 31.4+ KB\n"
     ]
    }
   ],
   "source": [
    "users_df.info()"
   ]
  },
  {
   "cell_type": "markdown",
   "metadata": {
    "pycharm": {
     "name": "#%% md\n"
    }
   },
   "source": [
    "Пропущенные значения только в дате прекращения пользования тарифом (это ок)."
   ]
  },
  {
   "cell_type": "markdown",
   "metadata": {
    "pycharm": {
     "name": "#%% md\n"
    }
   },
   "source": [
    "#### Обработка данных"
   ]
  },
  {
   "cell_type": "markdown",
   "metadata": {
    "pycharm": {
     "name": "#%% md\n"
    }
   },
   "source": [
    "Проставим правильный тип для дат и индекс"
   ]
  },
  {
   "cell_type": "code",
   "execution_count": 23,
   "metadata": {
    "pycharm": {
     "name": "#%%\n"
    }
   },
   "outputs": [],
   "source": [
    "users_df['reg_date'] = pd.to_datetime(users_df['reg_date'], format='%Y-%m-%d')\n",
    "users_df['churn_date'] = pd.to_datetime(users_df['churn_date'], format='%Y-%m-%d')\n",
    "\n",
    "users_df = users_df.set_index('user_id')"
   ]
  },
  {
   "cell_type": "code",
   "execution_count": 24,
   "metadata": {
    "pycharm": {
     "name": "#%%\n"
    }
   },
   "outputs": [
    {
     "data": {
      "text/html": [
       "<div>\n",
       "<style scoped>\n",
       "    .dataframe tbody tr th:only-of-type {\n",
       "        vertical-align: middle;\n",
       "    }\n",
       "\n",
       "    .dataframe tbody tr th {\n",
       "        vertical-align: top;\n",
       "    }\n",
       "\n",
       "    .dataframe thead th {\n",
       "        text-align: right;\n",
       "    }\n",
       "</style>\n",
       "<table border=\"1\" class=\"dataframe\">\n",
       "  <thead>\n",
       "    <tr style=\"text-align: right;\">\n",
       "      <th></th>\n",
       "      <th>age</th>\n",
       "      <th>churn_date</th>\n",
       "      <th>city</th>\n",
       "      <th>first_name</th>\n",
       "      <th>last_name</th>\n",
       "      <th>reg_date</th>\n",
       "      <th>tariff</th>\n",
       "    </tr>\n",
       "    <tr>\n",
       "      <th>user_id</th>\n",
       "      <th></th>\n",
       "      <th></th>\n",
       "      <th></th>\n",
       "      <th></th>\n",
       "      <th></th>\n",
       "      <th></th>\n",
       "      <th></th>\n",
       "    </tr>\n",
       "  </thead>\n",
       "  <tbody>\n",
       "    <tr>\n",
       "      <th>1304</th>\n",
       "      <td>68</td>\n",
       "      <td>NaT</td>\n",
       "      <td>Владимир</td>\n",
       "      <td>Илья</td>\n",
       "      <td>Соловьёв</td>\n",
       "      <td>2018-11-05</td>\n",
       "      <td>ultra</td>\n",
       "    </tr>\n",
       "    <tr>\n",
       "      <th>1340</th>\n",
       "      <td>50</td>\n",
       "      <td>NaT</td>\n",
       "      <td>Пенза</td>\n",
       "      <td>Тимофей</td>\n",
       "      <td>Алютин</td>\n",
       "      <td>2018-01-30</td>\n",
       "      <td>smart</td>\n",
       "    </tr>\n",
       "    <tr>\n",
       "      <th>1047</th>\n",
       "      <td>67</td>\n",
       "      <td>NaT</td>\n",
       "      <td>Саратов</td>\n",
       "      <td>Милица</td>\n",
       "      <td>Меркулова</td>\n",
       "      <td>2018-10-29</td>\n",
       "      <td>smart</td>\n",
       "    </tr>\n",
       "    <tr>\n",
       "      <th>1067</th>\n",
       "      <td>45</td>\n",
       "      <td>NaT</td>\n",
       "      <td>Москва</td>\n",
       "      <td>Юзефа</td>\n",
       "      <td>Абашкина</td>\n",
       "      <td>2018-04-09</td>\n",
       "      <td>smart</td>\n",
       "    </tr>\n",
       "    <tr>\n",
       "      <th>1479</th>\n",
       "      <td>40</td>\n",
       "      <td>NaT</td>\n",
       "      <td>Хабаровск</td>\n",
       "      <td>Игорь</td>\n",
       "      <td>Богданов</td>\n",
       "      <td>2018-07-03</td>\n",
       "      <td>smart</td>\n",
       "    </tr>\n",
       "    <tr>\n",
       "      <th>1485</th>\n",
       "      <td>34</td>\n",
       "      <td>NaT</td>\n",
       "      <td>Киров</td>\n",
       "      <td>Таисия</td>\n",
       "      <td>Сухова</td>\n",
       "      <td>2018-12-29</td>\n",
       "      <td>ultra</td>\n",
       "    </tr>\n",
       "    <tr>\n",
       "      <th>1310</th>\n",
       "      <td>28</td>\n",
       "      <td>NaT</td>\n",
       "      <td>Уфа</td>\n",
       "      <td>Рудольф</td>\n",
       "      <td>Нестеров</td>\n",
       "      <td>2018-03-22</td>\n",
       "      <td>ultra</td>\n",
       "    </tr>\n",
       "  </tbody>\n",
       "</table>\n",
       "</div>"
      ],
      "text/plain": [
       "         age churn_date       city first_name  last_name   reg_date tariff\n",
       "user_id                                                                   \n",
       "1304      68        NaT   Владимир       Илья   Соловьёв 2018-11-05  ultra\n",
       "1340      50        NaT      Пенза    Тимофей     Алютин 2018-01-30  smart\n",
       "1047      67        NaT    Саратов     Милица  Меркулова 2018-10-29  smart\n",
       "1067      45        NaT     Москва      Юзефа   Абашкина 2018-04-09  smart\n",
       "1479      40        NaT  Хабаровск      Игорь   Богданов 2018-07-03  smart\n",
       "1485      34        NaT      Киров     Таисия     Сухова 2018-12-29  ultra\n",
       "1310      28        NaT        Уфа    Рудольф   Нестеров 2018-03-22  ultra"
      ]
     },
     "execution_count": 24,
     "metadata": {},
     "output_type": "execute_result"
    }
   ],
   "source": [
    "users_df.sample(n=7, random_state=1)"
   ]
  },
  {
   "cell_type": "code",
   "execution_count": 25,
   "metadata": {
    "pycharm": {
     "name": "#%%\n"
    }
   },
   "outputs": [
    {
     "name": "stdout",
     "output_type": "stream",
     "text": [
      "<class 'pandas.core.frame.DataFrame'>\n",
      "Int64Index: 500 entries, 1000 to 1499\n",
      "Data columns (total 7 columns):\n",
      " #   Column      Non-Null Count  Dtype         \n",
      "---  ------      --------------  -----         \n",
      " 0   age         500 non-null    int64         \n",
      " 1   churn_date  38 non-null     datetime64[ns]\n",
      " 2   city        500 non-null    object        \n",
      " 3   first_name  500 non-null    object        \n",
      " 4   last_name   500 non-null    object        \n",
      " 5   reg_date    500 non-null    datetime64[ns]\n",
      " 6   tariff      500 non-null    object        \n",
      "dtypes: datetime64[ns](2), int64(1), object(4)\n",
      "memory usage: 31.2+ KB\n"
     ]
    }
   ],
   "source": [
    "users_df.info()"
   ]
  },
  {
   "cell_type": "markdown",
   "metadata": {
    "pycharm": {
     "name": "#%% md\n"
    }
   },
   "source": [
    "### Тарифные планы"
   ]
  },
  {
   "cell_type": "markdown",
   "metadata": {
    "pycharm": {
     "name": "#%% md\n"
    }
   },
   "source": [
    "#### Описание колонок"
   ]
  },
  {
   "cell_type": "markdown",
   "metadata": {
    "pycharm": {
     "name": "#%% md\n"
    }
   },
   "source": [
    "- `tariff_name` — название тарифа\n",
    "- `rub_monthly_fee` — ежемесячная абонентская плата в рублях\n",
    "- `minutes_included` — количество минут разговора в месяц, включённых в абонентскую плату\n",
    "- `messages_included` — количество сообщений в месяц, включённых в абонентскую плату\n",
    "- `mb_per_month_included` — объём интернет-трафика, включённого в абонентскую плату (в мегабайтах)\n",
    "- `rub_per_minute` — стоимость минуты разговора сверх тарифного пакета (например, если в тарифе 100 минут разговора в месяц, то со 101 минуты будет взиматься плата)\n",
    "- `rub_per_message` — стоимость отправки сообщения сверх тарифного пакета\n",
    "- `rub_per_gb` — стоимость дополнительного гигабайта интернет-трафика сверх тарифного пакета (1 гигабайт = 1024 мегабайта)"
   ]
  },
  {
   "cell_type": "code",
   "execution_count": 26,
   "metadata": {
    "pycharm": {
     "name": "#%%\n"
    }
   },
   "outputs": [
    {
     "data": {
      "text/html": [
       "<div>\n",
       "<style scoped>\n",
       "    .dataframe tbody tr th:only-of-type {\n",
       "        vertical-align: middle;\n",
       "    }\n",
       "\n",
       "    .dataframe tbody tr th {\n",
       "        vertical-align: top;\n",
       "    }\n",
       "\n",
       "    .dataframe thead th {\n",
       "        text-align: right;\n",
       "    }\n",
       "</style>\n",
       "<table border=\"1\" class=\"dataframe\">\n",
       "  <thead>\n",
       "    <tr style=\"text-align: right;\">\n",
       "      <th></th>\n",
       "      <th>messages_included</th>\n",
       "      <th>mb_per_month_included</th>\n",
       "      <th>minutes_included</th>\n",
       "      <th>rub_monthly_fee</th>\n",
       "      <th>rub_per_gb</th>\n",
       "      <th>rub_per_message</th>\n",
       "      <th>rub_per_minute</th>\n",
       "      <th>tariff_name</th>\n",
       "    </tr>\n",
       "  </thead>\n",
       "  <tbody>\n",
       "    <tr>\n",
       "      <th>0</th>\n",
       "      <td>50</td>\n",
       "      <td>15360</td>\n",
       "      <td>500</td>\n",
       "      <td>550</td>\n",
       "      <td>200</td>\n",
       "      <td>3</td>\n",
       "      <td>3</td>\n",
       "      <td>smart</td>\n",
       "    </tr>\n",
       "    <tr>\n",
       "      <th>1</th>\n",
       "      <td>1000</td>\n",
       "      <td>30720</td>\n",
       "      <td>3000</td>\n",
       "      <td>1950</td>\n",
       "      <td>150</td>\n",
       "      <td>1</td>\n",
       "      <td>1</td>\n",
       "      <td>ultra</td>\n",
       "    </tr>\n",
       "  </tbody>\n",
       "</table>\n",
       "</div>"
      ],
      "text/plain": [
       "   messages_included  mb_per_month_included  minutes_included  \\\n",
       "0                 50                  15360               500   \n",
       "1               1000                  30720              3000   \n",
       "\n",
       "   rub_monthly_fee  rub_per_gb  rub_per_message  rub_per_minute tariff_name  \n",
       "0              550         200                3               3       smart  \n",
       "1             1950         150                1               1       ultra  "
      ]
     },
     "execution_count": 26,
     "metadata": {},
     "output_type": "execute_result"
    }
   ],
   "source": [
    "tariffs_df"
   ]
  },
  {
   "cell_type": "code",
   "execution_count": 27,
   "metadata": {
    "pycharm": {
     "name": "#%%\n"
    }
   },
   "outputs": [
    {
     "name": "stdout",
     "output_type": "stream",
     "text": [
      "<class 'pandas.core.frame.DataFrame'>\n",
      "RangeIndex: 2 entries, 0 to 1\n",
      "Data columns (total 8 columns):\n",
      " #   Column                 Non-Null Count  Dtype \n",
      "---  ------                 --------------  ----- \n",
      " 0   messages_included      2 non-null      int64 \n",
      " 1   mb_per_month_included  2 non-null      int64 \n",
      " 2   minutes_included       2 non-null      int64 \n",
      " 3   rub_monthly_fee        2 non-null      int64 \n",
      " 4   rub_per_gb             2 non-null      int64 \n",
      " 5   rub_per_message        2 non-null      int64 \n",
      " 6   rub_per_minute         2 non-null      int64 \n",
      " 7   tariff_name            2 non-null      object\n",
      "dtypes: int64(7), object(1)\n",
      "memory usage: 256.0+ bytes\n"
     ]
    }
   ],
   "source": [
    "tariffs_df.info()"
   ]
  },
  {
   "cell_type": "markdown",
   "metadata": {
    "pycharm": {
     "name": "#%% md\n"
    }
   },
   "source": [
    "Проставим индекс и заменим мегабайты на гигабайты"
   ]
  },
  {
   "cell_type": "code",
   "execution_count": 28,
   "metadata": {
    "pycharm": {
     "name": "#%%\n"
    }
   },
   "outputs": [],
   "source": [
    "tariffs_df = tariffs_df.set_index('tariff_name')\n",
    "\n",
    "tariffs_df['mb_per_month_included'] /= 1024\n",
    "tariffs_df['mb_per_month_included'] = tariffs_df['mb_per_month_included'].astype('int')\n",
    "tariffs_df = tariffs_df.rename(columns={'mb_per_month_included': 'gb_per_month_included'})"
   ]
  },
  {
   "cell_type": "code",
   "execution_count": 29,
   "metadata": {
    "pycharm": {
     "name": "#%%\n"
    }
   },
   "outputs": [
    {
     "data": {
      "text/html": [
       "<div>\n",
       "<style scoped>\n",
       "    .dataframe tbody tr th:only-of-type {\n",
       "        vertical-align: middle;\n",
       "    }\n",
       "\n",
       "    .dataframe tbody tr th {\n",
       "        vertical-align: top;\n",
       "    }\n",
       "\n",
       "    .dataframe thead th {\n",
       "        text-align: right;\n",
       "    }\n",
       "</style>\n",
       "<table border=\"1\" class=\"dataframe\">\n",
       "  <thead>\n",
       "    <tr style=\"text-align: right;\">\n",
       "      <th></th>\n",
       "      <th>messages_included</th>\n",
       "      <th>gb_per_month_included</th>\n",
       "      <th>minutes_included</th>\n",
       "      <th>rub_monthly_fee</th>\n",
       "      <th>rub_per_gb</th>\n",
       "      <th>rub_per_message</th>\n",
       "      <th>rub_per_minute</th>\n",
       "    </tr>\n",
       "    <tr>\n",
       "      <th>tariff_name</th>\n",
       "      <th></th>\n",
       "      <th></th>\n",
       "      <th></th>\n",
       "      <th></th>\n",
       "      <th></th>\n",
       "      <th></th>\n",
       "      <th></th>\n",
       "    </tr>\n",
       "  </thead>\n",
       "  <tbody>\n",
       "    <tr>\n",
       "      <th>smart</th>\n",
       "      <td>50</td>\n",
       "      <td>15</td>\n",
       "      <td>500</td>\n",
       "      <td>550</td>\n",
       "      <td>200</td>\n",
       "      <td>3</td>\n",
       "      <td>3</td>\n",
       "    </tr>\n",
       "    <tr>\n",
       "      <th>ultra</th>\n",
       "      <td>1000</td>\n",
       "      <td>30</td>\n",
       "      <td>3000</td>\n",
       "      <td>1950</td>\n",
       "      <td>150</td>\n",
       "      <td>1</td>\n",
       "      <td>1</td>\n",
       "    </tr>\n",
       "  </tbody>\n",
       "</table>\n",
       "</div>"
      ],
      "text/plain": [
       "             messages_included  gb_per_month_included  minutes_included  \\\n",
       "tariff_name                                                               \n",
       "smart                       50                     15               500   \n",
       "ultra                     1000                     30              3000   \n",
       "\n",
       "             rub_monthly_fee  rub_per_gb  rub_per_message  rub_per_minute  \n",
       "tariff_name                                                                \n",
       "smart                    550         200                3               3  \n",
       "ultra                   1950         150                1               1  "
      ]
     },
     "execution_count": 29,
     "metadata": {},
     "output_type": "execute_result"
    }
   ],
   "source": [
    "tariffs_df"
   ]
  },
  {
   "cell_type": "markdown",
   "metadata": {
    "pycharm": {
     "name": "#%% md\n"
    }
   },
   "source": [
    "### Вывод"
   ]
  },
  {
   "cell_type": "markdown",
   "metadata": {
    "pycharm": {
     "name": "#%% md\n"
    }
   },
   "source": [
    "- пропущенных значений не было, за исключением даты смены тарифа;\n",
    "- в файле с трафиком был сохранен индекс — удалили;\n",
    "- минуты округлили до целых в большую сторону согласно правилам тарифных планов;\n",
    "- переименовали колонки и выставили им правильные типы;\n",
    "- проблем с данными на этом этапе не выявлено."
   ]
  },
  {
   "cell_type": "markdown",
   "metadata": {
    "pycharm": {
     "name": "#%% md\n"
    }
   },
   "source": [
    "## Подсчет данных"
   ]
  },
  {
   "cell_type": "markdown",
   "metadata": {
    "pycharm": {
     "name": "#%% md\n"
    }
   },
   "source": [
    "Добавим колонку с месяцем"
   ]
  },
  {
   "cell_type": "code",
   "execution_count": 30,
   "metadata": {
    "pycharm": {
     "name": "#%%\n"
    }
   },
   "outputs": [],
   "source": [
    "calls_df['month'] = pd.DatetimeIndex(calls_df['call_date']).month\n",
    "internet_df['month'] = pd.DatetimeIndex(internet_df['session_date']).month\n",
    "messages_df['month'] = pd.DatetimeIndex(messages_df['message_date']).month"
   ]
  },
  {
   "cell_type": "markdown",
   "metadata": {
    "pycharm": {
     "name": "#%% md\n"
    }
   },
   "source": [
    "### Группировка данных"
   ]
  },
  {
   "cell_type": "markdown",
   "metadata": {
    "pycharm": {
     "name": "#%% md\n"
    }
   },
   "source": [
    "Посчитаем для каждого пользователя количество сделанных звонков\n",
    "и израсходованных минут разговора по месяцам."
   ]
  },
  {
   "cell_type": "code",
   "execution_count": 31,
   "metadata": {
    "pycharm": {
     "name": "#%%\n"
    }
   },
   "outputs": [],
   "source": [
    "calls_df_grouped = (\n",
    "    calls_df\n",
    "    .groupby(['user_id', 'month'])\n",
    "    .agg(\n",
    "        calls_count=('duration_minutes', 'count'),\n",
    "        calls_duration=('duration_minutes', 'sum'))\n",
    "    .reset_index()\n",
    ")"
   ]
  },
  {
   "cell_type": "code",
   "execution_count": 32,
   "metadata": {
    "pycharm": {
     "name": "#%%\n"
    }
   },
   "outputs": [
    {
     "data": {
      "text/html": [
       "<div>\n",
       "<style scoped>\n",
       "    .dataframe tbody tr th:only-of-type {\n",
       "        vertical-align: middle;\n",
       "    }\n",
       "\n",
       "    .dataframe tbody tr th {\n",
       "        vertical-align: top;\n",
       "    }\n",
       "\n",
       "    .dataframe thead th {\n",
       "        text-align: right;\n",
       "    }\n",
       "</style>\n",
       "<table border=\"1\" class=\"dataframe\">\n",
       "  <thead>\n",
       "    <tr style=\"text-align: right;\">\n",
       "      <th></th>\n",
       "      <th>user_id</th>\n",
       "      <th>month</th>\n",
       "      <th>calls_count</th>\n",
       "      <th>calls_duration</th>\n",
       "    </tr>\n",
       "  </thead>\n",
       "  <tbody>\n",
       "    <tr>\n",
       "      <th>0</th>\n",
       "      <td>1000</td>\n",
       "      <td>5</td>\n",
       "      <td>22</td>\n",
       "      <td>159</td>\n",
       "    </tr>\n",
       "    <tr>\n",
       "      <th>1</th>\n",
       "      <td>1000</td>\n",
       "      <td>6</td>\n",
       "      <td>43</td>\n",
       "      <td>172</td>\n",
       "    </tr>\n",
       "    <tr>\n",
       "      <th>2</th>\n",
       "      <td>1000</td>\n",
       "      <td>7</td>\n",
       "      <td>47</td>\n",
       "      <td>340</td>\n",
       "    </tr>\n",
       "    <tr>\n",
       "      <th>3</th>\n",
       "      <td>1000</td>\n",
       "      <td>8</td>\n",
       "      <td>52</td>\n",
       "      <td>408</td>\n",
       "    </tr>\n",
       "    <tr>\n",
       "      <th>4</th>\n",
       "      <td>1000</td>\n",
       "      <td>9</td>\n",
       "      <td>58</td>\n",
       "      <td>466</td>\n",
       "    </tr>\n",
       "  </tbody>\n",
       "</table>\n",
       "</div>"
      ],
      "text/plain": [
       "   user_id  month  calls_count  calls_duration\n",
       "0     1000      5           22             159\n",
       "1     1000      6           43             172\n",
       "2     1000      7           47             340\n",
       "3     1000      8           52             408\n",
       "4     1000      9           58             466"
      ]
     },
     "execution_count": 32,
     "metadata": {},
     "output_type": "execute_result"
    }
   ],
   "source": [
    "calls_df_grouped.head()"
   ]
  },
  {
   "cell_type": "markdown",
   "metadata": {
    "pycharm": {
     "name": "#%% md\n"
    }
   },
   "source": [
    "Аналогично для каждого посчитаем количество отправленных сообщений по месяцам"
   ]
  },
  {
   "cell_type": "code",
   "execution_count": 33,
   "metadata": {
    "pycharm": {
     "name": "#%%\n"
    }
   },
   "outputs": [],
   "source": [
    "messages_df_grouped = (\n",
    "    messages_df\n",
    "    .groupby(['user_id', 'month'])\n",
    "    .agg(messages_count=('message_date', 'count'))\n",
    "    .reset_index()\n",
    ")"
   ]
  },
  {
   "cell_type": "code",
   "execution_count": 34,
   "metadata": {
    "pycharm": {
     "name": "#%%\n"
    }
   },
   "outputs": [
    {
     "data": {
      "text/html": [
       "<div>\n",
       "<style scoped>\n",
       "    .dataframe tbody tr th:only-of-type {\n",
       "        vertical-align: middle;\n",
       "    }\n",
       "\n",
       "    .dataframe tbody tr th {\n",
       "        vertical-align: top;\n",
       "    }\n",
       "\n",
       "    .dataframe thead th {\n",
       "        text-align: right;\n",
       "    }\n",
       "</style>\n",
       "<table border=\"1\" class=\"dataframe\">\n",
       "  <thead>\n",
       "    <tr style=\"text-align: right;\">\n",
       "      <th></th>\n",
       "      <th>user_id</th>\n",
       "      <th>month</th>\n",
       "      <th>messages_count</th>\n",
       "    </tr>\n",
       "  </thead>\n",
       "  <tbody>\n",
       "    <tr>\n",
       "      <th>0</th>\n",
       "      <td>1000</td>\n",
       "      <td>5</td>\n",
       "      <td>22</td>\n",
       "    </tr>\n",
       "    <tr>\n",
       "      <th>1</th>\n",
       "      <td>1000</td>\n",
       "      <td>6</td>\n",
       "      <td>60</td>\n",
       "    </tr>\n",
       "    <tr>\n",
       "      <th>2</th>\n",
       "      <td>1000</td>\n",
       "      <td>7</td>\n",
       "      <td>75</td>\n",
       "    </tr>\n",
       "    <tr>\n",
       "      <th>3</th>\n",
       "      <td>1000</td>\n",
       "      <td>8</td>\n",
       "      <td>81</td>\n",
       "    </tr>\n",
       "    <tr>\n",
       "      <th>4</th>\n",
       "      <td>1000</td>\n",
       "      <td>9</td>\n",
       "      <td>57</td>\n",
       "    </tr>\n",
       "  </tbody>\n",
       "</table>\n",
       "</div>"
      ],
      "text/plain": [
       "   user_id  month  messages_count\n",
       "0     1000      5              22\n",
       "1     1000      6              60\n",
       "2     1000      7              75\n",
       "3     1000      8              81\n",
       "4     1000      9              57"
      ]
     },
     "execution_count": 34,
     "metadata": {},
     "output_type": "execute_result"
    }
   ],
   "source": [
    "messages_df_grouped.head()"
   ]
  },
  {
   "cell_type": "markdown",
   "metadata": {
    "pycharm": {
     "name": "#%% md\n"
    }
   },
   "source": [
    "… и объем использованного трафика в гигабайтах (округляется в большую сторону по условию)"
   ]
  },
  {
   "cell_type": "code",
   "execution_count": 35,
   "metadata": {
    "pycharm": {
     "name": "#%%\n"
    }
   },
   "outputs": [],
   "source": [
    "internet_df_grouped = (\n",
    "    internet_df\n",
    "    .groupby(['user_id', 'month'])\n",
    "    .agg(internet_used=('mb_used', 'sum'))\n",
    "    .reset_index()\n",
    ")\n",
    "\n",
    "internet_df_grouped['internet_used'] = internet_df_grouped['internet_used'] / 1024\n",
    "internet_df_grouped['internet_used'] = internet_df_grouped['internet_used'].apply(np.ceil).astype('int')"
   ]
  },
  {
   "cell_type": "code",
   "execution_count": 36,
   "metadata": {
    "pycharm": {
     "name": "#%%\n"
    }
   },
   "outputs": [
    {
     "data": {
      "text/html": [
       "<div>\n",
       "<style scoped>\n",
       "    .dataframe tbody tr th:only-of-type {\n",
       "        vertical-align: middle;\n",
       "    }\n",
       "\n",
       "    .dataframe tbody tr th {\n",
       "        vertical-align: top;\n",
       "    }\n",
       "\n",
       "    .dataframe thead th {\n",
       "        text-align: right;\n",
       "    }\n",
       "</style>\n",
       "<table border=\"1\" class=\"dataframe\">\n",
       "  <thead>\n",
       "    <tr style=\"text-align: right;\">\n",
       "      <th></th>\n",
       "      <th>user_id</th>\n",
       "      <th>month</th>\n",
       "      <th>internet_used</th>\n",
       "    </tr>\n",
       "  </thead>\n",
       "  <tbody>\n",
       "    <tr>\n",
       "      <th>0</th>\n",
       "      <td>1000</td>\n",
       "      <td>5</td>\n",
       "      <td>3</td>\n",
       "    </tr>\n",
       "    <tr>\n",
       "      <th>1</th>\n",
       "      <td>1000</td>\n",
       "      <td>6</td>\n",
       "      <td>23</td>\n",
       "    </tr>\n",
       "    <tr>\n",
       "      <th>2</th>\n",
       "      <td>1000</td>\n",
       "      <td>7</td>\n",
       "      <td>14</td>\n",
       "    </tr>\n",
       "    <tr>\n",
       "      <th>3</th>\n",
       "      <td>1000</td>\n",
       "      <td>8</td>\n",
       "      <td>14</td>\n",
       "    </tr>\n",
       "    <tr>\n",
       "      <th>4</th>\n",
       "      <td>1000</td>\n",
       "      <td>9</td>\n",
       "      <td>15</td>\n",
       "    </tr>\n",
       "  </tbody>\n",
       "</table>\n",
       "</div>"
      ],
      "text/plain": [
       "   user_id  month  internet_used\n",
       "0     1000      5              3\n",
       "1     1000      6             23\n",
       "2     1000      7             14\n",
       "3     1000      8             14\n",
       "4     1000      9             15"
      ]
     },
     "execution_count": 36,
     "metadata": {},
     "output_type": "execute_result"
    }
   ],
   "source": [
    "internet_df_grouped.head()"
   ]
  },
  {
   "cell_type": "markdown",
   "metadata": {
    "pycharm": {
     "name": "#%% md\n"
    }
   },
   "source": [
    "### Объединение данных о пользователях"
   ]
  },
  {
   "cell_type": "code",
   "execution_count": 37,
   "metadata": {
    "pycharm": {
     "name": "#%%\n"
    }
   },
   "outputs": [],
   "source": [
    "def merge(df_left, df_right):\n",
    "    return (\n",
    "        df_left\n",
    "        .merge(df_right, how='outer', on=['user_id', 'month'])\n",
    "        .set_index('user_id')\n",
    "    )"
   ]
  },
  {
   "cell_type": "code",
   "execution_count": 38,
   "metadata": {
    "pycharm": {
     "name": "#%%\n"
    }
   },
   "outputs": [],
   "source": [
    "df = merge(calls_df_grouped, messages_df_grouped)\n",
    "df = merge(df, internet_df_grouped)\n",
    "df = (\n",
    "    users_df\n",
    "    .merge(df, how='left', left_index=True, right_on='user_id')\n",
    "    .set_index('user_id')\n",
    ")"
   ]
  },
  {
   "cell_type": "code",
   "execution_count": 39,
   "metadata": {
    "pycharm": {
     "name": "#%%\n"
    }
   },
   "outputs": [
    {
     "data": {
      "text/html": [
       "<div>\n",
       "<style scoped>\n",
       "    .dataframe tbody tr th:only-of-type {\n",
       "        vertical-align: middle;\n",
       "    }\n",
       "\n",
       "    .dataframe tbody tr th {\n",
       "        vertical-align: top;\n",
       "    }\n",
       "\n",
       "    .dataframe thead th {\n",
       "        text-align: right;\n",
       "    }\n",
       "</style>\n",
       "<table border=\"1\" class=\"dataframe\">\n",
       "  <thead>\n",
       "    <tr style=\"text-align: right;\">\n",
       "      <th></th>\n",
       "      <th>age</th>\n",
       "      <th>churn_date</th>\n",
       "      <th>city</th>\n",
       "      <th>first_name</th>\n",
       "      <th>last_name</th>\n",
       "      <th>reg_date</th>\n",
       "      <th>tariff</th>\n",
       "      <th>month</th>\n",
       "      <th>calls_count</th>\n",
       "      <th>calls_duration</th>\n",
       "      <th>messages_count</th>\n",
       "      <th>internet_used</th>\n",
       "    </tr>\n",
       "    <tr>\n",
       "      <th>user_id</th>\n",
       "      <th></th>\n",
       "      <th></th>\n",
       "      <th></th>\n",
       "      <th></th>\n",
       "      <th></th>\n",
       "      <th></th>\n",
       "      <th></th>\n",
       "      <th></th>\n",
       "      <th></th>\n",
       "      <th></th>\n",
       "      <th></th>\n",
       "      <th></th>\n",
       "    </tr>\n",
       "  </thead>\n",
       "  <tbody>\n",
       "    <tr>\n",
       "      <th>1000</th>\n",
       "      <td>52</td>\n",
       "      <td>NaT</td>\n",
       "      <td>Краснодар</td>\n",
       "      <td>Рафаил</td>\n",
       "      <td>Верещагин</td>\n",
       "      <td>2018-05-25</td>\n",
       "      <td>ultra</td>\n",
       "      <td>5.0</td>\n",
       "      <td>22.0</td>\n",
       "      <td>159.0</td>\n",
       "      <td>22.0</td>\n",
       "      <td>3.0</td>\n",
       "    </tr>\n",
       "    <tr>\n",
       "      <th>1000</th>\n",
       "      <td>52</td>\n",
       "      <td>NaT</td>\n",
       "      <td>Краснодар</td>\n",
       "      <td>Рафаил</td>\n",
       "      <td>Верещагин</td>\n",
       "      <td>2018-05-25</td>\n",
       "      <td>ultra</td>\n",
       "      <td>6.0</td>\n",
       "      <td>43.0</td>\n",
       "      <td>172.0</td>\n",
       "      <td>60.0</td>\n",
       "      <td>23.0</td>\n",
       "    </tr>\n",
       "    <tr>\n",
       "      <th>1000</th>\n",
       "      <td>52</td>\n",
       "      <td>NaT</td>\n",
       "      <td>Краснодар</td>\n",
       "      <td>Рафаил</td>\n",
       "      <td>Верещагин</td>\n",
       "      <td>2018-05-25</td>\n",
       "      <td>ultra</td>\n",
       "      <td>7.0</td>\n",
       "      <td>47.0</td>\n",
       "      <td>340.0</td>\n",
       "      <td>75.0</td>\n",
       "      <td>14.0</td>\n",
       "    </tr>\n",
       "    <tr>\n",
       "      <th>1000</th>\n",
       "      <td>52</td>\n",
       "      <td>NaT</td>\n",
       "      <td>Краснодар</td>\n",
       "      <td>Рафаил</td>\n",
       "      <td>Верещагин</td>\n",
       "      <td>2018-05-25</td>\n",
       "      <td>ultra</td>\n",
       "      <td>8.0</td>\n",
       "      <td>52.0</td>\n",
       "      <td>408.0</td>\n",
       "      <td>81.0</td>\n",
       "      <td>14.0</td>\n",
       "    </tr>\n",
       "    <tr>\n",
       "      <th>1000</th>\n",
       "      <td>52</td>\n",
       "      <td>NaT</td>\n",
       "      <td>Краснодар</td>\n",
       "      <td>Рафаил</td>\n",
       "      <td>Верещагин</td>\n",
       "      <td>2018-05-25</td>\n",
       "      <td>ultra</td>\n",
       "      <td>9.0</td>\n",
       "      <td>58.0</td>\n",
       "      <td>466.0</td>\n",
       "      <td>57.0</td>\n",
       "      <td>15.0</td>\n",
       "    </tr>\n",
       "  </tbody>\n",
       "</table>\n",
       "</div>"
      ],
      "text/plain": [
       "         age churn_date       city first_name  last_name   reg_date tariff  \\\n",
       "user_id                                                                      \n",
       "1000      52        NaT  Краснодар     Рафаил  Верещагин 2018-05-25  ultra   \n",
       "1000      52        NaT  Краснодар     Рафаил  Верещагин 2018-05-25  ultra   \n",
       "1000      52        NaT  Краснодар     Рафаил  Верещагин 2018-05-25  ultra   \n",
       "1000      52        NaT  Краснодар     Рафаил  Верещагин 2018-05-25  ultra   \n",
       "1000      52        NaT  Краснодар     Рафаил  Верещагин 2018-05-25  ultra   \n",
       "\n",
       "         month  calls_count  calls_duration  messages_count  internet_used  \n",
       "user_id                                                                     \n",
       "1000       5.0         22.0           159.0            22.0            3.0  \n",
       "1000       6.0         43.0           172.0            60.0           23.0  \n",
       "1000       7.0         47.0           340.0            75.0           14.0  \n",
       "1000       8.0         52.0           408.0            81.0           14.0  \n",
       "1000       9.0         58.0           466.0            57.0           15.0  "
      ]
     },
     "execution_count": 39,
     "metadata": {},
     "output_type": "execute_result"
    }
   ],
   "source": [
    "df.head()"
   ]
  },
  {
   "cell_type": "markdown",
   "metadata": {
    "pycharm": {
     "name": "#%% md\n"
    }
   },
   "source": [
    "### Валидация и очистка данных"
   ]
  },
  {
   "cell_type": "code",
   "execution_count": 40,
   "metadata": {
    "pycharm": {
     "name": "#%%\n"
    }
   },
   "outputs": [
    {
     "name": "stdout",
     "output_type": "stream",
     "text": [
      "Всего записей: 3216\n"
     ]
    }
   ],
   "source": [
    "print(f'Всего записей: {len(df)}')"
   ]
  },
  {
   "cell_type": "markdown",
   "metadata": {
    "pycharm": {
     "name": "#%% md\n"
    }
   },
   "source": [
    "Проверим на наличие невозможных дат оттока до даты регистрации"
   ]
  },
  {
   "cell_type": "code",
   "execution_count": 41,
   "metadata": {
    "pycharm": {
     "name": "#%%\n"
    }
   },
   "outputs": [
    {
     "data": {
      "text/html": [
       "<div>\n",
       "<style scoped>\n",
       "    .dataframe tbody tr th:only-of-type {\n",
       "        vertical-align: middle;\n",
       "    }\n",
       "\n",
       "    .dataframe tbody tr th {\n",
       "        vertical-align: top;\n",
       "    }\n",
       "\n",
       "    .dataframe thead th {\n",
       "        text-align: right;\n",
       "    }\n",
       "</style>\n",
       "<table border=\"1\" class=\"dataframe\">\n",
       "  <thead>\n",
       "    <tr style=\"text-align: right;\">\n",
       "      <th></th>\n",
       "      <th>age</th>\n",
       "      <th>churn_date</th>\n",
       "      <th>city</th>\n",
       "      <th>first_name</th>\n",
       "      <th>last_name</th>\n",
       "      <th>reg_date</th>\n",
       "      <th>tariff</th>\n",
       "      <th>month</th>\n",
       "      <th>calls_count</th>\n",
       "      <th>calls_duration</th>\n",
       "      <th>messages_count</th>\n",
       "      <th>internet_used</th>\n",
       "    </tr>\n",
       "    <tr>\n",
       "      <th>user_id</th>\n",
       "      <th></th>\n",
       "      <th></th>\n",
       "      <th></th>\n",
       "      <th></th>\n",
       "      <th></th>\n",
       "      <th></th>\n",
       "      <th></th>\n",
       "      <th></th>\n",
       "      <th></th>\n",
       "      <th></th>\n",
       "      <th></th>\n",
       "      <th></th>\n",
       "    </tr>\n",
       "  </thead>\n",
       "  <tbody>\n",
       "  </tbody>\n",
       "</table>\n",
       "</div>"
      ],
      "text/plain": [
       "Empty DataFrame\n",
       "Columns: [age, churn_date, city, first_name, last_name, reg_date, tariff, month, calls_count, calls_duration, messages_count, internet_used]\n",
       "Index: []"
      ]
     },
     "execution_count": 41,
     "metadata": {},
     "output_type": "execute_result"
    }
   ],
   "source": [
    "df[(~df['churn_date'].isna())\n",
    "   & (df['churn_date'] <= df['reg_date'])]"
   ]
  },
  {
   "cell_type": "markdown",
   "metadata": {
    "pycharm": {
     "name": "#%% md\n"
    }
   },
   "source": [
    "Посмотрим на записи, где люди перестали пользоваться тарифом"
   ]
  },
  {
   "cell_type": "code",
   "execution_count": 42,
   "metadata": {
    "pycharm": {
     "name": "#%%\n"
    }
   },
   "outputs": [],
   "source": [
    "churn_month_filter = pd.DatetimeIndex(df['churn_date']).month <= df['month']"
   ]
  },
  {
   "cell_type": "code",
   "execution_count": 43,
   "metadata": {
    "pycharm": {
     "name": "#%%\n"
    }
   },
   "outputs": [
    {
     "name": "stdout",
     "output_type": "stream",
     "text": [
      "Количество записей с неполными данными за месяц (из-за отказа от тарифа): 36\n"
     ]
    }
   ],
   "source": [
    "print('Количество записей с неполными данными за месяц (из-за отказа от тарифа): '\n",
    "      f'{len(df[churn_month_filter])}')"
   ]
  },
  {
   "cell_type": "markdown",
   "metadata": {
    "pycharm": {
     "name": "#%% md\n"
    }
   },
   "source": [
    "Удалим эти данные, т. к. они не за полный месяц использования"
   ]
  },
  {
   "cell_type": "code",
   "execution_count": 44,
   "metadata": {
    "pycharm": {
     "name": "#%%\n"
    }
   },
   "outputs": [],
   "source": [
    "df = df[~churn_month_filter]"
   ]
  },
  {
   "cell_type": "markdown",
   "metadata": {
    "pycharm": {
     "name": "#%% md\n"
    }
   },
   "source": [
    "Посмотрим на записи, где месяц регистрации совпадает с началом использования тарифа"
   ]
  },
  {
   "cell_type": "code",
   "execution_count": 45,
   "metadata": {
    "pycharm": {
     "name": "#%%\n"
    }
   },
   "outputs": [],
   "source": [
    "reg_month_filter = pd.DatetimeIndex(df['reg_date']).month >= df['month']"
   ]
  },
  {
   "cell_type": "code",
   "execution_count": 46,
   "metadata": {
    "pycharm": {
     "name": "#%%\n"
    }
   },
   "outputs": [
    {
     "name": "stdout",
     "output_type": "stream",
     "text": [
      "Количество записей с неполными данными за месяц (из-за совпадения даты регистрации и информации использования): 498\n"
     ]
    }
   ],
   "source": [
    "print('Количество записей с неполными данными за месяц (из-за совпадения даты'\n",
    "      f' регистрации и информации использования): {len(df[reg_month_filter])}')"
   ]
  },
  {
   "cell_type": "markdown",
   "metadata": {
    "pycharm": {
     "name": "#%% md\n"
    }
   },
   "source": [
    "Удалим эти данные, т. к. они не за полный месяц использования"
   ]
  },
  {
   "cell_type": "code",
   "execution_count": 47,
   "metadata": {
    "pycharm": {
     "name": "#%%\n"
    }
   },
   "outputs": [],
   "source": [
    "df = df[~reg_month_filter]"
   ]
  },
  {
   "cell_type": "markdown",
   "metadata": {
    "pycharm": {
     "name": "#%% md\n"
    }
   },
   "source": [
    "Посмотрим на пропуски в данных из-за объединений:"
   ]
  },
  {
   "cell_type": "code",
   "execution_count": 48,
   "metadata": {
    "pycharm": {
     "name": "#%%\n"
    }
   },
   "outputs": [
    {
     "data": {
      "text/plain": [
       "age                  0\n",
       "churn_date        2565\n",
       "city                 0\n",
       "first_name           0\n",
       "last_name            0\n",
       "reg_date             0\n",
       "tariff               0\n",
       "month                2\n",
       "calls_count         35\n",
       "calls_duration      35\n",
       "messages_count     405\n",
       "internet_used        9\n",
       "dtype: int64"
      ]
     },
     "execution_count": 48,
     "metadata": {},
     "output_type": "execute_result"
    }
   ],
   "source": [
    "df.isna().sum()"
   ]
  },
  {
   "cell_type": "markdown",
   "metadata": {
    "pycharm": {
     "name": "#%% md\n"
    }
   },
   "source": [
    "Удалим двух пользователей, по которым нет статистики использования"
   ]
  },
  {
   "cell_type": "code",
   "execution_count": 49,
   "metadata": {
    "pycharm": {
     "name": "#%%\n"
    }
   },
   "outputs": [],
   "source": [
    "df = df.dropna(subset=['month'])"
   ]
  },
  {
   "cell_type": "markdown",
   "metadata": {
    "pycharm": {
     "name": "#%% md\n"
    }
   },
   "source": [
    "Пропущенныe данные по использованию заменим нулем (не использовались)"
   ]
  },
  {
   "cell_type": "code",
   "execution_count": 50,
   "metadata": {
    "pycharm": {
     "name": "#%%\n"
    }
   },
   "outputs": [],
   "source": [
    "df.loc[df['calls_count'].isna(), 'calls_count'] = 0\n",
    "df.loc[df['calls_duration'].isna(), 'calls_duration'] = 0\n",
    "df.loc[df['messages_count'].isna(), 'messages_count'] = 0\n",
    "df.loc[df['internet_used'].isna(), 'internet_used'] = 0"
   ]
  },
  {
   "cell_type": "code",
   "execution_count": 51,
   "metadata": {
    "pycharm": {
     "name": "#%%\n"
    }
   },
   "outputs": [],
   "source": [
    "# целые типы слетели после джойна из-за пустых значений\n",
    "df = df.astype(\n",
    "    {\n",
    "        'month': 'int',\n",
    "        'calls_count': 'int',\n",
    "        'calls_duration': 'int',\n",
    "        'messages_count': 'int',\n",
    "        'internet_used': 'int',\n",
    "    })"
   ]
  },
  {
   "cell_type": "code",
   "execution_count": 52,
   "metadata": {
    "pycharm": {
     "name": "#%%\n"
    }
   },
   "outputs": [
    {
     "name": "stdout",
     "output_type": "stream",
     "text": [
      "Оставшаяся выборка 2680\n"
     ]
    }
   ],
   "source": [
    "print(f'Оставшаяся выборка {len(df)}')"
   ]
  },
  {
   "cell_type": "markdown",
   "metadata": {
    "pycharm": {
     "name": "#%% md\n"
    }
   },
   "source": [
    "### Выручка с пользователя по месяцам"
   ]
  },
  {
   "cell_type": "markdown",
   "metadata": {
    "pycharm": {
     "name": "#%% md\n"
    }
   },
   "source": [
    "Посчитаем помесячную выручку"
   ]
  },
  {
   "cell_type": "code",
   "execution_count": 53,
   "metadata": {
    "pycharm": {
     "name": "#%%\n"
    }
   },
   "outputs": [],
   "source": [
    "def get_revenue(row):\n",
    "    plan = tariffs_df.loc[row['tariff']]\n",
    "    revenue = plan['rub_monthly_fee']\n",
    "\n",
    "    paid_messages = row['messages_count'] - plan['messages_included']\n",
    "    paid_messages = 0 if paid_messages <= 0 else paid_messages\n",
    "    revenue += paid_messages * plan['rub_per_message']\n",
    "\n",
    "    paid_calls = row['calls_duration'] - plan['minutes_included']\n",
    "    paid_calls = 0 if paid_calls <= 0 else paid_calls\n",
    "    revenue += paid_calls * plan['rub_per_minute']\n",
    "\n",
    "    paid_internet = row['internet_used'] - plan['gb_per_month_included']\n",
    "    paid_internet = 0 if paid_internet <= 0 else paid_internet\n",
    "    revenue += paid_internet * plan['rub_per_gb']\n",
    "\n",
    "    return revenue"
   ]
  },
  {
   "cell_type": "code",
   "execution_count": 54,
   "metadata": {
    "pycharm": {
     "name": "#%%\n"
    }
   },
   "outputs": [],
   "source": [
    "df['revenue'] = df.apply(get_revenue, axis=1)"
   ]
  },
  {
   "cell_type": "code",
   "execution_count": 55,
   "metadata": {
    "pycharm": {
     "name": "#%%\n"
    }
   },
   "outputs": [
    {
     "data": {
      "text/html": [
       "<div>\n",
       "<style scoped>\n",
       "    .dataframe tbody tr th:only-of-type {\n",
       "        vertical-align: middle;\n",
       "    }\n",
       "\n",
       "    .dataframe tbody tr th {\n",
       "        vertical-align: top;\n",
       "    }\n",
       "\n",
       "    .dataframe thead th {\n",
       "        text-align: right;\n",
       "    }\n",
       "</style>\n",
       "<table border=\"1\" class=\"dataframe\">\n",
       "  <thead>\n",
       "    <tr style=\"text-align: right;\">\n",
       "      <th></th>\n",
       "      <th>age</th>\n",
       "      <th>churn_date</th>\n",
       "      <th>city</th>\n",
       "      <th>first_name</th>\n",
       "      <th>last_name</th>\n",
       "      <th>reg_date</th>\n",
       "      <th>tariff</th>\n",
       "      <th>month</th>\n",
       "      <th>calls_count</th>\n",
       "      <th>calls_duration</th>\n",
       "      <th>messages_count</th>\n",
       "      <th>internet_used</th>\n",
       "      <th>revenue</th>\n",
       "    </tr>\n",
       "    <tr>\n",
       "      <th>user_id</th>\n",
       "      <th></th>\n",
       "      <th></th>\n",
       "      <th></th>\n",
       "      <th></th>\n",
       "      <th></th>\n",
       "      <th></th>\n",
       "      <th></th>\n",
       "      <th></th>\n",
       "      <th></th>\n",
       "      <th></th>\n",
       "      <th></th>\n",
       "      <th></th>\n",
       "      <th></th>\n",
       "    </tr>\n",
       "  </thead>\n",
       "  <tbody>\n",
       "    <tr>\n",
       "      <th>1045</th>\n",
       "      <td>48</td>\n",
       "      <td>NaT</td>\n",
       "      <td>Улан-Удэ</td>\n",
       "      <td>Джемма</td>\n",
       "      <td>Карасева</td>\n",
       "      <td>2018-01-30</td>\n",
       "      <td>smart</td>\n",
       "      <td>6</td>\n",
       "      <td>31</td>\n",
       "      <td>229</td>\n",
       "      <td>65</td>\n",
       "      <td>17</td>\n",
       "      <td>995</td>\n",
       "    </tr>\n",
       "    <tr>\n",
       "      <th>1277</th>\n",
       "      <td>30</td>\n",
       "      <td>NaT</td>\n",
       "      <td>Новосибирск</td>\n",
       "      <td>Валерия</td>\n",
       "      <td>Андреенко</td>\n",
       "      <td>2018-02-19</td>\n",
       "      <td>ultra</td>\n",
       "      <td>6</td>\n",
       "      <td>41</td>\n",
       "      <td>231</td>\n",
       "      <td>141</td>\n",
       "      <td>15</td>\n",
       "      <td>1950</td>\n",
       "    </tr>\n",
       "    <tr>\n",
       "      <th>1483</th>\n",
       "      <td>28</td>\n",
       "      <td>NaT</td>\n",
       "      <td>Ульяновск</td>\n",
       "      <td>Серафима</td>\n",
       "      <td>Борисова</td>\n",
       "      <td>2018-04-11</td>\n",
       "      <td>smart</td>\n",
       "      <td>10</td>\n",
       "      <td>106</td>\n",
       "      <td>865</td>\n",
       "      <td>43</td>\n",
       "      <td>18</td>\n",
       "      <td>2245</td>\n",
       "    </tr>\n",
       "    <tr>\n",
       "      <th>1093</th>\n",
       "      <td>73</td>\n",
       "      <td>NaT</td>\n",
       "      <td>Санкт-Петербург</td>\n",
       "      <td>Вероника</td>\n",
       "      <td>Лапина</td>\n",
       "      <td>2018-06-29</td>\n",
       "      <td>smart</td>\n",
       "      <td>8</td>\n",
       "      <td>109</td>\n",
       "      <td>856</td>\n",
       "      <td>69</td>\n",
       "      <td>18</td>\n",
       "      <td>2275</td>\n",
       "    </tr>\n",
       "    <tr>\n",
       "      <th>1338</th>\n",
       "      <td>64</td>\n",
       "      <td>NaT</td>\n",
       "      <td>Москва</td>\n",
       "      <td>Павел</td>\n",
       "      <td>Орлов</td>\n",
       "      <td>2018-05-11</td>\n",
       "      <td>smart</td>\n",
       "      <td>9</td>\n",
       "      <td>26</td>\n",
       "      <td>180</td>\n",
       "      <td>33</td>\n",
       "      <td>19</td>\n",
       "      <td>1350</td>\n",
       "    </tr>\n",
       "    <tr>\n",
       "      <th>1185</th>\n",
       "      <td>26</td>\n",
       "      <td>NaT</td>\n",
       "      <td>Санкт-Петербург</td>\n",
       "      <td>Мануэла</td>\n",
       "      <td>Родина</td>\n",
       "      <td>2018-04-13</td>\n",
       "      <td>ultra</td>\n",
       "      <td>6</td>\n",
       "      <td>102</td>\n",
       "      <td>844</td>\n",
       "      <td>0</td>\n",
       "      <td>39</td>\n",
       "      <td>3300</td>\n",
       "    </tr>\n",
       "    <tr>\n",
       "      <th>1104</th>\n",
       "      <td>60</td>\n",
       "      <td>NaT</td>\n",
       "      <td>Нижний Тагил</td>\n",
       "      <td>Габриэль</td>\n",
       "      <td>Поляков</td>\n",
       "      <td>2018-02-21</td>\n",
       "      <td>ultra</td>\n",
       "      <td>3</td>\n",
       "      <td>44</td>\n",
       "      <td>331</td>\n",
       "      <td>68</td>\n",
       "      <td>17</td>\n",
       "      <td>1950</td>\n",
       "    </tr>\n",
       "  </tbody>\n",
       "</table>\n",
       "</div>"
      ],
      "text/plain": [
       "         age churn_date             city first_name  last_name   reg_date  \\\n",
       "user_id                                                                     \n",
       "1045      48        NaT         Улан-Удэ     Джемма   Карасева 2018-01-30   \n",
       "1277      30        NaT      Новосибирск    Валерия  Андреенко 2018-02-19   \n",
       "1483      28        NaT        Ульяновск   Серафима   Борисова 2018-04-11   \n",
       "1093      73        NaT  Санкт-Петербург   Вероника     Лапина 2018-06-29   \n",
       "1338      64        NaT           Москва      Павел      Орлов 2018-05-11   \n",
       "1185      26        NaT  Санкт-Петербург    Мануэла     Родина 2018-04-13   \n",
       "1104      60        NaT     Нижний Тагил   Габриэль    Поляков 2018-02-21   \n",
       "\n",
       "        tariff  month  calls_count  calls_duration  messages_count  \\\n",
       "user_id                                                              \n",
       "1045     smart      6           31             229              65   \n",
       "1277     ultra      6           41             231             141   \n",
       "1483     smart     10          106             865              43   \n",
       "1093     smart      8          109             856              69   \n",
       "1338     smart      9           26             180              33   \n",
       "1185     ultra      6          102             844               0   \n",
       "1104     ultra      3           44             331              68   \n",
       "\n",
       "         internet_used  revenue  \n",
       "user_id                          \n",
       "1045                17      995  \n",
       "1277                15     1950  \n",
       "1483                18     2245  \n",
       "1093                18     2275  \n",
       "1338                19     1350  \n",
       "1185                39     3300  \n",
       "1104                17     1950  "
      ]
     },
     "execution_count": 55,
     "metadata": {},
     "output_type": "execute_result"
    }
   ],
   "source": [
    "df.sample(n=7, random_state=1)"
   ]
  },
  {
   "cell_type": "markdown",
   "metadata": {
    "pycharm": {
     "name": "#%% md\n"
    }
   },
   "source": [
    "### Вывод"
   ]
  },
  {
   "cell_type": "markdown",
   "metadata": {
    "pycharm": {
     "name": "#%% md\n"
    }
   },
   "source": [
    "Данные объединили, статистку по месяцам для каждого пользователя посчитали.\n",
    "\n",
    "≈15% данных пользователей по некоторым месяцам пришлось удалить: либо месяц\n",
    "начала использования, либо месяц, когда пользователь отключил тариф — в обоих\n",
    "случаях данные неполные и мешали бы статистике.\n",
    " "
   ]
  },
  {
   "cell_type": "markdown",
   "metadata": {
    "pycharm": {
     "name": "#%% md\n"
    }
   },
   "source": [
    "## Анализ данных"
   ]
  },
  {
   "cell_type": "markdown",
   "metadata": {
    "pycharm": {
     "name": "#%% md\n"
    }
   },
   "source": [
    "Разделим данные по тарифам"
   ]
  },
  {
   "cell_type": "code",
   "execution_count": 56,
   "metadata": {
    "pycharm": {
     "name": "#%%\n"
    }
   },
   "outputs": [],
   "source": [
    "smart_df = df[df['tariff'] == 'smart']\n",
    "ultra_df = df[df['tariff'] == 'ultra']"
   ]
  },
  {
   "cell_type": "markdown",
   "metadata": {
    "pycharm": {
     "name": "#%% md\n"
    }
   },
   "source": [
    "Подготовим код для гистограмм (будем автоматически находить количество корзин\n",
    "через интерквартильный размах) и других описательных вещей."
   ]
  },
  {
   "cell_type": "code",
   "execution_count": 57,
   "metadata": {
    "pycharm": {
     "name": "#%%\n"
    }
   },
   "outputs": [],
   "source": [
    "def get_iqr(data):\n",
    "    q3 = np.quantile(data, 0.75)\n",
    "    q1 = np.quantile(data, 0.25)\n",
    "    return q3 - q1"
   ]
  },
  {
   "cell_type": "code",
   "execution_count": 58,
   "metadata": {
    "pycharm": {
     "name": "#%%\n"
    }
   },
   "outputs": [],
   "source": [
    "def get_bins_count(data):\n",
    "    return int(2 * get_iqr(data) * (len(data) ** (-1 / 3)))"
   ]
  },
  {
   "cell_type": "code",
   "execution_count": 59,
   "metadata": {
    "pycharm": {
     "name": "#%%\n"
    }
   },
   "outputs": [],
   "source": [
    "def plot_hist(df, column, title, localized_column, bins=np.nan):\n",
    "    df[column].hist(density=True,\n",
    "                    bins=get_bins_count(df[column]) if np.isnan(bins) else bins)\n",
    "    plt.title(title)\n",
    "    plt.xlabel(localized_column)\n",
    "    plt.ylabel('плотность')\n",
    "    plt.show()"
   ]
  },
  {
   "cell_type": "code",
   "execution_count": 60,
   "metadata": {
    "pycharm": {
     "name": "#%%\n"
    }
   },
   "outputs": [],
   "source": [
    "def print_stats(data, title):\n",
    "    median = data.median()\n",
    "    mean = data.mean()\n",
    "    var = np.var(data, ddof=1)\n",
    "    std = math.sqrt(var)\n",
    "    q95 = np.quantile(data, 0.95)\n",
    "    print(title\n",
    "          + f'\\n среднее {mean:.2f}'\n",
    "          + f'\\n медиана {median:.2f}'\n",
    "          + f'\\n стандартное отклонение {std:.2f}'\n",
    "          + f'\\n дисперсия {var:.2f}'\n",
    "          + f'\\n 95-й процентиль {q95:.2f}')"
   ]
  },
  {
   "cell_type": "code",
   "execution_count": 61,
   "metadata": {
    "pycharm": {
     "name": "#%%\n"
    }
   },
   "outputs": [],
   "source": [
    "def describe_column(df, column, localized_column, title, bins=np.nan):\n",
    "    plot_hist(df, column, title, localized_column, bins)\n",
    "    df.boxplot(column)\n",
    "    plt.show()\n",
    "    print_stats(df[column], title)"
   ]
  },
  {
   "cell_type": "code",
   "execution_count": 62,
   "metadata": {
    "pycharm": {
     "name": "#%%\n"
    }
   },
   "outputs": [],
   "source": [
    "def describe_dfs(column, localized_column, bins=np.nan):\n",
    "    for (df, name) in zip((smart_df, ultra_df), ('Smart', 'Ultra')):\n",
    "        describe_column(df, column, localized_column,\n",
    "                        f'Тариф {name}, {localized_column}',\n",
    "                        bins)"
   ]
  },
  {
   "cell_type": "markdown",
   "metadata": {
    "pycharm": {
     "name": "#%% md\n"
    }
   },
   "source": [
    "### Минуты разговора"
   ]
  },
  {
   "cell_type": "code",
   "execution_count": 63,
   "metadata": {
    "pycharm": {
     "name": "#%%\n"
    },
    "scrolled": true
   },
   "outputs": [
    {
     "data": {
      "image/png": "[encoded data removed]",
      "text/plain": [
       "<Figure size 576x360 with 1 Axes>"
      ]
     },
     "metadata": {
      "needs_background": "light"
     },
     "output_type": "display_data"
    },
    {
     "data": {
      "image/png": "[encoded data removed]",
      "text/plain": [
       "<Figure size 576x360 with 1 Axes>"
      ]
     },
     "metadata": {
      "needs_background": "light"
     },
     "output_type": "display_data"
    },
    {
     "name": "stdout",
     "output_type": "stream",
     "text": [
      "Тариф Smart, минут в месяц\n",
      " среднее 453.00\n",
      " медиана 454.00\n",
      " стандартное отклонение 176.31\n",
      " дисперсия 31086.86\n",
      " 95-й процентиль 737.20\n"
     ]
    },
    {
     "data": {
      "image/png": "[encoded data removed]",
      "text/plain": [
       "<Figure size 576x360 with 1 Axes>"
      ]
     },
     "metadata": {
      "needs_background": "light"
     },
     "output_type": "display_data"
    },
    {
     "data": {
      "image/png": "[encoded data removed]",
      "text/plain": [
       "<Figure size 576x360 with 1 Axes>"
      ]
     },
     "metadata": {
      "needs_background": "light"
     },
     "output_type": "display_data"
    },
    {
     "name": "stdout",
     "output_type": "stream",
     "text": [
      "Тариф Ultra, минут в месяц\n",
      " среднее 572.93\n",
      " медиана 565.00\n",
      " стандартное отклонение 307.24\n",
      " дисперсия 94397.70\n",
      " 95-й процентиль 1111.70\n"
     ]
    }
   ],
   "source": [
    "describe_dfs('calls_duration', 'минут в месяц')"
   ]
  },
  {
   "cell_type": "markdown",
   "metadata": {
    "pycharm": {
     "name": "#%% md\n"
    }
   },
   "source": [
    "Выводы:\n",
    "- в целом, распределения симметричны (видно, в т. ч., по почти одинаковому среднему\n",
    "и медиане;\n",
    "- в тарифе ультра распределение сильно шире (стандартное отклонение больше почти\n",
    "в два раза);\n",
    "- в тарифе ультра гораздо чаще не пользуются минутами, чем в смарте;\n",
    "- медиана смарта: 454 минуты (это покрывается включенными 500 минутам), но это\n",
    "значит, что, возможно, половина будет доплачивать за минуты сверх пакета;\n",
    "- медиана ультры: 565 (более чем покрывается включенными 3000 минут), более того,\n",
    "даже 95-й процентиль 1112 минут. Это значит, что, возможно, в ультре всем хватит\n",
    "пакета минут (возможно, потому что у нас не вся выборка)."
   ]
  },
  {
   "cell_type": "markdown",
   "metadata": {
    "pycharm": {
     "name": "#%% md\n"
    }
   },
   "source": [
    "### Количество сообщений"
   ]
  },
  {
   "cell_type": "code",
   "execution_count": 64,
   "metadata": {
    "pycharm": {
     "name": "#%%\n"
    }
   },
   "outputs": [
    {
     "data": {
      "image/png": "[encoded data removed]",
      "text/plain": [
       "<Figure size 576x360 with 1 Axes>"
      ]
     },
     "metadata": {
      "needs_background": "light"
     },
     "output_type": "display_data"
    },
    {
     "data": {
      "image/png": "[encoded data removed]",
      "text/plain": [
       "<Figure size 576x360 with 1 Axes>"
      ]
     },
     "metadata": {
      "needs_background": "light"
     },
     "output_type": "display_data"
    },
    {
     "name": "stdout",
     "output_type": "stream",
     "text": [
      "Тариф Smart, смс в месяц\n",
      " среднее 36.19\n",
      " медиана 31.00\n",
      " стандартное отклонение 28.73\n",
      " дисперсия 825.45\n",
      " 95-й процентиль 91.00\n"
     ]
    },
    {
     "data": {
      "image/png": "[encoded data removed]",
      "text/plain": [
       "<Figure size 576x360 with 1 Axes>"
      ]
     },
     "metadata": {
      "needs_background": "light"
     },
     "output_type": "display_data"
    },
    {
     "data": {
      "image/png": "[encoded data removed]",
      "text/plain": [
       "<Figure size 576x360 with 1 Axes>"
      ]
     },
     "metadata": {
      "needs_background": "light"
     },
     "output_type": "display_data"
    },
    {
     "name": "stdout",
     "output_type": "stream",
     "text": [
      "Тариф Ultra, смс в месяц\n",
      " среднее 53.02\n",
      " медиана 42.00\n",
      " стандартное отклонение 48.95\n",
      " дисперсия 2396.24\n",
      " 95-й процентиль 148.00\n"
     ]
    }
   ],
   "source": [
    "describe_dfs('messages_count', 'смс в месяц', bins=75)"
   ]
  },
  {
   "cell_type": "markdown",
   "metadata": {
    "pycharm": {
     "name": "#%% md\n"
    }
   },
   "source": [
    "Выводы:\n",
    "- распределения ассиметричные, почти классические пуассоновские (медиана\n",
    "и стандартное отклонение почти равны);\n",
    "- в обоих тарифах очень много людей, не пользующихся смсками;\n",
    "- в тарифе ультра распределение сильно шире (стандартное отклонение больше почти\n",
    "в два раза);\n",
    "- медиана смарта: 31 смс (это покрывается включенными 50 смс), но видно, что уже\n",
    "75-й процентиль за рамками пакета;\n",
    "- медиана ультры: 42 (более чем покрывается включенными 1000 смс), более того,\n",
    "даже 95-й процентиль 148 минут. Это значит, что, возможно, в ультре всем хватит\n",
    "пакета смс (возможно, потому что у нас не вся выборка)."
   ]
  },
  {
   "cell_type": "markdown",
   "metadata": {
    "pycharm": {
     "name": "#%% md\n"
    }
   },
   "source": [
    "### Интернет"
   ]
  },
  {
   "cell_type": "code",
   "execution_count": 65,
   "metadata": {
    "pycharm": {
     "name": "#%%\n"
    }
   },
   "outputs": [
    {
     "data": {
      "image/png": "[encoded data removed]",
      "text/plain": [
       "<Figure size 576x360 with 1 Axes>"
      ]
     },
     "metadata": {
      "needs_background": "light"
     },
     "output_type": "display_data"
    },
    {
     "data": {
      "image/png": "[encoded data removed]",
      "text/plain": [
       "<Figure size 576x360 with 1 Axes>"
      ]
     },
     "metadata": {
      "needs_background": "light"
     },
     "output_type": "display_data"
    },
    {
     "name": "stdout",
     "output_type": "stream",
     "text": [
      "Тариф Smart, ГБ в месяц\n",
      " среднее 17.64\n",
      " медиана 17.00\n",
      " стандартное отклонение 4.80\n",
      " дисперсия 23.02\n",
      " 95-й процентиль 26.00\n"
     ]
    },
    {
     "data": {
      "image/png": "[encoded data removed]",
      "text/plain": [
       "<Figure size 576x360 with 1 Axes>"
      ]
     },
     "metadata": {
      "needs_background": "light"
     },
     "output_type": "display_data"
    },
    {
     "data": {
      "image/png": "[encoded data removed]",
      "text/plain": [
       "<Figure size 576x360 with 1 Axes>"
      ]
     },
     "metadata": {
      "needs_background": "light"
     },
     "output_type": "display_data"
    },
    {
     "name": "stdout",
     "output_type": "stream",
     "text": [
      "Тариф Ultra, ГБ в месяц\n",
      " среднее 21.18\n",
      " медиана 21.00\n",
      " стандартное отклонение 9.25\n",
      " дисперсия 85.60\n",
      " 95-й процентиль 38.00\n"
     ]
    }
   ],
   "source": [
    "describe_dfs('internet_used', 'ГБ в месяц', bins=100)"
   ]
  },
  {
   "cell_type": "markdown",
   "metadata": {
    "pycharm": {
     "name": "#%% md\n"
    }
   },
   "source": [
    "Выводы:\n",
    "- в целом, распределения симметричны (видно, в т. ч., по одинаковому среднему\n",
    "и медиане;\n",
    "- в тарифе ультра распределение сильно шире (стандартное отклонение больше почти\n",
    "в два раза);\n",
    "- в тарифе ультра гораздо чаще не пользуются интернетом, чем в смарте;\n",
    "- медиана смарта: 17 ГБ (это не покрывается включенными 15 ГБ) — это\n",
    "значит, что, возможно, больше половины будут доплачивать сверх пакета;\n",
    "- медиана ультры: 21 ГБ (покрывается включенными 30 ГБ), более того,\n",
    "даже 75-й процентиль 28 ГБ. Это значит, что процентам 80 в ультре хватит\n",
    "включенных ГБ (возможно, потому что у нас не вся выборка)."
   ]
  },
  {
   "cell_type": "markdown",
   "metadata": {
    "pycharm": {
     "name": "#%% md\n"
    }
   },
   "source": [
    "### Выручка"
   ]
  },
  {
   "cell_type": "code",
   "execution_count": 66,
   "metadata": {
    "pycharm": {
     "name": "#%%\n"
    }
   },
   "outputs": [
    {
     "data": {
      "image/png": "[encoded data removed]",
      "text/plain": [
       "<Figure size 576x360 with 1 Axes>"
      ]
     },
     "metadata": {
      "needs_background": "light"
     },
     "output_type": "display_data"
    },
    {
     "data": {
      "image/png": "[encoded data removed]",
      "text/plain": [
       "<Figure size 576x360 with 1 Axes>"
      ]
     },
     "metadata": {
      "needs_background": "light"
     },
     "output_type": "display_data"
    },
    {
     "name": "stdout",
     "output_type": "stream",
     "text": [
      "Тариф Smart, выручка\n",
      " среднее 1407.51\n",
      " медиана 1163.00\n",
      " стандартное отклонение 829.71\n",
      " дисперсия 688413.66\n",
      " 95-й процентиль 2950.00\n"
     ]
    },
    {
     "data": {
      "image/png": "[encoded data removed]",
      "text/plain": [
       "<Figure size 576x360 with 1 Axes>"
      ]
     },
     "metadata": {
      "needs_background": "light"
     },
     "output_type": "display_data"
    },
    {
     "data": {
      "image/png": "[encoded data removed]",
      "text/plain": [
       "<Figure size 576x360 with 1 Axes>"
      ]
     },
     "metadata": {
      "needs_background": "light"
     },
     "output_type": "display_data"
    },
    {
     "name": "stdout",
     "output_type": "stream",
     "text": [
      "Тариф Ultra, выручка\n",
      " среднее 2091.98\n",
      " медиана 1950.00\n",
      " стандартное отклонение 406.80\n",
      " дисперсия 165483.06\n",
      " 95-й процентиль 3150.00\n"
     ]
    }
   ],
   "source": [
    "describe_dfs('revenue', 'выручка', bins=30)"
   ]
  },
  {
   "cell_type": "markdown",
   "metadata": {
    "pycharm": {
     "name": "#%% md\n"
    }
   },
   "source": [
    "Вывод:\n",
    "- в ультре большинство не тратят больше абонентской платы;\n",
    "- медиана оплаты почти в два раза выше смарта;\n",
    "- 75% смарта платят дешевле ультры (до 2 тысяч рублей)."
   ]
  },
  {
   "cell_type": "markdown",
   "metadata": {
    "pycharm": {
     "name": "#%% md\n"
    }
   },
   "source": [
    "### Вывод"
   ]
  },
  {
   "cell_type": "markdown",
   "metadata": {
    "pycharm": {
     "name": "#%% md\n"
    }
   },
   "source": [
    "- распределение ультры всегда в пару раз шире смарта;\n",
    "- в ультре, скорее всего, никогда не закончатся минуты, а вот в смарте половине\n",
    "будет их не хватать;\n",
    "- в ультре, скорее всего, никогда не закончатся смски, а вот в смарте четверти\n",
    "их будет не хватать;\n",
    "- в ультре, скорее всего, 80% хватит трафика из пакета, а в смарте только 30%."
   ]
  },
  {
   "cell_type": "markdown",
   "metadata": {
    "pycharm": {
     "name": "#%% md\n"
    }
   },
   "source": [
    "## Гипотеза 1. Разница средней выручки"
   ]
  },
  {
   "cell_type": "markdown",
   "metadata": {
    "pycharm": {
     "name": "#%% md\n"
    }
   },
   "source": [
    "**Нулевая гипотеза:** средние выручки между тарифами равны.\n",
    "  \n",
    "**Альтернативная гипотеза:** средняя выручка пользователей тарифов «Ультра»\n",
    " и «Смарт» различаются."
   ]
  },
  {
   "cell_type": "markdown",
   "metadata": {
    "pycharm": {
     "name": "#%% md\n"
    }
   },
   "source": [
    "Мы знаем, что в смарте много кому не хватает встроенных пакетов (т. е.\n",
    "чаще доплачивают). Поэтому нельзя считать, что дисперсии будут одинаковыми.\n"
   ]
  },
  {
   "cell_type": "code",
   "execution_count": 67,
   "metadata": {
    "pycharm": {
     "name": "#%%\n"
    }
   },
   "outputs": [],
   "source": [
    "alpha = 0.01\n",
    "results = st.ttest_ind(smart_df['revenue'], ultra_df['revenue'], equal_var=False)"
   ]
  },
  {
   "cell_type": "code",
   "execution_count": 68,
   "metadata": {
    "pycharm": {
     "name": "#%%\n"
    }
   },
   "outputs": [
    {
     "name": "stdout",
     "output_type": "stream",
     "text": [
      "p-value: 2.82e-157\n",
      "Средняя выручка пользователей тарифов «Ультра» и «Смарт» различаются\n"
     ]
    }
   ],
   "source": [
    "print(f'p-value: {results.pvalue:.2e}')\n",
    "\n",
    "if results.pvalue >= alpha:\n",
    "    print(\"Средние выручки между тарифами равны\")\n",
    "else:\n",
    "    print(\"Средняя выручка пользователей тарифов «Ультра» и «Смарт» различаются\")"
   ]
  },
  {
   "cell_type": "markdown",
   "metadata": {
    "pycharm": {
     "name": "#%% md\n"
    }
   },
   "source": [
    "… и это логично: базовая цена отличается в 4 раза."
   ]
  },
  {
   "cell_type": "markdown",
   "metadata": {
    "pycharm": {
     "name": "#%% md\n"
    }
   },
   "source": [
    "## Гипотеза 2. Разница выручки Москвы vs. регионы"
   ]
  },
  {
   "cell_type": "markdown",
   "metadata": {
    "pycharm": {
     "name": "#%% md\n"
    }
   },
   "source": [
    "**Нулевая гипотеза:** средняя выручка между Москвой и регионам не отличаются.\n",
    "  \n",
    "**Альтернативная гипотеза:** средняя выручка между Москвой и регионам отличаются."
   ]
  },
  {
   "cell_type": "code",
   "execution_count": 69,
   "metadata": {
    "pycharm": {
     "name": "#%%\n"
    }
   },
   "outputs": [],
   "source": [
    "moscow_filter = df['city'] == 'Москва'\n",
    "moscow_df = df[moscow_filter]\n",
    "regions_df = df[~moscow_filter]"
   ]
  },
  {
   "cell_type": "markdown",
   "metadata": {
    "pycharm": {
     "name": "#%% md\n"
    }
   },
   "source": [
    "Будем считать дисперсии одинаковыми (Москва, хоть, и в среднем богаче, но цены\n",
    "на мобильную связь одни из самых низких в мире)."
   ]
  },
  {
   "cell_type": "code",
   "execution_count": 70,
   "metadata": {
    "pycharm": {
     "name": "#%%\n"
    }
   },
   "outputs": [],
   "source": [
    "alpha = 0.05\n",
    "results = st.ttest_ind(moscow_df['revenue'], regions_df['revenue'], equal_var=True)"
   ]
  },
  {
   "cell_type": "code",
   "execution_count": 71,
   "metadata": {
    "pycharm": {
     "name": "#%%\n"
    }
   },
   "outputs": [
    {
     "name": "stdout",
     "output_type": "stream",
     "text": [
      "p-value: 0.41\n",
      "Средняя выручка между Москвой и регионами вероятно не отличаются\n"
     ]
    }
   ],
   "source": [
    "print(f'p-value: {results.pvalue:.2f}')\n",
    "\n",
    "if results.pvalue >= alpha:\n",
    "    print(\"Средняя выручка между Москвой и регионами вероятно не отличаются\")\n",
    "else:\n",
    "    print(\"Средняя выручка между Москвой и регионами отличаются\")"
   ]
  },
  {
   "cell_type": "markdown",
   "metadata": {
    "pycharm": {
     "name": "#%% md\n"
    }
   },
   "source": [
    "… и это логично: мобильная связь у нас очень доступна."
   ]
  },
  {
   "cell_type": "markdown",
   "metadata": {
    "pycharm": {
     "name": "#%% md\n"
    }
   },
   "source": [
    "## Общий вывод"
   ]
  },
  {
   "cell_type": "markdown",
   "metadata": {
    "pycharm": {
     "name": "#%% md\n"
    }
   },
   "source": [
    "1. В целом, данные в выгрузках были в порядке:\n",
    "- пропущенных значений не было, за исключением даты смены тарифа;\n",
    "- в файле с трафиком был сохранен индекс — удалили;\n",
    "- минуты округлили до целых в большую сторону согласно правилам тарифных планов;\n",
    "- переименовали колонки и выставили им правильные типы.\n",
    "2. Данные объединили, статистку по месяцам для каждого пользователя посчитали.\n",
    "≈15% данных пользователей по некоторым месяцам пришлось удалить: либо месяц\n",
    "начала использования, либо месяц, когда пользователь отключил тариф — в обоих\n",
    "случаях данные использования неполные (не целиком за месяц) и мешали бы статистике.\n",
    "\n",
    "3. Про потребление:\n",
    "- распределение ультры всегда в пару раз шире смарта:\n",
    "- в ультре, скорее всего, никогда не закончатся минуты, а вот в смарте половине\n",
    "пользователей будет их не хватать;\n",
    "- в ультре, скорее всего, никогда не закончатся смски, а вот в смарте четверти\n",
    "их будет не хватать;\n",
    "- в ультре, скорее всего, 80% пользователей хватит трафика из пакета,\n",
    "- а в смарте только 30%.\n",
    " \n",
    "4. Средняя выручка пользователей тарифов «Ультра» и «Смарт» статистически\n",
    "различаются (это в т. ч. логично, исходя из абонентской платы).\n",
    "\n",
    "5. Средняя выручка между Москвой и регионами не отличаются (это в т. ч. логично,\n",
    "исходя из доступности мобильной связи в России).\n",
    "\n",
    "6. По деньгам:\n",
    "- медиана оплаты ультры почти в два раза выше смарта (в смарте 1163 рубля,\n",
    "а в ультре 2000 только базовая абоненсткая плата);\n",
    "- 75% пользователей смарта платят дешевле ультры (до 2 тысяч рублей).\n",
    "\n",
    "7. Лимиты звонков и смс очень сильно не выбираются пользователями,\n",
    "нагрузки на сеть нет:\n",
    "- медианы звонков 454 vs 565 минут; 95-й процентиль на 737 vs 1111;\n",
    "- медианы sms 31 vs 42 sms; 95-й процентиль на 91 vs 148;\n",
    "- медианы интернета 17 vs 21 ГБ; 95-й процентиль на 26 vs 38;\n",
    "\n",
    "8. А денег при этом ультра в среднем приносит в два раза больше.\n",
    "\n",
    "Вывод: ультра для компании выгоднее смарта."
   ]
  }
 ],
 "metadata": {
  "ExecuteTimeLog": [
   {
    "duration": 1195,
    "start_time": "2022-07-09T19:10:21.461Z"
   },
   {
    "duration": 3,
    "start_time": "2022-07-09T19:10:22.659Z"
   },
   {
    "duration": 10,
    "start_time": "2022-07-09T19:10:22.664Z"
   },
   {
    "duration": 951,
    "start_time": "2022-07-09T19:10:22.677Z"
   },
   {
    "duration": 16,
    "start_time": "2022-07-09T19:10:23.630Z"
   },
   {
    "duration": 24,
    "start_time": "2022-07-09T19:10:23.647Z"
   },
   {
    "duration": 57,
    "start_time": "2022-07-09T19:10:23.672Z"
   },
   {
    "duration": 5,
    "start_time": "2022-07-09T19:10:23.731Z"
   },
   {
    "duration": 17,
    "start_time": "2022-07-09T19:10:23.737Z"
   },
   {
    "duration": 9,
    "start_time": "2022-07-09T19:10:23.756Z"
   },
   {
    "duration": 10,
    "start_time": "2022-07-09T19:10:23.766Z"
   },
   {
    "duration": 19,
    "start_time": "2022-07-09T19:10:23.777Z"
   },
   {
    "duration": 48,
    "start_time": "2022-07-09T19:10:23.798Z"
   },
   {
    "duration": 10,
    "start_time": "2022-07-09T19:10:23.848Z"
   },
   {
    "duration": 9,
    "start_time": "2022-07-09T19:10:23.860Z"
   },
   {
    "duration": 11,
    "start_time": "2022-07-09T19:10:23.871Z"
   },
   {
    "duration": 47,
    "start_time": "2022-07-09T19:10:23.884Z"
   },
   {
    "duration": 29,
    "start_time": "2022-07-09T19:10:23.933Z"
   },
   {
    "duration": 11,
    "start_time": "2022-07-09T19:10:23.964Z"
   },
   {
    "duration": 21,
    "start_time": "2022-07-09T19:10:23.976Z"
   },
   {
    "duration": 10,
    "start_time": "2022-07-09T19:10:23.998Z"
   },
   {
    "duration": 23,
    "start_time": "2022-07-09T19:10:24.009Z"
   },
   {
    "duration": 7,
    "start_time": "2022-07-09T19:10:24.033Z"
   },
   {
    "duration": 13,
    "start_time": "2022-07-09T19:10:24.042Z"
   },
   {
    "duration": 12,
    "start_time": "2022-07-09T19:10:24.056Z"
   },
   {
    "duration": 10,
    "start_time": "2022-07-09T19:10:24.070Z"
   },
   {
    "duration": 11,
    "start_time": "2022-07-09T19:10:24.081Z"
   },
   {
    "duration": 32,
    "start_time": "2022-07-09T19:10:24.096Z"
   },
   {
    "duration": 11,
    "start_time": "2022-07-09T19:10:24.130Z"
   },
   {
    "duration": 49,
    "start_time": "2022-07-09T19:10:24.142Z"
   },
   {
    "duration": 108,
    "start_time": "2022-07-09T19:10:24.193Z"
   },
   {
    "duration": 7,
    "start_time": "2022-07-09T19:10:24.302Z"
   },
   {
    "duration": 56,
    "start_time": "2022-07-09T19:10:24.310Z"
   },
   {
    "duration": 7,
    "start_time": "2022-07-09T19:10:24.368Z"
   },
   {
    "duration": 58,
    "start_time": "2022-07-09T19:10:24.376Z"
   },
   {
    "duration": 7,
    "start_time": "2022-07-09T19:10:24.436Z"
   },
   {
    "duration": 4,
    "start_time": "2022-07-09T19:10:24.444Z"
   },
   {
    "duration": 22,
    "start_time": "2022-07-09T19:10:24.450Z"
   },
   {
    "duration": 11,
    "start_time": "2022-07-09T19:10:24.473Z"
   },
   {
    "duration": 7,
    "start_time": "2022-07-09T19:10:24.486Z"
   },
   {
    "duration": 30,
    "start_time": "2022-07-09T19:10:24.495Z"
   },
   {
    "duration": 4,
    "start_time": "2022-07-09T19:10:24.527Z"
   },
   {
    "duration": 6,
    "start_time": "2022-07-09T19:10:24.533Z"
   },
   {
    "duration": 4,
    "start_time": "2022-07-09T19:10:24.541Z"
   },
   {
    "duration": 5,
    "start_time": "2022-07-09T19:10:24.547Z"
   },
   {
    "duration": 6,
    "start_time": "2022-07-09T19:10:24.554Z"
   },
   {
    "duration": 9,
    "start_time": "2022-07-09T19:10:24.562Z"
   },
   {
    "duration": 20,
    "start_time": "2022-07-09T19:10:24.573Z"
   },
   {
    "duration": 8,
    "start_time": "2022-07-09T19:10:24.594Z"
   },
   {
    "duration": 26,
    "start_time": "2022-07-09T19:10:24.604Z"
   },
   {
    "duration": 9,
    "start_time": "2022-07-09T19:10:24.631Z"
   },
   {
    "duration": 3,
    "start_time": "2022-07-09T19:10:24.642Z"
   },
   {
    "duration": 5,
    "start_time": "2022-07-09T19:10:24.646Z"
   },
   {
    "duration": 325,
    "start_time": "2022-07-09T19:10:24.652Z"
   },
   {
    "duration": 12,
    "start_time": "2022-07-09T19:10:24.979Z"
   },
   {
    "duration": 6,
    "start_time": "2022-07-09T19:10:24.993Z"
   },
   {
    "duration": 7,
    "start_time": "2022-07-09T19:10:25.001Z"
   },
   {
    "duration": 15,
    "start_time": "2022-07-09T19:10:25.009Z"
   },
   {
    "duration": 3,
    "start_time": "2022-07-09T19:10:25.026Z"
   },
   {
    "duration": 6,
    "start_time": "2022-07-09T19:10:25.030Z"
   },
   {
    "duration": 8,
    "start_time": "2022-07-09T19:10:25.037Z"
   },
   {
    "duration": 6,
    "start_time": "2022-07-09T19:10:25.046Z"
   },
   {
    "duration": 632,
    "start_time": "2022-07-09T19:10:25.053Z"
   },
   {
    "duration": 697,
    "start_time": "2022-07-09T19:10:25.687Z"
   },
   {
    "duration": 648,
    "start_time": "2022-07-09T19:10:26.385Z"
   },
   {
    "duration": 4,
    "start_time": "2022-07-09T19:10:27.035Z"
   },
   {
    "duration": 9,
    "start_time": "2022-07-09T19:10:27.040Z"
   },
   {
    "duration": 9,
    "start_time": "2022-07-09T19:10:27.050Z"
   },
   {
    "duration": 7,
    "start_time": "2022-07-09T19:10:27.060Z"
   },
   {
    "duration": 6,
    "start_time": "2022-07-09T19:10:27.069Z"
   },
   {
    "duration": 1225,
    "start_time": "2022-07-09T19:49:42.794Z"
   },
   {
    "duration": 4,
    "start_time": "2022-07-09T19:49:44.022Z"
   },
   {
    "duration": 16,
    "start_time": "2022-07-09T19:49:44.028Z"
   },
   {
    "duration": 1240,
    "start_time": "2022-07-09T19:49:44.046Z"
   },
   {
    "duration": 27,
    "start_time": "2022-07-09T19:49:45.289Z"
   },
   {
    "duration": 34,
    "start_time": "2022-07-09T19:49:45.318Z"
   },
   {
    "duration": 51,
    "start_time": "2022-07-09T19:49:45.361Z"
   },
   {
    "duration": 7,
    "start_time": "2022-07-09T19:49:45.413Z"
   },
   {
    "duration": 35,
    "start_time": "2022-07-09T19:49:45.422Z"
   },
   {
    "duration": 14,
    "start_time": "2022-07-09T19:49:45.460Z"
   },
   {
    "duration": 13,
    "start_time": "2022-07-09T19:49:45.476Z"
   },
   {
    "duration": 23,
    "start_time": "2022-07-09T19:49:45.491Z"
   },
   {
    "duration": 41,
    "start_time": "2022-07-09T19:49:45.542Z"
   },
   {
    "duration": 15,
    "start_time": "2022-07-09T19:49:45.586Z"
   },
   {
    "duration": 14,
    "start_time": "2022-07-09T19:49:45.604Z"
   },
   {
    "duration": 19,
    "start_time": "2022-07-09T19:49:45.644Z"
   },
   {
    "duration": 41,
    "start_time": "2022-07-09T19:49:45.666Z"
   },
   {
    "duration": 56,
    "start_time": "2022-07-09T19:49:45.709Z"
   },
   {
    "duration": 12,
    "start_time": "2022-07-09T19:49:45.767Z"
   },
   {
    "duration": 17,
    "start_time": "2022-07-09T19:49:45.781Z"
   },
   {
    "duration": 13,
    "start_time": "2022-07-09T19:49:45.800Z"
   },
   {
    "duration": 52,
    "start_time": "2022-07-09T19:49:45.815Z"
   },
   {
    "duration": 17,
    "start_time": "2022-07-09T19:49:45.868Z"
   },
   {
    "duration": 18,
    "start_time": "2022-07-09T19:49:45.887Z"
   },
   {
    "duration": 14,
    "start_time": "2022-07-09T19:49:45.907Z"
   },
   {
    "duration": 27,
    "start_time": "2022-07-09T19:49:45.923Z"
   },
   {
    "duration": 23,
    "start_time": "2022-07-09T19:49:45.951Z"
   },
   {
    "duration": 15,
    "start_time": "2022-07-09T19:49:45.978Z"
   },
   {
    "duration": 9,
    "start_time": "2022-07-09T19:49:45.995Z"
   },
   {
    "duration": 64,
    "start_time": "2022-07-09T19:49:46.005Z"
   },
   {
    "duration": 126,
    "start_time": "2022-07-09T19:49:46.071Z"
   },
   {
    "duration": 8,
    "start_time": "2022-07-09T19:49:46.199Z"
   },
   {
    "duration": 86,
    "start_time": "2022-07-09T19:49:46.209Z"
   },
   {
    "duration": 8,
    "start_time": "2022-07-09T19:49:46.297Z"
   },
   {
    "duration": 81,
    "start_time": "2022-07-09T19:49:46.307Z"
   },
   {
    "duration": 9,
    "start_time": "2022-07-09T19:49:46.390Z"
   },
   {
    "duration": 8,
    "start_time": "2022-07-09T19:49:46.402Z"
   },
   {
    "duration": 43,
    "start_time": "2022-07-09T19:49:46.413Z"
   },
   {
    "duration": 15,
    "start_time": "2022-07-09T19:49:46.458Z"
   },
   {
    "duration": 7,
    "start_time": "2022-07-09T19:49:46.476Z"
   },
   {
    "duration": 18,
    "start_time": "2022-07-09T19:49:46.485Z"
   },
   {
    "duration": 6,
    "start_time": "2022-07-09T19:49:46.505Z"
   },
   {
    "duration": 36,
    "start_time": "2022-07-09T19:49:46.513Z"
   },
   {
    "duration": 20,
    "start_time": "2022-07-09T19:49:46.551Z"
   },
   {
    "duration": 8,
    "start_time": "2022-07-09T19:49:46.573Z"
   },
   {
    "duration": 7,
    "start_time": "2022-07-09T19:49:46.583Z"
   },
   {
    "duration": 10,
    "start_time": "2022-07-09T19:49:46.592Z"
   },
   {
    "duration": 16,
    "start_time": "2022-07-09T19:49:46.605Z"
   },
   {
    "duration": 22,
    "start_time": "2022-07-09T19:49:46.624Z"
   },
   {
    "duration": 12,
    "start_time": "2022-07-09T19:49:46.658Z"
   },
   {
    "duration": 13,
    "start_time": "2022-07-09T19:49:46.672Z"
   },
   {
    "duration": 3,
    "start_time": "2022-07-09T19:49:46.688Z"
   },
   {
    "duration": 7,
    "start_time": "2022-07-09T19:49:46.693Z"
   },
   {
    "duration": 446,
    "start_time": "2022-07-09T19:49:46.702Z"
   },
   {
    "duration": 16,
    "start_time": "2022-07-09T19:49:47.153Z"
   },
   {
    "duration": 6,
    "start_time": "2022-07-09T19:49:47.172Z"
   },
   {
    "duration": 8,
    "start_time": "2022-07-09T19:49:47.180Z"
   },
   {
    "duration": 8,
    "start_time": "2022-07-09T19:49:47.190Z"
   },
   {
    "duration": 8,
    "start_time": "2022-07-09T19:49:47.199Z"
   },
   {
    "duration": 11,
    "start_time": "2022-07-09T19:49:47.209Z"
   },
   {
    "duration": 25,
    "start_time": "2022-07-09T19:49:47.222Z"
   },
   {
    "duration": 11,
    "start_time": "2022-07-09T19:49:47.253Z"
   },
   {
    "duration": 808,
    "start_time": "2022-07-09T19:49:47.266Z"
   },
   {
    "duration": 885,
    "start_time": "2022-07-09T19:49:48.075Z"
   },
   {
    "duration": 814,
    "start_time": "2022-07-09T19:49:48.963Z"
   },
   {
    "duration": 4,
    "start_time": "2022-07-09T19:49:49.779Z"
   },
   {
    "duration": 8,
    "start_time": "2022-07-09T19:49:49.785Z"
   },
   {
    "duration": 12,
    "start_time": "2022-07-09T19:49:49.795Z"
   },
   {
    "duration": 8,
    "start_time": "2022-07-09T19:49:49.809Z"
   },
   {
    "duration": 25,
    "start_time": "2022-07-09T19:49:49.819Z"
   },
   {
    "duration": 6,
    "start_time": "2022-07-09T19:56:41.878Z"
   },
   {
    "duration": 1764,
    "start_time": "2022-07-09T19:57:14.760Z"
   },
   {
    "duration": 18,
    "start_time": "2022-07-09T19:57:39.102Z"
   },
   {
    "duration": 8,
    "start_time": "2022-07-09T20:03:27.954Z"
   },
   {
    "duration": 1271,
    "start_time": "2022-07-09T20:07:38.158Z"
   },
   {
    "duration": 3,
    "start_time": "2022-07-09T20:07:39.431Z"
   },
   {
    "duration": 19,
    "start_time": "2022-07-09T20:07:39.435Z"
   },
   {
    "duration": 705,
    "start_time": "2022-07-09T20:07:39.457Z"
   },
   {
    "duration": 20,
    "start_time": "2022-07-09T20:07:40.164Z"
   },
   {
    "duration": 26,
    "start_time": "2022-07-09T20:07:40.186Z"
   },
   {
    "duration": 64,
    "start_time": "2022-07-09T20:07:40.214Z"
   },
   {
    "duration": 8,
    "start_time": "2022-07-09T20:07:40.280Z"
   },
   {
    "duration": 19,
    "start_time": "2022-07-09T20:07:40.290Z"
   },
   {
    "duration": 32,
    "start_time": "2022-07-09T20:07:40.311Z"
   },
   {
    "duration": 20,
    "start_time": "2022-07-09T20:07:40.346Z"
   },
   {
    "duration": 20,
    "start_time": "2022-07-09T20:07:40.367Z"
   },
   {
    "duration": 27,
    "start_time": "2022-07-09T20:07:40.389Z"
   },
   {
    "duration": 14,
    "start_time": "2022-07-09T20:07:40.441Z"
   },
   {
    "duration": 25,
    "start_time": "2022-07-09T20:07:40.457Z"
   },
   {
    "duration": 15,
    "start_time": "2022-07-09T20:07:40.484Z"
   },
   {
    "duration": 45,
    "start_time": "2022-07-09T20:07:40.502Z"
   },
   {
    "duration": 40,
    "start_time": "2022-07-09T20:07:40.549Z"
   },
   {
    "duration": 13,
    "start_time": "2022-07-09T20:07:40.591Z"
   },
   {
    "duration": 16,
    "start_time": "2022-07-09T20:07:40.607Z"
   },
   {
    "duration": 16,
    "start_time": "2022-07-09T20:07:40.644Z"
   },
   {
    "duration": 15,
    "start_time": "2022-07-09T20:07:40.662Z"
   },
   {
    "duration": 11,
    "start_time": "2022-07-09T20:07:40.680Z"
   },
   {
    "duration": 23,
    "start_time": "2022-07-09T20:07:40.694Z"
   },
   {
    "duration": 43,
    "start_time": "2022-07-09T20:07:40.719Z"
   },
   {
    "duration": 16,
    "start_time": "2022-07-09T20:07:40.764Z"
   },
   {
    "duration": 20,
    "start_time": "2022-07-09T20:07:40.782Z"
   },
   {
    "duration": 10,
    "start_time": "2022-07-09T20:07:40.804Z"
   },
   {
    "duration": 34,
    "start_time": "2022-07-09T20:07:40.817Z"
   },
   {
    "duration": 56,
    "start_time": "2022-07-09T20:07:40.854Z"
   },
   {
    "duration": 145,
    "start_time": "2022-07-09T20:07:40.912Z"
   },
   {
    "duration": 9,
    "start_time": "2022-07-09T20:07:41.059Z"
   },
   {
    "duration": 66,
    "start_time": "2022-07-09T20:07:41.070Z"
   },
   {
    "duration": 15,
    "start_time": "2022-07-09T20:07:41.145Z"
   },
   {
    "duration": 54,
    "start_time": "2022-07-09T20:07:41.161Z"
   },
   {
    "duration": 7,
    "start_time": "2022-07-09T20:07:41.217Z"
   },
   {
    "duration": 21,
    "start_time": "2022-07-09T20:07:41.226Z"
   },
   {
    "duration": 29,
    "start_time": "2022-07-09T20:07:41.249Z"
   },
   {
    "duration": 14,
    "start_time": "2022-07-09T20:07:41.280Z"
   },
   {
    "duration": 6,
    "start_time": "2022-07-09T20:07:41.296Z"
   },
   {
    "duration": 14,
    "start_time": "2022-07-09T20:07:41.306Z"
   },
   {
    "duration": 33,
    "start_time": "2022-07-09T20:07:41.321Z"
   },
   {
    "duration": 12,
    "start_time": "2022-07-09T20:07:41.357Z"
   },
   {
    "duration": 9,
    "start_time": "2022-07-09T20:07:41.372Z"
   },
   {
    "duration": 4,
    "start_time": "2022-07-09T20:07:41.383Z"
   },
   {
    "duration": 5,
    "start_time": "2022-07-09T20:07:41.389Z"
   },
   {
    "duration": 11,
    "start_time": "2022-07-09T20:07:41.396Z"
   },
   {
    "duration": 8,
    "start_time": "2022-07-09T20:07:41.409Z"
   },
   {
    "duration": 29,
    "start_time": "2022-07-09T20:07:41.419Z"
   },
   {
    "duration": 12,
    "start_time": "2022-07-09T20:07:41.452Z"
   },
   {
    "duration": 19,
    "start_time": "2022-07-09T20:07:41.466Z"
   },
   {
    "duration": 5,
    "start_time": "2022-07-09T20:07:41.487Z"
   },
   {
    "duration": 11,
    "start_time": "2022-07-09T20:07:41.494Z"
   },
   {
    "duration": 419,
    "start_time": "2022-07-09T20:07:41.507Z"
   },
   {
    "duration": 33,
    "start_time": "2022-07-09T20:07:41.927Z"
   },
   {
    "duration": 5,
    "start_time": "2022-07-09T20:07:41.962Z"
   },
   {
    "duration": 16,
    "start_time": "2022-07-09T20:07:41.969Z"
   },
   {
    "duration": 7,
    "start_time": "2022-07-09T20:07:41.987Z"
   },
   {
    "duration": 6,
    "start_time": "2022-07-09T20:07:41.996Z"
   },
   {
    "duration": 5,
    "start_time": "2022-07-09T20:07:42.004Z"
   },
   {
    "duration": 43,
    "start_time": "2022-07-09T20:07:42.011Z"
   },
   {
    "duration": 6,
    "start_time": "2022-07-09T20:07:42.056Z"
   },
   {
    "duration": 8,
    "start_time": "2022-07-09T20:07:42.063Z"
   },
   {
    "duration": 6,
    "start_time": "2022-07-09T20:07:42.073Z"
   },
   {
    "duration": 804,
    "start_time": "2022-07-09T20:07:42.081Z"
   },
   {
    "duration": 881,
    "start_time": "2022-07-09T20:07:42.887Z"
   },
   {
    "duration": 853,
    "start_time": "2022-07-09T20:07:43.770Z"
   },
   {
    "duration": 6,
    "start_time": "2022-07-09T20:07:44.626Z"
   },
   {
    "duration": 18,
    "start_time": "2022-07-09T20:07:44.648Z"
   },
   {
    "duration": 15,
    "start_time": "2022-07-09T20:07:44.668Z"
   },
   {
    "duration": 9,
    "start_time": "2022-07-09T20:07:44.686Z"
   },
   {
    "duration": 8,
    "start_time": "2022-07-09T20:07:44.698Z"
   },
   {
    "duration": 5,
    "start_time": "2022-07-09T20:08:14.605Z"
   },
   {
    "duration": 46,
    "start_time": "2022-07-09T20:18:54.359Z"
   },
   {
    "duration": 3,
    "start_time": "2022-07-09T20:19:14.396Z"
   },
   {
    "duration": 3,
    "start_time": "2022-07-09T20:19:14.403Z"
   },
   {
    "duration": 4,
    "start_time": "2022-07-09T20:19:14.411Z"
   },
   {
    "duration": 511,
    "start_time": "2022-07-09T20:19:14.416Z"
   },
   {
    "duration": 13,
    "start_time": "2022-07-09T20:19:14.929Z"
   },
   {
    "duration": 25,
    "start_time": "2022-07-09T20:19:14.943Z"
   },
   {
    "duration": 59,
    "start_time": "2022-07-09T20:19:14.970Z"
   },
   {
    "duration": 5,
    "start_time": "2022-07-09T20:19:17.911Z"
   },
   {
    "duration": 3,
    "start_time": "2022-07-09T20:20:41.931Z"
   },
   {
    "duration": 7,
    "start_time": "2022-07-09T20:20:41.936Z"
   },
   {
    "duration": 6,
    "start_time": "2022-07-09T20:20:41.945Z"
   },
   {
    "duration": 453,
    "start_time": "2022-07-09T20:20:41.952Z"
   },
   {
    "duration": 12,
    "start_time": "2022-07-09T20:20:42.407Z"
   },
   {
    "duration": 25,
    "start_time": "2022-07-09T20:20:42.420Z"
   },
   {
    "duration": 38,
    "start_time": "2022-07-09T20:20:42.446Z"
   },
   {
    "duration": 6,
    "start_time": "2022-07-09T20:20:42.485Z"
   },
   {
    "duration": 34,
    "start_time": "2022-07-09T20:20:42.492Z"
   },
   {
    "duration": 10,
    "start_time": "2022-07-09T20:20:42.528Z"
   },
   {
    "duration": 9,
    "start_time": "2022-07-09T20:20:42.539Z"
   },
   {
    "duration": 17,
    "start_time": "2022-07-09T20:20:42.550Z"
   },
   {
    "duration": 23,
    "start_time": "2022-07-09T20:20:42.568Z"
   },
   {
    "duration": 33,
    "start_time": "2022-07-09T20:20:42.593Z"
   },
   {
    "duration": 15,
    "start_time": "2022-07-09T20:20:42.628Z"
   },
   {
    "duration": 12,
    "start_time": "2022-07-09T20:20:42.645Z"
   },
   {
    "duration": 19,
    "start_time": "2022-07-09T20:20:42.659Z"
   },
   {
    "duration": 53,
    "start_time": "2022-07-09T20:20:42.680Z"
   },
   {
    "duration": 10,
    "start_time": "2022-07-09T20:20:42.735Z"
   },
   {
    "duration": 17,
    "start_time": "2022-07-09T20:20:42.747Z"
   },
   {
    "duration": 10,
    "start_time": "2022-07-09T20:20:42.766Z"
   },
   {
    "duration": 11,
    "start_time": "2022-07-09T20:20:42.778Z"
   },
   {
    "duration": 10,
    "start_time": "2022-07-09T20:20:42.790Z"
   },
   {
    "duration": 26,
    "start_time": "2022-07-09T20:20:42.802Z"
   },
   {
    "duration": 9,
    "start_time": "2022-07-09T20:20:42.832Z"
   },
   {
    "duration": 13,
    "start_time": "2022-07-09T20:20:42.843Z"
   },
   {
    "duration": 12,
    "start_time": "2022-07-09T20:20:42.857Z"
   },
   {
    "duration": 8,
    "start_time": "2022-07-09T20:20:42.870Z"
   },
   {
    "duration": 12,
    "start_time": "2022-07-09T20:20:42.879Z"
   },
   {
    "duration": 64,
    "start_time": "2022-07-09T20:20:42.892Z"
   },
   {
    "duration": 90,
    "start_time": "2022-07-09T20:20:42.957Z"
   },
   {
    "duration": 7,
    "start_time": "2022-07-09T20:20:43.049Z"
   },
   {
    "duration": 46,
    "start_time": "2022-07-09T20:20:43.057Z"
   },
   {
    "duration": 19,
    "start_time": "2022-07-09T20:20:43.105Z"
   },
   {
    "duration": 50,
    "start_time": "2022-07-09T20:20:43.126Z"
   },
   {
    "duration": 6,
    "start_time": "2022-07-09T20:20:43.178Z"
   },
   {
    "duration": 5,
    "start_time": "2022-07-09T20:20:43.186Z"
   },
   {
    "duration": 19,
    "start_time": "2022-07-09T20:20:43.192Z"
   },
   {
    "duration": 21,
    "start_time": "2022-07-09T20:20:43.212Z"
   },
   {
    "duration": 6,
    "start_time": "2022-07-09T20:20:43.234Z"
   },
   {
    "duration": 12,
    "start_time": "2022-07-09T20:20:43.242Z"
   },
   {
    "duration": 4,
    "start_time": "2022-07-09T20:20:43.255Z"
   },
   {
    "duration": 7,
    "start_time": "2022-07-09T20:20:43.261Z"
   },
   {
    "duration": 11,
    "start_time": "2022-07-09T20:20:43.270Z"
   },
   {
    "duration": 6,
    "start_time": "2022-07-09T20:20:43.283Z"
   },
   {
    "duration": 7,
    "start_time": "2022-07-09T20:20:43.291Z"
   },
   {
    "duration": 24,
    "start_time": "2022-07-09T20:20:43.300Z"
   },
   {
    "duration": 11,
    "start_time": "2022-07-09T20:20:43.326Z"
   },
   {
    "duration": 8,
    "start_time": "2022-07-09T20:20:43.338Z"
   },
   {
    "duration": 7,
    "start_time": "2022-07-09T20:20:43.348Z"
   },
   {
    "duration": 7,
    "start_time": "2022-07-09T20:20:43.357Z"
   },
   {
    "duration": 4,
    "start_time": "2022-07-09T20:20:43.366Z"
   },
   {
    "duration": 6,
    "start_time": "2022-07-09T20:20:43.371Z"
   },
   {
    "duration": 328,
    "start_time": "2022-07-09T20:20:43.378Z"
   },
   {
    "duration": 17,
    "start_time": "2022-07-09T20:20:43.708Z"
   },
   {
    "duration": 5,
    "start_time": "2022-07-09T20:20:43.727Z"
   },
   {
    "duration": 13,
    "start_time": "2022-07-09T20:20:43.734Z"
   },
   {
    "duration": 11,
    "start_time": "2022-07-09T20:20:43.749Z"
   },
   {
    "duration": 4,
    "start_time": "2022-07-09T20:20:43.762Z"
   },
   {
    "duration": 6,
    "start_time": "2022-07-09T20:20:43.767Z"
   },
   {
    "duration": 10,
    "start_time": "2022-07-09T20:20:43.774Z"
   },
   {
    "duration": 7,
    "start_time": "2022-07-09T20:20:43.786Z"
   },
   {
    "duration": 7,
    "start_time": "2022-07-09T20:20:43.794Z"
   },
   {
    "duration": 3,
    "start_time": "2022-07-09T20:20:43.824Z"
   },
   {
    "duration": 684,
    "start_time": "2022-07-09T20:20:43.828Z"
   },
   {
    "duration": 666,
    "start_time": "2022-07-09T20:20:44.514Z"
   },
   {
    "duration": 882,
    "start_time": "2022-07-09T20:20:45.181Z"
   },
   {
    "duration": 4,
    "start_time": "2022-07-09T20:20:46.064Z"
   },
   {
    "duration": 55,
    "start_time": "2022-07-09T20:20:46.069Z"
   },
   {
    "duration": 11,
    "start_time": "2022-07-09T20:20:46.129Z"
   },
   {
    "duration": 9,
    "start_time": "2022-07-09T20:20:46.142Z"
   },
   {
    "duration": 6,
    "start_time": "2022-07-09T20:20:46.152Z"
   },
   {
    "duration": 7,
    "start_time": "2022-07-09T20:20:46.160Z"
   },
   {
    "duration": 4,
    "start_time": "2022-07-09T20:29:52.561Z"
   },
   {
    "duration": 3,
    "start_time": "2022-07-09T20:30:24.897Z"
   },
   {
    "duration": 3,
    "start_time": "2022-07-09T20:30:33.918Z"
   },
   {
    "duration": 21,
    "start_time": "2022-07-09T20:30:33.925Z"
   },
   {
    "duration": 16,
    "start_time": "2022-07-09T20:30:33.948Z"
   },
   {
    "duration": 549,
    "start_time": "2022-07-09T20:30:33.965Z"
   },
   {
    "duration": 15,
    "start_time": "2022-07-09T20:30:34.516Z"
   },
   {
    "duration": 38,
    "start_time": "2022-07-09T20:30:34.533Z"
   },
   {
    "duration": 76,
    "start_time": "2022-07-09T20:30:34.573Z"
   },
   {
    "duration": 6,
    "start_time": "2022-07-09T20:30:34.651Z"
   },
   {
    "duration": 43,
    "start_time": "2022-07-09T20:30:34.659Z"
   },
   {
    "duration": 29,
    "start_time": "2022-07-09T20:30:34.704Z"
   },
   {
    "duration": 19,
    "start_time": "2022-07-09T20:30:34.736Z"
   },
   {
    "duration": 48,
    "start_time": "2022-07-09T20:30:34.757Z"
   },
   {
    "duration": 33,
    "start_time": "2022-07-09T20:30:34.807Z"
   },
   {
    "duration": 11,
    "start_time": "2022-07-09T20:30:34.841Z"
   },
   {
    "duration": 24,
    "start_time": "2022-07-09T20:30:34.853Z"
   },
   {
    "duration": 13,
    "start_time": "2022-07-09T20:30:34.878Z"
   },
   {
    "duration": 42,
    "start_time": "2022-07-09T20:30:34.892Z"
   },
   {
    "duration": 37,
    "start_time": "2022-07-09T20:30:34.935Z"
   },
   {
    "duration": 11,
    "start_time": "2022-07-09T20:30:34.974Z"
   },
   {
    "duration": 19,
    "start_time": "2022-07-09T20:30:34.987Z"
   },
   {
    "duration": 24,
    "start_time": "2022-07-09T20:30:35.008Z"
   },
   {
    "duration": 20,
    "start_time": "2022-07-09T20:30:35.034Z"
   },
   {
    "duration": 27,
    "start_time": "2022-07-09T20:30:35.056Z"
   },
   {
    "duration": 31,
    "start_time": "2022-07-09T20:30:35.085Z"
   },
   {
    "duration": 13,
    "start_time": "2022-07-09T20:30:35.118Z"
   },
   {
    "duration": 30,
    "start_time": "2022-07-09T20:30:35.133Z"
   },
   {
    "duration": 19,
    "start_time": "2022-07-09T20:30:35.165Z"
   },
   {
    "duration": 13,
    "start_time": "2022-07-09T20:30:35.186Z"
   },
   {
    "duration": 13,
    "start_time": "2022-07-09T20:30:35.203Z"
   },
   {
    "duration": 59,
    "start_time": "2022-07-09T20:30:35.218Z"
   },
   {
    "duration": 107,
    "start_time": "2022-07-09T20:30:35.278Z"
   },
   {
    "duration": 6,
    "start_time": "2022-07-09T20:30:35.387Z"
   },
   {
    "duration": 79,
    "start_time": "2022-07-09T20:30:35.395Z"
   },
   {
    "duration": 7,
    "start_time": "2022-07-09T20:30:35.475Z"
   },
   {
    "duration": 74,
    "start_time": "2022-07-09T20:30:35.485Z"
   },
   {
    "duration": 7,
    "start_time": "2022-07-09T20:30:35.560Z"
   },
   {
    "duration": 5,
    "start_time": "2022-07-09T20:30:35.569Z"
   },
   {
    "duration": 22,
    "start_time": "2022-07-09T20:30:35.575Z"
   },
   {
    "duration": 30,
    "start_time": "2022-07-09T20:30:35.599Z"
   },
   {
    "duration": 7,
    "start_time": "2022-07-09T20:30:35.630Z"
   },
   {
    "duration": 11,
    "start_time": "2022-07-09T20:30:35.639Z"
   },
   {
    "duration": 4,
    "start_time": "2022-07-09T20:30:35.652Z"
   },
   {
    "duration": 18,
    "start_time": "2022-07-09T20:30:35.658Z"
   },
   {
    "duration": 10,
    "start_time": "2022-07-09T20:30:35.678Z"
   },
   {
    "duration": 6,
    "start_time": "2022-07-09T20:30:35.691Z"
   },
   {
    "duration": 26,
    "start_time": "2022-07-09T20:30:35.699Z"
   },
   {
    "duration": 4,
    "start_time": "2022-07-09T20:30:35.728Z"
   },
   {
    "duration": 19,
    "start_time": "2022-07-09T20:30:35.733Z"
   },
   {
    "duration": 7,
    "start_time": "2022-07-09T20:30:35.754Z"
   },
   {
    "duration": 12,
    "start_time": "2022-07-09T20:30:35.763Z"
   },
   {
    "duration": 11,
    "start_time": "2022-07-09T20:30:35.777Z"
   },
   {
    "duration": 5,
    "start_time": "2022-07-09T20:30:35.790Z"
   },
   {
    "duration": 6,
    "start_time": "2022-07-09T20:30:35.797Z"
   },
   {
    "duration": 405,
    "start_time": "2022-07-09T20:30:35.825Z"
   },
   {
    "duration": 13,
    "start_time": "2022-07-09T20:30:36.232Z"
   },
   {
    "duration": 8,
    "start_time": "2022-07-09T20:30:36.246Z"
   },
   {
    "duration": 13,
    "start_time": "2022-07-09T20:30:36.256Z"
   },
   {
    "duration": 6,
    "start_time": "2022-07-09T20:30:36.271Z"
   },
   {
    "duration": 5,
    "start_time": "2022-07-09T20:30:36.279Z"
   },
   {
    "duration": 5,
    "start_time": "2022-07-09T20:30:36.286Z"
   },
   {
    "duration": 12,
    "start_time": "2022-07-09T20:30:36.292Z"
   },
   {
    "duration": 19,
    "start_time": "2022-07-09T20:30:36.305Z"
   },
   {
    "duration": 13,
    "start_time": "2022-07-09T20:30:36.326Z"
   },
   {
    "duration": 15,
    "start_time": "2022-07-09T20:30:36.342Z"
   },
   {
    "duration": 613,
    "start_time": "2022-07-09T20:30:36.358Z"
   },
   {
    "duration": 807,
    "start_time": "2022-07-09T20:30:36.972Z"
   },
   {
    "duration": 758,
    "start_time": "2022-07-09T20:30:37.781Z"
   },
   {
    "duration": 4,
    "start_time": "2022-07-09T20:30:38.541Z"
   },
   {
    "duration": 6,
    "start_time": "2022-07-09T20:30:38.547Z"
   },
   {
    "duration": 17,
    "start_time": "2022-07-09T20:30:38.555Z"
   },
   {
    "duration": 14,
    "start_time": "2022-07-09T20:30:38.574Z"
   },
   {
    "duration": 8,
    "start_time": "2022-07-09T20:30:38.591Z"
   },
   {
    "duration": 23,
    "start_time": "2022-07-09T20:30:38.601Z"
   },
   {
    "duration": 4,
    "start_time": "2022-07-09T20:30:54.169Z"
   },
   {
    "duration": 4,
    "start_time": "2022-07-09T20:31:10.132Z"
   },
   {
    "duration": 13,
    "start_time": "2022-07-09T20:31:10.137Z"
   },
   {
    "duration": 5,
    "start_time": "2022-07-09T20:31:10.152Z"
   },
   {
    "duration": 508,
    "start_time": "2022-07-09T20:31:10.158Z"
   },
   {
    "duration": 13,
    "start_time": "2022-07-09T20:31:10.668Z"
   },
   {
    "duration": 28,
    "start_time": "2022-07-09T20:31:10.683Z"
   },
   {
    "duration": 38,
    "start_time": "2022-07-09T20:31:10.713Z"
   },
   {
    "duration": 6,
    "start_time": "2022-07-09T20:31:10.753Z"
   },
   {
    "duration": 22,
    "start_time": "2022-07-09T20:31:10.761Z"
   },
   {
    "duration": 12,
    "start_time": "2022-07-09T20:31:10.785Z"
   },
   {
    "duration": 24,
    "start_time": "2022-07-09T20:31:10.801Z"
   },
   {
    "duration": 116,
    "start_time": "2022-07-09T20:31:10.827Z"
   },
   {
    "duration": 24,
    "start_time": "2022-07-09T20:31:10.945Z"
   },
   {
    "duration": 10,
    "start_time": "2022-07-09T20:31:10.971Z"
   },
   {
    "duration": 16,
    "start_time": "2022-07-09T20:31:10.982Z"
   },
   {
    "duration": 30,
    "start_time": "2022-07-09T20:31:11.000Z"
   },
   {
    "duration": 21,
    "start_time": "2022-07-09T20:31:11.031Z"
   },
   {
    "duration": 33,
    "start_time": "2022-07-09T20:31:11.053Z"
   },
   {
    "duration": 12,
    "start_time": "2022-07-09T20:31:11.088Z"
   },
   {
    "duration": 11,
    "start_time": "2022-07-09T20:31:11.124Z"
   },
   {
    "duration": 24,
    "start_time": "2022-07-09T20:31:11.137Z"
   },
   {
    "duration": 13,
    "start_time": "2022-07-09T20:31:11.163Z"
   },
   {
    "duration": 11,
    "start_time": "2022-07-09T20:31:11.178Z"
   },
   {
    "duration": 14,
    "start_time": "2022-07-09T20:31:11.190Z"
   },
   {
    "duration": 26,
    "start_time": "2022-07-09T20:31:11.205Z"
   },
   {
    "duration": 10,
    "start_time": "2022-07-09T20:31:11.233Z"
   },
   {
    "duration": 12,
    "start_time": "2022-07-09T20:31:11.244Z"
   },
   {
    "duration": 7,
    "start_time": "2022-07-09T20:31:11.257Z"
   },
   {
    "duration": 10,
    "start_time": "2022-07-09T20:31:11.268Z"
   },
   {
    "duration": 74,
    "start_time": "2022-07-09T20:31:11.279Z"
   },
   {
    "duration": 105,
    "start_time": "2022-07-09T20:31:11.355Z"
   },
   {
    "duration": 7,
    "start_time": "2022-07-09T20:31:11.461Z"
   },
   {
    "duration": 62,
    "start_time": "2022-07-09T20:31:11.470Z"
   },
   {
    "duration": 7,
    "start_time": "2022-07-09T20:31:11.534Z"
   },
   {
    "duration": 56,
    "start_time": "2022-07-09T20:31:11.544Z"
   },
   {
    "duration": 23,
    "start_time": "2022-07-09T20:31:11.601Z"
   },
   {
    "duration": 3,
    "start_time": "2022-07-09T20:31:11.626Z"
   },
   {
    "duration": 28,
    "start_time": "2022-07-09T20:31:11.631Z"
   },
   {
    "duration": 16,
    "start_time": "2022-07-09T20:31:11.661Z"
   },
   {
    "duration": 10,
    "start_time": "2022-07-09T20:31:11.679Z"
   },
   {
    "duration": 15,
    "start_time": "2022-07-09T20:31:11.690Z"
   },
   {
    "duration": 21,
    "start_time": "2022-07-09T20:31:11.706Z"
   },
   {
    "duration": 10,
    "start_time": "2022-07-09T20:31:11.728Z"
   },
   {
    "duration": 9,
    "start_time": "2022-07-09T20:31:11.740Z"
   },
   {
    "duration": 10,
    "start_time": "2022-07-09T20:31:11.751Z"
   },
   {
    "duration": 6,
    "start_time": "2022-07-09T20:31:11.762Z"
   },
   {
    "duration": 7,
    "start_time": "2022-07-09T20:31:11.769Z"
   },
   {
    "duration": 8,
    "start_time": "2022-07-09T20:31:11.778Z"
   },
   {
    "duration": 6,
    "start_time": "2022-07-09T20:31:11.787Z"
   },
   {
    "duration": 9,
    "start_time": "2022-07-09T20:31:11.795Z"
   },
   {
    "duration": 22,
    "start_time": "2022-07-09T20:31:11.805Z"
   },
   {
    "duration": 3,
    "start_time": "2022-07-09T20:31:11.829Z"
   },
   {
    "duration": 5,
    "start_time": "2022-07-09T20:31:11.834Z"
   },
   {
    "duration": 326,
    "start_time": "2022-07-09T20:31:11.841Z"
   },
   {
    "duration": 14,
    "start_time": "2022-07-09T20:31:12.169Z"
   },
   {
    "duration": 17,
    "start_time": "2022-07-09T20:31:12.185Z"
   },
   {
    "duration": 21,
    "start_time": "2022-07-09T20:31:12.204Z"
   },
   {
    "duration": 7,
    "start_time": "2022-07-09T20:31:12.227Z"
   },
   {
    "duration": 5,
    "start_time": "2022-07-09T20:31:12.236Z"
   },
   {
    "duration": 9,
    "start_time": "2022-07-09T20:31:12.242Z"
   },
   {
    "duration": 7,
    "start_time": "2022-07-09T20:31:12.253Z"
   },
   {
    "duration": 6,
    "start_time": "2022-07-09T20:31:12.261Z"
   },
   {
    "duration": 6,
    "start_time": "2022-07-09T20:31:12.268Z"
   },
   {
    "duration": 8,
    "start_time": "2022-07-09T20:31:12.275Z"
   },
   {
    "duration": 650,
    "start_time": "2022-07-09T20:31:12.285Z"
   },
   {
    "duration": 771,
    "start_time": "2022-07-09T20:31:12.937Z"
   },
   {
    "duration": 657,
    "start_time": "2022-07-09T20:31:13.709Z"
   },
   {
    "duration": 4,
    "start_time": "2022-07-09T20:31:14.367Z"
   },
   {
    "duration": 10,
    "start_time": "2022-07-09T20:31:14.373Z"
   },
   {
    "duration": 7,
    "start_time": "2022-07-09T20:31:14.384Z"
   },
   {
    "duration": 5,
    "start_time": "2022-07-09T20:31:14.393Z"
   },
   {
    "duration": 6,
    "start_time": "2022-07-09T20:31:14.399Z"
   },
   {
    "duration": 19,
    "start_time": "2022-07-09T20:31:14.406Z"
   },
   {
    "duration": 4,
    "start_time": "2022-07-09T20:32:09.785Z"
   },
   {
    "duration": 5,
    "start_time": "2022-07-09T20:35:02.062Z"
   },
   {
    "duration": 726,
    "start_time": "2022-07-09T20:38:46.490Z"
   },
   {
    "duration": 804,
    "start_time": "2022-07-09T20:39:01.177Z"
   },
   {
    "duration": 560,
    "start_time": "2022-07-09T20:39:15.876Z"
   },
   {
    "duration": 2,
    "start_time": "2022-07-09T20:39:44.504Z"
   },
   {
    "duration": 677,
    "start_time": "2022-07-09T20:39:50.718Z"
   },
   {
    "duration": 506,
    "start_time": "2022-07-09T20:39:55.321Z"
   },
   {
    "duration": 626,
    "start_time": "2022-07-09T20:40:03.086Z"
   },
   {
    "duration": 4,
    "start_time": "2022-07-09T20:54:26.303Z"
   },
   {
    "duration": 13,
    "start_time": "2022-07-09T20:54:26.309Z"
   },
   {
    "duration": 8,
    "start_time": "2022-07-09T20:54:26.324Z"
   },
   {
    "duration": 573,
    "start_time": "2022-07-09T20:54:26.334Z"
   },
   {
    "duration": 13,
    "start_time": "2022-07-09T20:54:26.909Z"
   },
   {
    "duration": 31,
    "start_time": "2022-07-09T20:54:26.924Z"
   },
   {
    "duration": 39,
    "start_time": "2022-07-09T20:54:26.957Z"
   },
   {
    "duration": 6,
    "start_time": "2022-07-09T20:54:26.998Z"
   },
   {
    "duration": 34,
    "start_time": "2022-07-09T20:54:27.005Z"
   },
   {
    "duration": 10,
    "start_time": "2022-07-09T20:54:27.041Z"
   },
   {
    "duration": 14,
    "start_time": "2022-07-09T20:54:27.054Z"
   },
   {
    "duration": 24,
    "start_time": "2022-07-09T20:54:27.070Z"
   },
   {
    "duration": 33,
    "start_time": "2022-07-09T20:54:27.124Z"
   },
   {
    "duration": 13,
    "start_time": "2022-07-09T20:54:27.162Z"
   },
   {
    "duration": 20,
    "start_time": "2022-07-09T20:54:27.177Z"
   },
   {
    "duration": 26,
    "start_time": "2022-07-09T20:54:27.199Z"
   },
   {
    "duration": 33,
    "start_time": "2022-07-09T20:54:27.227Z"
   },
   {
    "duration": 46,
    "start_time": "2022-07-09T20:54:27.263Z"
   },
   {
    "duration": 24,
    "start_time": "2022-07-09T20:54:27.311Z"
   },
   {
    "duration": 21,
    "start_time": "2022-07-09T20:54:27.337Z"
   },
   {
    "duration": 14,
    "start_time": "2022-07-09T20:54:27.360Z"
   },
   {
    "duration": 19,
    "start_time": "2022-07-09T20:54:27.376Z"
   },
   {
    "duration": 31,
    "start_time": "2022-07-09T20:54:27.397Z"
   },
   {
    "duration": 15,
    "start_time": "2022-07-09T20:54:27.430Z"
   },
   {
    "duration": 12,
    "start_time": "2022-07-09T20:54:27.447Z"
   },
   {
    "duration": 19,
    "start_time": "2022-07-09T20:54:27.461Z"
   },
   {
    "duration": 14,
    "start_time": "2022-07-09T20:54:27.481Z"
   },
   {
    "duration": 9,
    "start_time": "2022-07-09T20:54:27.497Z"
   },
   {
    "duration": 15,
    "start_time": "2022-07-09T20:54:27.510Z"
   },
   {
    "duration": 50,
    "start_time": "2022-07-09T20:54:27.526Z"
   },
   {
    "duration": 98,
    "start_time": "2022-07-09T20:54:27.578Z"
   },
   {
    "duration": 7,
    "start_time": "2022-07-09T20:54:27.678Z"
   },
   {
    "duration": 68,
    "start_time": "2022-07-09T20:54:27.687Z"
   },
   {
    "duration": 7,
    "start_time": "2022-07-09T20:54:27.756Z"
   },
   {
    "duration": 42,
    "start_time": "2022-07-09T20:54:27.764Z"
   },
   {
    "duration": 19,
    "start_time": "2022-07-09T20:54:27.807Z"
   },
   {
    "duration": 5,
    "start_time": "2022-07-09T20:54:27.828Z"
   },
   {
    "duration": 19,
    "start_time": "2022-07-09T20:54:27.834Z"
   },
   {
    "duration": 11,
    "start_time": "2022-07-09T20:54:27.854Z"
   },
   {
    "duration": 5,
    "start_time": "2022-07-09T20:54:27.867Z"
   },
   {
    "duration": 13,
    "start_time": "2022-07-09T20:54:27.874Z"
   },
   {
    "duration": 35,
    "start_time": "2022-07-09T20:54:27.888Z"
   },
   {
    "duration": 5,
    "start_time": "2022-07-09T20:54:27.925Z"
   },
   {
    "duration": 14,
    "start_time": "2022-07-09T20:54:27.931Z"
   },
   {
    "duration": 5,
    "start_time": "2022-07-09T20:54:27.946Z"
   },
   {
    "duration": 6,
    "start_time": "2022-07-09T20:54:27.953Z"
   },
   {
    "duration": 6,
    "start_time": "2022-07-09T20:54:27.960Z"
   },
   {
    "duration": 9,
    "start_time": "2022-07-09T20:54:27.967Z"
   },
   {
    "duration": 8,
    "start_time": "2022-07-09T20:54:27.977Z"
   },
   {
    "duration": 11,
    "start_time": "2022-07-09T20:54:27.986Z"
   },
   {
    "duration": 7,
    "start_time": "2022-07-09T20:54:27.998Z"
   },
   {
    "duration": 4,
    "start_time": "2022-07-09T20:54:28.023Z"
   },
   {
    "duration": 10,
    "start_time": "2022-07-09T20:54:28.029Z"
   },
   {
    "duration": 314,
    "start_time": "2022-07-09T20:54:28.041Z"
   },
   {
    "duration": 13,
    "start_time": "2022-07-09T20:54:28.357Z"
   },
   {
    "duration": 6,
    "start_time": "2022-07-09T20:54:28.371Z"
   },
   {
    "duration": 14,
    "start_time": "2022-07-09T20:54:28.378Z"
   },
   {
    "duration": 7,
    "start_time": "2022-07-09T20:54:28.393Z"
   },
   {
    "duration": 3,
    "start_time": "2022-07-09T20:54:28.423Z"
   },
   {
    "duration": 6,
    "start_time": "2022-07-09T20:54:28.428Z"
   },
   {
    "duration": 6,
    "start_time": "2022-07-09T20:54:28.435Z"
   },
   {
    "duration": 6,
    "start_time": "2022-07-09T20:54:28.442Z"
   },
   {
    "duration": 8,
    "start_time": "2022-07-09T20:54:28.450Z"
   },
   {
    "duration": 8,
    "start_time": "2022-07-09T20:54:28.459Z"
   },
   {
    "duration": 616,
    "start_time": "2022-07-09T20:54:28.468Z"
   },
   {
    "duration": 741,
    "start_time": "2022-07-09T20:54:29.086Z"
   },
   {
    "duration": 698,
    "start_time": "2022-07-09T20:54:29.829Z"
   },
   {
    "duration": 632,
    "start_time": "2022-07-09T20:54:30.529Z"
   },
   {
    "duration": 4,
    "start_time": "2022-07-09T20:54:31.163Z"
   },
   {
    "duration": 29,
    "start_time": "2022-07-09T20:54:31.168Z"
   },
   {
    "duration": 49,
    "start_time": "2022-07-09T20:54:31.198Z"
   },
   {
    "duration": 6,
    "start_time": "2022-07-09T20:54:31.248Z"
   },
   {
    "duration": 7,
    "start_time": "2022-07-09T20:54:31.256Z"
   },
   {
    "duration": 7,
    "start_time": "2022-07-09T20:54:31.265Z"
   },
   {
    "duration": 1056,
    "start_time": "2022-07-10T10:08:56.347Z"
   },
   {
    "duration": 3,
    "start_time": "2022-07-10T10:08:57.404Z"
   },
   {
    "duration": 8,
    "start_time": "2022-07-10T10:08:57.408Z"
   },
   {
    "duration": 856,
    "start_time": "2022-07-10T10:08:57.417Z"
   },
   {
    "duration": 17,
    "start_time": "2022-07-10T10:08:58.275Z"
   },
   {
    "duration": 25,
    "start_time": "2022-07-10T10:08:58.293Z"
   },
   {
    "duration": 42,
    "start_time": "2022-07-10T10:08:58.320Z"
   },
   {
    "duration": 4,
    "start_time": "2022-07-10T10:08:58.364Z"
   },
   {
    "duration": 17,
    "start_time": "2022-07-10T10:08:58.370Z"
   },
   {
    "duration": 11,
    "start_time": "2022-07-10T10:08:58.389Z"
   },
   {
    "duration": 10,
    "start_time": "2022-07-10T10:08:58.401Z"
   },
   {
    "duration": 20,
    "start_time": "2022-07-10T10:08:58.412Z"
   },
   {
    "duration": 23,
    "start_time": "2022-07-10T10:08:58.460Z"
   },
   {
    "duration": 9,
    "start_time": "2022-07-10T10:08:58.486Z"
   },
   {
    "duration": 12,
    "start_time": "2022-07-10T10:08:58.496Z"
   },
   {
    "duration": 11,
    "start_time": "2022-07-10T10:08:58.509Z"
   },
   {
    "duration": 45,
    "start_time": "2022-07-10T10:08:58.521Z"
   },
   {
    "duration": 29,
    "start_time": "2022-07-10T10:08:58.568Z"
   },
   {
    "duration": 11,
    "start_time": "2022-07-10T10:08:58.599Z"
   },
   {
    "duration": 13,
    "start_time": "2022-07-10T10:08:58.611Z"
   },
   {
    "duration": 42,
    "start_time": "2022-07-10T10:08:58.626Z"
   },
   {
    "duration": 13,
    "start_time": "2022-07-10T10:08:58.670Z"
   },
   {
    "duration": 18,
    "start_time": "2022-07-10T10:08:58.685Z"
   },
   {
    "duration": 25,
    "start_time": "2022-07-10T10:08:58.705Z"
   },
   {
    "duration": 32,
    "start_time": "2022-07-10T10:08:58.732Z"
   },
   {
    "duration": 10,
    "start_time": "2022-07-10T10:08:58.765Z"
   },
   {
    "duration": 13,
    "start_time": "2022-07-10T10:08:58.777Z"
   },
   {
    "duration": 8,
    "start_time": "2022-07-10T10:08:58.792Z"
   },
   {
    "duration": 9,
    "start_time": "2022-07-10T10:08:58.802Z"
   },
   {
    "duration": 108,
    "start_time": "2022-07-10T10:08:58.812Z"
   },
   {
    "duration": 0,
    "start_time": "2022-07-10T10:08:58.923Z"
   },
   {
    "duration": 0,
    "start_time": "2022-07-10T10:08:58.924Z"
   },
   {
    "duration": 0,
    "start_time": "2022-07-10T10:08:58.926Z"
   },
   {
    "duration": 0,
    "start_time": "2022-07-10T10:08:58.927Z"
   },
   {
    "duration": 0,
    "start_time": "2022-07-10T10:08:58.928Z"
   },
   {
    "duration": 0,
    "start_time": "2022-07-10T10:08:58.929Z"
   },
   {
    "duration": 0,
    "start_time": "2022-07-10T10:08:58.930Z"
   },
   {
    "duration": 0,
    "start_time": "2022-07-10T10:08:58.930Z"
   },
   {
    "duration": 0,
    "start_time": "2022-07-10T10:08:58.931Z"
   },
   {
    "duration": 0,
    "start_time": "2022-07-10T10:08:58.932Z"
   },
   {
    "duration": 0,
    "start_time": "2022-07-10T10:08:58.933Z"
   },
   {
    "duration": 0,
    "start_time": "2022-07-10T10:08:58.934Z"
   },
   {
    "duration": 0,
    "start_time": "2022-07-10T10:08:58.960Z"
   },
   {
    "duration": 0,
    "start_time": "2022-07-10T10:08:58.961Z"
   },
   {
    "duration": 0,
    "start_time": "2022-07-10T10:08:58.962Z"
   },
   {
    "duration": 0,
    "start_time": "2022-07-10T10:08:58.963Z"
   },
   {
    "duration": 0,
    "start_time": "2022-07-10T10:08:58.964Z"
   },
   {
    "duration": 0,
    "start_time": "2022-07-10T10:08:58.965Z"
   },
   {
    "duration": 0,
    "start_time": "2022-07-10T10:08:58.966Z"
   },
   {
    "duration": 0,
    "start_time": "2022-07-10T10:08:58.967Z"
   },
   {
    "duration": 0,
    "start_time": "2022-07-10T10:08:58.968Z"
   },
   {
    "duration": 0,
    "start_time": "2022-07-10T10:08:58.969Z"
   },
   {
    "duration": 0,
    "start_time": "2022-07-10T10:08:58.970Z"
   },
   {
    "duration": 0,
    "start_time": "2022-07-10T10:08:58.971Z"
   },
   {
    "duration": 0,
    "start_time": "2022-07-10T10:08:58.972Z"
   },
   {
    "duration": 0,
    "start_time": "2022-07-10T10:08:58.973Z"
   },
   {
    "duration": 0,
    "start_time": "2022-07-10T10:08:58.974Z"
   },
   {
    "duration": 0,
    "start_time": "2022-07-10T10:08:58.975Z"
   },
   {
    "duration": 0,
    "start_time": "2022-07-10T10:08:58.976Z"
   },
   {
    "duration": 0,
    "start_time": "2022-07-10T10:08:58.976Z"
   },
   {
    "duration": 0,
    "start_time": "2022-07-10T10:08:58.977Z"
   },
   {
    "duration": 0,
    "start_time": "2022-07-10T10:08:58.978Z"
   },
   {
    "duration": 0,
    "start_time": "2022-07-10T10:08:58.979Z"
   },
   {
    "duration": 0,
    "start_time": "2022-07-10T10:08:58.980Z"
   },
   {
    "duration": 0,
    "start_time": "2022-07-10T10:08:58.981Z"
   },
   {
    "duration": 0,
    "start_time": "2022-07-10T10:08:58.982Z"
   },
   {
    "duration": 0,
    "start_time": "2022-07-10T10:08:58.983Z"
   },
   {
    "duration": 0,
    "start_time": "2022-07-10T10:08:58.984Z"
   },
   {
    "duration": 0,
    "start_time": "2022-07-10T10:08:58.985Z"
   },
   {
    "duration": 0,
    "start_time": "2022-07-10T10:08:58.986Z"
   },
   {
    "duration": 0,
    "start_time": "2022-07-10T10:08:58.987Z"
   },
   {
    "duration": 0,
    "start_time": "2022-07-10T10:08:58.988Z"
   },
   {
    "duration": 0,
    "start_time": "2022-07-10T10:08:58.988Z"
   },
   {
    "duration": 0,
    "start_time": "2022-07-10T10:08:58.989Z"
   },
   {
    "duration": 14,
    "start_time": "2022-07-10T10:09:46.972Z"
   },
   {
    "duration": 28,
    "start_time": "2022-07-10T10:10:45.166Z"
   },
   {
    "duration": 5,
    "start_time": "2022-07-10T10:12:17.655Z"
   },
   {
    "duration": 51,
    "start_time": "2022-07-10T10:15:47.332Z"
   },
   {
    "duration": 1068,
    "start_time": "2022-07-10T10:15:53.332Z"
   },
   {
    "duration": 3,
    "start_time": "2022-07-10T10:15:54.402Z"
   },
   {
    "duration": 5,
    "start_time": "2022-07-10T10:15:54.407Z"
   },
   {
    "duration": 554,
    "start_time": "2022-07-10T10:15:54.413Z"
   },
   {
    "duration": 15,
    "start_time": "2022-07-10T10:15:54.969Z"
   },
   {
    "duration": 23,
    "start_time": "2022-07-10T10:15:54.986Z"
   },
   {
    "duration": 55,
    "start_time": "2022-07-10T10:15:55.011Z"
   },
   {
    "duration": 5,
    "start_time": "2022-07-10T10:15:55.068Z"
   },
   {
    "duration": 16,
    "start_time": "2022-07-10T10:15:55.075Z"
   },
   {
    "duration": 9,
    "start_time": "2022-07-10T10:15:55.093Z"
   },
   {
    "duration": 9,
    "start_time": "2022-07-10T10:15:55.104Z"
   },
   {
    "duration": 46,
    "start_time": "2022-07-10T10:15:55.115Z"
   },
   {
    "duration": 23,
    "start_time": "2022-07-10T10:15:55.162Z"
   },
   {
    "duration": 8,
    "start_time": "2022-07-10T10:15:55.188Z"
   },
   {
    "duration": 11,
    "start_time": "2022-07-10T10:15:55.198Z"
   },
   {
    "duration": 10,
    "start_time": "2022-07-10T10:15:55.210Z"
   },
   {
    "duration": 54,
    "start_time": "2022-07-10T10:15:55.222Z"
   },
   {
    "duration": 45,
    "start_time": "2022-07-10T10:15:55.278Z"
   },
   {
    "duration": 11,
    "start_time": "2022-07-10T10:15:55.325Z"
   },
   {
    "duration": 26,
    "start_time": "2022-07-10T10:15:55.338Z"
   },
   {
    "duration": 14,
    "start_time": "2022-07-10T10:15:55.365Z"
   },
   {
    "duration": 12,
    "start_time": "2022-07-10T10:15:55.380Z"
   },
   {
    "duration": 10,
    "start_time": "2022-07-10T10:15:55.394Z"
   },
   {
    "duration": 13,
    "start_time": "2022-07-10T10:15:55.406Z"
   },
   {
    "duration": 16,
    "start_time": "2022-07-10T10:15:55.421Z"
   },
   {
    "duration": 26,
    "start_time": "2022-07-10T10:15:55.439Z"
   },
   {
    "duration": 12,
    "start_time": "2022-07-10T10:15:55.467Z"
   },
   {
    "duration": 8,
    "start_time": "2022-07-10T10:15:55.480Z"
   },
   {
    "duration": 9,
    "start_time": "2022-07-10T10:15:55.489Z"
   },
   {
    "duration": 37,
    "start_time": "2022-07-10T10:15:55.500Z"
   },
   {
    "duration": 63,
    "start_time": "2022-07-10T10:15:55.539Z"
   },
   {
    "duration": 101,
    "start_time": "2022-07-10T10:15:55.604Z"
   },
   {
    "duration": 7,
    "start_time": "2022-07-10T10:15:55.707Z"
   },
   {
    "duration": 59,
    "start_time": "2022-07-10T10:15:55.715Z"
   },
   {
    "duration": 22,
    "start_time": "2022-07-10T10:15:55.776Z"
   },
   {
    "duration": 61,
    "start_time": "2022-07-10T10:15:55.800Z"
   },
   {
    "duration": 7,
    "start_time": "2022-07-10T10:15:55.863Z"
   },
   {
    "duration": 30,
    "start_time": "2022-07-10T10:15:55.872Z"
   },
   {
    "duration": 32,
    "start_time": "2022-07-10T10:15:55.903Z"
   },
   {
    "duration": 16,
    "start_time": "2022-07-10T10:15:55.936Z"
   },
   {
    "duration": 21,
    "start_time": "2022-07-10T10:15:55.956Z"
   },
   {
    "duration": 35,
    "start_time": "2022-07-10T10:15:55.979Z"
   },
   {
    "duration": 16,
    "start_time": "2022-07-10T10:15:56.015Z"
   },
   {
    "duration": 34,
    "start_time": "2022-07-10T10:15:56.032Z"
   },
   {
    "duration": 42,
    "start_time": "2022-07-10T10:15:56.068Z"
   },
   {
    "duration": 48,
    "start_time": "2022-07-10T10:15:56.111Z"
   },
   {
    "duration": 24,
    "start_time": "2022-07-10T10:15:56.160Z"
   },
   {
    "duration": 60,
    "start_time": "2022-07-10T10:15:56.186Z"
   },
   {
    "duration": 12,
    "start_time": "2022-07-10T10:15:56.248Z"
   },
   {
    "duration": 7,
    "start_time": "2022-07-10T10:15:56.262Z"
   },
   {
    "duration": 26,
    "start_time": "2022-07-10T10:15:56.271Z"
   },
   {
    "duration": 22,
    "start_time": "2022-07-10T10:15:56.299Z"
   },
   {
    "duration": 12,
    "start_time": "2022-07-10T10:15:56.324Z"
   },
   {
    "duration": 11,
    "start_time": "2022-07-10T10:15:56.338Z"
   },
   {
    "duration": 418,
    "start_time": "2022-07-10T10:15:56.351Z"
   },
   {
    "duration": 16,
    "start_time": "2022-07-10T10:15:56.771Z"
   },
   {
    "duration": 16,
    "start_time": "2022-07-10T10:15:56.788Z"
   },
   {
    "duration": 20,
    "start_time": "2022-07-10T10:15:56.805Z"
   },
   {
    "duration": 10,
    "start_time": "2022-07-10T10:15:56.826Z"
   },
   {
    "duration": 13,
    "start_time": "2022-07-10T10:15:56.837Z"
   },
   {
    "duration": 9,
    "start_time": "2022-07-10T10:15:56.852Z"
   },
   {
    "duration": 11,
    "start_time": "2022-07-10T10:15:56.863Z"
   },
   {
    "duration": 8,
    "start_time": "2022-07-10T10:15:56.876Z"
   },
   {
    "duration": 6,
    "start_time": "2022-07-10T10:15:56.885Z"
   },
   {
    "duration": 5,
    "start_time": "2022-07-10T10:15:56.892Z"
   },
   {
    "duration": 624,
    "start_time": "2022-07-10T10:15:56.898Z"
   },
   {
    "duration": 723,
    "start_time": "2022-07-10T10:15:57.524Z"
   },
   {
    "duration": 712,
    "start_time": "2022-07-10T10:15:58.248Z"
   },
   {
    "duration": 587,
    "start_time": "2022-07-10T10:15:58.962Z"
   },
   {
    "duration": 4,
    "start_time": "2022-07-10T10:15:59.560Z"
   },
   {
    "duration": 10,
    "start_time": "2022-07-10T10:15:59.565Z"
   },
   {
    "duration": 9,
    "start_time": "2022-07-10T10:15:59.576Z"
   },
   {
    "duration": 6,
    "start_time": "2022-07-10T10:15:59.586Z"
   },
   {
    "duration": 5,
    "start_time": "2022-07-10T10:15:59.594Z"
   },
   {
    "duration": 7,
    "start_time": "2022-07-10T10:15:59.601Z"
   },
   {
    "duration": 65,
    "start_time": "2022-07-10T10:15:59.609Z"
   },
   {
    "duration": 3,
    "start_time": "2022-07-10T10:15:59.676Z"
   },
   {
    "duration": 13,
    "start_time": "2022-07-10T10:15:59.681Z"
   },
   {
    "duration": 102,
    "start_time": "2022-07-10T10:15:59.695Z"
   },
   {
    "duration": 0,
    "start_time": "2022-07-10T10:15:59.798Z"
   },
   {
    "duration": 0,
    "start_time": "2022-07-10T10:15:59.799Z"
   },
   {
    "duration": 0,
    "start_time": "2022-07-10T10:15:59.800Z"
   },
   {
    "duration": 0,
    "start_time": "2022-07-10T10:15:59.801Z"
   },
   {
    "duration": 0,
    "start_time": "2022-07-10T10:15:59.803Z"
   },
   {
    "duration": 1301,
    "start_time": "2022-07-10T10:16:27.896Z"
   },
   {
    "duration": 12,
    "start_time": "2022-07-10T10:16:34.749Z"
   },
   {
    "duration": 4,
    "start_time": "2022-07-10T10:16:50.483Z"
   },
   {
    "duration": 4,
    "start_time": "2022-07-10T10:16:51.432Z"
   },
   {
    "duration": 1473,
    "start_time": "2022-07-10T10:16:52.136Z"
   },
   {
    "duration": 154,
    "start_time": "2022-07-10T10:16:56.661Z"
   },
   {
    "duration": 162,
    "start_time": "2022-07-10T10:16:59.232Z"
   },
   {
    "duration": 158,
    "start_time": "2022-07-10T10:16:59.907Z"
   },
   {
    "duration": 36,
    "start_time": "2022-07-10T10:17:02.206Z"
   },
   {
    "duration": 1061,
    "start_time": "2022-07-10T10:18:36.383Z"
   },
   {
    "duration": 2,
    "start_time": "2022-07-10T10:18:37.446Z"
   },
   {
    "duration": 8,
    "start_time": "2022-07-10T10:18:37.449Z"
   },
   {
    "duration": 585,
    "start_time": "2022-07-10T10:18:37.461Z"
   },
   {
    "duration": 16,
    "start_time": "2022-07-10T10:18:38.048Z"
   },
   {
    "duration": 25,
    "start_time": "2022-07-10T10:18:38.065Z"
   },
   {
    "duration": 41,
    "start_time": "2022-07-10T10:18:38.092Z"
   },
   {
    "duration": 5,
    "start_time": "2022-07-10T10:18:38.135Z"
   },
   {
    "duration": 33,
    "start_time": "2022-07-10T10:18:38.141Z"
   },
   {
    "duration": 11,
    "start_time": "2022-07-10T10:18:38.176Z"
   },
   {
    "duration": 10,
    "start_time": "2022-07-10T10:18:38.189Z"
   },
   {
    "duration": 19,
    "start_time": "2022-07-10T10:18:38.201Z"
   },
   {
    "duration": 51,
    "start_time": "2022-07-10T10:18:38.222Z"
   },
   {
    "duration": 9,
    "start_time": "2022-07-10T10:18:38.274Z"
   },
   {
    "duration": 12,
    "start_time": "2022-07-10T10:18:38.284Z"
   },
   {
    "duration": 14,
    "start_time": "2022-07-10T10:18:38.298Z"
   },
   {
    "duration": 20,
    "start_time": "2022-07-10T10:18:38.313Z"
   },
   {
    "duration": 52,
    "start_time": "2022-07-10T10:18:38.334Z"
   },
   {
    "duration": 12,
    "start_time": "2022-07-10T10:18:38.388Z"
   },
   {
    "duration": 11,
    "start_time": "2022-07-10T10:18:38.402Z"
   },
   {
    "duration": 9,
    "start_time": "2022-07-10T10:18:38.415Z"
   },
   {
    "duration": 13,
    "start_time": "2022-07-10T10:18:38.426Z"
   },
   {
    "duration": 7,
    "start_time": "2022-07-10T10:18:38.461Z"
   },
   {
    "duration": 15,
    "start_time": "2022-07-10T10:18:38.469Z"
   },
   {
    "duration": 9,
    "start_time": "2022-07-10T10:18:38.486Z"
   },
   {
    "duration": 9,
    "start_time": "2022-07-10T10:18:38.497Z"
   },
   {
    "duration": 12,
    "start_time": "2022-07-10T10:18:38.507Z"
   },
   {
    "duration": 6,
    "start_time": "2022-07-10T10:18:38.524Z"
   },
   {
    "duration": 33,
    "start_time": "2022-07-10T10:18:38.531Z"
   },
   {
    "duration": 30,
    "start_time": "2022-07-10T10:18:38.565Z"
   },
   {
    "duration": 46,
    "start_time": "2022-07-10T10:18:38.596Z"
   },
   {
    "duration": 107,
    "start_time": "2022-07-10T10:18:38.644Z"
   },
   {
    "duration": 7,
    "start_time": "2022-07-10T10:18:38.760Z"
   },
   {
    "duration": 50,
    "start_time": "2022-07-10T10:18:38.769Z"
   },
   {
    "duration": 7,
    "start_time": "2022-07-10T10:18:38.821Z"
   },
   {
    "duration": 64,
    "start_time": "2022-07-10T10:18:38.830Z"
   },
   {
    "duration": 6,
    "start_time": "2022-07-10T10:18:38.896Z"
   },
   {
    "duration": 6,
    "start_time": "2022-07-10T10:18:38.904Z"
   },
   {
    "duration": 21,
    "start_time": "2022-07-10T10:18:38.912Z"
   },
   {
    "duration": 12,
    "start_time": "2022-07-10T10:18:38.935Z"
   },
   {
    "duration": 4,
    "start_time": "2022-07-10T10:18:38.961Z"
   },
   {
    "duration": 16,
    "start_time": "2022-07-10T10:18:38.966Z"
   },
   {
    "duration": 4,
    "start_time": "2022-07-10T10:18:38.983Z"
   },
   {
    "duration": 6,
    "start_time": "2022-07-10T10:18:38.988Z"
   },
   {
    "duration": 6,
    "start_time": "2022-07-10T10:18:38.996Z"
   },
   {
    "duration": 5,
    "start_time": "2022-07-10T10:18:39.003Z"
   },
   {
    "duration": 5,
    "start_time": "2022-07-10T10:18:39.010Z"
   },
   {
    "duration": 4,
    "start_time": "2022-07-10T10:18:39.017Z"
   },
   {
    "duration": 38,
    "start_time": "2022-07-10T10:18:39.023Z"
   },
   {
    "duration": 5,
    "start_time": "2022-07-10T10:18:39.063Z"
   },
   {
    "duration": 8,
    "start_time": "2022-07-10T10:18:39.070Z"
   },
   {
    "duration": 7,
    "start_time": "2022-07-10T10:18:39.080Z"
   },
   {
    "duration": 5,
    "start_time": "2022-07-10T10:18:39.088Z"
   },
   {
    "duration": 5,
    "start_time": "2022-07-10T10:18:39.094Z"
   },
   {
    "duration": 319,
    "start_time": "2022-07-10T10:18:39.100Z"
   },
   {
    "duration": 16,
    "start_time": "2022-07-10T10:18:39.421Z"
   },
   {
    "duration": 18,
    "start_time": "2022-07-10T10:18:39.439Z"
   },
   {
    "duration": 12,
    "start_time": "2022-07-10T10:18:39.459Z"
   },
   {
    "duration": 7,
    "start_time": "2022-07-10T10:18:39.472Z"
   },
   {
    "duration": 4,
    "start_time": "2022-07-10T10:18:39.480Z"
   },
   {
    "duration": 7,
    "start_time": "2022-07-10T10:18:39.485Z"
   },
   {
    "duration": 5,
    "start_time": "2022-07-10T10:18:39.493Z"
   },
   {
    "duration": 6,
    "start_time": "2022-07-10T10:18:39.500Z"
   },
   {
    "duration": 8,
    "start_time": "2022-07-10T10:18:39.508Z"
   },
   {
    "duration": 8,
    "start_time": "2022-07-10T10:18:39.518Z"
   },
   {
    "duration": 622,
    "start_time": "2022-07-10T10:18:39.527Z"
   },
   {
    "duration": 692,
    "start_time": "2022-07-10T10:18:40.151Z"
   },
   {
    "duration": 661,
    "start_time": "2022-07-10T10:18:40.845Z"
   },
   {
    "duration": 589,
    "start_time": "2022-07-10T10:18:41.508Z"
   },
   {
    "duration": 3,
    "start_time": "2022-07-10T10:18:42.098Z"
   },
   {
    "duration": 10,
    "start_time": "2022-07-10T10:18:42.103Z"
   },
   {
    "duration": 9,
    "start_time": "2022-07-10T10:18:42.114Z"
   },
   {
    "duration": 5,
    "start_time": "2022-07-10T10:18:42.124Z"
   },
   {
    "duration": 5,
    "start_time": "2022-07-10T10:18:42.130Z"
   },
   {
    "duration": 25,
    "start_time": "2022-07-10T10:18:42.136Z"
   },
   {
    "duration": 52,
    "start_time": "2022-07-10T10:18:42.162Z"
   },
   {
    "duration": 5,
    "start_time": "2022-07-10T10:18:42.216Z"
   },
   {
    "duration": 7,
    "start_time": "2022-07-10T10:18:42.222Z"
   },
   {
    "duration": 1369,
    "start_time": "2022-07-10T10:18:42.231Z"
   },
   {
    "duration": 181,
    "start_time": "2022-07-10T10:18:43.602Z"
   },
   {
    "duration": 175,
    "start_time": "2022-07-10T10:18:43.785Z"
   },
   {
    "duration": 161,
    "start_time": "2022-07-10T10:18:43.965Z"
   },
   {
    "duration": 34,
    "start_time": "2022-07-10T10:18:44.128Z"
   }
  ],
  "kernelspec": {
   "display_name": "Python 3 (ipykernel)",
   "language": "python",
   "name": "python3"
  },
  "language_info": {
   "codemirror_mode": {
    "name": "ipython",
    "version": 3
   },
   "file_extension": ".py",
   "mimetype": "text/x-python",
   "name": "python",
   "nbconvert_exporter": "python",
   "pygments_lexer": "ipython3",
   "version": "3.9.12"
  },
  "toc": {
   "base_numbering": 1,
   "nav_menu": {},
   "number_sections": true,
   "sideBar": true,
   "skip_h1_title": true,
   "title_cell": "Table of Contents",
   "title_sidebar": "Contents",
   "toc_cell": true,
   "toc_position": {},
   "toc_section_display": true,
   "toc_window_display": true
  }
 },
 "nbformat": 4,
 "nbformat_minor": 1
}
