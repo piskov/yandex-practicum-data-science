{
 "cells": [
  {
   "cell_type": "markdown",
   "metadata": {
    "toc": true
   },
   "source": [
    "<h1>Table of Contents<span class=\"tocSkip\"></span></h1>\n",
    "<div class=\"toc\"><ul class=\"toc-item\"><li><span><a href=\"#Подготовка-данных\" data-toc-modified-id=\"Подготовка-данных-1\"><span class=\"toc-item-num\">1&nbsp;&nbsp;</span>Подготовка данных</a></span></li><li><span><a href=\"#Разбиение-данных\" data-toc-modified-id=\"Разбиение-данных-2\"><span class=\"toc-item-num\">2&nbsp;&nbsp;</span>Разбиение данных</a></span></li><li><span><a href=\"#Решающее-дерево\" data-toc-modified-id=\"Решающее-дерево-3\"><span class=\"toc-item-num\">3&nbsp;&nbsp;</span>Решающее дерево</a></span><ul class=\"toc-item\"><li><span><a href=\"#Вывод\" data-toc-modified-id=\"Вывод-3.1\"><span class=\"toc-item-num\">3.1&nbsp;&nbsp;</span>Вывод</a></span></li></ul></li><li><span><a href=\"#Лес\" data-toc-modified-id=\"Лес-4\"><span class=\"toc-item-num\">4&nbsp;&nbsp;</span>Лес</a></span><ul class=\"toc-item\"><li><span><a href=\"#Вывод\" data-toc-modified-id=\"Вывод-4.1\"><span class=\"toc-item-num\">4.1&nbsp;&nbsp;</span>Вывод</a></span></li></ul></li><li><span><a href=\"#Логистическая-регрессия\" data-toc-modified-id=\"Логистическая-регрессия-5\"><span class=\"toc-item-num\">5&nbsp;&nbsp;</span>Логистическая регрессия</a></span><ul class=\"toc-item\"><li><span><a href=\"#Вывод\" data-toc-modified-id=\"Вывод-5.1\"><span class=\"toc-item-num\">5.1&nbsp;&nbsp;</span>Вывод</a></span></li></ul></li><li><span><a href=\"#Общий-вывод\" data-toc-modified-id=\"Общий-вывод-6\"><span class=\"toc-item-num\">6&nbsp;&nbsp;</span>Общий вывод</a></span></li></ul></div>"
   ]
  },
  {
   "cell_type": "markdown",
   "metadata": {
    "pycharm": {
     "name": "#%% md\n"
    }
   },
   "source": [
    "# ML-модель для выбора нового тарифа"
   ]
  },
  {
   "cell_type": "markdown",
   "metadata": {
    "pycharm": {
     "name": "#%% md\n"
    }
   },
   "source": [
    "Оператор мобильной связи «Мегалайн» выяснил: многие клиенты пользуются\n",
    "архивными тарифами.\n",
    "\n",
    "Нужно построить модель для задачи классификации, которая выберет подходящий\n",
    "тариф. Цель: добавиться accuracy >= 0.75"
   ]
  },
  {
   "cell_type": "markdown",
   "metadata": {
    "pycharm": {
     "name": "#%% md\n"
    }
   },
   "source": [
    "## Подготовка данных"
   ]
  },
  {
   "cell_type": "code",
   "execution_count": 65,
   "metadata": {
    "pycharm": {
     "name": "#%%\n"
    }
   },
   "outputs": [],
   "source": [
    "import pandas as pd\n",
    "\n",
    "from sklearn.ensemble import RandomForestClassifier\n",
    "from sklearn.linear_model import LogisticRegression\n",
    "from sklearn.metrics import accuracy_score\n",
    "from sklearn.model_selection import train_test_split\n",
    "from sklearn.tree import DecisionTreeClassifier\n",
    "\n",
    "from tqdm.contrib.itertools import product\n",
    "from tqdm.notebook import tqdm"
   ]
  },
  {
   "cell_type": "code",
   "execution_count": 66,
   "metadata": {
    "pycharm": {
     "name": "#%%\n"
    }
   },
   "outputs": [],
   "source": [
    "def read_file(name: str):\n",
    "    # try open local file first then — if failed — open on server\n",
    "    try:\n",
    "        return pd.read_csv(f'./datasets/{name}.csv', sep=',')\n",
    "    except FileNotFoundError:\n",
    "        try:\n",
    "            return pd.read_csv(f'/datasets/{name}.csv', sep=',')\n",
    "        except Exception as e:\n",
    "            print('Не удалось считать файл с данными на сервере', e, sep='\\n')\n",
    "            return None\n",
    "        \n",
    "    except Exception as e:\n",
    "        print('Не удалось считать файл с данными на диске', e, sep='\\n')\n",
    "    return None"
   ]
  },
  {
   "cell_type": "code",
   "execution_count": 67,
   "metadata": {
    "pycharm": {
     "name": "#%%\n"
    }
   },
   "outputs": [],
   "source": [
    "df = read_file('users_behavior')"
   ]
  },
  {
   "cell_type": "markdown",
   "metadata": {
    "pycharm": {
     "name": "#%% md\n"
    }
   },
   "source": [
    "Посмотрим на случайные 7 записей в таблице"
   ]
  },
  {
   "cell_type": "code",
   "execution_count": 68,
   "metadata": {
    "pycharm": {
     "name": "#%%\n"
    }
   },
   "outputs": [
    {
     "data": {
      "text/plain": "   calls  minutes  messages   mb_used  is_ultra\n0   40.0   311.90      83.0  19915.42         0\n1   85.0   516.75      56.0  22696.96         0\n2   77.0   467.66      86.0  21060.45         0\n3  106.0   745.53      81.0   8437.39         1\n4   66.0   418.74       1.0  14502.75         0\n5   58.0   344.56      21.0  15823.37         0\n6   57.0   431.64      20.0   3738.90         1",
      "text/html": "<div>\n<style scoped>\n    .dataframe tbody tr th:only-of-type {\n        vertical-align: middle;\n    }\n\n    .dataframe tbody tr th {\n        vertical-align: top;\n    }\n\n    .dataframe thead th {\n        text-align: right;\n    }\n</style>\n<table border=\"1\" class=\"dataframe\">\n  <thead>\n    <tr style=\"text-align: right;\">\n      <th></th>\n      <th>calls</th>\n      <th>minutes</th>\n      <th>messages</th>\n      <th>mb_used</th>\n      <th>is_ultra</th>\n    </tr>\n  </thead>\n  <tbody>\n    <tr>\n      <th>0</th>\n      <td>40.0</td>\n      <td>311.90</td>\n      <td>83.0</td>\n      <td>19915.42</td>\n      <td>0</td>\n    </tr>\n    <tr>\n      <th>1</th>\n      <td>85.0</td>\n      <td>516.75</td>\n      <td>56.0</td>\n      <td>22696.96</td>\n      <td>0</td>\n    </tr>\n    <tr>\n      <th>2</th>\n      <td>77.0</td>\n      <td>467.66</td>\n      <td>86.0</td>\n      <td>21060.45</td>\n      <td>0</td>\n    </tr>\n    <tr>\n      <th>3</th>\n      <td>106.0</td>\n      <td>745.53</td>\n      <td>81.0</td>\n      <td>8437.39</td>\n      <td>1</td>\n    </tr>\n    <tr>\n      <th>4</th>\n      <td>66.0</td>\n      <td>418.74</td>\n      <td>1.0</td>\n      <td>14502.75</td>\n      <td>0</td>\n    </tr>\n    <tr>\n      <th>5</th>\n      <td>58.0</td>\n      <td>344.56</td>\n      <td>21.0</td>\n      <td>15823.37</td>\n      <td>0</td>\n    </tr>\n    <tr>\n      <th>6</th>\n      <td>57.0</td>\n      <td>431.64</td>\n      <td>20.0</td>\n      <td>3738.90</td>\n      <td>1</td>\n    </tr>\n  </tbody>\n</table>\n</div>"
     },
     "execution_count": 68,
     "metadata": {},
     "output_type": "execute_result"
    }
   ],
   "source": [
    "df.head(7)"
   ]
  },
  {
   "cell_type": "markdown",
   "metadata": {
    "pycharm": {
     "name": "#%% md\n"
    }
   },
   "source": [
    "Посмотрим на типы данных и количество значений"
   ]
  },
  {
   "cell_type": "code",
   "execution_count": 69,
   "metadata": {
    "pycharm": {
     "name": "#%%\n"
    }
   },
   "outputs": [
    {
     "name": "stdout",
     "output_type": "stream",
     "text": [
      "<class 'pandas.core.frame.DataFrame'>\n",
      "RangeIndex: 3214 entries, 0 to 3213\n",
      "Data columns (total 5 columns):\n",
      " #   Column    Non-Null Count  Dtype  \n",
      "---  ------    --------------  -----  \n",
      " 0   calls     3214 non-null   float64\n",
      " 1   minutes   3214 non-null   float64\n",
      " 2   messages  3214 non-null   float64\n",
      " 3   mb_used   3214 non-null   float64\n",
      " 4   is_ultra  3214 non-null   int64  \n",
      "dtypes: float64(4), int64(1)\n",
      "memory usage: 125.7 KB\n"
     ]
    }
   ],
   "source": [
    "df.info()"
   ]
  },
  {
   "cell_type": "markdown",
   "metadata": {
    "pycharm": {
     "name": "#%% md\n"
    }
   },
   "source": [
    "Пропущенных нет, проставим верные типы"
   ]
  },
  {
   "cell_type": "code",
   "execution_count": 70,
   "metadata": {
    "pycharm": {
     "name": "#%%\n"
    }
   },
   "outputs": [],
   "source": [
    "df['calls'] = df['calls'].astype('int')\n",
    "df['messages'] = df['messages'].astype('int')"
   ]
  },
  {
   "cell_type": "markdown",
   "metadata": {
    "pycharm": {
     "name": "#%% md\n"
    }
   },
   "source": [
    "## Разбиение данных"
   ]
  },
  {
   "cell_type": "markdown",
   "metadata": {
    "pycharm": {
     "name": "#%% md\n"
    }
   },
   "source": [
    "Поделим имеющиеся данные на тестовую, валидационную и обучающие выборки\n",
    "по правилу 60—20—20:"
   ]
  },
  {
   "cell_type": "code",
   "execution_count": 71,
   "metadata": {
    "pycharm": {
     "name": "#%%\n"
    }
   },
   "outputs": [],
   "source": [
    "random_state = 12345"
   ]
  },
  {
   "cell_type": "code",
   "execution_count": 72,
   "metadata": {
    "pycharm": {
     "name": "#%%\n"
    }
   },
   "outputs": [],
   "source": [
    "features = df.drop('is_ultra', axis=1)\n",
    "target = df['is_ultra']\n",
    "\n",
    "features_train, features_test, target_train, target_test = train_test_split(\n",
    "    features, target, test_size=0.2, random_state=random_state)\n",
    "\n",
    "features_train, features_valid, target_train, target_valid = train_test_split(\n",
    "    features_train, target_train, test_size=0.25, random_state=random_state)"
   ]
  },
  {
   "cell_type": "markdown",
   "metadata": {
    "pycharm": {
     "name": "#%% md\n"
    }
   },
   "source": [
    "## Решающее дерево"
   ]
  },
  {
   "cell_type": "markdown",
   "metadata": {
    "pycharm": {
     "name": "#%% md\n"
    }
   },
   "source": [
    "Найдем лучшую модель со следующими гиперпараметрами:\n",
    "- глубина 1…20;\n",
    "- критерий gini или entropy;\n",
    "- минимальное количество объектов в узле 2…100 с шагом в 10"
   ]
  },
  {
   "cell_type": "code",
   "execution_count": 73,
   "metadata": {
    "pycharm": {
     "name": "#%%\n"
    }
   },
   "outputs": [
    {
     "data": {
      "text/plain": "  0%|          | 0/3960 [00:00<?, ?it/s]",
      "application/vnd.jupyter.widget-view+json": {
       "version_major": 2,
       "version_minor": 0,
       "model_id": "cd2c05d0eaab4177b12fbdac1ac94843"
      }
     },
     "metadata": {},
     "output_type": "display_data"
    }
   ],
   "source": [
    "best_accuracy= 0\n",
    "best_model = None\n",
    "\n",
    "for params in product(\n",
    "        ['gini', 'entropy'],\n",
    "        range(1, 21),\n",
    "        range(2, 101, 1)):\n",
    "    criterion, max_depth, min_samples_split = params\n",
    "    model = DecisionTreeClassifier(\n",
    "        criterion=criterion,\n",
    "        max_depth=max_depth,\n",
    "        min_samples_split=min_samples_split,\n",
    "        random_state=random_state)\n",
    "    \n",
    "    model.fit(features_train, target_train)\n",
    "    \n",
    "    predictions = model.predict(features_valid)\n",
    "    accuracy = accuracy_score(target_valid, predictions)\n",
    "    if accuracy > best_accuracy:\n",
    "        best_accuracy = accuracy\n",
    "        best_model = model"
   ]
  },
  {
   "cell_type": "code",
   "execution_count": 74,
   "metadata": {
    "pycharm": {
     "name": "#%%\n"
    }
   },
   "outputs": [
    {
     "name": "stdout",
     "output_type": "stream",
     "text": [
      "Лучшая глубина: 14\n",
      "Лучший критерий: entropy\n",
      "Минимальный размер узла: 70\n",
      "Точность: 0.795\n"
     ]
    }
   ],
   "source": [
    "print('Лучшая глубина:', best_model.max_depth)\n",
    "print('Лучший критерий:', best_model.criterion)\n",
    "print('Минимальный размер узла:', best_model.min_samples_split)\n",
    "print(f'Точность: {best_accuracy:.3f}')"
   ]
  },
  {
   "cell_type": "markdown",
   "source": [
    "Обучим лучшую модель на объединенной выборке"
   ],
   "metadata": {
    "collapsed": false,
    "pycharm": {
     "name": "#%% md\n"
    }
   }
  },
  {
   "cell_type": "code",
   "execution_count": 75,
   "outputs": [],
   "source": [
    "best_model.fit(\n",
    "    pd.concat([features_train, features_valid], ignore_index=True),\n",
    "    pd.concat([target_train, target_valid], ignore_index=True));"
   ],
   "metadata": {
    "collapsed": false,
    "pycharm": {
     "name": "#%%\n"
    }
   }
  },
  {
   "cell_type": "markdown",
   "metadata": {
    "pycharm": {
     "name": "#%% md\n"
    }
   },
   "source": [
    "Посмотрим, на качество лучшей модели на тестовой выборке:"
   ]
  },
  {
   "cell_type": "code",
   "execution_count": 76,
   "metadata": {
    "pycharm": {
     "name": "#%%\n"
    }
   },
   "outputs": [],
   "source": [
    "predictions = best_model.predict(features_test)\n",
    "accuracy = accuracy_score(target_test, predictions)"
   ]
  },
  {
   "cell_type": "code",
   "execution_count": 77,
   "metadata": {
    "pycharm": {
     "name": "#%%\n"
    }
   },
   "outputs": [
    {
     "name": "stdout",
     "output_type": "stream",
     "text": [
      "Качество дерева на тестовой выборке:  0.776\n"
     ]
    }
   ],
   "source": [
    "print(f'Качество дерева на тестовой выборке: {accuracy: .3f}')"
   ]
  },
  {
   "cell_type": "markdown",
   "metadata": {
    "pycharm": {
     "name": "#%% md\n"
    }
   },
   "source": [
    "### Вывод"
   ]
  },
  {
   "cell_type": "markdown",
   "metadata": {
    "pycharm": {
     "name": "#%% md\n"
    }
   },
   "source": [
    "Видно, что качество модели растет с увеличенным до 70 по сравнению со стандартным\n",
    "2 минимальным размером узла.\n",
    "\n",
    "Лучшее качество показал критерий entropy и глубина в 14 (при дальнейшем\n",
    "увеличении глубины, качество не улучшалось).\n"
   ]
  },
  {
   "cell_type": "markdown",
   "metadata": {
    "pycharm": {
     "name": "#%% md\n"
    }
   },
   "source": [
    "## Лес"
   ]
  },
  {
   "cell_type": "markdown",
   "metadata": {
    "pycharm": {
     "name": "#%% md\n"
    }
   },
   "source": [
    "Найдем лучшую модель со следующими гиперпараметрами:\n",
    "- количество деревьев 100…200 с шагом 2;\n",
    "- критерий gini или entropy."
   ]
  },
  {
   "cell_type": "code",
   "execution_count": 78,
   "metadata": {
    "pycharm": {
     "name": "#%%\n"
    }
   },
   "outputs": [
    {
     "data": {
      "text/plain": "  0%|          | 0/102 [00:00<?, ?it/s]",
      "application/vnd.jupyter.widget-view+json": {
       "version_major": 2,
       "version_minor": 0,
       "model_id": "e421a378a67c4b9d8e7a8a03bc033b97"
      }
     },
     "metadata": {},
     "output_type": "display_data"
    }
   ],
   "source": [
    "best_accuracy= 0\n",
    "best_model = None\n",
    "\n",
    "for params in product(\n",
    "        ['gini', 'entropy'],\n",
    "        range(100, 201, 2)):\n",
    "    criterion, n_estimators = params\n",
    "    model = RandomForestClassifier(\n",
    "        n_estimators=n_estimators,\n",
    "        criterion=criterion,\n",
    "        n_jobs=8,\n",
    "        random_state=random_state)\n",
    "    model.fit(features_train, target_train)\n",
    "    \n",
    "    predictions = model.predict(features_valid)\n",
    "    accuracy = accuracy_score(target_valid, predictions)\n",
    "    if accuracy > best_accuracy:\n",
    "        best_accuracy = accuracy\n",
    "        best_model = model"
   ]
  },
  {
   "cell_type": "code",
   "execution_count": 79,
   "metadata": {
    "pycharm": {
     "name": "#%%\n"
    }
   },
   "outputs": [
    {
     "name": "stdout",
     "output_type": "stream",
     "text": [
      "Лучшая глубина: 120\n",
      "Лучший критерий: entropy\n",
      "Точность: 0.804\n"
     ]
    }
   ],
   "source": [
    "print('Лучшая глубина:', best_model.n_estimators)\n",
    "print('Лучший критерий:', best_model.criterion)\n",
    "print(f'Точность: {best_accuracy:.3f}')"
   ]
  },
  {
   "cell_type": "markdown",
   "source": [
    "Обучим лучшую модель на объединенной выборке"
   ],
   "metadata": {
    "collapsed": false,
    "pycharm": {
     "name": "#%% md\n"
    }
   }
  },
  {
   "cell_type": "code",
   "execution_count": 80,
   "outputs": [],
   "source": [
    "best_model.fit(\n",
    "    pd.concat([features_train, features_valid], ignore_index=True),\n",
    "    pd.concat([target_train, target_valid], ignore_index=True));"
   ],
   "metadata": {
    "collapsed": false,
    "pycharm": {
     "name": "#%%\n"
    }
   }
  },
  {
   "cell_type": "markdown",
   "metadata": {
    "pycharm": {
     "name": "#%% md\n"
    }
   },
   "source": [
    "Посмотрим, на качество лучшей модели на тестовой выборке:"
   ]
  },
  {
   "cell_type": "code",
   "execution_count": 81,
   "metadata": {
    "pycharm": {
     "name": "#%%\n"
    }
   },
   "outputs": [],
   "source": [
    "predictions = best_model.predict(features_test)\n",
    "accuracy = accuracy_score(target_test, predictions)"
   ]
  },
  {
   "cell_type": "code",
   "execution_count": 82,
   "metadata": {
    "pycharm": {
     "name": "#%%\n"
    }
   },
   "outputs": [
    {
     "name": "stdout",
     "output_type": "stream",
     "text": [
      "Качество дерева на тестовой выборке:  0.781\n"
     ]
    }
   ],
   "source": [
    "print(f'Качество дерева на тестовой выборке: {accuracy: .3f}')"
   ]
  },
  {
   "cell_type": "markdown",
   "metadata": {
    "pycharm": {
     "name": "#%% md\n"
    }
   },
   "source": [
    "### Вывод"
   ]
  },
  {
   "cell_type": "markdown",
   "source": [
    "Лучшее качество показал критерий entropy.\n",
    "\n",
    "При глубине свыше 150 качество не растет.\n",
    "\n",
    "Качество на валидационной и тестовой выборке немного лучше простого дерева."
   ],
   "metadata": {
    "collapsed": false,
    "pycharm": {
     "name": "#%% md\n"
    }
   }
  },
  {
   "cell_type": "markdown",
   "source": [
    "## Логистическая регрессия"
   ],
   "metadata": {
    "collapsed": false,
    "pycharm": {
     "name": "#%% md\n"
    }
   }
  },
  {
   "cell_type": "markdown",
   "source": [
    "Найдем лучшую модель"
   ],
   "metadata": {
    "collapsed": false,
    "pycharm": {
     "name": "#%% md\n"
    }
   }
  },
  {
   "cell_type": "code",
   "execution_count": 83,
   "outputs": [
    {
     "data": {
      "text/plain": "  0%|          | 0/9 [00:00<?, ?it/s]",
      "application/vnd.jupyter.widget-view+json": {
       "version_major": 2,
       "version_minor": 0,
       "model_id": "9fe4eb97964f439281bd3b59cbaf310b"
      }
     },
     "metadata": {},
     "output_type": "display_data"
    }
   ],
   "source": [
    "best_accuracy= 0\n",
    "best_model = None\n",
    "\n",
    "for max_iter in tqdm(range(100, 1000, 100)):\n",
    "    model = LogisticRegression(\n",
    "        max_iter=max_iter,\n",
    "        multi_class='ovr',\n",
    "        n_jobs=8,\n",
    "        random_state=random_state)\n",
    "    model.fit(features_train, target_train)\n",
    "    \n",
    "    predictions = model.predict(features_valid)\n",
    "    accuracy = accuracy_score(target_valid, predictions)\n",
    "    if accuracy > best_accuracy:\n",
    "        best_accuracy = accuracy\n",
    "        best_model = model"
   ],
   "metadata": {
    "collapsed": false,
    "pycharm": {
     "name": "#%%\n"
    }
   }
  },
  {
   "cell_type": "code",
   "execution_count": 84,
   "outputs": [
    {
     "name": "stdout",
     "output_type": "stream",
     "text": [
      "Лучшее количество итераций: 100\n",
      "Точность: 0.726\n"
     ]
    }
   ],
   "source": [
    "print('Лучшее количество итераций:', best_model.max_iter)\n",
    "print(f'Точность: {best_accuracy:.3f}')"
   ],
   "metadata": {
    "collapsed": false,
    "pycharm": {
     "name": "#%%\n"
    }
   }
  },
  {
   "cell_type": "markdown",
   "source": [
    "Обучим лучшую модель на объединенной выборке"
   ],
   "metadata": {
    "collapsed": false,
    "pycharm": {
     "name": "#%% md\n"
    }
   }
  },
  {
   "cell_type": "code",
   "execution_count": 85,
   "outputs": [],
   "source": [
    "best_model.fit(\n",
    "    pd.concat([features_train, features_valid], ignore_index=True),\n",
    "    pd.concat([target_train, target_valid], ignore_index=True));"
   ],
   "metadata": {
    "collapsed": false,
    "pycharm": {
     "name": "#%%\n"
    }
   }
  },
  {
   "cell_type": "markdown",
   "metadata": {
    "pycharm": {
     "name": "#%% md\n"
    }
   },
   "source": [
    "Посмотрим, на качество лучшей модели на тестовой выборке:"
   ]
  },
  {
   "cell_type": "code",
   "execution_count": 86,
   "metadata": {
    "pycharm": {
     "name": "#%%\n"
    }
   },
   "outputs": [],
   "source": [
    "predictions = best_model.predict(features_test)\n",
    "accuracy = accuracy_score(target_test, predictions)"
   ]
  },
  {
   "cell_type": "code",
   "execution_count": 87,
   "metadata": {
    "pycharm": {
     "name": "#%%\n"
    }
   },
   "outputs": [
    {
     "name": "stdout",
     "output_type": "stream",
     "text": [
      "Качество регресии на тестовой выборке:  0.757\n"
     ]
    }
   ],
   "source": [
    "print(f'Качество регресии на тестовой выборке: {accuracy: .3f}')"
   ]
  },
  {
   "cell_type": "markdown",
   "metadata": {
    "pycharm": {
     "name": "#%% md\n"
    }
   },
   "source": [
    "### Вывод"
   ]
  },
  {
   "cell_type": "markdown",
   "metadata": {
    "pycharm": {
     "name": "#%% md\n"
    }
   },
   "source": [
    "Рост количества итераций не играл роли. Качество получилось\n",
    "самым плохим по сравнению с двумя другими моделями: примерно на\n",
    "5% ниже."
   ]
  },
  {
   "cell_type": "markdown",
   "metadata": {
    "pycharm": {
     "name": "#%% md\n"
    }
   },
   "source": [
    "## Общий вывод"
   ]
  },
  {
   "cell_type": "markdown",
   "metadata": {
    "pycharm": {
     "name": "#%% md\n"
    }
   },
   "source": [
    "На валидационной выборке получили следующий топ:\n",
    "- лес 0,804\n",
    "- дерево 0,795\n",
    "- регрессия 0,726\n",
    "\n",
    "На тестовой выборке:\n",
    "- лес 0,781\n",
    "- дерево 0,776\n",
    "- регрессия 0,757\n",
    "\n",
    "В теории качество должно быть в порядке лес → регрессия → дерево,\n",
    "но у нас получилось поднять дерево выше регрессии и практически на уровень\n",
    "леса за счет подбора трех гиперпараметров."
   ]
  }
 ],
 "metadata": {
  "ExecuteTimeLog": [
   {
    "duration": 1139,
    "start_time": "2022-08-28T00:38:25.854Z"
   },
   {
    "duration": 7,
    "start_time": "2022-08-28T00:38:26.998Z"
   },
   {
    "duration": 151,
    "start_time": "2022-08-28T00:38:27.008Z"
   },
   {
    "duration": 19,
    "start_time": "2022-08-28T00:38:27.161Z"
   },
   {
    "duration": 12,
    "start_time": "2022-08-28T00:38:27.181Z"
   },
   {
    "duration": 17,
    "start_time": "2022-08-28T00:38:27.195Z"
   },
   {
    "duration": 5,
    "start_time": "2022-08-28T00:38:27.214Z"
   },
   {
    "duration": 12,
    "start_time": "2022-08-28T00:38:27.221Z"
   },
   {
    "duration": 32522,
    "start_time": "2022-08-28T00:38:27.235Z"
   },
   {
    "duration": 4,
    "start_time": "2022-08-28T00:38:59.759Z"
   },
   {
    "duration": 8,
    "start_time": "2022-08-28T00:38:59.765Z"
   },
   {
    "duration": 21,
    "start_time": "2022-08-28T00:38:59.774Z"
   },
   {
    "duration": 125707,
    "start_time": "2022-08-28T00:38:59.796Z"
   },
   {
    "duration": 4,
    "start_time": "2022-08-28T00:41:05.505Z"
   },
   {
    "duration": 96,
    "start_time": "2022-08-28T00:41:05.511Z"
   },
   {
    "duration": 3,
    "start_time": "2022-08-28T00:41:05.608Z"
   },
   {
    "duration": 6527,
    "start_time": "2022-08-28T00:41:05.612Z"
   },
   {
    "duration": 3,
    "start_time": "2022-08-28T00:41:12.141Z"
   },
   {
    "duration": 56,
    "start_time": "2022-08-28T00:41:12.146Z"
   },
   {
    "duration": 6,
    "start_time": "2022-08-28T00:41:12.204Z"
   },
   {
    "duration": 1646,
    "start_time": "2022-08-28T18:39:37.650Z"
   },
   {
    "duration": 6,
    "start_time": "2022-08-28T18:39:39.298Z"
   },
   {
    "duration": 175,
    "start_time": "2022-08-28T18:39:39.306Z"
   },
   {
    "duration": 20,
    "start_time": "2022-08-28T18:39:39.483Z"
   },
   {
    "duration": 15,
    "start_time": "2022-08-28T18:39:39.505Z"
   },
   {
    "duration": 7,
    "start_time": "2022-08-28T18:39:39.522Z"
   },
   {
    "duration": 4,
    "start_time": "2022-08-28T18:39:39.532Z"
   },
   {
    "duration": 14,
    "start_time": "2022-08-28T18:39:39.538Z"
   },
   {
    "duration": 33916,
    "start_time": "2022-08-28T18:39:39.555Z"
   },
   {
    "duration": 3,
    "start_time": "2022-08-28T18:40:13.473Z"
   },
   {
    "duration": 27,
    "start_time": "2022-08-28T18:40:13.478Z"
   },
   {
    "duration": 11,
    "start_time": "2022-08-28T18:40:13.507Z"
   },
   {
    "duration": 135971,
    "start_time": "2022-08-28T18:40:13.520Z"
   },
   {
    "duration": 47,
    "start_time": "2022-08-28T18:42:29.493Z"
   },
   {
    "duration": 110,
    "start_time": "2022-08-28T18:42:29.542Z"
   },
   {
    "duration": 4,
    "start_time": "2022-08-28T18:42:29.653Z"
   },
   {
    "duration": 10097,
    "start_time": "2022-08-28T18:42:29.658Z"
   },
   {
    "duration": 4,
    "start_time": "2022-08-28T18:42:39.757Z"
   },
   {
    "duration": 9,
    "start_time": "2022-08-28T18:42:39.763Z"
   },
   {
    "duration": 4,
    "start_time": "2022-08-28T18:42:39.774Z"
   },
   {
    "duration": 3,
    "start_time": "2022-08-28T18:43:17.849Z"
   },
   {
    "duration": 71,
    "start_time": "2022-08-28T18:43:21.168Z"
   },
   {
    "duration": 12,
    "start_time": "2022-08-28T18:43:24.994Z"
   },
   {
    "duration": 4,
    "start_time": "2022-08-28T18:43:26.021Z"
   },
   {
    "duration": 116,
    "start_time": "2022-08-28T18:43:30.303Z"
   },
   {
    "duration": 3,
    "start_time": "2022-08-28T18:43:32.745Z"
   },
   {
    "duration": 140427,
    "start_time": "2022-08-28T18:43:34.749Z"
   },
   {
    "duration": 4,
    "start_time": "2022-08-28T18:45:55.178Z"
   },
   {
    "duration": 96,
    "start_time": "2022-08-28T18:45:55.184Z"
   },
   {
    "duration": 3,
    "start_time": "2022-08-28T18:45:55.282Z"
   },
   {
    "duration": 519,
    "start_time": "2022-08-28T18:45:55.287Z"
   },
   {
    "duration": 4,
    "start_time": "2022-08-28T18:45:55.838Z"
   },
   {
    "duration": 8,
    "start_time": "2022-08-28T18:45:55.843Z"
   },
   {
    "duration": 5,
    "start_time": "2022-08-28T18:45:55.852Z"
   },
   {
    "duration": 1099,
    "start_time": "2022-08-28T20:40:36.721Z"
   },
   {
    "duration": 4,
    "start_time": "2022-08-28T20:40:37.821Z"
   },
   {
    "duration": 199,
    "start_time": "2022-08-28T20:40:37.827Z"
   },
   {
    "duration": 19,
    "start_time": "2022-08-28T20:40:38.029Z"
   },
   {
    "duration": 13,
    "start_time": "2022-08-28T20:40:38.050Z"
   },
   {
    "duration": 7,
    "start_time": "2022-08-28T20:40:38.065Z"
   },
   {
    "duration": 5,
    "start_time": "2022-08-28T20:40:38.073Z"
   },
   {
    "duration": 16,
    "start_time": "2022-08-28T20:40:38.079Z"
   },
   {
    "duration": 32426,
    "start_time": "2022-08-28T20:40:38.096Z"
   },
   {
    "duration": 5,
    "start_time": "2022-08-28T20:41:13.619Z"
   },
   {
    "duration": 64,
    "start_time": "2022-08-28T20:42:21.493Z"
   },
   {
    "duration": 85,
    "start_time": "2022-08-30T07:19:52.736Z"
   }
  ],
  "kernelspec": {
   "display_name": "Python 3 (ipykernel)",
   "language": "python",
   "name": "python3"
  },
  "language_info": {
   "codemirror_mode": {
    "name": "ipython",
    "version": 3
   },
   "file_extension": ".py",
   "mimetype": "text/x-python",
   "name": "python",
   "nbconvert_exporter": "python",
   "pygments_lexer": "ipython3",
   "version": "3.9.5"
  },
  "toc": {
   "base_numbering": 1,
   "nav_menu": {},
   "number_sections": true,
   "sideBar": true,
   "skip_h1_title": true,
   "title_cell": "Table of Contents",
   "title_sidebar": "Contents",
   "toc_cell": true,
   "toc_position": {},
   "toc_section_display": true,
   "toc_window_display": false
  }
 },
 "nbformat": 4,
 "nbformat_minor": 1
}