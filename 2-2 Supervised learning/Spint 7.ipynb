{
 "cells": [
  {
   "cell_type": "markdown",
   "metadata": {
    "toc": true
   },
   "source": [
    "<h1>Содержание<span class=\"tocSkip\"></span></h1>\n",
    "<div class=\"toc\"><ul class=\"toc-item\"><li><span><a href=\"#Подготовка-данных\" data-toc-modified-id=\"Подготовка-данных-1\"><span class=\"toc-item-num\">1&nbsp;&nbsp;</span>Подготовка данных</a></span><ul class=\"toc-item\"><li><span><a href=\"#Пропуски\" data-toc-modified-id=\"Пропуски-1.1\"><span class=\"toc-item-num\">1.1&nbsp;&nbsp;</span>Пропуски</a></span></li><li><span><a href=\"#Посмотрим-на-данные-поколоночно\" data-toc-modified-id=\"Посмотрим-на-данные-поколоночно-1.2\"><span class=\"toc-item-num\">1.2&nbsp;&nbsp;</span>Посмотрим на данные поколоночно</a></span></li><li><span><a href=\"#Категориальные-типы\" data-toc-modified-id=\"Категориальные-типы-1.3\"><span class=\"toc-item-num\">1.3&nbsp;&nbsp;</span>Категориальные типы</a></span></li></ul></li><li><span><a href=\"#Исследование-задачи\" data-toc-modified-id=\"Исследование-задачи-2\"><span class=\"toc-item-num\">2&nbsp;&nbsp;</span>Исследование задачи</a></span></li><li><span><a href=\"#Борьба-с-дисбалансом\" data-toc-modified-id=\"Борьба-с-дисбалансом-3\"><span class=\"toc-item-num\">3&nbsp;&nbsp;</span>Борьба с дисбалансом</a></span></li><li><span><a href=\"#Тестирование-модели\" data-toc-modified-id=\"Тестирование-модели-4\"><span class=\"toc-item-num\">4&nbsp;&nbsp;</span>Тестирование модели</a></span></li><li><span><a href=\"#Чек-лист-готовности-проекта\" data-toc-modified-id=\"Чек-лист-готовности-проекта-5\"><span class=\"toc-item-num\">5&nbsp;&nbsp;</span>Чек-лист готовности проекта</a></span></li></ul></div>"
   ]
  },
  {
   "cell_type": "markdown",
   "metadata": {},
   "source": [
    "# Отток клиентов"
   ]
  },
  {
   "cell_type": "markdown",
   "metadata": {},
   "source": [
    "Из «Бета-Банка» стали уходить клиенты. Каждый месяц. Немного, но заметно. Банковские маркетологи посчитали: сохранять текущих клиентов дешевле, чем привлекать новых.\n",
    "\n",
    "Нужно спрогнозировать, уйдёт клиент из банка в ближайшее время или нет. Вам предоставлены исторические данные о поведении клиентов и расторжении договоров с банком. \n",
    "\n",
    "Постройте модель с предельно большим значением *F1*-меры. Чтобы сдать проект успешно, нужно довести метрику до 0.59. Проверьте *F1*-меру на тестовой выборке самостоятельно.\n",
    "\n",
    "Дополнительно измеряйте *AUC-ROC*, сравнивайте её значение с *F1*-мерой.\n",
    "\n",
    "Источник данных: [https://www.kaggle.com/barelydedicated/bank-customer-churn-modeling](https://www.kaggle.com/barelydedicated/bank-customer-churn-modeling)"
   ]
  },
  {
   "cell_type": "markdown",
   "metadata": {},
   "source": [
    "## Подготовка данных"
   ]
  },
  {
   "cell_type": "code",
   "execution_count": 238,
   "metadata": {
    "ExecuteTime": {
     "start_time": "2023-05-07T04:04:20.537611Z",
     "end_time": "2023-05-07T04:04:21.010995Z"
    }
   },
   "outputs": [],
   "source": [
    "import pandas as pd\n",
    "import matplotlib.pyplot as plt\n",
    "\n",
    "from sklearn.ensemble import RandomForestClassifier\n",
    "from sklearn.linear_model import LogisticRegression\n",
    "from sklearn.metrics import f1_score, roc_auc_score, roc_curve\n",
    "from sklearn.model_selection import train_test_split\n",
    "from sklearn.preprocessing import StandardScaler\n",
    "\n",
    "from tqdm.contrib.itertools import product"
   ]
  },
  {
   "cell_type": "code",
   "execution_count": 239,
   "outputs": [],
   "source": [
    "pd.options.display.float_format = '{:,.2f}'.format"
   ],
   "metadata": {
    "collapsed": false,
    "ExecuteTime": {
     "start_time": "2023-05-07T04:04:20.540267Z",
     "end_time": "2023-05-07T04:04:21.011125Z"
    }
   }
  },
  {
   "cell_type": "code",
   "execution_count": 240,
   "metadata": {
    "ExecuteTime": {
     "start_time": "2023-05-07T04:04:20.542847Z",
     "end_time": "2023-05-07T04:04:21.012424Z"
    }
   },
   "outputs": [],
   "source": [
    "def read_file(name: str):\n",
    "    # try open local file first then — if failed — open on server\n",
    "    try:\n",
    "        return pd.read_csv(f'./datasets/{name}', sep=',')\n",
    "    except FileNotFoundError:\n",
    "        try:\n",
    "            return pd.read_csv(f'/datasets/{name}', sep=',')\n",
    "        except Exception as e:\n",
    "            print('Не удалось считать файл с данными на сервере', e, sep='\\n')\n",
    "            return None\n",
    "\n",
    "    except Exception as e:\n",
    "        print('Не удалось считать файл с данными на диске', e, sep='\\n')\n",
    "    return None"
   ]
  },
  {
   "cell_type": "code",
   "execution_count": 241,
   "metadata": {
    "ExecuteTime": {
     "start_time": "2023-05-07T04:04:20.545823Z",
     "end_time": "2023-05-07T04:04:21.150222Z"
    }
   },
   "outputs": [],
   "source": [
    "df = read_file('Churn.csv')"
   ]
  },
  {
   "cell_type": "markdown",
   "metadata": {
    "ExecuteTime": {
     "end_time": "2023-05-06T23:06:26.522950Z",
     "start_time": "2023-05-06T23:06:26.341624Z"
    }
   },
   "source": [
    "Посмотрим на случайные 7 записей в таблице"
   ]
  },
  {
   "cell_type": "code",
   "execution_count": 242,
   "metadata": {
    "ExecuteTime": {
     "start_time": "2023-05-07T04:04:20.557046Z",
     "end_time": "2023-05-07T04:04:21.152089Z"
    }
   },
   "outputs": [
    {
     "data": {
      "text/plain": "      RowNumber  CustomerId     Surname  CreditScore Geography  Gender  Age  \\\n9953       9954    15655952       Burke          550    France    Male   47   \n3850       3851    15775293  Stephenson          680    France    Male   34   \n4962       4963    15665088      Gordon          531    France  Female   42   \n3886       3887    15720941        Tien          710   Germany    Male   34   \n5437       5438    15733476    Gonzalez          543   Germany    Male   30   \n8517       8518    15671800    Robinson          688    France    Male   20   \n2041       2042    15709846         Yeh          840    France  Female   39   \n\n      Tenure    Balance  NumOfProducts  HasCrCard  IsActiveMember  \\\n9953    2.00       0.00              2          1               1   \n3850    3.00 143,292.95              1          1               0   \n4962    2.00       0.00              2          0               1   \n3886    8.00 147,833.30              2          0               1   \n5437    6.00  73,481.05              1          1               1   \n8517    8.00 137,624.40              2          1               1   \n2041    1.00  94,968.97              1          1               0   \n\n      EstimatedSalary  Exited  \n9953        97,057.28       0  \n3850        66,526.01       0  \n4962        90,537.47       0  \n3886         1,561.58       0  \n5437       176,692.65       0  \n8517       197,582.79       0  \n2041        84,487.62       0  ",
      "text/html": "<div>\n<style scoped>\n    .dataframe tbody tr th:only-of-type {\n        vertical-align: middle;\n    }\n\n    .dataframe tbody tr th {\n        vertical-align: top;\n    }\n\n    .dataframe thead th {\n        text-align: right;\n    }\n</style>\n<table border=\"1\" class=\"dataframe\">\n  <thead>\n    <tr style=\"text-align: right;\">\n      <th></th>\n      <th>RowNumber</th>\n      <th>CustomerId</th>\n      <th>Surname</th>\n      <th>CreditScore</th>\n      <th>Geography</th>\n      <th>Gender</th>\n      <th>Age</th>\n      <th>Tenure</th>\n      <th>Balance</th>\n      <th>NumOfProducts</th>\n      <th>HasCrCard</th>\n      <th>IsActiveMember</th>\n      <th>EstimatedSalary</th>\n      <th>Exited</th>\n    </tr>\n  </thead>\n  <tbody>\n    <tr>\n      <th>9953</th>\n      <td>9954</td>\n      <td>15655952</td>\n      <td>Burke</td>\n      <td>550</td>\n      <td>France</td>\n      <td>Male</td>\n      <td>47</td>\n      <td>2.00</td>\n      <td>0.00</td>\n      <td>2</td>\n      <td>1</td>\n      <td>1</td>\n      <td>97,057.28</td>\n      <td>0</td>\n    </tr>\n    <tr>\n      <th>3850</th>\n      <td>3851</td>\n      <td>15775293</td>\n      <td>Stephenson</td>\n      <td>680</td>\n      <td>France</td>\n      <td>Male</td>\n      <td>34</td>\n      <td>3.00</td>\n      <td>143,292.95</td>\n      <td>1</td>\n      <td>1</td>\n      <td>0</td>\n      <td>66,526.01</td>\n      <td>0</td>\n    </tr>\n    <tr>\n      <th>4962</th>\n      <td>4963</td>\n      <td>15665088</td>\n      <td>Gordon</td>\n      <td>531</td>\n      <td>France</td>\n      <td>Female</td>\n      <td>42</td>\n      <td>2.00</td>\n      <td>0.00</td>\n      <td>2</td>\n      <td>0</td>\n      <td>1</td>\n      <td>90,537.47</td>\n      <td>0</td>\n    </tr>\n    <tr>\n      <th>3886</th>\n      <td>3887</td>\n      <td>15720941</td>\n      <td>Tien</td>\n      <td>710</td>\n      <td>Germany</td>\n      <td>Male</td>\n      <td>34</td>\n      <td>8.00</td>\n      <td>147,833.30</td>\n      <td>2</td>\n      <td>0</td>\n      <td>1</td>\n      <td>1,561.58</td>\n      <td>0</td>\n    </tr>\n    <tr>\n      <th>5437</th>\n      <td>5438</td>\n      <td>15733476</td>\n      <td>Gonzalez</td>\n      <td>543</td>\n      <td>Germany</td>\n      <td>Male</td>\n      <td>30</td>\n      <td>6.00</td>\n      <td>73,481.05</td>\n      <td>1</td>\n      <td>1</td>\n      <td>1</td>\n      <td>176,692.65</td>\n      <td>0</td>\n    </tr>\n    <tr>\n      <th>8517</th>\n      <td>8518</td>\n      <td>15671800</td>\n      <td>Robinson</td>\n      <td>688</td>\n      <td>France</td>\n      <td>Male</td>\n      <td>20</td>\n      <td>8.00</td>\n      <td>137,624.40</td>\n      <td>2</td>\n      <td>1</td>\n      <td>1</td>\n      <td>197,582.79</td>\n      <td>0</td>\n    </tr>\n    <tr>\n      <th>2041</th>\n      <td>2042</td>\n      <td>15709846</td>\n      <td>Yeh</td>\n      <td>840</td>\n      <td>France</td>\n      <td>Female</td>\n      <td>39</td>\n      <td>1.00</td>\n      <td>94,968.97</td>\n      <td>1</td>\n      <td>1</td>\n      <td>0</td>\n      <td>84,487.62</td>\n      <td>0</td>\n    </tr>\n  </tbody>\n</table>\n</div>"
     },
     "execution_count": 242,
     "metadata": {},
     "output_type": "execute_result"
    }
   ],
   "source": [
    "df.sample(n=7, random_state=1)"
   ]
  },
  {
   "cell_type": "markdown",
   "metadata": {
    "ExecuteTime": {
     "end_time": "2023-05-06T23:06:26.524489Z",
     "start_time": "2023-05-06T23:06:26.353769Z"
    }
   },
   "source": [
    "Индекс в `RowNumber`, выпилим:"
   ]
  },
  {
   "cell_type": "code",
   "execution_count": 243,
   "metadata": {
    "ExecuteTime": {
     "start_time": "2023-05-07T04:04:20.562561Z",
     "end_time": "2023-05-07T04:04:21.152230Z"
    }
   },
   "outputs": [],
   "source": [
    "df = df.drop('RowNumber', axis=1)"
   ]
  },
  {
   "cell_type": "markdown",
   "metadata": {
    "ExecuteTime": {
     "end_time": "2023-05-06T23:06:26.524553Z",
     "start_time": "2023-05-06T23:06:26.360614Z"
    }
   },
   "source": [
    "`CustomerId` намекает, что все записи уникальны, проверим:"
   ]
  },
  {
   "cell_type": "code",
   "execution_count": 244,
   "metadata": {
    "ExecuteTime": {
     "start_time": "2023-05-07T04:04:20.567049Z",
     "end_time": "2023-05-07T04:04:21.152324Z"
    }
   },
   "outputs": [
    {
     "data": {
      "text/plain": "15634602    1\n15667932    1\n15766185    1\n15667632    1\n15599024    1\nName: CustomerId, dtype: int64"
     },
     "execution_count": 244,
     "metadata": {},
     "output_type": "execute_result"
    }
   ],
   "source": [
    "df['CustomerId'].value_counts(ascending=False).head()"
   ]
  },
  {
   "cell_type": "markdown",
   "metadata": {
    "ExecuteTime": {
     "end_time": "2023-05-06T23:06:26.525807Z",
     "start_time": "2023-05-06T23:06:26.364029Z"
    }
   },
   "source": [
    "Ага, id можно удалить, плюс, фамилия нам явно тоже не пригодится:"
   ]
  },
  {
   "cell_type": "code",
   "execution_count": 245,
   "metadata": {
    "ExecuteTime": {
     "start_time": "2023-05-07T04:04:20.573187Z",
     "end_time": "2023-05-07T04:04:21.153801Z"
    }
   },
   "outputs": [],
   "source": [
    "df = df.drop(['CustomerId', 'Surname'], axis=1)"
   ]
  },
  {
   "cell_type": "markdown",
   "metadata": {
    "ExecuteTime": {
     "end_time": "2023-05-06T23:06:26.527038Z",
     "start_time": "2023-05-06T23:06:26.368844Z"
    }
   },
   "source": [
    "Глянем, какие колонки остались:"
   ]
  },
  {
   "cell_type": "code",
   "execution_count": 246,
   "metadata": {
    "ExecuteTime": {
     "start_time": "2023-05-07T04:04:20.580989Z",
     "end_time": "2023-05-07T04:04:21.155207Z"
    }
   },
   "outputs": [
    {
     "data": {
      "text/plain": "Index(['CreditScore', 'Geography', 'Gender', 'Age', 'Tenure', 'Balance',\n       'NumOfProducts', 'HasCrCard', 'IsActiveMember', 'EstimatedSalary',\n       'Exited'],\n      dtype='object')"
     },
     "execution_count": 246,
     "metadata": {},
     "output_type": "execute_result"
    }
   ],
   "source": [
    "df.columns"
   ]
  },
  {
   "cell_type": "markdown",
   "metadata": {
    "ExecuteTime": {
     "end_time": "2023-05-06T23:06:26.527190Z",
     "start_time": "2023-05-06T23:06:26.371411Z"
    }
   },
   "source": [
    "Переименуем для удобства:"
   ]
  },
  {
   "cell_type": "code",
   "execution_count": 247,
   "metadata": {
    "ExecuteTime": {
     "start_time": "2023-05-07T04:04:20.589860Z",
     "end_time": "2023-05-07T04:04:21.156574Z"
    }
   },
   "outputs": [],
   "source": [
    "df.columns = [\n",
    "    'credit_score', 'country', 'gender', 'age', 'years_as_client', 'balance',\n",
    "    'products_count', 'has_credit_card', 'is_active_member', 'salary_estimate',\n",
    "    'is_gone']"
   ]
  },
  {
   "cell_type": "markdown",
   "metadata": {
    "ExecuteTime": {
     "end_time": "2023-05-06T23:06:26.528907Z",
     "start_time": "2023-05-06T23:06:26.374604Z"
    }
   },
   "source": [
    "### Пропуски"
   ]
  },
  {
   "cell_type": "code",
   "execution_count": 248,
   "metadata": {
    "ExecuteTime": {
     "start_time": "2023-05-07T04:04:20.599607Z",
     "end_time": "2023-05-07T04:04:21.158349Z"
    }
   },
   "outputs": [
    {
     "data": {
      "text/plain": "                 Количество пропусков  % пропусков\nyears_as_client                   909         9.09",
      "text/html": "<div>\n<style scoped>\n    .dataframe tbody tr th:only-of-type {\n        vertical-align: middle;\n    }\n\n    .dataframe tbody tr th {\n        vertical-align: top;\n    }\n\n    .dataframe thead th {\n        text-align: right;\n    }\n</style>\n<table border=\"1\" class=\"dataframe\">\n  <thead>\n    <tr style=\"text-align: right;\">\n      <th></th>\n      <th>Количество пропусков</th>\n      <th>% пропусков</th>\n    </tr>\n  </thead>\n  <tbody>\n    <tr>\n      <th>years_as_client</th>\n      <td>909</td>\n      <td>9.09</td>\n    </tr>\n  </tbody>\n</table>\n</div>"
     },
     "execution_count": 248,
     "metadata": {},
     "output_type": "execute_result"
    }
   ],
   "source": [
    "missing_df = pd.DataFrame(\n",
    "    {\n",
    "        'Количество пропусков': df.isna().sum(),\n",
    "        '% пропусков': df.isna().mean() * 100\n",
    "    })\n",
    "\n",
    "(missing_df[missing_df[missing_df.columns[0]] > 0]\n",
    " .sort_values(by=missing_df.columns[0]))"
   ]
  },
  {
   "cell_type": "markdown",
   "metadata": {
    "ExecuteTime": {
     "end_time": "2023-05-06T23:06:26.530264Z",
     "start_time": "2023-05-06T23:06:26.378951Z"
    }
   },
   "source": [
    "Не будем пытаться угадать, сколько человек является клиентом: это явно\n",
    "немаловажный фактор ухода (чем дольше, тем, скорее всего, меньше вероятность).\n",
    "\n",
    "Удалим пропуски:"
   ]
  },
  {
   "cell_type": "code",
   "execution_count": 249,
   "metadata": {
    "ExecuteTime": {
     "start_time": "2023-05-07T04:04:20.608492Z",
     "end_time": "2023-05-07T04:04:21.159867Z"
    }
   },
   "outputs": [],
   "source": [
    "df = df.dropna()"
   ]
  },
  {
   "cell_type": "markdown",
   "metadata": {
    "ExecuteTime": {
     "end_time": "2023-05-06T23:06:26.531375Z",
     "start_time": "2023-05-06T23:06:26.387275Z"
    }
   },
   "source": [
    "### Посмотрим на данные поколоночно"
   ]
  },
  {
   "cell_type": "code",
   "execution_count": 250,
   "metadata": {
    "ExecuteTime": {
     "start_time": "2023-05-07T04:04:20.615597Z",
     "end_time": "2023-05-07T04:04:21.163920Z"
    }
   },
   "outputs": [
    {
     "data": {
      "text/plain": "        credit_score country gender      age  years_as_client    balance  \\\ncount       9,091.00    9091   9091 9,091.00         9,091.00   9,091.00   \nunique           NaN       3      2      NaN              NaN        NaN   \ntop              NaN  France   Male      NaN              NaN        NaN   \nfreq             NaN    4550   4974      NaN              NaN        NaN   \nmean          650.74     NaN    NaN    38.95             5.00  76,522.74   \nstd            96.41     NaN    NaN    10.56             2.89  62,329.53   \nmin           350.00     NaN    NaN    18.00             0.00       0.00   \n25%           584.00     NaN    NaN    32.00             2.00       0.00   \n50%           652.00     NaN    NaN    37.00             5.00  97,318.25   \n75%           717.00     NaN    NaN    44.00             7.00 127,561.89   \nmax           850.00     NaN    NaN    92.00            10.00 250,898.09   \n\n        products_count  has_credit_card  is_active_member  salary_estimate  \\\ncount         9,091.00         9,091.00          9,091.00         9,091.00   \nunique             NaN              NaN               NaN              NaN   \ntop                NaN              NaN               NaN              NaN   \nfreq               NaN              NaN               NaN              NaN   \nmean              1.53             0.70              0.52       100,181.21   \nstd               0.58             0.46              0.50        57,624.76   \nmin               1.00             0.00              0.00            11.58   \n25%               1.00             0.00              0.00        51,227.74   \n50%               1.00             1.00              1.00       100,240.20   \n75%               2.00             1.00              1.00       149,567.21   \nmax               4.00             1.00              1.00       199,992.48   \n\n        is_gone  \ncount  9,091.00  \nunique      NaN  \ntop         NaN  \nfreq        NaN  \nmean       0.20  \nstd        0.40  \nmin        0.00  \n25%        0.00  \n50%        0.00  \n75%        0.00  \nmax        1.00  ",
      "text/html": "<div>\n<style scoped>\n    .dataframe tbody tr th:only-of-type {\n        vertical-align: middle;\n    }\n\n    .dataframe tbody tr th {\n        vertical-align: top;\n    }\n\n    .dataframe thead th {\n        text-align: right;\n    }\n</style>\n<table border=\"1\" class=\"dataframe\">\n  <thead>\n    <tr style=\"text-align: right;\">\n      <th></th>\n      <th>credit_score</th>\n      <th>country</th>\n      <th>gender</th>\n      <th>age</th>\n      <th>years_as_client</th>\n      <th>balance</th>\n      <th>products_count</th>\n      <th>has_credit_card</th>\n      <th>is_active_member</th>\n      <th>salary_estimate</th>\n      <th>is_gone</th>\n    </tr>\n  </thead>\n  <tbody>\n    <tr>\n      <th>count</th>\n      <td>9,091.00</td>\n      <td>9091</td>\n      <td>9091</td>\n      <td>9,091.00</td>\n      <td>9,091.00</td>\n      <td>9,091.00</td>\n      <td>9,091.00</td>\n      <td>9,091.00</td>\n      <td>9,091.00</td>\n      <td>9,091.00</td>\n      <td>9,091.00</td>\n    </tr>\n    <tr>\n      <th>unique</th>\n      <td>NaN</td>\n      <td>3</td>\n      <td>2</td>\n      <td>NaN</td>\n      <td>NaN</td>\n      <td>NaN</td>\n      <td>NaN</td>\n      <td>NaN</td>\n      <td>NaN</td>\n      <td>NaN</td>\n      <td>NaN</td>\n    </tr>\n    <tr>\n      <th>top</th>\n      <td>NaN</td>\n      <td>France</td>\n      <td>Male</td>\n      <td>NaN</td>\n      <td>NaN</td>\n      <td>NaN</td>\n      <td>NaN</td>\n      <td>NaN</td>\n      <td>NaN</td>\n      <td>NaN</td>\n      <td>NaN</td>\n    </tr>\n    <tr>\n      <th>freq</th>\n      <td>NaN</td>\n      <td>4550</td>\n      <td>4974</td>\n      <td>NaN</td>\n      <td>NaN</td>\n      <td>NaN</td>\n      <td>NaN</td>\n      <td>NaN</td>\n      <td>NaN</td>\n      <td>NaN</td>\n      <td>NaN</td>\n    </tr>\n    <tr>\n      <th>mean</th>\n      <td>650.74</td>\n      <td>NaN</td>\n      <td>NaN</td>\n      <td>38.95</td>\n      <td>5.00</td>\n      <td>76,522.74</td>\n      <td>1.53</td>\n      <td>0.70</td>\n      <td>0.52</td>\n      <td>100,181.21</td>\n      <td>0.20</td>\n    </tr>\n    <tr>\n      <th>std</th>\n      <td>96.41</td>\n      <td>NaN</td>\n      <td>NaN</td>\n      <td>10.56</td>\n      <td>2.89</td>\n      <td>62,329.53</td>\n      <td>0.58</td>\n      <td>0.46</td>\n      <td>0.50</td>\n      <td>57,624.76</td>\n      <td>0.40</td>\n    </tr>\n    <tr>\n      <th>min</th>\n      <td>350.00</td>\n      <td>NaN</td>\n      <td>NaN</td>\n      <td>18.00</td>\n      <td>0.00</td>\n      <td>0.00</td>\n      <td>1.00</td>\n      <td>0.00</td>\n      <td>0.00</td>\n      <td>11.58</td>\n      <td>0.00</td>\n    </tr>\n    <tr>\n      <th>25%</th>\n      <td>584.00</td>\n      <td>NaN</td>\n      <td>NaN</td>\n      <td>32.00</td>\n      <td>2.00</td>\n      <td>0.00</td>\n      <td>1.00</td>\n      <td>0.00</td>\n      <td>0.00</td>\n      <td>51,227.74</td>\n      <td>0.00</td>\n    </tr>\n    <tr>\n      <th>50%</th>\n      <td>652.00</td>\n      <td>NaN</td>\n      <td>NaN</td>\n      <td>37.00</td>\n      <td>5.00</td>\n      <td>97,318.25</td>\n      <td>1.00</td>\n      <td>1.00</td>\n      <td>1.00</td>\n      <td>100,240.20</td>\n      <td>0.00</td>\n    </tr>\n    <tr>\n      <th>75%</th>\n      <td>717.00</td>\n      <td>NaN</td>\n      <td>NaN</td>\n      <td>44.00</td>\n      <td>7.00</td>\n      <td>127,561.89</td>\n      <td>2.00</td>\n      <td>1.00</td>\n      <td>1.00</td>\n      <td>149,567.21</td>\n      <td>0.00</td>\n    </tr>\n    <tr>\n      <th>max</th>\n      <td>850.00</td>\n      <td>NaN</td>\n      <td>NaN</td>\n      <td>92.00</td>\n      <td>10.00</td>\n      <td>250,898.09</td>\n      <td>4.00</td>\n      <td>1.00</td>\n      <td>1.00</td>\n      <td>199,992.48</td>\n      <td>1.00</td>\n    </tr>\n  </tbody>\n</table>\n</div>"
     },
     "execution_count": 250,
     "metadata": {},
     "output_type": "execute_result"
    }
   ],
   "source": [
    "df.describe(include='all')"
   ]
  },
  {
   "cell_type": "markdown",
   "metadata": {
    "ExecuteTime": {
     "end_time": "2023-05-06T23:06:26.541030Z",
     "start_time": "2023-05-06T23:06:26.389896Z"
    }
   },
   "source": [
    "Визуально, вроде, все ок (нет отрицательных, максимальные числа разумные, и т. д.)"
   ]
  },
  {
   "cell_type": "code",
   "execution_count": 251,
   "metadata": {
    "ExecuteTime": {
     "start_time": "2023-05-07T04:04:20.633987Z",
     "end_time": "2023-05-07T04:04:21.295835Z"
    }
   },
   "outputs": [
    {
     "data": {
      "text/plain": "<Figure size 1500x1500 with 9 Axes>",
      "image/png": "[encoded data removed]"
     },
     "metadata": {},
     "output_type": "display_data"
    }
   ],
   "source": [
    "df.hist(figsize=(15, 15));"
   ]
  },
  {
   "cell_type": "markdown",
   "metadata": {
    "ExecuteTime": {
     "end_time": "2023-05-06T23:15:43.374113Z",
     "start_time": "2023-05-06T23:15:43.372570Z"
    }
   },
   "source": [
    "Видно множество числовых признаков с разным масштабом. Посмотрим на типы"
   ]
  },
  {
   "cell_type": "code",
   "execution_count": 252,
   "metadata": {
    "ExecuteTime": {
     "start_time": "2023-05-07T04:04:21.254140Z",
     "end_time": "2023-05-07T04:04:21.299525Z"
    }
   },
   "outputs": [
    {
     "name": "stdout",
     "output_type": "stream",
     "text": [
      "<class 'pandas.core.frame.DataFrame'>\n",
      "Int64Index: 9091 entries, 0 to 9998\n",
      "Data columns (total 11 columns):\n",
      " #   Column            Non-Null Count  Dtype  \n",
      "---  ------            --------------  -----  \n",
      " 0   credit_score      9091 non-null   int64  \n",
      " 1   country           9091 non-null   object \n",
      " 2   gender            9091 non-null   object \n",
      " 3   age               9091 non-null   int64  \n",
      " 4   years_as_client   9091 non-null   float64\n",
      " 5   balance           9091 non-null   float64\n",
      " 6   products_count    9091 non-null   int64  \n",
      " 7   has_credit_card   9091 non-null   int64  \n",
      " 8   is_active_member  9091 non-null   int64  \n",
      " 9   salary_estimate   9091 non-null   float64\n",
      " 10  is_gone           9091 non-null   int64  \n",
      "dtypes: float64(3), int64(6), object(2)\n",
      "memory usage: 852.3+ KB\n"
     ]
    }
   ],
   "source": [
    "df.info()"
   ]
  },
  {
   "cell_type": "markdown",
   "metadata": {},
   "source": [
    "Странно, что срок клиента дробное:"
   ]
  },
  {
   "cell_type": "code",
   "execution_count": 253,
   "metadata": {
    "ExecuteTime": {
     "start_time": "2023-05-07T04:04:21.260707Z",
     "end_time": "2023-05-07T04:04:21.299690Z"
    }
   },
   "outputs": [
    {
     "data": {
      "text/plain": "1.00     952\n2.00     950\n8.00     933\n3.00     928\n5.00     927\n7.00     925\n4.00     885\n9.00     882\n6.00     881\n10.00    446\n0.00     382\nName: years_as_client, dtype: int64"
     },
     "execution_count": 253,
     "metadata": {},
     "output_type": "execute_result"
    }
   ],
   "source": [
    "df['years_as_client'].value_counts()"
   ]
  },
  {
   "cell_type": "markdown",
   "metadata": {},
   "source": [
    "Поменяем тип на целый"
   ]
  },
  {
   "cell_type": "code",
   "execution_count": 254,
   "metadata": {
    "ExecuteTime": {
     "start_time": "2023-05-07T04:04:21.266103Z",
     "end_time": "2023-05-07T04:04:21.299741Z"
    }
   },
   "outputs": [],
   "source": [
    "df['years_as_client'] = df['years_as_client'].astype('int')"
   ]
  },
  {
   "cell_type": "markdown",
   "metadata": {},
   "source": [
    "### Категориальные типы"
   ]
  },
  {
   "cell_type": "code",
   "execution_count": 255,
   "metadata": {
    "ExecuteTime": {
     "start_time": "2023-05-07T04:04:21.270955Z",
     "end_time": "2023-05-07T04:04:21.299888Z"
    }
   },
   "outputs": [
    {
     "data": {
      "text/plain": "France     4550\nGermany    2293\nSpain      2248\nName: country, dtype: int64"
     },
     "execution_count": 255,
     "metadata": {},
     "output_type": "execute_result"
    }
   ],
   "source": [
    "df['country'].value_counts()"
   ]
  },
  {
   "cell_type": "code",
   "execution_count": 256,
   "metadata": {
    "ExecuteTime": {
     "start_time": "2023-05-07T04:04:21.275359Z",
     "end_time": "2023-05-07T04:04:21.313557Z"
    }
   },
   "outputs": [
    {
     "data": {
      "text/plain": "Male      4974\nFemale    4117\nName: gender, dtype: int64"
     },
     "execution_count": 256,
     "metadata": {},
     "output_type": "execute_result"
    }
   ],
   "source": [
    "df['gender'].value_counts()"
   ]
  },
  {
   "cell_type": "markdown",
   "metadata": {},
   "source": [
    "Преобразуем для дальнейшего обучения"
   ]
  },
  {
   "cell_type": "code",
   "execution_count": 257,
   "metadata": {
    "ExecuteTime": {
     "start_time": "2023-05-07T04:04:21.278583Z",
     "end_time": "2023-05-07T04:04:21.314002Z"
    }
   },
   "outputs": [],
   "source": [
    "df = pd.get_dummies(df, drop_first=True)"
   ]
  },
  {
   "cell_type": "code",
   "execution_count": 258,
   "metadata": {
    "ExecuteTime": {
     "start_time": "2023-05-07T04:04:21.286206Z",
     "end_time": "2023-05-07T04:04:21.314330Z"
    }
   },
   "outputs": [
    {
     "data": {
      "text/plain": "   credit_score  age  years_as_client    balance  products_count  \\\n0           619   42                2       0.00               1   \n1           608   41                1  83,807.86               1   \n2           502   42                8 159,660.80               3   \n3           699   39                1       0.00               2   \n4           850   43                2 125,510.82               1   \n\n   has_credit_card  is_active_member  salary_estimate  is_gone  \\\n0                1                 1       101,348.88        1   \n1                0                 1       112,542.58        0   \n2                1                 0       113,931.57        1   \n3                0                 0        93,826.63        0   \n4                1                 1        79,084.10        0   \n\n   country_Germany  country_Spain  gender_Male  \n0                0              0            0  \n1                0              1            0  \n2                0              0            0  \n3                0              0            0  \n4                0              1            0  ",
      "text/html": "<div>\n<style scoped>\n    .dataframe tbody tr th:only-of-type {\n        vertical-align: middle;\n    }\n\n    .dataframe tbody tr th {\n        vertical-align: top;\n    }\n\n    .dataframe thead th {\n        text-align: right;\n    }\n</style>\n<table border=\"1\" class=\"dataframe\">\n  <thead>\n    <tr style=\"text-align: right;\">\n      <th></th>\n      <th>credit_score</th>\n      <th>age</th>\n      <th>years_as_client</th>\n      <th>balance</th>\n      <th>products_count</th>\n      <th>has_credit_card</th>\n      <th>is_active_member</th>\n      <th>salary_estimate</th>\n      <th>is_gone</th>\n      <th>country_Germany</th>\n      <th>country_Spain</th>\n      <th>gender_Male</th>\n    </tr>\n  </thead>\n  <tbody>\n    <tr>\n      <th>0</th>\n      <td>619</td>\n      <td>42</td>\n      <td>2</td>\n      <td>0.00</td>\n      <td>1</td>\n      <td>1</td>\n      <td>1</td>\n      <td>101,348.88</td>\n      <td>1</td>\n      <td>0</td>\n      <td>0</td>\n      <td>0</td>\n    </tr>\n    <tr>\n      <th>1</th>\n      <td>608</td>\n      <td>41</td>\n      <td>1</td>\n      <td>83,807.86</td>\n      <td>1</td>\n      <td>0</td>\n      <td>1</td>\n      <td>112,542.58</td>\n      <td>0</td>\n      <td>0</td>\n      <td>1</td>\n      <td>0</td>\n    </tr>\n    <tr>\n      <th>2</th>\n      <td>502</td>\n      <td>42</td>\n      <td>8</td>\n      <td>159,660.80</td>\n      <td>3</td>\n      <td>1</td>\n      <td>0</td>\n      <td>113,931.57</td>\n      <td>1</td>\n      <td>0</td>\n      <td>0</td>\n      <td>0</td>\n    </tr>\n    <tr>\n      <th>3</th>\n      <td>699</td>\n      <td>39</td>\n      <td>1</td>\n      <td>0.00</td>\n      <td>2</td>\n      <td>0</td>\n      <td>0</td>\n      <td>93,826.63</td>\n      <td>0</td>\n      <td>0</td>\n      <td>0</td>\n      <td>0</td>\n    </tr>\n    <tr>\n      <th>4</th>\n      <td>850</td>\n      <td>43</td>\n      <td>2</td>\n      <td>125,510.82</td>\n      <td>1</td>\n      <td>1</td>\n      <td>1</td>\n      <td>79,084.10</td>\n      <td>0</td>\n      <td>0</td>\n      <td>1</td>\n      <td>0</td>\n    </tr>\n  </tbody>\n</table>\n</div>"
     },
     "execution_count": 258,
     "metadata": {},
     "output_type": "execute_result"
    }
   ],
   "source": [
    "df.head()"
   ]
  },
  {
   "cell_type": "markdown",
   "source": [
    "### Разбивка данных"
   ],
   "metadata": {
    "collapsed": false
   }
  },
  {
   "cell_type": "code",
   "execution_count": 259,
   "metadata": {
    "ExecuteTime": {
     "start_time": "2023-05-07T04:04:21.291005Z",
     "end_time": "2023-05-07T04:04:21.314584Z"
    }
   },
   "outputs": [],
   "source": [
    "target = df['is_gone']\n",
    "features = df.drop('is_gone', axis=1)\n",
    "\n",
    "features_train, features_test, target_train, target_test = train_test_split(\n",
    "    features, target, stratify=target, test_size=0.2, random_state=12345)\n",
    "\n",
    "features_train, features_valid, target_train, target_valid = train_test_split(\n",
    "    features_train, target_train, stratify=target_train, test_size=0.25, random_state=12345)"
   ]
  },
  {
   "cell_type": "markdown",
   "source": [
    "### Масштабирование данных"
   ],
   "metadata": {
    "collapsed": false
   }
  },
  {
   "cell_type": "code",
   "execution_count": 260,
   "outputs": [],
   "source": [
    "numeric_columns = [\n",
    "    'credit_score', 'age', 'years_as_client', 'balance', 'products_count',\n",
    "    'salary_estimate']"
   ],
   "metadata": {
    "collapsed": false,
    "ExecuteTime": {
     "start_time": "2023-05-07T04:04:21.301221Z",
     "end_time": "2023-05-07T04:04:21.314648Z"
    }
   }
  },
  {
   "cell_type": "code",
   "execution_count": 261,
   "outputs": [],
   "source": [
    "scaler = StandardScaler()\n",
    "scaler.fit(features_train[numeric_columns])\n",
    "features_train[numeric_columns] = scaler.transform(features_train[numeric_columns])\n",
    "features_valid[numeric_columns] = scaler.transform(features_valid[numeric_columns])\n",
    "features_test[numeric_columns] = scaler.transform(features_test[numeric_columns])"
   ],
   "metadata": {
    "collapsed": false,
    "ExecuteTime": {
     "start_time": "2023-05-07T04:04:21.305383Z",
     "end_time": "2023-05-07T04:04:21.428519Z"
    }
   }
  },
  {
   "cell_type": "markdown",
   "source": [
    "### Корреляции"
   ],
   "metadata": {
    "collapsed": false
   }
  },
  {
   "cell_type": "markdown",
   "source": [
    "Посмотрим, на всякий случай, на корреляции между признаками:"
   ],
   "metadata": {
    "collapsed": false
   }
  },
  {
   "cell_type": "code",
   "execution_count": 262,
   "outputs": [
    {
     "data": {
      "text/plain": "<pandas.io.formats.style.Styler at 0x1687204f0>",
      "text/html": "<style type=\"text/css\">\n#T_7e88f_row0_col0, #T_7e88f_row1_col1, #T_7e88f_row2_col2, #T_7e88f_row3_col3, #T_7e88f_row4_col4, #T_7e88f_row5_col5, #T_7e88f_row6_col6, #T_7e88f_row7_col7, #T_7e88f_row8_col8, #T_7e88f_row9_col9, #T_7e88f_row10_col10 {\n  background-color: #b40426;\n  color: #f1f1f1;\n}\n#T_7e88f_row0_col1, #T_7e88f_row0_col2, #T_7e88f_row0_col5, #T_7e88f_row1_col0, #T_7e88f_row2_col0, #T_7e88f_row2_col8, #T_7e88f_row3_col6, #T_7e88f_row5_col0, #T_7e88f_row6_col3, #T_7e88f_row7_col10, #T_7e88f_row8_col2, #T_7e88f_row10_col7 {\n  background-color: #8caffe;\n  color: #000000;\n}\n#T_7e88f_row0_col3, #T_7e88f_row0_col7, #T_7e88f_row0_col8, #T_7e88f_row0_col9, #T_7e88f_row2_col9, #T_7e88f_row3_col0, #T_7e88f_row7_col0, #T_7e88f_row8_col0, #T_7e88f_row9_col0, #T_7e88f_row9_col2 {\n  background-color: #8db0fe;\n  color: #000000;\n}\n#T_7e88f_row0_col4, #T_7e88f_row2_col4, #T_7e88f_row2_col10, #T_7e88f_row3_col7, #T_7e88f_row4_col0, #T_7e88f_row4_col2, #T_7e88f_row4_col7, #T_7e88f_row4_col9, #T_7e88f_row6_col9, #T_7e88f_row7_col3, #T_7e88f_row7_col4, #T_7e88f_row7_col8, #T_7e88f_row8_col7, #T_7e88f_row9_col4, #T_7e88f_row9_col6, #T_7e88f_row9_col10, #T_7e88f_row10_col2, #T_7e88f_row10_col9 {\n  background-color: #90b2fe;\n  color: #000000;\n}\n#T_7e88f_row0_col6, #T_7e88f_row1_col3, #T_7e88f_row2_col5, #T_7e88f_row3_col1, #T_7e88f_row5_col2, #T_7e88f_row6_col0 {\n  background-color: #94b6ff;\n  color: #000000;\n}\n#T_7e88f_row0_col10, #T_7e88f_row1_col7, #T_7e88f_row1_col9, #T_7e88f_row2_col3, #T_7e88f_row3_col2, #T_7e88f_row4_col8, #T_7e88f_row5_col6, #T_7e88f_row5_col7, #T_7e88f_row6_col5, #T_7e88f_row7_col1, #T_7e88f_row7_col5, #T_7e88f_row8_col4, #T_7e88f_row9_col1, #T_7e88f_row10_col0 {\n  background-color: #8badfd;\n  color: #000000;\n}\n#T_7e88f_row1_col2, #T_7e88f_row1_col5, #T_7e88f_row2_col1, #T_7e88f_row5_col1, #T_7e88f_row7_col9, #T_7e88f_row9_col7 {\n  background-color: #89acfd;\n  color: #000000;\n}\n#T_7e88f_row1_col4, #T_7e88f_row2_col6, #T_7e88f_row4_col1, #T_7e88f_row6_col2 {\n  background-color: #84a7fc;\n  color: #f1f1f1;\n}\n#T_7e88f_row1_col6, #T_7e88f_row6_col1 {\n  background-color: #a2c1ff;\n  color: #000000;\n}\n#T_7e88f_row1_col8, #T_7e88f_row8_col1 {\n  background-color: #9abbff;\n  color: #000000;\n}\n#T_7e88f_row1_col10, #T_7e88f_row4_col10, #T_7e88f_row8_col10, #T_7e88f_row10_col1, #T_7e88f_row10_col4, #T_7e88f_row10_col8 {\n  background-color: #86a9fc;\n  color: #f1f1f1;\n}\n#T_7e88f_row2_col7, #T_7e88f_row4_col5, #T_7e88f_row4_col6, #T_7e88f_row5_col4, #T_7e88f_row5_col8, #T_7e88f_row5_col10, #T_7e88f_row6_col4, #T_7e88f_row7_col2, #T_7e88f_row8_col5, #T_7e88f_row10_col5 {\n  background-color: #8fb1fe;\n  color: #000000;\n}\n#T_7e88f_row3_col4, #T_7e88f_row4_col3 {\n  background-color: #4055c8;\n  color: #f1f1f1;\n}\n#T_7e88f_row3_col5, #T_7e88f_row5_col3, #T_7e88f_row5_col9, #T_7e88f_row6_col7, #T_7e88f_row6_col8, #T_7e88f_row7_col6, #T_7e88f_row8_col6, #T_7e88f_row9_col5 {\n  background-color: #88abfd;\n  color: #000000;\n}\n#T_7e88f_row3_col8, #T_7e88f_row8_col3 {\n  background-color: #ead5c9;\n  color: #000000;\n}\n#T_7e88f_row3_col9, #T_7e88f_row9_col3 {\n  background-color: #688aef;\n  color: #f1f1f1;\n}\n#T_7e88f_row3_col10, #T_7e88f_row10_col3 {\n  background-color: #92b4fe;\n  color: #000000;\n}\n#T_7e88f_row6_col10, #T_7e88f_row10_col6 {\n  background-color: #93b5fe;\n  color: #000000;\n}\n#T_7e88f_row8_col9, #T_7e88f_row9_col8 {\n  background-color: #3b4cc0;\n  color: #f1f1f1;\n}\n</style>\n<table id=\"T_7e88f\">\n  <thead>\n    <tr>\n      <th class=\"blank level0\" >&nbsp;</th>\n      <th id=\"T_7e88f_level0_col0\" class=\"col_heading level0 col0\" >credit_score</th>\n      <th id=\"T_7e88f_level0_col1\" class=\"col_heading level0 col1\" >age</th>\n      <th id=\"T_7e88f_level0_col2\" class=\"col_heading level0 col2\" >years_as_client</th>\n      <th id=\"T_7e88f_level0_col3\" class=\"col_heading level0 col3\" >balance</th>\n      <th id=\"T_7e88f_level0_col4\" class=\"col_heading level0 col4\" >products_count</th>\n      <th id=\"T_7e88f_level0_col5\" class=\"col_heading level0 col5\" >has_credit_card</th>\n      <th id=\"T_7e88f_level0_col6\" class=\"col_heading level0 col6\" >is_active_member</th>\n      <th id=\"T_7e88f_level0_col7\" class=\"col_heading level0 col7\" >salary_estimate</th>\n      <th id=\"T_7e88f_level0_col8\" class=\"col_heading level0 col8\" >country_Germany</th>\n      <th id=\"T_7e88f_level0_col9\" class=\"col_heading level0 col9\" >country_Spain</th>\n      <th id=\"T_7e88f_level0_col10\" class=\"col_heading level0 col10\" >gender_Male</th>\n    </tr>\n  </thead>\n  <tbody>\n    <tr>\n      <th id=\"T_7e88f_level0_row0\" class=\"row_heading level0 row0\" >credit_score</th>\n      <td id=\"T_7e88f_row0_col0\" class=\"data row0 col0\" >1.00</td>\n      <td id=\"T_7e88f_row0_col1\" class=\"data row0 col1\" >-0.00</td>\n      <td id=\"T_7e88f_row0_col2\" class=\"data row0 col2\" >-0.00</td>\n      <td id=\"T_7e88f_row0_col3\" class=\"data row0 col3\" >0.00</td>\n      <td id=\"T_7e88f_row0_col4\" class=\"data row0 col4\" >0.01</td>\n      <td id=\"T_7e88f_row0_col5\" class=\"data row0 col5\" >-0.00</td>\n      <td id=\"T_7e88f_row0_col6\" class=\"data row0 col6\" >0.03</td>\n      <td id=\"T_7e88f_row0_col7\" class=\"data row0 col7\" >0.01</td>\n      <td id=\"T_7e88f_row0_col8\" class=\"data row0 col8\" >0.00</td>\n      <td id=\"T_7e88f_row0_col9\" class=\"data row0 col9\" >0.00</td>\n      <td id=\"T_7e88f_row0_col10\" class=\"data row0 col10\" >-0.01</td>\n    </tr>\n    <tr>\n      <th id=\"T_7e88f_level0_row1\" class=\"row_heading level0 row1\" >age</th>\n      <td id=\"T_7e88f_row1_col0\" class=\"data row1 col0\" >-0.00</td>\n      <td id=\"T_7e88f_row1_col1\" class=\"data row1 col1\" >1.00</td>\n      <td id=\"T_7e88f_row1_col2\" class=\"data row1 col2\" >-0.01</td>\n      <td id=\"T_7e88f_row1_col3\" class=\"data row1 col3\" >0.03</td>\n      <td id=\"T_7e88f_row1_col4\" class=\"data row1 col4\" >-0.03</td>\n      <td id=\"T_7e88f_row1_col5\" class=\"data row1 col5\" >-0.01</td>\n      <td id=\"T_7e88f_row1_col6\" class=\"data row1 col6\" >0.08</td>\n      <td id=\"T_7e88f_row1_col7\" class=\"data row1 col7\" >-0.01</td>\n      <td id=\"T_7e88f_row1_col8\" class=\"data row1 col8\" >0.05</td>\n      <td id=\"T_7e88f_row1_col9\" class=\"data row1 col9\" >-0.01</td>\n      <td id=\"T_7e88f_row1_col10\" class=\"data row1 col10\" >-0.03</td>\n    </tr>\n    <tr>\n      <th id=\"T_7e88f_level0_row2\" class=\"row_heading level0 row2\" >years_as_client</th>\n      <td id=\"T_7e88f_row2_col0\" class=\"data row2 col0\" >-0.00</td>\n      <td id=\"T_7e88f_row2_col1\" class=\"data row2 col1\" >-0.01</td>\n      <td id=\"T_7e88f_row2_col2\" class=\"data row2 col2\" >1.00</td>\n      <td id=\"T_7e88f_row2_col3\" class=\"data row2 col3\" >-0.01</td>\n      <td id=\"T_7e88f_row2_col4\" class=\"data row2 col4\" >0.01</td>\n      <td id=\"T_7e88f_row2_col5\" class=\"data row2 col5\" >0.03</td>\n      <td id=\"T_7e88f_row2_col6\" class=\"data row2 col6\" >-0.03</td>\n      <td id=\"T_7e88f_row2_col7\" class=\"data row2 col7\" >0.01</td>\n      <td id=\"T_7e88f_row2_col8\" class=\"data row2 col8\" >-0.00</td>\n      <td id=\"T_7e88f_row2_col9\" class=\"data row2 col9\" >0.00</td>\n      <td id=\"T_7e88f_row2_col10\" class=\"data row2 col10\" >0.01</td>\n    </tr>\n    <tr>\n      <th id=\"T_7e88f_level0_row3\" class=\"row_heading level0 row3\" >balance</th>\n      <td id=\"T_7e88f_row3_col0\" class=\"data row3 col0\" >0.00</td>\n      <td id=\"T_7e88f_row3_col1\" class=\"data row3 col1\" >0.03</td>\n      <td id=\"T_7e88f_row3_col2\" class=\"data row3 col2\" >-0.01</td>\n      <td id=\"T_7e88f_row3_col3\" class=\"data row3 col3\" >1.00</td>\n      <td id=\"T_7e88f_row3_col4\" class=\"data row3 col4\" >-0.30</td>\n      <td id=\"T_7e88f_row3_col5\" class=\"data row3 col5\" >-0.02</td>\n      <td id=\"T_7e88f_row3_col6\" class=\"data row3 col6\" >-0.00</td>\n      <td id=\"T_7e88f_row3_col7\" class=\"data row3 col7\" >0.01</td>\n      <td id=\"T_7e88f_row3_col8\" class=\"data row3 col8\" >0.40</td>\n      <td id=\"T_7e88f_row3_col9\" class=\"data row3 col9\" >-0.14</td>\n      <td id=\"T_7e88f_row3_col10\" class=\"data row3 col10\" >0.02</td>\n    </tr>\n    <tr>\n      <th id=\"T_7e88f_level0_row4\" class=\"row_heading level0 row4\" >products_count</th>\n      <td id=\"T_7e88f_row4_col0\" class=\"data row4 col0\" >0.01</td>\n      <td id=\"T_7e88f_row4_col1\" class=\"data row4 col1\" >-0.03</td>\n      <td id=\"T_7e88f_row4_col2\" class=\"data row4 col2\" >0.01</td>\n      <td id=\"T_7e88f_row4_col3\" class=\"data row4 col3\" >-0.30</td>\n      <td id=\"T_7e88f_row4_col4\" class=\"data row4 col4\" >1.00</td>\n      <td id=\"T_7e88f_row4_col5\" class=\"data row4 col5\" >0.01</td>\n      <td id=\"T_7e88f_row4_col6\" class=\"data row4 col6\" >0.01</td>\n      <td id=\"T_7e88f_row4_col7\" class=\"data row4 col7\" >0.01</td>\n      <td id=\"T_7e88f_row4_col8\" class=\"data row4 col8\" >-0.01</td>\n      <td id=\"T_7e88f_row4_col9\" class=\"data row4 col9\" >0.01</td>\n      <td id=\"T_7e88f_row4_col10\" class=\"data row4 col10\" >-0.03</td>\n    </tr>\n    <tr>\n      <th id=\"T_7e88f_level0_row5\" class=\"row_heading level0 row5\" >has_credit_card</th>\n      <td id=\"T_7e88f_row5_col0\" class=\"data row5 col0\" >-0.00</td>\n      <td id=\"T_7e88f_row5_col1\" class=\"data row5 col1\" >-0.01</td>\n      <td id=\"T_7e88f_row5_col2\" class=\"data row5 col2\" >0.03</td>\n      <td id=\"T_7e88f_row5_col3\" class=\"data row5 col3\" >-0.02</td>\n      <td id=\"T_7e88f_row5_col4\" class=\"data row5 col4\" >0.01</td>\n      <td id=\"T_7e88f_row5_col5\" class=\"data row5 col5\" >1.00</td>\n      <td id=\"T_7e88f_row5_col6\" class=\"data row5 col6\" >-0.01</td>\n      <td id=\"T_7e88f_row5_col7\" class=\"data row5 col7\" >-0.01</td>\n      <td id=\"T_7e88f_row5_col8\" class=\"data row5 col8\" >0.01</td>\n      <td id=\"T_7e88f_row5_col9\" class=\"data row5 col9\" >-0.02</td>\n      <td id=\"T_7e88f_row5_col10\" class=\"data row5 col10\" >0.01</td>\n    </tr>\n    <tr>\n      <th id=\"T_7e88f_level0_row6\" class=\"row_heading level0 row6\" >is_active_member</th>\n      <td id=\"T_7e88f_row6_col0\" class=\"data row6 col0\" >0.03</td>\n      <td id=\"T_7e88f_row6_col1\" class=\"data row6 col1\" >0.08</td>\n      <td id=\"T_7e88f_row6_col2\" class=\"data row6 col2\" >-0.03</td>\n      <td id=\"T_7e88f_row6_col3\" class=\"data row6 col3\" >-0.00</td>\n      <td id=\"T_7e88f_row6_col4\" class=\"data row6 col4\" >0.01</td>\n      <td id=\"T_7e88f_row6_col5\" class=\"data row6 col5\" >-0.01</td>\n      <td id=\"T_7e88f_row6_col6\" class=\"data row6 col6\" >1.00</td>\n      <td id=\"T_7e88f_row6_col7\" class=\"data row6 col7\" >-0.02</td>\n      <td id=\"T_7e88f_row6_col8\" class=\"data row6 col8\" >-0.02</td>\n      <td id=\"T_7e88f_row6_col9\" class=\"data row6 col9\" >0.01</td>\n      <td id=\"T_7e88f_row6_col10\" class=\"data row6 col10\" >0.03</td>\n    </tr>\n    <tr>\n      <th id=\"T_7e88f_level0_row7\" class=\"row_heading level0 row7\" >salary_estimate</th>\n      <td id=\"T_7e88f_row7_col0\" class=\"data row7 col0\" >0.01</td>\n      <td id=\"T_7e88f_row7_col1\" class=\"data row7 col1\" >-0.01</td>\n      <td id=\"T_7e88f_row7_col2\" class=\"data row7 col2\" >0.01</td>\n      <td id=\"T_7e88f_row7_col3\" class=\"data row7 col3\" >0.01</td>\n      <td id=\"T_7e88f_row7_col4\" class=\"data row7 col4\" >0.01</td>\n      <td id=\"T_7e88f_row7_col5\" class=\"data row7 col5\" >-0.01</td>\n      <td id=\"T_7e88f_row7_col6\" class=\"data row7 col6\" >-0.02</td>\n      <td id=\"T_7e88f_row7_col7\" class=\"data row7 col7\" >1.00</td>\n      <td id=\"T_7e88f_row7_col8\" class=\"data row7 col8\" >0.01</td>\n      <td id=\"T_7e88f_row7_col9\" class=\"data row7 col9\" >-0.01</td>\n      <td id=\"T_7e88f_row7_col10\" class=\"data row7 col10\" >-0.00</td>\n    </tr>\n    <tr>\n      <th id=\"T_7e88f_level0_row8\" class=\"row_heading level0 row8\" >country_Germany</th>\n      <td id=\"T_7e88f_row8_col0\" class=\"data row8 col0\" >0.00</td>\n      <td id=\"T_7e88f_row8_col1\" class=\"data row8 col1\" >0.05</td>\n      <td id=\"T_7e88f_row8_col2\" class=\"data row8 col2\" >-0.00</td>\n      <td id=\"T_7e88f_row8_col3\" class=\"data row8 col3\" >0.40</td>\n      <td id=\"T_7e88f_row8_col4\" class=\"data row8 col4\" >-0.01</td>\n      <td id=\"T_7e88f_row8_col5\" class=\"data row8 col5\" >0.01</td>\n      <td id=\"T_7e88f_row8_col6\" class=\"data row8 col6\" >-0.02</td>\n      <td id=\"T_7e88f_row8_col7\" class=\"data row8 col7\" >0.01</td>\n      <td id=\"T_7e88f_row8_col8\" class=\"data row8 col8\" >1.00</td>\n      <td id=\"T_7e88f_row8_col9\" class=\"data row8 col9\" >-0.33</td>\n      <td id=\"T_7e88f_row8_col10\" class=\"data row8 col10\" >-0.02</td>\n    </tr>\n    <tr>\n      <th id=\"T_7e88f_level0_row9\" class=\"row_heading level0 row9\" >country_Spain</th>\n      <td id=\"T_7e88f_row9_col0\" class=\"data row9 col0\" >0.00</td>\n      <td id=\"T_7e88f_row9_col1\" class=\"data row9 col1\" >-0.01</td>\n      <td id=\"T_7e88f_row9_col2\" class=\"data row9 col2\" >0.00</td>\n      <td id=\"T_7e88f_row9_col3\" class=\"data row9 col3\" >-0.14</td>\n      <td id=\"T_7e88f_row9_col4\" class=\"data row9 col4\" >0.01</td>\n      <td id=\"T_7e88f_row9_col5\" class=\"data row9 col5\" >-0.02</td>\n      <td id=\"T_7e88f_row9_col6\" class=\"data row9 col6\" >0.01</td>\n      <td id=\"T_7e88f_row9_col7\" class=\"data row9 col7\" >-0.01</td>\n      <td id=\"T_7e88f_row9_col8\" class=\"data row9 col8\" >-0.33</td>\n      <td id=\"T_7e88f_row9_col9\" class=\"data row9 col9\" >1.00</td>\n      <td id=\"T_7e88f_row9_col10\" class=\"data row9 col10\" >0.02</td>\n    </tr>\n    <tr>\n      <th id=\"T_7e88f_level0_row10\" class=\"row_heading level0 row10\" >gender_Male</th>\n      <td id=\"T_7e88f_row10_col0\" class=\"data row10 col0\" >-0.01</td>\n      <td id=\"T_7e88f_row10_col1\" class=\"data row10 col1\" >-0.03</td>\n      <td id=\"T_7e88f_row10_col2\" class=\"data row10 col2\" >0.01</td>\n      <td id=\"T_7e88f_row10_col3\" class=\"data row10 col3\" >0.02</td>\n      <td id=\"T_7e88f_row10_col4\" class=\"data row10 col4\" >-0.03</td>\n      <td id=\"T_7e88f_row10_col5\" class=\"data row10 col5\" >0.01</td>\n      <td id=\"T_7e88f_row10_col6\" class=\"data row10 col6\" >0.03</td>\n      <td id=\"T_7e88f_row10_col7\" class=\"data row10 col7\" >-0.00</td>\n      <td id=\"T_7e88f_row10_col8\" class=\"data row10 col8\" >-0.02</td>\n      <td id=\"T_7e88f_row10_col9\" class=\"data row10 col9\" >0.02</td>\n      <td id=\"T_7e88f_row10_col10\" class=\"data row10 col10\" >1.00</td>\n    </tr>\n  </tbody>\n</table>\n"
     },
     "execution_count": 262,
     "metadata": {},
     "output_type": "execute_result"
    }
   ],
   "source": [
    "corr = features.corr()\n",
    "corr.style.background_gradient(cmap='coolwarm', axis=None).format(precision=2)"
   ],
   "metadata": {
    "collapsed": false,
    "ExecuteTime": {
     "start_time": "2023-05-07T04:04:21.312592Z",
     "end_time": "2023-05-07T04:04:21.430072Z"
    }
   }
  },
  {
   "cell_type": "markdown",
   "source": [
    "Видим, что есть небольшая между 1) балансом и тем, что человек из Германии\n",
    "2) балансом и количеством продуктов. В целом, ничего критичного, можно работать."
   ],
   "metadata": {
    "collapsed": false
   }
  },
  {
   "cell_type": "markdown",
   "source": [
    "### Вывод"
   ],
   "metadata": {
    "collapsed": false
   }
  },
  {
   "cell_type": "markdown",
   "source": [
    "- несколько странно видеть ненормальное распределение для предполагаемой зарплаты;\n",
    "- для около 9% записей не было информации о том, как долго они пользуются банком —\n",
    "странно. Это явно достаточно важная метрика для retention, поэтому просто\n",
    "удалили эти пропущенные записи, вместо того, чтобы заменить рыбой;\n",
    "- в остальном, в целом, все визуально в порядке. Привели к одному масштабу\n",
    "численные и преобразовали категориальные признаки."
   ],
   "metadata": {
    "collapsed": false
   }
  },
  {
   "cell_type": "markdown",
   "metadata": {
    "ExecuteTime": {
     "end_time": "2023-05-06T23:00:30.616293Z",
     "start_time": "2023-05-06T23:00:30.601958Z"
    }
   },
   "source": [
    "## Исследование задачи"
   ]
  },
  {
   "cell_type": "markdown",
   "source": [
    "На графиках был виден дисбаланс в целевом признаке. Посмотрим на него еще раз"
   ],
   "metadata": {
    "collapsed": false
   }
  },
  {
   "cell_type": "code",
   "execution_count": 263,
   "outputs": [
    {
     "name": "stdout",
     "output_type": "stream",
     "text": [
      "Доля ушедших:20.39%\n"
     ]
    }
   ],
   "source": [
    "print(f'Доля ушедших:{target.mean():.2%}')"
   ],
   "metadata": {
    "collapsed": false,
    "ExecuteTime": {
     "start_time": "2023-05-07T04:04:21.323247Z",
     "end_time": "2023-05-07T04:04:21.430327Z"
    }
   }
  },
  {
   "cell_type": "code",
   "execution_count": 264,
   "outputs": [
    {
     "data": {
      "text/plain": "<Figure size 640x480 with 1 Axes>",
      "image/png": "[encoded data removed]"
     },
     "metadata": {},
     "output_type": "display_data"
    }
   ],
   "source": [
    "target.hist();"
   ],
   "metadata": {
    "collapsed": false,
    "ExecuteTime": {
     "start_time": "2023-05-07T04:04:21.332974Z",
     "end_time": "2023-05-07T04:04:21.563301Z"
    }
   }
  },
  {
   "cell_type": "markdown",
   "source": [
    "Виден дисбаланс примерно в 1:4. Попробуем пока проигнорировать этот факт"
   ],
   "metadata": {
    "collapsed": false
   }
  },
  {
   "cell_type": "markdown",
   "source": [
    "### Лес"
   ],
   "metadata": {
    "collapsed": false
   }
  },
  {
   "cell_type": "code",
   "execution_count": 265,
   "outputs": [],
   "source": [
    "def get_best_forest(is_balanced: bool):\n",
    "    best_model = None\n",
    "\n",
    "    best_f1 = 0\n",
    "    best_model_auc = 0\n",
    "    best_auc = 0\n",
    "\n",
    "    for params in product(\n",
    "            ['gini', 'entropy'],\n",
    "            range(10, 100, 10),\n",
    "            range(5, 25, 1)):\n",
    "        criterion, n_estimators, max_depth = params\n",
    "        model = RandomForestClassifier(\n",
    "            n_estimators=n_estimators,\n",
    "            criterion=criterion,\n",
    "            max_depth=max_depth,\n",
    "            class_weight='balanced' if is_balanced else None,\n",
    "            n_jobs=-1,\n",
    "            random_state=12345)\n",
    "        model.fit(features_train, target_train)\n",
    "\n",
    "        f1 = f1_score(target_valid, model.predict(features_valid))\n",
    "\n",
    "        probabilities_valid = model.predict_proba(features_valid)\n",
    "        probabilities_one_valid = probabilities_valid[:, 1]\n",
    "        auc_roc = roc_auc_score(target_valid, probabilities_one_valid)\n",
    "\n",
    "        if f1 > best_f1:\n",
    "            best_model = model\n",
    "            best_f1 = f1\n",
    "            best_model_auc = auc_roc\n",
    "\n",
    "        if auc_roc > best_auc:\n",
    "            best_auc = auc_roc\n",
    "\n",
    "    print(f'best f1={best_f1:.3f}, best model auc={best_model_auc:.3f}, best auc={best_auc:.3f}')\n",
    "    print(f'estimators={best_model.n_estimators}, criterion={best_model.criterion}, depth={best_model.max_depth}')\n",
    "\n",
    "    return best_model"
   ],
   "metadata": {
    "collapsed": false,
    "ExecuteTime": {
     "start_time": "2023-05-07T04:04:21.541753Z",
     "end_time": "2023-05-07T04:04:21.586040Z"
    }
   }
  },
  {
   "cell_type": "code",
   "execution_count": 266,
   "outputs": [
    {
     "data": {
      "text/plain": "  0%|          | 0/360 [00:00<?, ?it/s]",
      "application/vnd.jupyter.widget-view+json": {
       "version_major": 2,
       "version_minor": 0,
       "model_id": "e0630d9b6a314a958bb0e113af65ba61"
      }
     },
     "metadata": {},
     "output_type": "display_data"
    },
    {
     "name": "stdout",
     "output_type": "stream",
     "text": [
      "best f1=0.588, best model auc=0.843, best auc=0.869\n",
      "estimators=20, criterion=entropy, depth=16\n"
     ]
    }
   ],
   "source": [
    "_ = get_best_forest(is_balanced=False)"
   ],
   "metadata": {
    "collapsed": false,
    "ExecuteTime": {
     "start_time": "2023-05-07T04:04:21.548799Z",
     "end_time": "2023-05-07T04:04:54.301054Z"
    }
   }
  },
  {
   "cell_type": "markdown",
   "source": [
    "### Логистическая регрессия"
   ],
   "metadata": {
    "collapsed": false
   }
  },
  {
   "cell_type": "code",
   "execution_count": 267,
   "outputs": [],
   "source": [
    "def get_best_log_reg(is_balanced: bool):\n",
    "    best_model = None\n",
    "\n",
    "    best_f1 = 0\n",
    "    best_model_auc = 0\n",
    "    best_auc = 0\n",
    "\n",
    "    for params in product(\n",
    "            ['lbfgs', 'liblinear', 'newton-cholesky'],\n",
    "            range(10, 200, 10)):\n",
    "        solver, max_iter = params\n",
    "        model = LogisticRegression(\n",
    "            solver=solver,\n",
    "            max_iter=max_iter,\n",
    "            class_weight='balanced' if is_balanced else None,\n",
    "            random_state=12345,\n",
    "            n_jobs=None)\n",
    "        model.fit(features_train, target_train);\n",
    "\n",
    "        f1 = f1_score(target_valid, model.predict(features_valid))\n",
    "\n",
    "        probabilities_valid = model.predict_proba(features_valid)\n",
    "        probabilities_one_valid = probabilities_valid[:, 1]\n",
    "        auc_roc = roc_auc_score(target_valid, probabilities_one_valid)\n",
    "\n",
    "        if f1 > best_f1:\n",
    "            best_model = model\n",
    "            best_f1 = f1\n",
    "            best_model_auc = auc_roc\n",
    "\n",
    "        if auc_roc > best_auc:\n",
    "            best_auc = auc_roc\n",
    "\n",
    "    print(f'best f1={best_f1:.3f}, best model auc={best_model_auc:.3f}, best auc={best_auc:.3f}')\n",
    "    print(f'solver={best_model.solver}, max_iter={best_model.max_iter}')\n",
    "    return best_model"
   ],
   "metadata": {
    "collapsed": false,
    "ExecuteTime": {
     "start_time": "2023-05-07T04:04:54.297775Z",
     "end_time": "2023-05-07T04:04:54.301210Z"
    }
   }
  },
  {
   "cell_type": "code",
   "execution_count": 268,
   "outputs": [
    {
     "data": {
      "text/plain": "  0%|          | 0/57 [00:00<?, ?it/s]",
      "application/vnd.jupyter.widget-view+json": {
       "version_major": 2,
       "version_minor": 0,
       "model_id": "97cc69d44bb74c0ea890b60acf725541"
      }
     },
     "metadata": {},
     "output_type": "display_data"
    },
    {
     "name": "stderr",
     "output_type": "stream",
     "text": [
      "/Users/piskov/opt/anaconda3/lib/python3.9/site-packages/sklearn/linear_model/_logistic.py:458: ConvergenceWarning: lbfgs failed to converge (status=1):\n",
      "STOP: TOTAL NO. of ITERATIONS REACHED LIMIT.\n",
      "\n",
      "Increase the number of iterations (max_iter) or scale the data as shown in:\n",
      "    https://scikit-learn.org/stable/modules/preprocessing.html\n",
      "Please also refer to the documentation for alternative solver options:\n",
      "    https://scikit-learn.org/stable/modules/linear_model.html#logistic-regression\n",
      "  n_iter_i = _check_optimize_result(\n"
     ]
    },
    {
     "name": "stdout",
     "output_type": "stream",
     "text": [
      "best f1=0.286, best model auc=0.758, best auc=0.758\n",
      "solver=lbfgs, max_iter=10\n"
     ]
    }
   ],
   "source": [
    "_ = get_best_log_reg(is_balanced=False)"
   ],
   "metadata": {
    "collapsed": false,
    "ExecuteTime": {
     "start_time": "2023-05-07T04:04:54.301450Z",
     "end_time": "2023-05-07T04:04:55.678728Z"
    }
   }
  },
  {
   "cell_type": "markdown",
   "source": [
    "### Вывод"
   ],
   "metadata": {
    "collapsed": false
   }
  },
  {
   "cell_type": "markdown",
   "source": [
    "В 2 раза лучше f1 показал лес, но f1=0.588 не дотягивает до минимально\n",
    "требуемой 0.59. Попробуем теперь сбалансировать классы"
   ],
   "metadata": {
    "collapsed": false
   }
  },
  {
   "cell_type": "markdown",
   "metadata": {
    "ExecuteTime": {
     "end_time": "2023-05-06T23:06:27.288270Z",
     "start_time": "2023-05-06T23:06:27.285948Z"
    }
   },
   "source": [
    "## Борьба с дисбалансом"
   ]
  },
  {
   "cell_type": "markdown",
   "source": [
    "Укажем при обучении, что классы нужно сбалансировать"
   ],
   "metadata": {
    "collapsed": false
   }
  },
  {
   "cell_type": "code",
   "execution_count": 269,
   "outputs": [
    {
     "data": {
      "text/plain": "  0%|          | 0/360 [00:00<?, ?it/s]",
      "application/vnd.jupyter.widget-view+json": {
       "version_major": 2,
       "version_minor": 0,
       "model_id": "d36fd3c8bcf44ffd9ff277a3fc21b1db"
      }
     },
     "metadata": {},
     "output_type": "display_data"
    },
    {
     "name": "stdout",
     "output_type": "stream",
     "text": [
      "best f1=0.618, best model auc=0.853, best auc=0.868\n",
      "estimators=20, criterion=gini, depth=9\n"
     ]
    }
   ],
   "source": [
    "best_forest = get_best_forest(is_balanced=True)"
   ],
   "metadata": {
    "collapsed": false,
    "ExecuteTime": {
     "start_time": "2023-05-07T04:04:55.685085Z",
     "end_time": "2023-05-07T04:05:28.010079Z"
    }
   }
  },
  {
   "cell_type": "code",
   "execution_count": 270,
   "outputs": [
    {
     "data": {
      "text/plain": "  0%|          | 0/57 [00:00<?, ?it/s]",
      "application/vnd.jupyter.widget-view+json": {
       "version_major": 2,
       "version_minor": 0,
       "model_id": "12da76738f344820baee01a6797f16f0"
      }
     },
     "metadata": {},
     "output_type": "display_data"
    },
    {
     "name": "stderr",
     "output_type": "stream",
     "text": [
      "/Users/piskov/opt/anaconda3/lib/python3.9/site-packages/sklearn/linear_model/_logistic.py:458: ConvergenceWarning: lbfgs failed to converge (status=1):\n",
      "STOP: TOTAL NO. of ITERATIONS REACHED LIMIT.\n",
      "\n",
      "Increase the number of iterations (max_iter) or scale the data as shown in:\n",
      "    https://scikit-learn.org/stable/modules/preprocessing.html\n",
      "Please also refer to the documentation for alternative solver options:\n",
      "    https://scikit-learn.org/stable/modules/linear_model.html#logistic-regression\n",
      "  n_iter_i = _check_optimize_result(\n"
     ]
    },
    {
     "name": "stdout",
     "output_type": "stream",
     "text": [
      "best f1=0.497, best model auc=0.761, best auc=0.761\n",
      "solver=lbfgs, max_iter=20\n"
     ]
    }
   ],
   "source": [
    "best_log_reg = get_best_log_reg(is_balanced=True)"
   ],
   "metadata": {
    "collapsed": false,
    "ExecuteTime": {
     "start_time": "2023-05-07T04:05:28.014096Z",
     "end_time": "2023-05-07T04:05:29.115609Z"
    }
   }
  },
  {
   "cell_type": "markdown",
   "source": [
    "### Вывод"
   ],
   "metadata": {
    "collapsed": false
   }
  },
  {
   "cell_type": "markdown",
   "source": [
    "Балансировка позволила улучшить модели и поднять лес выше необходимого порога по f1."
   ],
   "metadata": {
    "collapsed": false
   }
  },
  {
   "cell_type": "markdown",
   "metadata": {
    "ExecuteTime": {
     "end_time": "2023-05-06T23:06:27.293605Z",
     "start_time": "2023-05-06T23:06:27.290123Z"
    }
   },
   "source": [
    "## Тестирование модели"
   ]
  },
  {
   "cell_type": "code",
   "execution_count": 271,
   "outputs": [],
   "source": [
    "def print_stats(model):\n",
    "    f1 = f1_score(target_test, model.predict(features_test))\n",
    "\n",
    "    probabilities_valid = model.predict_proba(features_test)\n",
    "    probabilities_one_valid = probabilities_valid[:, 1]\n",
    "    auc_roc = roc_auc_score(target_test, probabilities_one_valid)\n",
    "\n",
    "    print(f'f1={f1:.3f}, auc={auc_roc:.3f}')\n",
    "\n",
    "    fpr, tpr, thresholds = roc_curve(target_test, probabilities_one_valid)\n",
    "\n",
    "    plt.figure()\n",
    "\n",
    "    # < постройте график >\n",
    "    plt.plot(fpr, tpr)\n",
    "\n",
    "    # ROC-кривая случайной модели (выглядит как прямая)\n",
    "    plt.plot([0, 1], [0, 1], linestyle='--')\n",
    "\n",
    "    # < примените функции plt.xlim() и plt.ylim(), чтобы\n",
    "    #   установить границы осей от 0 до 1 >\n",
    "    plt.xlim(0, 1)\n",
    "    plt.ylim(0, 1)\n",
    "\n",
    "    # < примените функции plt.xlabel() и plt.ylabel(), чтобы\n",
    "    #   подписать оси \"False Positive Rate\" и \"True Positive Rate\" >\n",
    "    plt.xlabel(\"False Positive Rate\")\n",
    "    plt.ylabel(\"True Positive Rate\")\n",
    "\n",
    "    # < добавьте к графику заголовок \"ROC-кривая\" функцией plt.title() >\n",
    "    plt.title(\"ROC-кривая\")\n",
    "\n",
    "    plt.show()"
   ],
   "metadata": {
    "collapsed": false,
    "ExecuteTime": {
     "start_time": "2023-05-07T04:05:29.116884Z",
     "end_time": "2023-05-07T04:05:29.127157Z"
    }
   }
  },
  {
   "cell_type": "code",
   "execution_count": 272,
   "outputs": [
    {
     "name": "stdout",
     "output_type": "stream",
     "text": [
      "f1=0.608, auc=0.842\n"
     ]
    },
    {
     "data": {
      "text/plain": "<Figure size 640x480 with 1 Axes>",
      "image/png": "[encoded data removed]"
     },
     "metadata": {},
     "output_type": "display_data"
    }
   ],
   "source": [
    "print_stats(best_forest)"
   ],
   "metadata": {
    "collapsed": false,
    "ExecuteTime": {
     "start_time": "2023-05-07T04:05:29.126543Z",
     "end_time": "2023-05-07T04:05:29.216664Z"
    }
   }
  },
  {
   "cell_type": "markdown",
   "source": [
    "Отлично, на тестовой выборке держим качество выше необходимого (0.608 > 0.59).\n",
    "\n",
    "Попробуем теперь обучить с найдеными гиперпараметрами на объединенной выборке\n",
    "из тестовой и валидизационной:"
   ],
   "metadata": {
    "collapsed": false
   }
  },
  {
   "cell_type": "code",
   "execution_count": 273,
   "metadata": {
    "ExecuteTime": {
     "start_time": "2023-05-07T04:05:29.219683Z",
     "end_time": "2023-05-07T04:05:29.281757Z"
    }
   },
   "outputs": [
    {
     "data": {
      "text/plain": "RandomForestClassifier(class_weight='balanced', max_depth=9, n_estimators=20,\n                       n_jobs=-1, random_state=12345)",
      "text/html": "<style>#sk-container-id-6 {color: black;background-color: white;}#sk-container-id-6 pre{padding: 0;}#sk-container-id-6 div.sk-toggleable {background-color: white;}#sk-container-id-6 label.sk-toggleable__label {cursor: pointer;display: block;width: 100%;margin-bottom: 0;padding: 0.3em;box-sizing: border-box;text-align: center;}#sk-container-id-6 label.sk-toggleable__label-arrow:before {content: \"▸\";float: left;margin-right: 0.25em;color: #696969;}#sk-container-id-6 label.sk-toggleable__label-arrow:hover:before {color: black;}#sk-container-id-6 div.sk-estimator:hover label.sk-toggleable__label-arrow:before {color: black;}#sk-container-id-6 div.sk-toggleable__content {max-height: 0;max-width: 0;overflow: hidden;text-align: left;background-color: #f0f8ff;}#sk-container-id-6 div.sk-toggleable__content pre {margin: 0.2em;color: black;border-radius: 0.25em;background-color: #f0f8ff;}#sk-container-id-6 input.sk-toggleable__control:checked~div.sk-toggleable__content {max-height: 200px;max-width: 100%;overflow: auto;}#sk-container-id-6 input.sk-toggleable__control:checked~label.sk-toggleable__label-arrow:before {content: \"▾\";}#sk-container-id-6 div.sk-estimator input.sk-toggleable__control:checked~label.sk-toggleable__label {background-color: #d4ebff;}#sk-container-id-6 div.sk-label input.sk-toggleable__control:checked~label.sk-toggleable__label {background-color: #d4ebff;}#sk-container-id-6 input.sk-hidden--visually {border: 0;clip: rect(1px 1px 1px 1px);clip: rect(1px, 1px, 1px, 1px);height: 1px;margin: -1px;overflow: hidden;padding: 0;position: absolute;width: 1px;}#sk-container-id-6 div.sk-estimator {font-family: monospace;background-color: #f0f8ff;border: 1px dotted black;border-radius: 0.25em;box-sizing: border-box;margin-bottom: 0.5em;}#sk-container-id-6 div.sk-estimator:hover {background-color: #d4ebff;}#sk-container-id-6 div.sk-parallel-item::after {content: \"\";width: 100%;border-bottom: 1px solid gray;flex-grow: 1;}#sk-container-id-6 div.sk-label:hover label.sk-toggleable__label {background-color: #d4ebff;}#sk-container-id-6 div.sk-serial::before {content: \"\";position: absolute;border-left: 1px solid gray;box-sizing: border-box;top: 0;bottom: 0;left: 50%;z-index: 0;}#sk-container-id-6 div.sk-serial {display: flex;flex-direction: column;align-items: center;background-color: white;padding-right: 0.2em;padding-left: 0.2em;position: relative;}#sk-container-id-6 div.sk-item {position: relative;z-index: 1;}#sk-container-id-6 div.sk-parallel {display: flex;align-items: stretch;justify-content: center;background-color: white;position: relative;}#sk-container-id-6 div.sk-item::before, #sk-container-id-6 div.sk-parallel-item::before {content: \"\";position: absolute;border-left: 1px solid gray;box-sizing: border-box;top: 0;bottom: 0;left: 50%;z-index: -1;}#sk-container-id-6 div.sk-parallel-item {display: flex;flex-direction: column;z-index: 1;position: relative;background-color: white;}#sk-container-id-6 div.sk-parallel-item:first-child::after {align-self: flex-end;width: 50%;}#sk-container-id-6 div.sk-parallel-item:last-child::after {align-self: flex-start;width: 50%;}#sk-container-id-6 div.sk-parallel-item:only-child::after {width: 0;}#sk-container-id-6 div.sk-dashed-wrapped {border: 1px dashed gray;margin: 0 0.4em 0.5em 0.4em;box-sizing: border-box;padding-bottom: 0.4em;background-color: white;}#sk-container-id-6 div.sk-label label {font-family: monospace;font-weight: bold;display: inline-block;line-height: 1.2em;}#sk-container-id-6 div.sk-label-container {text-align: center;}#sk-container-id-6 div.sk-container {/* jupyter's `normalize.less` sets `[hidden] { display: none; }` but bootstrap.min.css set `[hidden] { display: none !important; }` so we also need the `!important` here to be able to override the default hidden behavior on the sphinx rendered scikit-learn.org. See: https://github.com/scikit-learn/scikit-learn/issues/21755 */display: inline-block !important;position: relative;}#sk-container-id-6 div.sk-text-repr-fallback {display: none;}</style><div id=\"sk-container-id-6\" class=\"sk-top-container\"><div class=\"sk-text-repr-fallback\"><pre>RandomForestClassifier(class_weight=&#x27;balanced&#x27;, max_depth=9, n_estimators=20,\n                       n_jobs=-1, random_state=12345)</pre><b>In a Jupyter environment, please rerun this cell to show the HTML representation or trust the notebook. <br />On GitHub, the HTML representation is unable to render, please try loading this page with nbviewer.org.</b></div><div class=\"sk-container\" hidden><div class=\"sk-item\"><div class=\"sk-estimator sk-toggleable\"><input class=\"sk-toggleable__control sk-hidden--visually\" id=\"sk-estimator-id-6\" type=\"checkbox\" checked><label for=\"sk-estimator-id-6\" class=\"sk-toggleable__label sk-toggleable__label-arrow\">RandomForestClassifier</label><div class=\"sk-toggleable__content\"><pre>RandomForestClassifier(class_weight=&#x27;balanced&#x27;, max_depth=9, n_estimators=20,\n                       n_jobs=-1, random_state=12345)</pre></div></div></div></div></div>"
     },
     "execution_count": 273,
     "metadata": {},
     "output_type": "execute_result"
    }
   ],
   "source": [
    "model = RandomForestClassifier(\n",
    "    n_estimators=20,\n",
    "    criterion='gini',\n",
    "    max_depth=9,\n",
    "    class_weight='balanced',\n",
    "    n_jobs=-1,\n",
    "    random_state=12345)\n",
    "\n",
    "model.fit(pd.concat([features_train, features_valid], ignore_index=True),\n",
    "          pd.concat([target_train, target_valid], ignore_index=True))"
   ]
  },
  {
   "cell_type": "code",
   "execution_count": 274,
   "outputs": [
    {
     "name": "stdout",
     "output_type": "stream",
     "text": [
      "f1=0.627, auc=0.855\n"
     ]
    },
    {
     "data": {
      "text/plain": "<Figure size 640x480 with 1 Axes>",
      "image/png": "[encoded data removed]"
     },
     "metadata": {},
     "output_type": "display_data"
    }
   ],
   "source": [
    "print_stats(model)"
   ],
   "metadata": {
    "collapsed": false,
    "ExecuteTime": {
     "start_time": "2023-05-07T04:05:29.282551Z",
     "end_time": "2023-05-07T04:05:29.373500Z"
    }
   }
  },
  {
   "cell_type": "markdown",
   "source": [
    "Вывод: качество подросло еще немного"
   ],
   "metadata": {
    "collapsed": false
   }
  },
  {
   "cell_type": "markdown",
   "source": [
    "## Общий вывод"
   ],
   "metadata": {
    "collapsed": false
   }
  },
  {
   "cell_type": "markdown",
   "source": [
    "Что помогло улучшить модель:\n",
    "- стратификация при разбиении данных;\n",
    "- балансировка при обучении.\n",
    "\n",
    "Лес оказался ожидаемо лучше логистической регрессии. Поэтому, в целом, данные\n",
    "можно было не масштабировать — ему это не важно.\n",
    "\n",
    "Итоговая модель получилась с f1=0.627 и auc=0.855"
   ],
   "metadata": {
    "collapsed": false
   }
  },
  {
   "cell_type": "markdown",
   "metadata": {
    "ExecuteTime": {
     "end_time": "2023-05-06T23:06:27.334767Z",
     "start_time": "2023-05-06T23:06:27.297730Z"
    }
   },
   "source": [
    "## Чек-лист готовности проекта"
   ]
  },
  {
   "cell_type": "markdown",
   "metadata": {
    "ExecuteTime": {
     "end_time": "2023-05-06T23:06:27.334842Z",
     "start_time": "2023-05-06T23:06:27.301621Z"
    }
   },
   "source": [
    "Поставьте 'x' в выполненных пунктах. Далее нажмите Shift+Enter."
   ]
  },
  {
   "cell_type": "markdown",
   "metadata": {},
   "source": [
    "- [x]  Jupyter Notebook открыт\n",
    "- [x]  Весь код выполняется без ошибок\n",
    "- [x]  Ячейки с кодом расположены в порядке исполнения\n",
    "- [x]  Выполнен шаг 1: данные подготовлены\n",
    "- [x]  Выполнен шаг 2: задача исследована\n",
    "    - [x]  Исследован баланс классов\n",
    "    - [x]  Изучены модели без учёта дисбаланса\n",
    "    - [x]  Написаны выводы по результатам исследования\n",
    "- [x]  Выполнен шаг 3: учтён дисбаланс\n",
    "    - [x]  Применено несколько способов борьбы с дисбалансом\n",
    "    - [x]  Написаны выводы по результатам исследования\n",
    "- [x]  Выполнен шаг 4: проведено тестирование\n",
    "- [x]  Удалось достичь *F1*-меры не менее 0.59\n",
    "- [x]  Исследована метрика *AUC-ROC*"
   ]
  }
 ],
 "metadata": {
  "kernelspec": {
   "display_name": "Python 3 (ipykernel)",
   "language": "python",
   "name": "python3"
  },
  "language_info": {
   "codemirror_mode": {
    "name": "ipython",
    "version": 3
   },
   "file_extension": ".py",
   "mimetype": "text/x-python",
   "name": "python",
   "nbconvert_exporter": "python",
   "pygments_lexer": "ipython3",
   "version": "3.9.16"
  },
  "toc": {
   "base_numbering": 1,
   "nav_menu": {},
   "number_sections": true,
   "sideBar": true,
   "skip_h1_title": true,
   "title_cell": "Содержание",
   "title_sidebar": "Contents",
   "toc_cell": true,
   "toc_position": {},
   "toc_section_display": true,
   "toc_window_display": false
  }
 },
 "nbformat": 4,
 "nbformat_minor": 2
}
