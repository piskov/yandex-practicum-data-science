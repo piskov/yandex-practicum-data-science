{
 "cells": [
  {
   "cell_type": "markdown",
   "metadata": {
    "toc": true
   },
   "source": [
    "<h1>Table of Contents<span class=\"tocSkip\"></span></h1>\n",
    "<div class=\"toc\"><ul class=\"toc-item\"><li><span><a href=\"#Загрузка-и-подготовка-данных\" data-toc-modified-id=\"Загрузка-и-подготовка-данных-1\"><span class=\"toc-item-num\">1&nbsp;&nbsp;</span>Загрузка и подготовка данных</a></span><ul class=\"toc-item\"><li><span><a href=\"#Дубликаты\" data-toc-modified-id=\"Дубликаты-1.1\"><span class=\"toc-item-num\">1.1&nbsp;&nbsp;</span>Дубликаты</a></span></li><li><span><a href=\"#Пропуски\" data-toc-modified-id=\"Пропуски-1.2\"><span class=\"toc-item-num\">1.2&nbsp;&nbsp;</span>Пропуски</a></span></li><li><span><a href=\"#Характер-данных-в-1-м-файле\" data-toc-modified-id=\"Характер-данных-в-1-м-файле-1.3\"><span class=\"toc-item-num\">1.3&nbsp;&nbsp;</span>Характер данных в 1-м файле</a></span></li><li><span><a href=\"#Характер-данных-в-2-м-файле\" data-toc-modified-id=\"Характер-данных-в-2-м-файле-1.4\"><span class=\"toc-item-num\">1.4&nbsp;&nbsp;</span>Характер данных в 2-м файле</a></span></li><li><span><a href=\"#Характер-данных-в-3-м-файле\" data-toc-modified-id=\"Характер-данных-в-3-м-файле-1.5\"><span class=\"toc-item-num\">1.5&nbsp;&nbsp;</span>Характер данных в 3-м файле</a></span></li><li><span><a href=\"#Вывод\" data-toc-modified-id=\"Вывод-1.6\"><span class=\"toc-item-num\">1.6&nbsp;&nbsp;</span>Вывод</a></span></li></ul></li><li><span><a href=\"#Обучение-и-проверка-модели\" data-toc-modified-id=\"Обучение-и-проверка-модели-2\"><span class=\"toc-item-num\">2&nbsp;&nbsp;</span>Обучение и проверка модели</a></span><ul class=\"toc-item\"><li><span><a href=\"#Разбивка-данных\" data-toc-modified-id=\"Разбивка-данных-2.1\"><span class=\"toc-item-num\">2.1&nbsp;&nbsp;</span>Разбивка данных</a></span></li><li><span><a href=\"#Масштабирование\" data-toc-modified-id=\"Масштабирование-2.2\"><span class=\"toc-item-num\">2.2&nbsp;&nbsp;</span>Масштабирование</a></span></li><li><span><a href=\"#Поиск-моделей\" data-toc-modified-id=\"Поиск-моделей-2.3\"><span class=\"toc-item-num\">2.3&nbsp;&nbsp;</span>Поиск моделей</a></span></li><li><span><a href=\"#Предсказания-на-валидационной-выборке\" data-toc-modified-id=\"Предсказания-на-валидационной-выборке-2.4\"><span class=\"toc-item-num\">2.4&nbsp;&nbsp;</span>Предсказания на валидационной выборке</a></span></li><li><span><a href=\"#Вывод\" data-toc-modified-id=\"Вывод-2.5\"><span class=\"toc-item-num\">2.5&nbsp;&nbsp;</span>Вывод</a></span></li></ul></li><li><span><a href=\"#Подготовка-к-расчёту-прибыли\" data-toc-modified-id=\"Подготовка-к-расчёту-прибыли-3\"><span class=\"toc-item-num\">3&nbsp;&nbsp;</span>Подготовка к расчёту прибыли</a></span></li><li><span><a href=\"#Расчёт-прибыли-и-рисков\" data-toc-modified-id=\"Расчёт-прибыли-и-рисков-4\"><span class=\"toc-item-num\">4&nbsp;&nbsp;</span>Расчёт прибыли и рисков</a></span></li><li><span><a href=\"#Вывод\" data-toc-modified-id=\"Вывод-5\"><span class=\"toc-item-num\">5&nbsp;&nbsp;</span>Вывод</a></span></li><li><span><a href=\"#Чек-лист-готовности-проекта\" data-toc-modified-id=\"Чек-лист-готовности-проекта-6\"><span class=\"toc-item-num\">6&nbsp;&nbsp;</span>Чек-лист готовности проекта</a></span></li></ul></div>"
   ]
  },
  {
   "cell_type": "markdown",
   "metadata": {},
   "source": [
    "# Выбор локации для скважины"
   ]
  },
  {
   "cell_type": "markdown",
   "metadata": {},
   "source": [
    "Допустим, вы работаете в добывающей компании «ГлавРосГосНефть». Нужно решить, где бурить новую скважину.\n",
    "\n",
    "Вам предоставлены пробы нефти в трёх регионах: в каждом 10 000 месторождений, где измерили качество нефти и объём её запасов. Постройте модель машинного обучения, которая поможет определить регион, где добыча принесёт наибольшую прибыль. Проанализируйте возможную прибыль и риски техникой *Bootstrap.*\n",
    "\n",
    "Шаги для выбора локации:\n",
    "\n",
    "- В избранном регионе ищут месторождения, для каждого определяют значения признаков;\n",
    "- Строят модель и оценивают объём запасов;\n",
    "- Выбирают месторождения с самым высокими оценками значений. Количество месторождений зависит от бюджета компании и стоимости разработки одной скважины;\n",
    "- Прибыль равна суммарной прибыли отобранных месторождений."
   ]
  },
  {
   "cell_type": "markdown",
   "metadata": {},
   "source": [
    "## Загрузка и подготовка данных"
   ]
  },
  {
   "cell_type": "code",
   "execution_count": 1,
   "metadata": {
    "ExecuteTime": {
     "end_time": "2023-05-18T09:35:18.005240Z",
     "start_time": "2023-05-18T09:35:16.474279Z"
    }
   },
   "outputs": [],
   "source": [
    "import numpy as np\n",
    "import pandas as pd\n",
    "import matplotlib.pyplot as plt\n",
    "\n",
    "from sklearn import linear_model\n",
    "from sklearn.metrics import mean_squared_error\n",
    "from sklearn.model_selection import train_test_split\n",
    "from sklearn.preprocessing import RobustScaler, StandardScaler\n",
    "\n",
    "from tqdm.contrib.itertools import product"
   ]
  },
  {
   "cell_type": "code",
   "execution_count": 2,
   "metadata": {
    "ExecuteTime": {
     "end_time": "2023-05-18T09:00:44.747660Z",
     "start_time": "2023-05-18T09:00:44.742962Z"
    }
   },
   "outputs": [],
   "source": [
    "pd.options.display.float_format = '{:,.2f}'.format"
   ]
  },
  {
   "cell_type": "code",
   "execution_count": 3,
   "metadata": {
    "ExecuteTime": {
     "end_time": "2023-05-18T09:00:44.747928Z",
     "start_time": "2023-05-18T09:00:44.745693Z"
    }
   },
   "outputs": [],
   "source": [
    "def read_file(name: str):\n",
    "    # try open local file first then — if failed — open on server\n",
    "    try:\n",
    "        return pd.read_csv(f'./datasets/{name}', sep=',')\n",
    "    except FileNotFoundError:\n",
    "        try:\n",
    "            return pd.read_csv(f'/datasets/{name}', sep=',')\n",
    "        except Exception as e:\n",
    "            print('Не удалось считать файл с данными на сервере', e, sep='\\n')\n",
    "            return None\n",
    "\n",
    "    except Exception as e:\n",
    "        print('Не удалось считать файл с данными на диске', e, sep='\\n')\n",
    "    return None"
   ]
  },
  {
   "cell_type": "code",
   "execution_count": 4,
   "metadata": {
    "ExecuteTime": {
     "end_time": "2023-05-18T09:00:44.907269Z",
     "start_time": "2023-05-18T09:00:44.749681Z"
    }
   },
   "outputs": [],
   "source": [
    "df1 = read_file('geo_data_0.csv')\n",
    "df2 = read_file('geo_data_1.csv')\n",
    "df3 = read_file('geo_data_2.csv')\n",
    "all_dfs = [df1, df2, df3]"
   ]
  },
  {
   "cell_type": "markdown",
   "metadata": {},
   "source": [
    "Посмотрим на случайные 7 записей в каждой из трех таблиц"
   ]
  },
  {
   "cell_type": "code",
   "execution_count": 5,
   "metadata": {
    "ExecuteTime": {
     "end_time": "2023-05-18T09:00:44.921278Z",
     "start_time": "2023-05-18T09:00:44.912420Z"
    }
   },
   "outputs": [
    {
     "data": {
      "text/html": [
       "<div>\n",
       "<style scoped>\n",
       "    .dataframe tbody tr th:only-of-type {\n",
       "        vertical-align: middle;\n",
       "    }\n",
       "\n",
       "    .dataframe tbody tr th {\n",
       "        vertical-align: top;\n",
       "    }\n",
       "\n",
       "    .dataframe thead th {\n",
       "        text-align: right;\n",
       "    }\n",
       "</style>\n",
       "<table border=\"1\" class=\"dataframe\">\n",
       "  <thead>\n",
       "    <tr style=\"text-align: right;\">\n",
       "      <th></th>\n",
       "      <th>id</th>\n",
       "      <th>f0</th>\n",
       "      <th>f1</th>\n",
       "      <th>f2</th>\n",
       "      <th>product</th>\n",
       "    </tr>\n",
       "  </thead>\n",
       "  <tbody>\n",
       "    <tr>\n",
       "      <th>43660</th>\n",
       "      <td>MUOMg</td>\n",
       "      <td>0.95</td>\n",
       "      <td>0.30</td>\n",
       "      <td>6.82</td>\n",
       "      <td>89.93</td>\n",
       "    </tr>\n",
       "    <tr>\n",
       "      <th>87278</th>\n",
       "      <td>OZXkj</td>\n",
       "      <td>0.80</td>\n",
       "      <td>0.23</td>\n",
       "      <td>-2.65</td>\n",
       "      <td>94.20</td>\n",
       "    </tr>\n",
       "    <tr>\n",
       "      <th>14317</th>\n",
       "      <td>adoVK</td>\n",
       "      <td>0.73</td>\n",
       "      <td>-0.42</td>\n",
       "      <td>2.65</td>\n",
       "      <td>123.55</td>\n",
       "    </tr>\n",
       "    <tr>\n",
       "      <th>81932</th>\n",
       "      <td>8rZOO</td>\n",
       "      <td>0.19</td>\n",
       "      <td>-0.25</td>\n",
       "      <td>-1.00</td>\n",
       "      <td>83.17</td>\n",
       "    </tr>\n",
       "    <tr>\n",
       "      <th>95321</th>\n",
       "      <td>RyFFq</td>\n",
       "      <td>0.89</td>\n",
       "      <td>-0.50</td>\n",
       "      <td>4.45</td>\n",
       "      <td>146.29</td>\n",
       "    </tr>\n",
       "    <tr>\n",
       "      <th>5405</th>\n",
       "      <td>tBLU2</td>\n",
       "      <td>0.89</td>\n",
       "      <td>0.59</td>\n",
       "      <td>4.12</td>\n",
       "      <td>144.00</td>\n",
       "    </tr>\n",
       "    <tr>\n",
       "      <th>33188</th>\n",
       "      <td>9ahU2</td>\n",
       "      <td>-0.90</td>\n",
       "      <td>0.45</td>\n",
       "      <td>6.44</td>\n",
       "      <td>83.79</td>\n",
       "    </tr>\n",
       "  </tbody>\n",
       "</table>\n",
       "</div>"
      ],
      "text/plain": [
       "          id    f0    f1    f2  product\n",
       "43660  MUOMg  0.95  0.30  6.82    89.93\n",
       "87278  OZXkj  0.80  0.23 -2.65    94.20\n",
       "14317  adoVK  0.73 -0.42  2.65   123.55\n",
       "81932  8rZOO  0.19 -0.25 -1.00    83.17\n",
       "95321  RyFFq  0.89 -0.50  4.45   146.29\n",
       "5405   tBLU2  0.89  0.59  4.12   144.00\n",
       "33188  9ahU2 -0.90  0.45  6.44    83.79"
      ]
     },
     "execution_count": 5,
     "metadata": {},
     "output_type": "execute_result"
    }
   ],
   "source": [
    "df1.sample(n=7, random_state=1)"
   ]
  },
  {
   "cell_type": "code",
   "execution_count": 6,
   "metadata": {
    "ExecuteTime": {
     "end_time": "2023-05-18T09:00:44.925138Z",
     "start_time": "2023-05-18T09:00:44.917871Z"
    }
   },
   "outputs": [
    {
     "data": {
      "text/html": [
       "<div>\n",
       "<style scoped>\n",
       "    .dataframe tbody tr th:only-of-type {\n",
       "        vertical-align: middle;\n",
       "    }\n",
       "\n",
       "    .dataframe tbody tr th {\n",
       "        vertical-align: top;\n",
       "    }\n",
       "\n",
       "    .dataframe thead th {\n",
       "        text-align: right;\n",
       "    }\n",
       "</style>\n",
       "<table border=\"1\" class=\"dataframe\">\n",
       "  <thead>\n",
       "    <tr style=\"text-align: right;\">\n",
       "      <th></th>\n",
       "      <th>id</th>\n",
       "      <th>f0</th>\n",
       "      <th>f1</th>\n",
       "      <th>f2</th>\n",
       "      <th>product</th>\n",
       "    </tr>\n",
       "  </thead>\n",
       "  <tbody>\n",
       "    <tr>\n",
       "      <th>43660</th>\n",
       "      <td>lkoIC</td>\n",
       "      <td>2.37</td>\n",
       "      <td>7.47</td>\n",
       "      <td>2.99</td>\n",
       "      <td>80.86</td>\n",
       "    </tr>\n",
       "    <tr>\n",
       "      <th>87278</th>\n",
       "      <td>CUVk0</td>\n",
       "      <td>13.48</td>\n",
       "      <td>-10.19</td>\n",
       "      <td>-0.00</td>\n",
       "      <td>0.00</td>\n",
       "    </tr>\n",
       "    <tr>\n",
       "      <th>14317</th>\n",
       "      <td>A4aSR</td>\n",
       "      <td>9.99</td>\n",
       "      <td>-15.52</td>\n",
       "      <td>2.01</td>\n",
       "      <td>53.91</td>\n",
       "    </tr>\n",
       "    <tr>\n",
       "      <th>81932</th>\n",
       "      <td>rkW6y</td>\n",
       "      <td>8.74</td>\n",
       "      <td>-3.06</td>\n",
       "      <td>4.00</td>\n",
       "      <td>107.81</td>\n",
       "    </tr>\n",
       "    <tr>\n",
       "      <th>95321</th>\n",
       "      <td>1CUkY</td>\n",
       "      <td>7.92</td>\n",
       "      <td>1.23</td>\n",
       "      <td>2.00</td>\n",
       "      <td>53.91</td>\n",
       "    </tr>\n",
       "    <tr>\n",
       "      <th>5405</th>\n",
       "      <td>ze27Q</td>\n",
       "      <td>12.79</td>\n",
       "      <td>-4.26</td>\n",
       "      <td>5.00</td>\n",
       "      <td>134.77</td>\n",
       "    </tr>\n",
       "    <tr>\n",
       "      <th>33188</th>\n",
       "      <td>cAg12</td>\n",
       "      <td>8.57</td>\n",
       "      <td>-5.54</td>\n",
       "      <td>0.00</td>\n",
       "      <td>0.00</td>\n",
       "    </tr>\n",
       "  </tbody>\n",
       "</table>\n",
       "</div>"
      ],
      "text/plain": [
       "          id    f0     f1    f2  product\n",
       "43660  lkoIC  2.37   7.47  2.99    80.86\n",
       "87278  CUVk0 13.48 -10.19 -0.00     0.00\n",
       "14317  A4aSR  9.99 -15.52  2.01    53.91\n",
       "81932  rkW6y  8.74  -3.06  4.00   107.81\n",
       "95321  1CUkY  7.92   1.23  2.00    53.91\n",
       "5405   ze27Q 12.79  -4.26  5.00   134.77\n",
       "33188  cAg12  8.57  -5.54  0.00     0.00"
      ]
     },
     "execution_count": 6,
     "metadata": {},
     "output_type": "execute_result"
    }
   ],
   "source": [
    "df2.sample(n=7, random_state=1)"
   ]
  },
  {
   "cell_type": "code",
   "execution_count": 7,
   "metadata": {
    "ExecuteTime": {
     "end_time": "2023-05-18T09:00:44.947985Z",
     "start_time": "2023-05-18T09:00:44.924146Z"
    }
   },
   "outputs": [
    {
     "data": {
      "text/html": [
       "<div>\n",
       "<style scoped>\n",
       "    .dataframe tbody tr th:only-of-type {\n",
       "        vertical-align: middle;\n",
       "    }\n",
       "\n",
       "    .dataframe tbody tr th {\n",
       "        vertical-align: top;\n",
       "    }\n",
       "\n",
       "    .dataframe thead th {\n",
       "        text-align: right;\n",
       "    }\n",
       "</style>\n",
       "<table border=\"1\" class=\"dataframe\">\n",
       "  <thead>\n",
       "    <tr style=\"text-align: right;\">\n",
       "      <th></th>\n",
       "      <th>id</th>\n",
       "      <th>f0</th>\n",
       "      <th>f1</th>\n",
       "      <th>f2</th>\n",
       "      <th>product</th>\n",
       "    </tr>\n",
       "  </thead>\n",
       "  <tbody>\n",
       "    <tr>\n",
       "      <th>43660</th>\n",
       "      <td>dCoRV</td>\n",
       "      <td>-0.80</td>\n",
       "      <td>0.91</td>\n",
       "      <td>2.89</td>\n",
       "      <td>102.73</td>\n",
       "    </tr>\n",
       "    <tr>\n",
       "      <th>87278</th>\n",
       "      <td>TFdxM</td>\n",
       "      <td>-0.40</td>\n",
       "      <td>-0.02</td>\n",
       "      <td>-1.20</td>\n",
       "      <td>72.41</td>\n",
       "    </tr>\n",
       "    <tr>\n",
       "      <th>14317</th>\n",
       "      <td>wV83L</td>\n",
       "      <td>0.10</td>\n",
       "      <td>-1.70</td>\n",
       "      <td>1.51</td>\n",
       "      <td>27.08</td>\n",
       "    </tr>\n",
       "    <tr>\n",
       "      <th>81932</th>\n",
       "      <td>sgdPb</td>\n",
       "      <td>-0.97</td>\n",
       "      <td>1.91</td>\n",
       "      <td>-3.65</td>\n",
       "      <td>53.21</td>\n",
       "    </tr>\n",
       "    <tr>\n",
       "      <th>95321</th>\n",
       "      <td>xSvzy</td>\n",
       "      <td>-0.18</td>\n",
       "      <td>0.81</td>\n",
       "      <td>12.02</td>\n",
       "      <td>112.65</td>\n",
       "    </tr>\n",
       "    <tr>\n",
       "      <th>5405</th>\n",
       "      <td>FonLb</td>\n",
       "      <td>1.70</td>\n",
       "      <td>2.46</td>\n",
       "      <td>4.91</td>\n",
       "      <td>171.58</td>\n",
       "    </tr>\n",
       "    <tr>\n",
       "      <th>33188</th>\n",
       "      <td>UTsHx</td>\n",
       "      <td>-0.15</td>\n",
       "      <td>-3.81</td>\n",
       "      <td>8.79</td>\n",
       "      <td>160.96</td>\n",
       "    </tr>\n",
       "  </tbody>\n",
       "</table>\n",
       "</div>"
      ],
      "text/plain": [
       "          id    f0    f1    f2  product\n",
       "43660  dCoRV -0.80  0.91  2.89   102.73\n",
       "87278  TFdxM -0.40 -0.02 -1.20    72.41\n",
       "14317  wV83L  0.10 -1.70  1.51    27.08\n",
       "81932  sgdPb -0.97  1.91 -3.65    53.21\n",
       "95321  xSvzy -0.18  0.81 12.02   112.65\n",
       "5405   FonLb  1.70  2.46  4.91   171.58\n",
       "33188  UTsHx -0.15 -3.81  8.79   160.96"
      ]
     },
     "execution_count": 7,
     "metadata": {},
     "output_type": "execute_result"
    }
   ],
   "source": [
    "df3.sample(n=7, random_state=1)"
   ]
  },
  {
   "cell_type": "markdown",
   "metadata": {},
   "source": [
    "### Дубликаты"
   ]
  },
  {
   "cell_type": "markdown",
   "metadata": {},
   "source": [
    "`id` намекает, что все записи уникальны, проверим:"
   ]
  },
  {
   "cell_type": "code",
   "execution_count": 8,
   "metadata": {
    "ExecuteTime": {
     "end_time": "2023-05-18T09:00:45.048507Z",
     "start_time": "2023-05-18T09:00:44.951659Z"
    }
   },
   "outputs": [
    {
     "data": {
      "text/plain": [
       "fiKDv    2\n",
       "QcMuo    2\n",
       "AGS9W    2\n",
       "Tdehs    2\n",
       "74z30    2\n",
       "Name: id, dtype: int64"
      ]
     },
     "execution_count": 8,
     "metadata": {},
     "output_type": "execute_result"
    }
   ],
   "source": [
    "df1['id'].value_counts(ascending=False).head()"
   ]
  },
  {
   "cell_type": "markdown",
   "metadata": {},
   "source": [
    "Хм, видно дубликаты. Посмотрим на один:"
   ]
  },
  {
   "cell_type": "code",
   "execution_count": 9,
   "metadata": {
    "ExecuteTime": {
     "end_time": "2023-05-18T09:00:45.070989Z",
     "start_time": "2023-05-18T09:00:44.962925Z"
    }
   },
   "outputs": [
    {
     "data": {
      "text/html": [
       "<div>\n",
       "<style scoped>\n",
       "    .dataframe tbody tr th:only-of-type {\n",
       "        vertical-align: middle;\n",
       "    }\n",
       "\n",
       "    .dataframe tbody tr th {\n",
       "        vertical-align: top;\n",
       "    }\n",
       "\n",
       "    .dataframe thead th {\n",
       "        text-align: right;\n",
       "    }\n",
       "</style>\n",
       "<table border=\"1\" class=\"dataframe\">\n",
       "  <thead>\n",
       "    <tr style=\"text-align: right;\">\n",
       "      <th></th>\n",
       "      <th>id</th>\n",
       "      <th>f0</th>\n",
       "      <th>f1</th>\n",
       "      <th>f2</th>\n",
       "      <th>product</th>\n",
       "    </tr>\n",
       "  </thead>\n",
       "  <tbody>\n",
       "    <tr>\n",
       "      <th>16633</th>\n",
       "      <td>fiKDv</td>\n",
       "      <td>0.16</td>\n",
       "      <td>1.03</td>\n",
       "      <td>5.59</td>\n",
       "      <td>95.82</td>\n",
       "    </tr>\n",
       "    <tr>\n",
       "      <th>90815</th>\n",
       "      <td>fiKDv</td>\n",
       "      <td>0.05</td>\n",
       "      <td>0.84</td>\n",
       "      <td>6.39</td>\n",
       "      <td>137.35</td>\n",
       "    </tr>\n",
       "  </tbody>\n",
       "</table>\n",
       "</div>"
      ],
      "text/plain": [
       "          id   f0   f1   f2  product\n",
       "16633  fiKDv 0.16 1.03 5.59    95.82\n",
       "90815  fiKDv 0.05 0.84 6.39   137.35"
      ]
     },
     "execution_count": 9,
     "metadata": {},
     "output_type": "execute_result"
    }
   ],
   "source": [
    "df1[df1['id'] == 'fiKDv']"
   ]
  },
  {
   "cell_type": "markdown",
   "metadata": {},
   "source": [
    "Посмотрим, сколько их всего в каждом файле:"
   ]
  },
  {
   "cell_type": "code",
   "execution_count": 10,
   "metadata": {
    "ExecuteTime": {
     "end_time": "2023-05-18T09:00:45.136867Z",
     "start_time": "2023-05-18T09:00:44.965309Z"
    }
   },
   "outputs": [
    {
     "name": "stdout",
     "output_type": "stream",
     "text": [
      "Дубликатов в 1-м файле: 20 из 100000\n",
      "Дубликатов в 2-м файле: 8 из 100000\n",
      "Дубликатов в 3-м файле: 8 из 100000\n"
     ]
    }
   ],
   "source": [
    "for i, df in enumerate(all_dfs):\n",
    "    print(f\"Дубликатов в {i + 1}-м файле:\"\n",
    "          f\" {df['id'].duplicated(keep=False).sum()} из {len(df)}\")"
   ]
  },
  {
   "cell_type": "markdown",
   "metadata": {},
   "source": [
    "Уберемем записи с этими дублирующимися айдишниками, а потом и весь столбец:"
   ]
  },
  {
   "cell_type": "code",
   "execution_count": 11,
   "metadata": {
    "ExecuteTime": {
     "end_time": "2023-05-18T09:00:45.158351Z",
     "start_time": "2023-05-18T09:00:44.998605Z"
    }
   },
   "outputs": [],
   "source": [
    "for df in all_dfs:\n",
    "    df.drop_duplicates(subset=['id'], keep=False, inplace=True)\n",
    "    df.reset_index(drop=True, inplace=True)\n",
    "    df.drop(['id'], axis=1, inplace=True)"
   ]
  },
  {
   "cell_type": "markdown",
   "metadata": {},
   "source": [
    "### Пропуски"
   ]
  },
  {
   "cell_type": "code",
   "execution_count": 12,
   "metadata": {
    "ExecuteTime": {
     "end_time": "2023-05-18T09:00:45.158660Z",
     "start_time": "2023-05-18T09:00:45.034175Z"
    }
   },
   "outputs": [
    {
     "name": "stdout",
     "output_type": "stream",
     "text": [
      "Пропусков в 1-м файле: 0\n",
      "Пропусков в 2-м файле: 0\n",
      "Пропусков в 3-м файле: 0\n"
     ]
    }
   ],
   "source": [
    "for i, df in enumerate(all_dfs):\n",
    "    missing_df = pd.DataFrame(\n",
    "        {\n",
    "            'Количество пропусков': df.isna().sum(),\n",
    "            '% пропусков': df.isna().mean() * 100\n",
    "        })\n",
    "\n",
    "    missing_df = (\n",
    "        missing_df[missing_df[missing_df.columns[0]] > 0]\n",
    "        .sort_values(by=missing_df.columns[0])\n",
    "    )\n",
    "    print(f'Пропусков в {i + 1}-м файле: {len(missing_df)}')"
   ]
  },
  {
   "cell_type": "markdown",
   "metadata": {},
   "source": [
    "### Характер данных в 1-м файле"
   ]
  },
  {
   "cell_type": "code",
   "execution_count": 13,
   "metadata": {
    "ExecuteTime": {
     "end_time": "2023-05-18T09:00:45.158845Z",
     "start_time": "2023-05-18T09:00:45.043199Z"
    }
   },
   "outputs": [
    {
     "data": {
      "text/html": [
       "<div>\n",
       "<style scoped>\n",
       "    .dataframe tbody tr th:only-of-type {\n",
       "        vertical-align: middle;\n",
       "    }\n",
       "\n",
       "    .dataframe tbody tr th {\n",
       "        vertical-align: top;\n",
       "    }\n",
       "\n",
       "    .dataframe thead th {\n",
       "        text-align: right;\n",
       "    }\n",
       "</style>\n",
       "<table border=\"1\" class=\"dataframe\">\n",
       "  <thead>\n",
       "    <tr style=\"text-align: right;\">\n",
       "      <th></th>\n",
       "      <th>f0</th>\n",
       "      <th>f1</th>\n",
       "      <th>f2</th>\n",
       "      <th>product</th>\n",
       "    </tr>\n",
       "  </thead>\n",
       "  <tbody>\n",
       "    <tr>\n",
       "      <th>count</th>\n",
       "      <td>99,980.00</td>\n",
       "      <td>99,980.00</td>\n",
       "      <td>99,980.00</td>\n",
       "      <td>99,980.00</td>\n",
       "    </tr>\n",
       "    <tr>\n",
       "      <th>mean</th>\n",
       "      <td>0.50</td>\n",
       "      <td>0.25</td>\n",
       "      <td>2.50</td>\n",
       "      <td>92.50</td>\n",
       "    </tr>\n",
       "    <tr>\n",
       "      <th>std</th>\n",
       "      <td>0.87</td>\n",
       "      <td>0.50</td>\n",
       "      <td>3.25</td>\n",
       "      <td>44.29</td>\n",
       "    </tr>\n",
       "    <tr>\n",
       "      <th>min</th>\n",
       "      <td>-1.41</td>\n",
       "      <td>-0.85</td>\n",
       "      <td>-12.09</td>\n",
       "      <td>0.00</td>\n",
       "    </tr>\n",
       "    <tr>\n",
       "      <th>25%</th>\n",
       "      <td>-0.07</td>\n",
       "      <td>-0.20</td>\n",
       "      <td>0.29</td>\n",
       "      <td>56.50</td>\n",
       "    </tr>\n",
       "    <tr>\n",
       "      <th>50%</th>\n",
       "      <td>0.50</td>\n",
       "      <td>0.25</td>\n",
       "      <td>2.52</td>\n",
       "      <td>91.85</td>\n",
       "    </tr>\n",
       "    <tr>\n",
       "      <th>75%</th>\n",
       "      <td>1.07</td>\n",
       "      <td>0.70</td>\n",
       "      <td>4.71</td>\n",
       "      <td>128.56</td>\n",
       "    </tr>\n",
       "    <tr>\n",
       "      <th>max</th>\n",
       "      <td>2.36</td>\n",
       "      <td>1.34</td>\n",
       "      <td>16.00</td>\n",
       "      <td>185.36</td>\n",
       "    </tr>\n",
       "  </tbody>\n",
       "</table>\n",
       "</div>"
      ],
      "text/plain": [
       "             f0        f1        f2   product\n",
       "count 99,980.00 99,980.00 99,980.00 99,980.00\n",
       "mean       0.50      0.25      2.50     92.50\n",
       "std        0.87      0.50      3.25     44.29\n",
       "min       -1.41     -0.85    -12.09      0.00\n",
       "25%       -0.07     -0.20      0.29     56.50\n",
       "50%        0.50      0.25      2.52     91.85\n",
       "75%        1.07      0.70      4.71    128.56\n",
       "max        2.36      1.34     16.00    185.36"
      ]
     },
     "execution_count": 13,
     "metadata": {},
     "output_type": "execute_result"
    }
   ],
   "source": [
    "df1.describe(include='all')"
   ]
  },
  {
   "cell_type": "code",
   "execution_count": 14,
   "metadata": {
    "ExecuteTime": {
     "end_time": "2023-05-18T09:00:45.480954Z",
     "start_time": "2023-05-18T09:00:45.070605Z"
    }
   },
   "outputs": [
    {
     "data": {
      "image/png": "[encoded data removed]",
      "text/plain": [
       "<Figure size 800x500 with 6 Axes>"
      ]
     },
     "metadata": {},
     "output_type": "display_data"
    }
   ],
   "source": [
    "df1.hist(bins='auto', figsize=(8, 5), layout=(2, 3));"
   ]
  },
  {
   "cell_type": "markdown",
   "metadata": {},
   "source": [
    "Феерично :-)"
   ]
  },
  {
   "cell_type": "markdown",
   "metadata": {},
   "source": [
    "Посмотрим на корреляции:"
   ]
  },
  {
   "cell_type": "code",
   "execution_count": 15,
   "metadata": {
    "ExecuteTime": {
     "end_time": "2023-05-18T09:00:45.579067Z",
     "start_time": "2023-05-18T09:00:45.482489Z"
    }
   },
   "outputs": [
    {
     "data": {
      "text/html": [
       "<style type=\"text/css\">\n",
       "#T_d5b24_row0_col0, #T_d5b24_row1_col1, #T_d5b24_row2_col2, #T_d5b24_row3_col3 {\n",
       "  background-color: #b40426;\n",
       "  color: #f1f1f1;\n",
       "}\n",
       "#T_d5b24_row0_col1, #T_d5b24_row1_col0 {\n",
       "  background-color: #3b4cc0;\n",
       "  color: #f1f1f1;\n",
       "}\n",
       "#T_d5b24_row0_col2, #T_d5b24_row2_col0 {\n",
       "  background-color: #9fbfff;\n",
       "  color: #000000;\n",
       "}\n",
       "#T_d5b24_row0_col3, #T_d5b24_row3_col0 {\n",
       "  background-color: #c1d4f4;\n",
       "  color: #000000;\n",
       "}\n",
       "#T_d5b24_row1_col2, #T_d5b24_row2_col1 {\n",
       "  background-color: #a1c0ff;\n",
       "  color: #000000;\n",
       "}\n",
       "#T_d5b24_row1_col3, #T_d5b24_row3_col1 {\n",
       "  background-color: #7295f4;\n",
       "  color: #f1f1f1;\n",
       "}\n",
       "#T_d5b24_row2_col3, #T_d5b24_row3_col2 {\n",
       "  background-color: #f6bfa6;\n",
       "  color: #000000;\n",
       "}\n",
       "</style>\n",
       "<table id=\"T_d5b24\">\n",
       "  <thead>\n",
       "    <tr>\n",
       "      <th class=\"blank level0\" >&nbsp;</th>\n",
       "      <th id=\"T_d5b24_level0_col0\" class=\"col_heading level0 col0\" >f0</th>\n",
       "      <th id=\"T_d5b24_level0_col1\" class=\"col_heading level0 col1\" >f1</th>\n",
       "      <th id=\"T_d5b24_level0_col2\" class=\"col_heading level0 col2\" >f2</th>\n",
       "      <th id=\"T_d5b24_level0_col3\" class=\"col_heading level0 col3\" >product</th>\n",
       "    </tr>\n",
       "  </thead>\n",
       "  <tbody>\n",
       "    <tr>\n",
       "      <th id=\"T_d5b24_level0_row0\" class=\"row_heading level0 row0\" >f0</th>\n",
       "      <td id=\"T_d5b24_row0_col0\" class=\"data row0 col0\" >1.00</td>\n",
       "      <td id=\"T_d5b24_row0_col1\" class=\"data row0 col1\" >-0.44</td>\n",
       "      <td id=\"T_d5b24_row0_col2\" class=\"data row0 col2\" >-0.00</td>\n",
       "      <td id=\"T_d5b24_row0_col3\" class=\"data row0 col3\" >0.14</td>\n",
       "    </tr>\n",
       "    <tr>\n",
       "      <th id=\"T_d5b24_level0_row1\" class=\"row_heading level0 row1\" >f1</th>\n",
       "      <td id=\"T_d5b24_row1_col0\" class=\"data row1 col0\" >-0.44</td>\n",
       "      <td id=\"T_d5b24_row1_col1\" class=\"data row1 col1\" >1.00</td>\n",
       "      <td id=\"T_d5b24_row1_col2\" class=\"data row1 col2\" >0.00</td>\n",
       "      <td id=\"T_d5b24_row1_col3\" class=\"data row1 col3\" >-0.19</td>\n",
       "    </tr>\n",
       "    <tr>\n",
       "      <th id=\"T_d5b24_level0_row2\" class=\"row_heading level0 row2\" >f2</th>\n",
       "      <td id=\"T_d5b24_row2_col0\" class=\"data row2 col0\" >-0.00</td>\n",
       "      <td id=\"T_d5b24_row2_col1\" class=\"data row2 col1\" >0.00</td>\n",
       "      <td id=\"T_d5b24_row2_col2\" class=\"data row2 col2\" >1.00</td>\n",
       "      <td id=\"T_d5b24_row2_col3\" class=\"data row2 col3\" >0.48</td>\n",
       "    </tr>\n",
       "    <tr>\n",
       "      <th id=\"T_d5b24_level0_row3\" class=\"row_heading level0 row3\" >product</th>\n",
       "      <td id=\"T_d5b24_row3_col0\" class=\"data row3 col0\" >0.14</td>\n",
       "      <td id=\"T_d5b24_row3_col1\" class=\"data row3 col1\" >-0.19</td>\n",
       "      <td id=\"T_d5b24_row3_col2\" class=\"data row3 col2\" >0.48</td>\n",
       "      <td id=\"T_d5b24_row3_col3\" class=\"data row3 col3\" >1.00</td>\n",
       "    </tr>\n",
       "  </tbody>\n",
       "</table>\n"
      ],
      "text/plain": [
       "<pandas.io.formats.style.Styler at 0x145d55ac0>"
      ]
     },
     "execution_count": 15,
     "metadata": {},
     "output_type": "execute_result"
    }
   ],
   "source": [
    "corr = df1.corr()\n",
    "corr.style.background_gradient(cmap='coolwarm', axis=None).format(precision=2)"
   ]
  },
  {
   "cell_type": "markdown",
   "metadata": {},
   "source": [
    "Видим, что есть небольшая между корреляция между f0 и f1.\n",
    "В целом, ничего критичного (кроме разного масштаба), можно работать."
   ]
  },
  {
   "cell_type": "markdown",
   "metadata": {},
   "source": [
    "### Характер данных в 2-м файле"
   ]
  },
  {
   "cell_type": "code",
   "execution_count": 16,
   "metadata": {
    "ExecuteTime": {
     "end_time": "2023-05-18T09:00:45.623743Z",
     "start_time": "2023-05-18T09:00:45.580009Z"
    }
   },
   "outputs": [
    {
     "data": {
      "text/html": [
       "<div>\n",
       "<style scoped>\n",
       "    .dataframe tbody tr th:only-of-type {\n",
       "        vertical-align: middle;\n",
       "    }\n",
       "\n",
       "    .dataframe tbody tr th {\n",
       "        vertical-align: top;\n",
       "    }\n",
       "\n",
       "    .dataframe thead th {\n",
       "        text-align: right;\n",
       "    }\n",
       "</style>\n",
       "<table border=\"1\" class=\"dataframe\">\n",
       "  <thead>\n",
       "    <tr style=\"text-align: right;\">\n",
       "      <th></th>\n",
       "      <th>f0</th>\n",
       "      <th>f1</th>\n",
       "      <th>f2</th>\n",
       "      <th>product</th>\n",
       "    </tr>\n",
       "  </thead>\n",
       "  <tbody>\n",
       "    <tr>\n",
       "      <th>count</th>\n",
       "      <td>99,992.00</td>\n",
       "      <td>99,992.00</td>\n",
       "      <td>99,992.00</td>\n",
       "      <td>99,992.00</td>\n",
       "    </tr>\n",
       "    <tr>\n",
       "      <th>mean</th>\n",
       "      <td>1.14</td>\n",
       "      <td>-4.80</td>\n",
       "      <td>2.49</td>\n",
       "      <td>68.82</td>\n",
       "    </tr>\n",
       "    <tr>\n",
       "      <th>std</th>\n",
       "      <td>8.97</td>\n",
       "      <td>5.12</td>\n",
       "      <td>1.70</td>\n",
       "      <td>45.94</td>\n",
       "    </tr>\n",
       "    <tr>\n",
       "      <th>min</th>\n",
       "      <td>-31.61</td>\n",
       "      <td>-26.36</td>\n",
       "      <td>-0.02</td>\n",
       "      <td>0.00</td>\n",
       "    </tr>\n",
       "    <tr>\n",
       "      <th>25%</th>\n",
       "      <td>-6.30</td>\n",
       "      <td>-8.27</td>\n",
       "      <td>1.00</td>\n",
       "      <td>26.95</td>\n",
       "    </tr>\n",
       "    <tr>\n",
       "      <th>50%</th>\n",
       "      <td>1.15</td>\n",
       "      <td>-4.81</td>\n",
       "      <td>2.01</td>\n",
       "      <td>57.09</td>\n",
       "    </tr>\n",
       "    <tr>\n",
       "      <th>75%</th>\n",
       "      <td>8.62</td>\n",
       "      <td>-1.33</td>\n",
       "      <td>4.00</td>\n",
       "      <td>107.81</td>\n",
       "    </tr>\n",
       "    <tr>\n",
       "      <th>max</th>\n",
       "      <td>29.42</td>\n",
       "      <td>18.73</td>\n",
       "      <td>5.02</td>\n",
       "      <td>137.95</td>\n",
       "    </tr>\n",
       "  </tbody>\n",
       "</table>\n",
       "</div>"
      ],
      "text/plain": [
       "             f0        f1        f2   product\n",
       "count 99,992.00 99,992.00 99,992.00 99,992.00\n",
       "mean       1.14     -4.80      2.49     68.82\n",
       "std        8.97      5.12      1.70     45.94\n",
       "min      -31.61    -26.36     -0.02      0.00\n",
       "25%       -6.30     -8.27      1.00     26.95\n",
       "50%        1.15     -4.81      2.01     57.09\n",
       "75%        8.62     -1.33      4.00    107.81\n",
       "max       29.42     18.73      5.02    137.95"
      ]
     },
     "execution_count": 16,
     "metadata": {},
     "output_type": "execute_result"
    }
   ],
   "source": [
    "df2.describe(include='all')"
   ]
  },
  {
   "cell_type": "code",
   "execution_count": 17,
   "metadata": {
    "ExecuteTime": {
     "end_time": "2023-05-18T09:00:45.983625Z",
     "start_time": "2023-05-18T09:00:45.604450Z"
    }
   },
   "outputs": [
    {
     "data": {
      "image/png": "[encoded data removed]",
      "text/plain": [
       "<Figure size 800x500 with 6 Axes>"
      ]
     },
     "metadata": {},
     "output_type": "display_data"
    }
   ],
   "source": [
    "df2.hist(bins='auto', figsize=(8, 5), layout=(2, 3));"
   ]
  },
  {
   "cell_type": "markdown",
   "metadata": {},
   "source": [
    "Да у нас тут дискретное распределение добычи. Интересно, сколько всего разных"
   ]
  },
  {
   "cell_type": "code",
   "execution_count": 18,
   "metadata": {
    "ExecuteTime": {
     "end_time": "2023-05-18T09:00:45.991846Z",
     "start_time": "2023-05-18T09:00:45.982740Z"
    }
   },
   "outputs": [
    {
     "data": {
      "text/plain": [
       "3.18      8336\n",
       "26.95     8468\n",
       "134.77    8303\n",
       "137.95    8233\n",
       "84.04     8430\n",
       "110.99    8302\n",
       "53.91     8472\n",
       "0.00      8235\n",
       "107.81    8200\n",
       "57.09     8388\n",
       "30.13     8306\n",
       "80.86     8319\n",
       "Name: product, dtype: int64"
      ]
     },
     "execution_count": 18,
     "metadata": {},
     "output_type": "execute_result"
    }
   ],
   "source": [
    "df2['product'].value_counts(sort=False)"
   ]
  },
  {
   "cell_type": "markdown",
   "metadata": {},
   "source": [
    "Ага, всего 12 штук."
   ]
  },
  {
   "cell_type": "markdown",
   "metadata": {},
   "source": [
    "Посмотрим на корреляции:"
   ]
  },
  {
   "cell_type": "code",
   "execution_count": 19,
   "metadata": {
    "ExecuteTime": {
     "end_time": "2023-05-18T09:00:46.002342Z",
     "start_time": "2023-05-18T09:00:45.992148Z"
    }
   },
   "outputs": [
    {
     "data": {
      "text/html": [
       "<style type=\"text/css\">\n",
       "#T_0486a_row0_col0, #T_0486a_row1_col1, #T_0486a_row2_col2, #T_0486a_row2_col3, #T_0486a_row3_col2, #T_0486a_row3_col3 {\n",
       "  background-color: #b40426;\n",
       "  color: #f1f1f1;\n",
       "}\n",
       "#T_0486a_row0_col1, #T_0486a_row1_col0 {\n",
       "  background-color: #7da0f9;\n",
       "  color: #f1f1f1;\n",
       "}\n",
       "#T_0486a_row0_col2, #T_0486a_row2_col0 {\n",
       "  background-color: #4358cb;\n",
       "  color: #f1f1f1;\n",
       "}\n",
       "#T_0486a_row0_col3, #T_0486a_row3_col0 {\n",
       "  background-color: #3b4cc0;\n",
       "  color: #f1f1f1;\n",
       "}\n",
       "#T_0486a_row1_col2, #T_0486a_row2_col1 {\n",
       "  background-color: #4257c9;\n",
       "  color: #f1f1f1;\n",
       "}\n",
       "#T_0486a_row1_col3, #T_0486a_row3_col1 {\n",
       "  background-color: #4055c8;\n",
       "  color: #f1f1f1;\n",
       "}\n",
       "</style>\n",
       "<table id=\"T_0486a\">\n",
       "  <thead>\n",
       "    <tr>\n",
       "      <th class=\"blank level0\" >&nbsp;</th>\n",
       "      <th id=\"T_0486a_level0_col0\" class=\"col_heading level0 col0\" >f0</th>\n",
       "      <th id=\"T_0486a_level0_col1\" class=\"col_heading level0 col1\" >f1</th>\n",
       "      <th id=\"T_0486a_level0_col2\" class=\"col_heading level0 col2\" >f2</th>\n",
       "      <th id=\"T_0486a_level0_col3\" class=\"col_heading level0 col3\" >product</th>\n",
       "    </tr>\n",
       "  </thead>\n",
       "  <tbody>\n",
       "    <tr>\n",
       "      <th id=\"T_0486a_level0_row0\" class=\"row_heading level0 row0\" >f0</th>\n",
       "      <td id=\"T_0486a_row0_col0\" class=\"data row0 col0\" >1.00</td>\n",
       "      <td id=\"T_0486a_row0_col1\" class=\"data row0 col1\" >0.18</td>\n",
       "      <td id=\"T_0486a_row0_col2\" class=\"data row0 col2\" >-0.00</td>\n",
       "      <td id=\"T_0486a_row0_col3\" class=\"data row0 col3\" >-0.03</td>\n",
       "    </tr>\n",
       "    <tr>\n",
       "      <th id=\"T_0486a_level0_row1\" class=\"row_heading level0 row1\" >f1</th>\n",
       "      <td id=\"T_0486a_row1_col0\" class=\"data row1 col0\" >0.18</td>\n",
       "      <td id=\"T_0486a_row1_col1\" class=\"data row1 col1\" >1.00</td>\n",
       "      <td id=\"T_0486a_row1_col2\" class=\"data row1 col2\" >-0.00</td>\n",
       "      <td id=\"T_0486a_row1_col3\" class=\"data row1 col3\" >-0.01</td>\n",
       "    </tr>\n",
       "    <tr>\n",
       "      <th id=\"T_0486a_level0_row2\" class=\"row_heading level0 row2\" >f2</th>\n",
       "      <td id=\"T_0486a_row2_col0\" class=\"data row2 col0\" >-0.00</td>\n",
       "      <td id=\"T_0486a_row2_col1\" class=\"data row2 col1\" >-0.00</td>\n",
       "      <td id=\"T_0486a_row2_col2\" class=\"data row2 col2\" >1.00</td>\n",
       "      <td id=\"T_0486a_row2_col3\" class=\"data row2 col3\" >1.00</td>\n",
       "    </tr>\n",
       "    <tr>\n",
       "      <th id=\"T_0486a_level0_row3\" class=\"row_heading level0 row3\" >product</th>\n",
       "      <td id=\"T_0486a_row3_col0\" class=\"data row3 col0\" >-0.03</td>\n",
       "      <td id=\"T_0486a_row3_col1\" class=\"data row3 col1\" >-0.01</td>\n",
       "      <td id=\"T_0486a_row3_col2\" class=\"data row3 col2\" >1.00</td>\n",
       "      <td id=\"T_0486a_row3_col3\" class=\"data row3 col3\" >1.00</td>\n",
       "    </tr>\n",
       "  </tbody>\n",
       "</table>\n"
      ],
      "text/plain": [
       "<pandas.io.formats.style.Styler at 0x1457bb2b0>"
      ]
     },
     "execution_count": 19,
     "metadata": {},
     "output_type": "execute_result"
    }
   ],
   "source": [
    "corr = df2.corr()\n",
    "corr.style.background_gradient(cmap='coolwarm', axis=None).format(precision=2)"
   ]
  },
  {
   "cell_type": "markdown",
   "metadata": {},
   "source": [
    "Корреляция между признаками нет. Отметим дискретные значения 3-го признака\n",
    "(и очень высокую корреляцию его с таргетом).\n",
    "В целом, ничего критичного (кроме разного масштаба), можно работать."
   ]
  },
  {
   "cell_type": "markdown",
   "metadata": {},
   "source": [
    "### Характер данных в 3-м файле"
   ]
  },
  {
   "cell_type": "code",
   "execution_count": 20,
   "metadata": {
    "ExecuteTime": {
     "end_time": "2023-05-18T09:00:46.043171Z",
     "start_time": "2023-05-18T09:00:46.004672Z"
    }
   },
   "outputs": [
    {
     "data": {
      "text/html": [
       "<div>\n",
       "<style scoped>\n",
       "    .dataframe tbody tr th:only-of-type {\n",
       "        vertical-align: middle;\n",
       "    }\n",
       "\n",
       "    .dataframe tbody tr th {\n",
       "        vertical-align: top;\n",
       "    }\n",
       "\n",
       "    .dataframe thead th {\n",
       "        text-align: right;\n",
       "    }\n",
       "</style>\n",
       "<table border=\"1\" class=\"dataframe\">\n",
       "  <thead>\n",
       "    <tr style=\"text-align: right;\">\n",
       "      <th></th>\n",
       "      <th>f0</th>\n",
       "      <th>f1</th>\n",
       "      <th>f2</th>\n",
       "      <th>product</th>\n",
       "    </tr>\n",
       "  </thead>\n",
       "  <tbody>\n",
       "    <tr>\n",
       "      <th>count</th>\n",
       "      <td>99,992.00</td>\n",
       "      <td>99,992.00</td>\n",
       "      <td>99,992.00</td>\n",
       "      <td>99,992.00</td>\n",
       "    </tr>\n",
       "    <tr>\n",
       "      <th>mean</th>\n",
       "      <td>0.00</td>\n",
       "      <td>-0.00</td>\n",
       "      <td>2.50</td>\n",
       "      <td>95.00</td>\n",
       "    </tr>\n",
       "    <tr>\n",
       "      <th>std</th>\n",
       "      <td>1.73</td>\n",
       "      <td>1.73</td>\n",
       "      <td>3.47</td>\n",
       "      <td>44.75</td>\n",
       "    </tr>\n",
       "    <tr>\n",
       "      <th>min</th>\n",
       "      <td>-8.76</td>\n",
       "      <td>-7.08</td>\n",
       "      <td>-11.97</td>\n",
       "      <td>0.00</td>\n",
       "    </tr>\n",
       "    <tr>\n",
       "      <th>25%</th>\n",
       "      <td>-1.16</td>\n",
       "      <td>-1.17</td>\n",
       "      <td>0.13</td>\n",
       "      <td>59.45</td>\n",
       "    </tr>\n",
       "    <tr>\n",
       "      <th>50%</th>\n",
       "      <td>0.01</td>\n",
       "      <td>-0.01</td>\n",
       "      <td>2.48</td>\n",
       "      <td>94.93</td>\n",
       "    </tr>\n",
       "    <tr>\n",
       "      <th>75%</th>\n",
       "      <td>1.16</td>\n",
       "      <td>1.16</td>\n",
       "      <td>4.86</td>\n",
       "      <td>130.59</td>\n",
       "    </tr>\n",
       "    <tr>\n",
       "      <th>max</th>\n",
       "      <td>7.24</td>\n",
       "      <td>7.84</td>\n",
       "      <td>16.74</td>\n",
       "      <td>190.03</td>\n",
       "    </tr>\n",
       "  </tbody>\n",
       "</table>\n",
       "</div>"
      ],
      "text/plain": [
       "             f0        f1        f2   product\n",
       "count 99,992.00 99,992.00 99,992.00 99,992.00\n",
       "mean       0.00     -0.00      2.50     95.00\n",
       "std        1.73      1.73      3.47     44.75\n",
       "min       -8.76     -7.08    -11.97      0.00\n",
       "25%       -1.16     -1.17      0.13     59.45\n",
       "50%        0.01     -0.01      2.48     94.93\n",
       "75%        1.16      1.16      4.86    130.59\n",
       "max        7.24      7.84     16.74    190.03"
      ]
     },
     "execution_count": 20,
     "metadata": {},
     "output_type": "execute_result"
    }
   ],
   "source": [
    "df3.describe(include='all')"
   ]
  },
  {
   "cell_type": "code",
   "execution_count": 21,
   "metadata": {
    "ExecuteTime": {
     "end_time": "2023-05-18T09:00:46.493189Z",
     "start_time": "2023-05-18T09:00:46.024665Z"
    }
   },
   "outputs": [
    {
     "data": {
      "image/png": "[encoded data removed]",
      "text/plain": [
       "<Figure size 800x500 with 6 Axes>"
      ]
     },
     "metadata": {},
     "output_type": "display_data"
    }
   ],
   "source": [
    "df3.hist(bins='auto', figsize=(8, 5), layout=(2, 3));"
   ]
  },
  {
   "cell_type": "markdown",
   "metadata": {},
   "source": [
    "О, все три распределения признаков нормальные. А product похож на 1-й файл."
   ]
  },
  {
   "cell_type": "markdown",
   "metadata": {},
   "source": [
    "Посмотрим на корреляции:"
   ]
  },
  {
   "cell_type": "code",
   "execution_count": 22,
   "metadata": {
    "ExecuteTime": {
     "end_time": "2023-05-18T09:00:46.504559Z",
     "start_time": "2023-05-18T09:00:46.494225Z"
    }
   },
   "outputs": [
    {
     "data": {
      "text/html": [
       "<style type=\"text/css\">\n",
       "#T_32603_row0_col0, #T_32603_row1_col1, #T_32603_row2_col2, #T_32603_row3_col3 {\n",
       "  background-color: #b40426;\n",
       "  color: #f1f1f1;\n",
       "}\n",
       "#T_32603_row0_col1, #T_32603_row0_col2, #T_32603_row0_col3, #T_32603_row1_col0, #T_32603_row1_col2, #T_32603_row1_col3, #T_32603_row2_col0, #T_32603_row2_col1, #T_32603_row3_col0, #T_32603_row3_col1 {\n",
       "  background-color: #3b4cc0;\n",
       "  color: #f1f1f1;\n",
       "}\n",
       "#T_32603_row2_col3, #T_32603_row3_col2 {\n",
       "  background-color: #cedaeb;\n",
       "  color: #000000;\n",
       "}\n",
       "</style>\n",
       "<table id=\"T_32603\">\n",
       "  <thead>\n",
       "    <tr>\n",
       "      <th class=\"blank level0\" >&nbsp;</th>\n",
       "      <th id=\"T_32603_level0_col0\" class=\"col_heading level0 col0\" >f0</th>\n",
       "      <th id=\"T_32603_level0_col1\" class=\"col_heading level0 col1\" >f1</th>\n",
       "      <th id=\"T_32603_level0_col2\" class=\"col_heading level0 col2\" >f2</th>\n",
       "      <th id=\"T_32603_level0_col3\" class=\"col_heading level0 col3\" >product</th>\n",
       "    </tr>\n",
       "  </thead>\n",
       "  <tbody>\n",
       "    <tr>\n",
       "      <th id=\"T_32603_level0_row0\" class=\"row_heading level0 row0\" >f0</th>\n",
       "      <td id=\"T_32603_row0_col0\" class=\"data row0 col0\" >1.00</td>\n",
       "      <td id=\"T_32603_row0_col1\" class=\"data row0 col1\" >0.00</td>\n",
       "      <td id=\"T_32603_row0_col2\" class=\"data row0 col2\" >-0.00</td>\n",
       "      <td id=\"T_32603_row0_col3\" class=\"data row0 col3\" >-0.00</td>\n",
       "    </tr>\n",
       "    <tr>\n",
       "      <th id=\"T_32603_level0_row1\" class=\"row_heading level0 row1\" >f1</th>\n",
       "      <td id=\"T_32603_row1_col0\" class=\"data row1 col0\" >0.00</td>\n",
       "      <td id=\"T_32603_row1_col1\" class=\"data row1 col1\" >1.00</td>\n",
       "      <td id=\"T_32603_row1_col2\" class=\"data row1 col2\" >0.00</td>\n",
       "      <td id=\"T_32603_row1_col3\" class=\"data row1 col3\" >-0.00</td>\n",
       "    </tr>\n",
       "    <tr>\n",
       "      <th id=\"T_32603_level0_row2\" class=\"row_heading level0 row2\" >f2</th>\n",
       "      <td id=\"T_32603_row2_col0\" class=\"data row2 col0\" >-0.00</td>\n",
       "      <td id=\"T_32603_row2_col1\" class=\"data row2 col1\" >0.00</td>\n",
       "      <td id=\"T_32603_row2_col2\" class=\"data row2 col2\" >1.00</td>\n",
       "      <td id=\"T_32603_row2_col3\" class=\"data row2 col3\" >0.45</td>\n",
       "    </tr>\n",
       "    <tr>\n",
       "      <th id=\"T_32603_level0_row3\" class=\"row_heading level0 row3\" >product</th>\n",
       "      <td id=\"T_32603_row3_col0\" class=\"data row3 col0\" >-0.00</td>\n",
       "      <td id=\"T_32603_row3_col1\" class=\"data row3 col1\" >-0.00</td>\n",
       "      <td id=\"T_32603_row3_col2\" class=\"data row3 col2\" >0.45</td>\n",
       "      <td id=\"T_32603_row3_col3\" class=\"data row3 col3\" >1.00</td>\n",
       "    </tr>\n",
       "  </tbody>\n",
       "</table>\n"
      ],
      "text/plain": [
       "<pandas.io.formats.style.Styler at 0x1454f6af0>"
      ]
     },
     "execution_count": 22,
     "metadata": {},
     "output_type": "execute_result"
    }
   ],
   "source": [
    "corr = df3.corr()\n",
    "corr.style.background_gradient(cmap='coolwarm', axis=None).format(precision=2)"
   ]
  },
  {
   "cell_type": "markdown",
   "metadata": {},
   "source": [
    "Корреляция между признаками нет. В целом, ничего критичного (кроме разного масштаба),\n",
    "можно работать."
   ]
  },
  {
   "cell_type": "markdown",
   "metadata": {},
   "source": [
    "### Вывод"
   ]
  },
  {
   "cell_type": "markdown",
   "metadata": {},
   "source": [
    "Проблем в данных не найдено за исключением 36 записей на 300к суммарных с одинаковыми\n",
    "айдишниками (удалили их).\n",
    "\n",
    "Данные во всех трех файлах имеют абсолютно разный характер распределения.\n",
    "\n",
    "Таргет (объем запасов в скважине) в 1-м и 3-м файлах на первый взгляд одинаковый.\n",
    "Во 2-м — имеет дискретное распределение (это странно).\n",
    "\n",
    "Также запомним, что у нас есть ненормальные распределения."
   ]
  },
  {
   "cell_type": "markdown",
   "metadata": {},
   "source": [
    "## Обучение и проверка модели"
   ]
  },
  {
   "cell_type": "markdown",
   "metadata": {},
   "source": [
    "### Разбивка данных"
   ]
  },
  {
   "cell_type": "code",
   "execution_count": 23,
   "metadata": {
    "ExecuteTime": {
     "end_time": "2023-05-18T09:00:46.532955Z",
     "start_time": "2023-05-18T09:00:46.507655Z"
    }
   },
   "outputs": [],
   "source": [
    "target_all = []  # здесь и ниже в массивах будет по 3 элемента (по одному на файл)\n",
    "target_train_all = []\n",
    "target_test_all = []\n",
    "\n",
    "features_all = []\n",
    "features_train_all = []\n",
    "features_test_all = []\n",
    "\n",
    "for df in all_dfs:\n",
    "    features = df.drop('product', axis=1)\n",
    "    features_all.append(features)\n",
    "\n",
    "    target = df['product']\n",
    "    target_all.append(target)\n",
    "\n",
    "    features_train, features_test, target_train, target_test = train_test_split(\n",
    "        features, target, test_size=0.25, random_state=12345)\n",
    "\n",
    "    features_test_all.append(features_test)\n",
    "    features_train_all.append(features_train)\n",
    "\n",
    "    target_train_all.append(target_train)\n",
    "    target_test_all.append(target_test)"
   ]
  },
  {
   "cell_type": "markdown",
   "metadata": {},
   "source": [
    "### Масштабирование"
   ]
  },
  {
   "cell_type": "markdown",
   "metadata": {},
   "source": [
    "Посмотрим еще раз на распределения признаков в трех файлах"
   ]
  },
  {
   "cell_type": "code",
   "execution_count": 24,
   "metadata": {
    "ExecuteTime": {
     "end_time": "2023-05-18T09:00:47.381655Z",
     "start_time": "2023-05-18T09:00:46.521141Z"
    }
   },
   "outputs": [
    {
     "data": {
      "image/png": "[encoded data removed]",
      "text/plain": [
       "<Figure size 900x200 with 3 Axes>"
      ]
     },
     "metadata": {},
     "output_type": "display_data"
    },
    {
     "data": {
      "image/png": "[encoded data removed]",
      "text/plain": [
       "<Figure size 900x200 with 3 Axes>"
      ]
     },
     "metadata": {},
     "output_type": "display_data"
    },
    {
     "data": {
      "image/png": "[encoded data removed]",
      "text/plain": [
       "<Figure size 900x200 with 3 Axes>"
      ]
     },
     "metadata": {},
     "output_type": "display_data"
    }
   ],
   "source": [
    "for df in features_all:\n",
    "    df.hist(bins='auto', layout=(1, 3), figsize=(9, 2));"
   ]
  },
  {
   "cell_type": "markdown",
   "metadata": {},
   "source": [
    "Посмотрим на выбросы:"
   ]
  },
  {
   "cell_type": "code",
   "execution_count": 25,
   "metadata": {
    "ExecuteTime": {
     "end_time": "2023-05-18T09:00:47.821442Z",
     "start_time": "2023-05-18T09:00:47.385218Z"
    }
   },
   "outputs": [
    {
     "data": {
      "image/png": "[encoded data removed]",
      "text/plain": [
       "<Figure size 900x400 with 3 Axes>"
      ]
     },
     "metadata": {},
     "output_type": "display_data"
    }
   ],
   "source": [
    "fig = plt.figure(figsize=(9, 4))\n",
    "for i, df in enumerate(features_all):\n",
    "    ax = fig.add_subplot(1, 3, i + 1)\n",
    "    ax.set_title(str(i + 1))\n",
    "    ax = df.boxplot(ax=ax);\n",
    "plt.show();"
   ]
  },
  {
   "cell_type": "markdown",
   "metadata": {},
   "source": [
    "Более-менее нормальные распределения у нас:\n",
    "- f2 в первом файле;\n",
    "- f1 во втором;\n",
    "- f0, f1, f2 в третьем.\n",
    "\n",
    "На них же и много выбросов, поэтому используем там `RobustScaler` (но только для\n",
    "train)."
   ]
  },
  {
   "cell_type": "code",
   "execution_count": 26,
   "metadata": {
    "ExecuteTime": {
     "end_time": "2023-05-18T09:00:47.851954Z",
     "start_time": "2023-05-18T09:00:47.822032Z"
    }
   },
   "outputs": [],
   "source": [
    "robust_columns = [\n",
    "    ['f2'],\n",
    "    ['f1'],\n",
    "    ['f0', 'f1', 'f2']\n",
    "]\n",
    "\n",
    "for i in range(3):\n",
    "    scaler = RobustScaler(with_centering=False, unit_variance=False)\n",
    "    features_train_all[i][robust_columns[i]] = scaler.fit_transform(\n",
    "        features_train_all[i][robust_columns[i]])"
   ]
  },
  {
   "cell_type": "markdown",
   "metadata": {},
   "source": [
    "Выбросы сгладили, теперь промасштабируем:"
   ]
  },
  {
   "cell_type": "code",
   "execution_count": 27,
   "metadata": {
    "ExecuteTime": {
     "end_time": "2023-05-18T09:00:47.873454Z",
     "start_time": "2023-05-18T09:00:47.843510Z"
    }
   },
   "outputs": [],
   "source": [
    "for i in range(3):\n",
    "    scaler = StandardScaler()\n",
    "    scaler.fit(features_train_all[i])\n",
    "    features_train_all[i] = scaler.transform(features_train_all[i])\n",
    "    features_test_all[i] = scaler.transform(features_test_all[i])"
   ]
  },
  {
   "cell_type": "markdown",
   "metadata": {},
   "source": [
    "### Поиск моделей"
   ]
  },
  {
   "cell_type": "code",
   "execution_count": 28,
   "metadata": {
    "ExecuteTime": {
     "end_time": "2023-05-18T09:00:47.873729Z",
     "start_time": "2023-05-18T09:00:47.857173Z"
    }
   },
   "outputs": [],
   "source": [
    "def get_best_linear_reg(index):\n",
    "    model = linear_model.LinearRegression()\n",
    "    model.fit(features_train_all[index], target_train_all[index])\n",
    "    rmse = mean_squared_error(\n",
    "        target_test_all[index],\n",
    "        model.predict(features_test_all[index]),\n",
    "        squared=False)\n",
    "    return (model, rmse)"
   ]
  },
  {
   "cell_type": "code",
   "execution_count": 29,
   "metadata": {
    "ExecuteTime": {
     "end_time": "2023-05-18T09:00:47.874015Z",
     "start_time": "2023-05-18T09:00:47.864001Z"
    }
   },
   "outputs": [],
   "source": [
    "def get_best_ridge(index):\n",
    "    best_model = None\n",
    "    best_rmse = float('inf')\n",
    "\n",
    "    for params in product(\n",
    "            [1, 0.5, 2, 0.25, 4],\n",
    "            ['auto', 'svd', 'cholesky', 'lsqr', 'sparse_cg', 'sag', 'saga'],\n",
    "            [0.001, 0.0001]):\n",
    "\n",
    "        alpha, solver, tol = params\n",
    "        model = linear_model.Ridge(\n",
    "            alpha=alpha, solver=solver, tol=tol, random_state=12345)\n",
    "        model.fit(features_train_all[index], target_train_all[index]);\n",
    "\n",
    "        rmse = mean_squared_error(\n",
    "            target_test_all[index],\n",
    "            model.predict(features_test_all[index]),\n",
    "            squared=False)\n",
    "\n",
    "        if rmse < best_rmse:\n",
    "            best_model = model\n",
    "            best_rmse = rmse\n",
    "\n",
    "    # print(f'best rmse={best_rmse:.3f}')\n",
    "    # print(f'solver={best_model.solver}, alpha={best_model.alpha}, tol={best_model.tol}')\n",
    "    return (best_model, best_rmse)"
   ]
  },
  {
   "cell_type": "code",
   "execution_count": 43,
   "metadata": {
    "ExecuteTime": {
     "end_time": "2023-05-18T09:00:47.888999Z",
     "start_time": "2023-05-18T09:00:47.873271Z"
    }
   },
   "outputs": [],
   "source": [
    "def get_best_elastic(index):\n",
    "    best_model = None\n",
    "    best_rmse = float('inf')\n",
    "\n",
    "    for params in product(\n",
    "            [0, 0.25, 0.5, 0.75, 1],\n",
    "            ['cyclic', 'random'],\n",
    "            [100, 200, 500, 800],\n",
    "            [0.001, 0.0001]):\n",
    "\n",
    "        l1_ratio, selection, max_iter, tol = params\n",
    "        model = linear_model.ElasticNet(\n",
    "            l1_ratio=l1_ratio, selection=selection, max_iter=max_iter,\n",
    "            tol=tol, random_state=12345)\n",
    "        model.fit(features_train_all[index], target_train_all[index]);\n",
    "\n",
    "        rmse = mean_squared_error(\n",
    "            target_test_all[index],\n",
    "            model.predict(features_test_all[index]),\n",
    "            squared=False)\n",
    "\n",
    "        if rmse < best_rmse:\n",
    "            best_model = model\n",
    "            best_rmse = rmse\n",
    "\n",
    "    print(f'best rmse={best_rmse:.3f}')\n",
    "    print(f'l1_ratio={best_model.l1_ratio}, selection={best_model.selection},'\n",
    "          f' max_iter={best_model.max_iter}, tol={best_model.tol}')\n",
    "    return (best_model, best_rmse)\n"
   ]
  },
  {
   "cell_type": "code",
   "execution_count": 44,
   "metadata": {
    "ExecuteTime": {
     "end_time": "2023-05-18T09:00:47.889555Z",
     "start_time": "2023-05-18T09:00:47.882166Z"
    }
   },
   "outputs": [],
   "source": [
    "def get_best_models():\n",
    "    models_all = []\n",
    "    rmse_all = []\n",
    "    for i in range(3):\n",
    "        (model1, rmse1) = get_best_linear_reg(i)\n",
    "        (model2, rmse2) = get_best_ridge(i)\n",
    "        (model3, rmse3) = get_best_elastic(i)\n",
    "\n",
    "        rmses = [rmse1, rmse2, rmse3]\n",
    "        models = [model1, model2, model3]\n",
    "\n",
    "        best_rmse = min(rmses)\n",
    "        rmse_all.append(best_rmse)\n",
    "\n",
    "        best_model = models[rmses.index(best_rmse)]\n",
    "        models_all.append(best_model)\n",
    "\n",
    "    return models_all, rmse_all"
   ]
  },
  {
   "cell_type": "code",
   "execution_count": 45,
   "metadata": {
    "ExecuteTime": {
     "end_time": "2023-05-18T09:01:28.663672Z",
     "start_time": "2023-05-18T09:00:47.886095Z"
    }
   },
   "outputs": [
    {
     "data": {
      "application/vnd.jupyter.widget-view+json": {
       "model_id": "22400cacd0f2452fa2b8ac36a08d8d2b",
       "version_major": 2,
       "version_minor": 0
      },
      "text/plain": [
       "  0%|          | 0/70 [00:00<?, ?it/s]"
      ]
     },
     "metadata": {},
     "output_type": "display_data"
    },
    {
     "data": {
      "application/vnd.jupyter.widget-view+json": {
       "model_id": "3f9efb75be66423a9814cedab705e598",
       "version_major": 2,
       "version_minor": 0
      },
      "text/plain": [
       "  0%|          | 0/80 [00:00<?, ?it/s]"
      ]
     },
     "metadata": {},
     "output_type": "display_data"
    },
    {
     "name": "stderr",
     "output_type": "stream",
     "text": [
      "/Users/piskov/opt/anaconda3/lib/python3.9/site-packages/sklearn/linear_model/_coordinate_descent.py:631: ConvergenceWarning: Objective did not converge. You might want to increase the number of iterations, check the scale of the features or consider increasing regularisation. Duality gap: 6.312e+07, tolerance: 1.470e+05 Linear regression models with null weight for the l1 regularization term are more efficiently fitted using one of the solvers implemented in sklearn.linear_model.Ridge/RidgeCV instead.\n",
      "  model = cd_fast.enet_coordinate_descent(\n",
      "/Users/piskov/opt/anaconda3/lib/python3.9/site-packages/sklearn/linear_model/_coordinate_descent.py:631: ConvergenceWarning: Objective did not converge. You might want to increase the number of iterations, check the scale of the features or consider increasing regularisation. Duality gap: 6.312e+07, tolerance: 1.470e+04 Linear regression models with null weight for the l1 regularization term are more efficiently fitted using one of the solvers implemented in sklearn.linear_model.Ridge/RidgeCV instead.\n",
      "  model = cd_fast.enet_coordinate_descent(\n",
      "/Users/piskov/opt/anaconda3/lib/python3.9/site-packages/sklearn/linear_model/_coordinate_descent.py:631: ConvergenceWarning: Objective did not converge. You might want to increase the number of iterations, check the scale of the features or consider increasing regularisation. Duality gap: 6.312e+07, tolerance: 1.470e+05 Linear regression models with null weight for the l1 regularization term are more efficiently fitted using one of the solvers implemented in sklearn.linear_model.Ridge/RidgeCV instead.\n",
      "  model = cd_fast.enet_coordinate_descent(\n",
      "/Users/piskov/opt/anaconda3/lib/python3.9/site-packages/sklearn/linear_model/_coordinate_descent.py:631: ConvergenceWarning: Objective did not converge. You might want to increase the number of iterations, check the scale of the features or consider increasing regularisation. Duality gap: 6.312e+07, tolerance: 1.470e+04 Linear regression models with null weight for the l1 regularization term are more efficiently fitted using one of the solvers implemented in sklearn.linear_model.Ridge/RidgeCV instead.\n",
      "  model = cd_fast.enet_coordinate_descent(\n",
      "/Users/piskov/opt/anaconda3/lib/python3.9/site-packages/sklearn/linear_model/_coordinate_descent.py:631: ConvergenceWarning: Objective did not converge. You might want to increase the number of iterations, check the scale of the features or consider increasing regularisation. Duality gap: 6.312e+07, tolerance: 1.470e+05 Linear regression models with null weight for the l1 regularization term are more efficiently fitted using one of the solvers implemented in sklearn.linear_model.Ridge/RidgeCV instead.\n",
      "  model = cd_fast.enet_coordinate_descent(\n",
      "/Users/piskov/opt/anaconda3/lib/python3.9/site-packages/sklearn/linear_model/_coordinate_descent.py:631: ConvergenceWarning: Objective did not converge. You might want to increase the number of iterations, check the scale of the features or consider increasing regularisation. Duality gap: 6.312e+07, tolerance: 1.470e+04 Linear regression models with null weight for the l1 regularization term are more efficiently fitted using one of the solvers implemented in sklearn.linear_model.Ridge/RidgeCV instead.\n",
      "  model = cd_fast.enet_coordinate_descent(\n",
      "/Users/piskov/opt/anaconda3/lib/python3.9/site-packages/sklearn/linear_model/_coordinate_descent.py:631: ConvergenceWarning: Objective did not converge. You might want to increase the number of iterations, check the scale of the features or consider increasing regularisation. Duality gap: 6.312e+07, tolerance: 1.470e+05 Linear regression models with null weight for the l1 regularization term are more efficiently fitted using one of the solvers implemented in sklearn.linear_model.Ridge/RidgeCV instead.\n",
      "  model = cd_fast.enet_coordinate_descent(\n",
      "/Users/piskov/opt/anaconda3/lib/python3.9/site-packages/sklearn/linear_model/_coordinate_descent.py:631: ConvergenceWarning: Objective did not converge. You might want to increase the number of iterations, check the scale of the features or consider increasing regularisation. Duality gap: 6.312e+07, tolerance: 1.470e+04 Linear regression models with null weight for the l1 regularization term are more efficiently fitted using one of the solvers implemented in sklearn.linear_model.Ridge/RidgeCV instead.\n",
      "  model = cd_fast.enet_coordinate_descent(\n",
      "/Users/piskov/opt/anaconda3/lib/python3.9/site-packages/sklearn/linear_model/_coordinate_descent.py:631: ConvergenceWarning: Objective did not converge. You might want to increase the number of iterations, check the scale of the features or consider increasing regularisation. Duality gap: 6.312e+07, tolerance: 1.470e+05 Linear regression models with null weight for the l1 regularization term are more efficiently fitted using one of the solvers implemented in sklearn.linear_model.Ridge/RidgeCV instead.\n",
      "  model = cd_fast.enet_coordinate_descent(\n",
      "/Users/piskov/opt/anaconda3/lib/python3.9/site-packages/sklearn/linear_model/_coordinate_descent.py:631: ConvergenceWarning: Objective did not converge. You might want to increase the number of iterations, check the scale of the features or consider increasing regularisation. Duality gap: 6.312e+07, tolerance: 1.470e+04 Linear regression models with null weight for the l1 regularization term are more efficiently fitted using one of the solvers implemented in sklearn.linear_model.Ridge/RidgeCV instead.\n",
      "  model = cd_fast.enet_coordinate_descent(\n",
      "/Users/piskov/opt/anaconda3/lib/python3.9/site-packages/sklearn/linear_model/_coordinate_descent.py:631: ConvergenceWarning: Objective did not converge. You might want to increase the number of iterations, check the scale of the features or consider increasing regularisation. Duality gap: 6.312e+07, tolerance: 1.470e+05 Linear regression models with null weight for the l1 regularization term are more efficiently fitted using one of the solvers implemented in sklearn.linear_model.Ridge/RidgeCV instead.\n",
      "  model = cd_fast.enet_coordinate_descent(\n",
      "/Users/piskov/opt/anaconda3/lib/python3.9/site-packages/sklearn/linear_model/_coordinate_descent.py:631: ConvergenceWarning: Objective did not converge. You might want to increase the number of iterations, check the scale of the features or consider increasing regularisation. Duality gap: 6.312e+07, tolerance: 1.470e+04 Linear regression models with null weight for the l1 regularization term are more efficiently fitted using one of the solvers implemented in sklearn.linear_model.Ridge/RidgeCV instead.\n",
      "  model = cd_fast.enet_coordinate_descent(\n",
      "/Users/piskov/opt/anaconda3/lib/python3.9/site-packages/sklearn/linear_model/_coordinate_descent.py:631: ConvergenceWarning: Objective did not converge. You might want to increase the number of iterations, check the scale of the features or consider increasing regularisation. Duality gap: 6.312e+07, tolerance: 1.470e+05 Linear regression models with null weight for the l1 regularization term are more efficiently fitted using one of the solvers implemented in sklearn.linear_model.Ridge/RidgeCV instead.\n",
      "  model = cd_fast.enet_coordinate_descent(\n",
      "/Users/piskov/opt/anaconda3/lib/python3.9/site-packages/sklearn/linear_model/_coordinate_descent.py:631: ConvergenceWarning: Objective did not converge. You might want to increase the number of iterations, check the scale of the features or consider increasing regularisation. Duality gap: 6.312e+07, tolerance: 1.470e+04 Linear regression models with null weight for the l1 regularization term are more efficiently fitted using one of the solvers implemented in sklearn.linear_model.Ridge/RidgeCV instead.\n",
      "  model = cd_fast.enet_coordinate_descent(\n",
      "/Users/piskov/opt/anaconda3/lib/python3.9/site-packages/sklearn/linear_model/_coordinate_descent.py:631: ConvergenceWarning: Objective did not converge. You might want to increase the number of iterations, check the scale of the features or consider increasing regularisation. Duality gap: 6.312e+07, tolerance: 1.470e+05 Linear regression models with null weight for the l1 regularization term are more efficiently fitted using one of the solvers implemented in sklearn.linear_model.Ridge/RidgeCV instead.\n",
      "  model = cd_fast.enet_coordinate_descent(\n"
     ]
    },
    {
     "name": "stderr",
     "output_type": "stream",
     "text": [
      "/Users/piskov/opt/anaconda3/lib/python3.9/site-packages/sklearn/linear_model/_coordinate_descent.py:631: ConvergenceWarning: Objective did not converge. You might want to increase the number of iterations, check the scale of the features or consider increasing regularisation. Duality gap: 6.312e+07, tolerance: 1.470e+04 Linear regression models with null weight for the l1 regularization term are more efficiently fitted using one of the solvers implemented in sklearn.linear_model.Ridge/RidgeCV instead.\n",
      "  model = cd_fast.enet_coordinate_descent(\n"
     ]
    },
    {
     "name": "stdout",
     "output_type": "stream",
     "text": [
      "best rmse=53.913\n",
      "l1_ratio=0, selection=cyclic, max_iter=100, tol=0.001\n"
     ]
    },
    {
     "data": {
      "application/vnd.jupyter.widget-view+json": {
       "model_id": "7ecae7b1a6eb4d41a74131402fa460ae",
       "version_major": 2,
       "version_minor": 0
      },
      "text/plain": [
       "  0%|          | 0/70 [00:00<?, ?it/s]"
      ]
     },
     "metadata": {},
     "output_type": "display_data"
    },
    {
     "data": {
      "application/vnd.jupyter.widget-view+json": {
       "model_id": "869642be8277420b8f929bcd4ac22bb0",
       "version_major": 2,
       "version_minor": 0
      },
      "text/plain": [
       "  0%|          | 0/80 [00:00<?, ?it/s]"
      ]
     },
     "metadata": {},
     "output_type": "display_data"
    },
    {
     "name": "stderr",
     "output_type": "stream",
     "text": [
      "/Users/piskov/opt/anaconda3/lib/python3.9/site-packages/sklearn/linear_model/_coordinate_descent.py:631: ConvergenceWarning: Objective did not converge. You might want to increase the number of iterations, check the scale of the features or consider increasing regularisation. Duality gap: 3.957e+07, tolerance: 1.582e+05 Linear regression models with null weight for the l1 regularization term are more efficiently fitted using one of the solvers implemented in sklearn.linear_model.Ridge/RidgeCV instead.\n",
      "  model = cd_fast.enet_coordinate_descent(\n",
      "/Users/piskov/opt/anaconda3/lib/python3.9/site-packages/sklearn/linear_model/_coordinate_descent.py:631: ConvergenceWarning: Objective did not converge. You might want to increase the number of iterations, check the scale of the features or consider increasing regularisation. Duality gap: 3.957e+07, tolerance: 1.582e+04 Linear regression models with null weight for the l1 regularization term are more efficiently fitted using one of the solvers implemented in sklearn.linear_model.Ridge/RidgeCV instead.\n",
      "  model = cd_fast.enet_coordinate_descent(\n",
      "/Users/piskov/opt/anaconda3/lib/python3.9/site-packages/sklearn/linear_model/_coordinate_descent.py:631: ConvergenceWarning: Objective did not converge. You might want to increase the number of iterations, check the scale of the features or consider increasing regularisation. Duality gap: 3.957e+07, tolerance: 1.582e+05 Linear regression models with null weight for the l1 regularization term are more efficiently fitted using one of the solvers implemented in sklearn.linear_model.Ridge/RidgeCV instead.\n",
      "  model = cd_fast.enet_coordinate_descent(\n",
      "/Users/piskov/opt/anaconda3/lib/python3.9/site-packages/sklearn/linear_model/_coordinate_descent.py:631: ConvergenceWarning: Objective did not converge. You might want to increase the number of iterations, check the scale of the features or consider increasing regularisation. Duality gap: 3.957e+07, tolerance: 1.582e+04 Linear regression models with null weight for the l1 regularization term are more efficiently fitted using one of the solvers implemented in sklearn.linear_model.Ridge/RidgeCV instead.\n",
      "  model = cd_fast.enet_coordinate_descent(\n",
      "/Users/piskov/opt/anaconda3/lib/python3.9/site-packages/sklearn/linear_model/_coordinate_descent.py:631: ConvergenceWarning: Objective did not converge. You might want to increase the number of iterations, check the scale of the features or consider increasing regularisation. Duality gap: 3.957e+07, tolerance: 1.582e+05 Linear regression models with null weight for the l1 regularization term are more efficiently fitted using one of the solvers implemented in sklearn.linear_model.Ridge/RidgeCV instead.\n",
      "  model = cd_fast.enet_coordinate_descent(\n",
      "/Users/piskov/opt/anaconda3/lib/python3.9/site-packages/sklearn/linear_model/_coordinate_descent.py:631: ConvergenceWarning: Objective did not converge. You might want to increase the number of iterations, check the scale of the features or consider increasing regularisation. Duality gap: 3.957e+07, tolerance: 1.582e+04 Linear regression models with null weight for the l1 regularization term are more efficiently fitted using one of the solvers implemented in sklearn.linear_model.Ridge/RidgeCV instead.\n",
      "  model = cd_fast.enet_coordinate_descent(\n",
      "/Users/piskov/opt/anaconda3/lib/python3.9/site-packages/sklearn/linear_model/_coordinate_descent.py:631: ConvergenceWarning: Objective did not converge. You might want to increase the number of iterations, check the scale of the features or consider increasing regularisation. Duality gap: 3.957e+07, tolerance: 1.582e+05 Linear regression models with null weight for the l1 regularization term are more efficiently fitted using one of the solvers implemented in sklearn.linear_model.Ridge/RidgeCV instead.\n",
      "  model = cd_fast.enet_coordinate_descent(\n",
      "/Users/piskov/opt/anaconda3/lib/python3.9/site-packages/sklearn/linear_model/_coordinate_descent.py:631: ConvergenceWarning: Objective did not converge. You might want to increase the number of iterations, check the scale of the features or consider increasing regularisation. Duality gap: 3.957e+07, tolerance: 1.582e+04 Linear regression models with null weight for the l1 regularization term are more efficiently fitted using one of the solvers implemented in sklearn.linear_model.Ridge/RidgeCV instead.\n",
      "  model = cd_fast.enet_coordinate_descent(\n",
      "/Users/piskov/opt/anaconda3/lib/python3.9/site-packages/sklearn/linear_model/_coordinate_descent.py:631: ConvergenceWarning: Objective did not converge. You might want to increase the number of iterations, check the scale of the features or consider increasing regularisation. Duality gap: 3.957e+07, tolerance: 1.582e+05 Linear regression models with null weight for the l1 regularization term are more efficiently fitted using one of the solvers implemented in sklearn.linear_model.Ridge/RidgeCV instead.\n",
      "  model = cd_fast.enet_coordinate_descent(\n",
      "/Users/piskov/opt/anaconda3/lib/python3.9/site-packages/sklearn/linear_model/_coordinate_descent.py:631: ConvergenceWarning: Objective did not converge. You might want to increase the number of iterations, check the scale of the features or consider increasing regularisation. Duality gap: 3.957e+07, tolerance: 1.582e+04 Linear regression models with null weight for the l1 regularization term are more efficiently fitted using one of the solvers implemented in sklearn.linear_model.Ridge/RidgeCV instead.\n",
      "  model = cd_fast.enet_coordinate_descent(\n",
      "/Users/piskov/opt/anaconda3/lib/python3.9/site-packages/sklearn/linear_model/_coordinate_descent.py:631: ConvergenceWarning: Objective did not converge. You might want to increase the number of iterations, check the scale of the features or consider increasing regularisation. Duality gap: 3.957e+07, tolerance: 1.582e+05 Linear regression models with null weight for the l1 regularization term are more efficiently fitted using one of the solvers implemented in sklearn.linear_model.Ridge/RidgeCV instead.\n",
      "  model = cd_fast.enet_coordinate_descent(\n",
      "/Users/piskov/opt/anaconda3/lib/python3.9/site-packages/sklearn/linear_model/_coordinate_descent.py:631: ConvergenceWarning: Objective did not converge. You might want to increase the number of iterations, check the scale of the features or consider increasing regularisation. Duality gap: 3.957e+07, tolerance: 1.582e+04 Linear regression models with null weight for the l1 regularization term are more efficiently fitted using one of the solvers implemented in sklearn.linear_model.Ridge/RidgeCV instead.\n",
      "  model = cd_fast.enet_coordinate_descent(\n",
      "/Users/piskov/opt/anaconda3/lib/python3.9/site-packages/sklearn/linear_model/_coordinate_descent.py:631: ConvergenceWarning: Objective did not converge. You might want to increase the number of iterations, check the scale of the features or consider increasing regularisation. Duality gap: 3.957e+07, tolerance: 1.582e+05 Linear regression models with null weight for the l1 regularization term are more efficiently fitted using one of the solvers implemented in sklearn.linear_model.Ridge/RidgeCV instead.\n",
      "  model = cd_fast.enet_coordinate_descent(\n",
      "/Users/piskov/opt/anaconda3/lib/python3.9/site-packages/sklearn/linear_model/_coordinate_descent.py:631: ConvergenceWarning: Objective did not converge. You might want to increase the number of iterations, check the scale of the features or consider increasing regularisation. Duality gap: 3.957e+07, tolerance: 1.582e+04 Linear regression models with null weight for the l1 regularization term are more efficiently fitted using one of the solvers implemented in sklearn.linear_model.Ridge/RidgeCV instead.\n",
      "  model = cd_fast.enet_coordinate_descent(\n",
      "/Users/piskov/opt/anaconda3/lib/python3.9/site-packages/sklearn/linear_model/_coordinate_descent.py:631: ConvergenceWarning: Objective did not converge. You might want to increase the number of iterations, check the scale of the features or consider increasing regularisation. Duality gap: 3.957e+07, tolerance: 1.582e+05 Linear regression models with null weight for the l1 regularization term are more efficiently fitted using one of the solvers implemented in sklearn.linear_model.Ridge/RidgeCV instead.\n",
      "  model = cd_fast.enet_coordinate_descent(\n"
     ]
    },
    {
     "name": "stderr",
     "output_type": "stream",
     "text": [
      "/Users/piskov/opt/anaconda3/lib/python3.9/site-packages/sklearn/linear_model/_coordinate_descent.py:631: ConvergenceWarning: Objective did not converge. You might want to increase the number of iterations, check the scale of the features or consider increasing regularisation. Duality gap: 3.957e+07, tolerance: 1.582e+04 Linear regression models with null weight for the l1 regularization term are more efficiently fitted using one of the solvers implemented in sklearn.linear_model.Ridge/RidgeCV instead.\n",
      "  model = cd_fast.enet_coordinate_descent(\n"
     ]
    },
    {
     "name": "stdout",
     "output_type": "stream",
     "text": [
      "best rmse=1.684\n",
      "l1_ratio=1, selection=cyclic, max_iter=100, tol=0.001\n"
     ]
    },
    {
     "data": {
      "application/vnd.jupyter.widget-view+json": {
       "model_id": "cc52f63bba3440eabc43b5026e48f30c",
       "version_major": 2,
       "version_minor": 0
      },
      "text/plain": [
       "  0%|          | 0/70 [00:00<?, ?it/s]"
      ]
     },
     "metadata": {},
     "output_type": "display_data"
    },
    {
     "data": {
      "application/vnd.jupyter.widget-view+json": {
       "model_id": "533ae6358a0c455eb4844b9c189e0f64",
       "version_major": 2,
       "version_minor": 0
      },
      "text/plain": [
       "  0%|          | 0/80 [00:00<?, ?it/s]"
      ]
     },
     "metadata": {},
     "output_type": "display_data"
    },
    {
     "name": "stderr",
     "output_type": "stream",
     "text": [
      "/Users/piskov/opt/anaconda3/lib/python3.9/site-packages/sklearn/linear_model/_coordinate_descent.py:631: ConvergenceWarning: Objective did not converge. You might want to increase the number of iterations, check the scale of the features or consider increasing regularisation. Duality gap: 6.776e+07, tolerance: 1.506e+05 Linear regression models with null weight for the l1 regularization term are more efficiently fitted using one of the solvers implemented in sklearn.linear_model.Ridge/RidgeCV instead.\n",
      "  model = cd_fast.enet_coordinate_descent(\n",
      "/Users/piskov/opt/anaconda3/lib/python3.9/site-packages/sklearn/linear_model/_coordinate_descent.py:631: ConvergenceWarning: Objective did not converge. You might want to increase the number of iterations, check the scale of the features or consider increasing regularisation. Duality gap: 6.776e+07, tolerance: 1.506e+04 Linear regression models with null weight for the l1 regularization term are more efficiently fitted using one of the solvers implemented in sklearn.linear_model.Ridge/RidgeCV instead.\n",
      "  model = cd_fast.enet_coordinate_descent(\n",
      "/Users/piskov/opt/anaconda3/lib/python3.9/site-packages/sklearn/linear_model/_coordinate_descent.py:631: ConvergenceWarning: Objective did not converge. You might want to increase the number of iterations, check the scale of the features or consider increasing regularisation. Duality gap: 6.776e+07, tolerance: 1.506e+05 Linear regression models with null weight for the l1 regularization term are more efficiently fitted using one of the solvers implemented in sklearn.linear_model.Ridge/RidgeCV instead.\n",
      "  model = cd_fast.enet_coordinate_descent(\n",
      "/Users/piskov/opt/anaconda3/lib/python3.9/site-packages/sklearn/linear_model/_coordinate_descent.py:631: ConvergenceWarning: Objective did not converge. You might want to increase the number of iterations, check the scale of the features or consider increasing regularisation. Duality gap: 6.776e+07, tolerance: 1.506e+04 Linear regression models with null weight for the l1 regularization term are more efficiently fitted using one of the solvers implemented in sklearn.linear_model.Ridge/RidgeCV instead.\n",
      "  model = cd_fast.enet_coordinate_descent(\n",
      "/Users/piskov/opt/anaconda3/lib/python3.9/site-packages/sklearn/linear_model/_coordinate_descent.py:631: ConvergenceWarning: Objective did not converge. You might want to increase the number of iterations, check the scale of the features or consider increasing regularisation. Duality gap: 6.776e+07, tolerance: 1.506e+05 Linear regression models with null weight for the l1 regularization term are more efficiently fitted using one of the solvers implemented in sklearn.linear_model.Ridge/RidgeCV instead.\n",
      "  model = cd_fast.enet_coordinate_descent(\n",
      "/Users/piskov/opt/anaconda3/lib/python3.9/site-packages/sklearn/linear_model/_coordinate_descent.py:631: ConvergenceWarning: Objective did not converge. You might want to increase the number of iterations, check the scale of the features or consider increasing regularisation. Duality gap: 6.776e+07, tolerance: 1.506e+04 Linear regression models with null weight for the l1 regularization term are more efficiently fitted using one of the solvers implemented in sklearn.linear_model.Ridge/RidgeCV instead.\n",
      "  model = cd_fast.enet_coordinate_descent(\n",
      "/Users/piskov/opt/anaconda3/lib/python3.9/site-packages/sklearn/linear_model/_coordinate_descent.py:631: ConvergenceWarning: Objective did not converge. You might want to increase the number of iterations, check the scale of the features or consider increasing regularisation. Duality gap: 6.776e+07, tolerance: 1.506e+05 Linear regression models with null weight for the l1 regularization term are more efficiently fitted using one of the solvers implemented in sklearn.linear_model.Ridge/RidgeCV instead.\n",
      "  model = cd_fast.enet_coordinate_descent(\n",
      "/Users/piskov/opt/anaconda3/lib/python3.9/site-packages/sklearn/linear_model/_coordinate_descent.py:631: ConvergenceWarning: Objective did not converge. You might want to increase the number of iterations, check the scale of the features or consider increasing regularisation. Duality gap: 6.776e+07, tolerance: 1.506e+04 Linear regression models with null weight for the l1 regularization term are more efficiently fitted using one of the solvers implemented in sklearn.linear_model.Ridge/RidgeCV instead.\n",
      "  model = cd_fast.enet_coordinate_descent(\n",
      "/Users/piskov/opt/anaconda3/lib/python3.9/site-packages/sklearn/linear_model/_coordinate_descent.py:631: ConvergenceWarning: Objective did not converge. You might want to increase the number of iterations, check the scale of the features or consider increasing regularisation. Duality gap: 6.776e+07, tolerance: 1.506e+05 Linear regression models with null weight for the l1 regularization term are more efficiently fitted using one of the solvers implemented in sklearn.linear_model.Ridge/RidgeCV instead.\n",
      "  model = cd_fast.enet_coordinate_descent(\n",
      "/Users/piskov/opt/anaconda3/lib/python3.9/site-packages/sklearn/linear_model/_coordinate_descent.py:631: ConvergenceWarning: Objective did not converge. You might want to increase the number of iterations, check the scale of the features or consider increasing regularisation. Duality gap: 6.776e+07, tolerance: 1.506e+04 Linear regression models with null weight for the l1 regularization term are more efficiently fitted using one of the solvers implemented in sklearn.linear_model.Ridge/RidgeCV instead.\n",
      "  model = cd_fast.enet_coordinate_descent(\n",
      "/Users/piskov/opt/anaconda3/lib/python3.9/site-packages/sklearn/linear_model/_coordinate_descent.py:631: ConvergenceWarning: Objective did not converge. You might want to increase the number of iterations, check the scale of the features or consider increasing regularisation. Duality gap: 6.776e+07, tolerance: 1.506e+05 Linear regression models with null weight for the l1 regularization term are more efficiently fitted using one of the solvers implemented in sklearn.linear_model.Ridge/RidgeCV instead.\n",
      "  model = cd_fast.enet_coordinate_descent(\n",
      "/Users/piskov/opt/anaconda3/lib/python3.9/site-packages/sklearn/linear_model/_coordinate_descent.py:631: ConvergenceWarning: Objective did not converge. You might want to increase the number of iterations, check the scale of the features or consider increasing regularisation. Duality gap: 6.776e+07, tolerance: 1.506e+04 Linear regression models with null weight for the l1 regularization term are more efficiently fitted using one of the solvers implemented in sklearn.linear_model.Ridge/RidgeCV instead.\n",
      "  model = cd_fast.enet_coordinate_descent(\n",
      "/Users/piskov/opt/anaconda3/lib/python3.9/site-packages/sklearn/linear_model/_coordinate_descent.py:631: ConvergenceWarning: Objective did not converge. You might want to increase the number of iterations, check the scale of the features or consider increasing regularisation. Duality gap: 6.776e+07, tolerance: 1.506e+05 Linear regression models with null weight for the l1 regularization term are more efficiently fitted using one of the solvers implemented in sklearn.linear_model.Ridge/RidgeCV instead.\n",
      "  model = cd_fast.enet_coordinate_descent(\n",
      "/Users/piskov/opt/anaconda3/lib/python3.9/site-packages/sklearn/linear_model/_coordinate_descent.py:631: ConvergenceWarning: Objective did not converge. You might want to increase the number of iterations, check the scale of the features or consider increasing regularisation. Duality gap: 6.776e+07, tolerance: 1.506e+04 Linear regression models with null weight for the l1 regularization term are more efficiently fitted using one of the solvers implemented in sklearn.linear_model.Ridge/RidgeCV instead.\n",
      "  model = cd_fast.enet_coordinate_descent(\n",
      "/Users/piskov/opt/anaconda3/lib/python3.9/site-packages/sklearn/linear_model/_coordinate_descent.py:631: ConvergenceWarning: Objective did not converge. You might want to increase the number of iterations, check the scale of the features or consider increasing regularisation. Duality gap: 6.776e+07, tolerance: 1.506e+05 Linear regression models with null weight for the l1 regularization term are more efficiently fitted using one of the solvers implemented in sklearn.linear_model.Ridge/RidgeCV instead.\n",
      "  model = cd_fast.enet_coordinate_descent(\n"
     ]
    },
    {
     "name": "stdout",
     "output_type": "stream",
     "text": [
      "best rmse=55.822\n",
      "l1_ratio=0, selection=cyclic, max_iter=100, tol=0.001\n"
     ]
    },
    {
     "name": "stderr",
     "output_type": "stream",
     "text": [
      "/Users/piskov/opt/anaconda3/lib/python3.9/site-packages/sklearn/linear_model/_coordinate_descent.py:631: ConvergenceWarning: Objective did not converge. You might want to increase the number of iterations, check the scale of the features or consider increasing regularisation. Duality gap: 6.776e+07, tolerance: 1.506e+04 Linear regression models with null weight for the l1 regularization term are more efficiently fitted using one of the solvers implemented in sklearn.linear_model.Ridge/RidgeCV instead.\n",
      "  model = cd_fast.enet_coordinate_descent(\n"
     ]
    }
   ],
   "source": [
    "models_all, rmse_all = get_best_models()"
   ]
  },
  {
   "cell_type": "markdown",
   "metadata": {},
   "source": [
    "### Предсказания на валидационной выборке"
   ]
  },
  {
   "cell_type": "code",
   "execution_count": 33,
   "metadata": {
    "ExecuteTime": {
     "end_time": "2023-05-18T09:01:28.727291Z",
     "start_time": "2023-05-18T09:01:28.676244Z"
    }
   },
   "outputs": [],
   "source": [
    "predict_test_all = []\n",
    "for i in range(3):\n",
    "    predict_test_all.append(models_all[i].predict(features_test_all[i]))"
   ]
  },
  {
   "cell_type": "code",
   "execution_count": 34,
   "metadata": {
    "ExecuteTime": {
     "end_time": "2023-05-18T09:01:28.735612Z",
     "start_time": "2023-05-18T09:01:28.720317Z"
    }
   },
   "outputs": [
    {
     "name": "stdout",
     "output_type": "stream",
     "text": [
      "rmse в 1-м файле: 53.91, средний запас сырья: 120.62\n",
      "rmse в 2-м файле: 0.93, средний запас сырья: 69.18\n",
      "rmse в 3-м файле: 55.82, средний запас сырья: 121.91\n"
     ]
    }
   ],
   "source": [
    "avg_product_all = []\n",
    "for i in range(3):\n",
    "    avg_val = sum(predict_test_all[i]) / len(predict_test_all[i])\n",
    "    avg_product_all.append(avg_val)\n",
    "    print(\n",
    "        f'rmse в {i + 1}-м файле: {rmse_all[i]:.2f}, '\n",
    "        f'средний запас сырья: {avg_val:.2f}')"
   ]
  },
  {
   "cell_type": "markdown",
   "metadata": {},
   "source": [
    "Посмотрим на гистограмму ошибок предсказаний для всех трех файлов"
   ]
  },
  {
   "cell_type": "code",
   "execution_count": 35,
   "metadata": {
    "ExecuteTime": {
     "end_time": "2023-05-18T09:01:29.053019Z",
     "start_time": "2023-05-18T09:01:28.757399Z"
    }
   },
   "outputs": [
    {
     "data": {
      "image/png": "[encoded data removed]",
      "text/plain": [
       "<Figure size 1000x200 with 3 Axes>"
      ]
     },
     "metadata": {},
     "output_type": "display_data"
    }
   ],
   "source": [
    "fig = plt.figure(figsize=(10, 2))\n",
    "for i in range(3):\n",
    "    ax = fig.add_subplot(1, 3, i + 1)\n",
    "    ax.set_title('ошибки предсказаний в ' + str(i + 1))\n",
    "    (target_test_all[i] - predict_test_all[i]).hist(\n",
    "        bins='auto', ax=ax);\n",
    "plt.show();"
   ]
  },
  {
   "cell_type": "markdown",
   "metadata": {},
   "source": [
    "Вспомним распределения реальных значений"
   ]
  },
  {
   "cell_type": "code",
   "execution_count": 36,
   "metadata": {
    "ExecuteTime": {
     "end_time": "2023-05-18T09:01:29.233311Z",
     "start_time": "2023-05-18T09:01:29.058921Z"
    }
   },
   "outputs": [
    {
     "data": {
      "image/png": "[encoded data removed]",
      "text/plain": [
       "<Figure size 1000x200 with 3 Axes>"
      ]
     },
     "metadata": {},
     "output_type": "display_data"
    }
   ],
   "source": [
    "fig = plt.figure(figsize=(10, 2))\n",
    "for i in range(3):\n",
    "    ax = fig.add_subplot(1, 3, i + 1)\n",
    "    ax.set_title(str(i + 1))\n",
    "    target_test_all[i].hist(\n",
    "        bins='auto', ax=ax);\n",
    "plt.show();"
   ]
  },
  {
   "cell_type": "code",
   "execution_count": 37,
   "metadata": {
    "ExecuteTime": {
     "end_time": "2023-05-18T09:01:29.268434Z",
     "start_time": "2023-05-18T09:01:29.233968Z"
    }
   },
   "outputs": [
    {
     "data": {
      "text/html": [
       "<div>\n",
       "<style scoped>\n",
       "    .dataframe tbody tr th:only-of-type {\n",
       "        vertical-align: middle;\n",
       "    }\n",
       "\n",
       "    .dataframe tbody tr th {\n",
       "        vertical-align: top;\n",
       "    }\n",
       "\n",
       "    .dataframe thead th {\n",
       "        text-align: right;\n",
       "    }\n",
       "</style>\n",
       "<table border=\"1\" class=\"dataframe\">\n",
       "  <thead>\n",
       "    <tr style=\"text-align: right;\">\n",
       "      <th></th>\n",
       "      <th>1</th>\n",
       "      <th>2</th>\n",
       "      <th>3</th>\n",
       "    </tr>\n",
       "  </thead>\n",
       "  <tbody>\n",
       "    <tr>\n",
       "      <th>count</th>\n",
       "      <td>24,995.00</td>\n",
       "      <td>24,998.00</td>\n",
       "      <td>24,998.00</td>\n",
       "    </tr>\n",
       "    <tr>\n",
       "      <th>mean</th>\n",
       "      <td>92.39</td>\n",
       "      <td>68.98</td>\n",
       "      <td>94.55</td>\n",
       "    </tr>\n",
       "    <tr>\n",
       "      <th>std</th>\n",
       "      <td>44.35</td>\n",
       "      <td>45.97</td>\n",
       "      <td>44.57</td>\n",
       "    </tr>\n",
       "    <tr>\n",
       "      <th>min</th>\n",
       "      <td>0.00</td>\n",
       "      <td>0.00</td>\n",
       "      <td>0.01</td>\n",
       "    </tr>\n",
       "    <tr>\n",
       "      <th>25%</th>\n",
       "      <td>56.26</td>\n",
       "      <td>26.95</td>\n",
       "      <td>59.07</td>\n",
       "    </tr>\n",
       "    <tr>\n",
       "      <th>50%</th>\n",
       "      <td>91.60</td>\n",
       "      <td>57.09</td>\n",
       "      <td>94.20</td>\n",
       "    </tr>\n",
       "    <tr>\n",
       "      <th>75%</th>\n",
       "      <td>128.59</td>\n",
       "      <td>110.99</td>\n",
       "      <td>130.34</td>\n",
       "    </tr>\n",
       "    <tr>\n",
       "      <th>max</th>\n",
       "      <td>185.35</td>\n",
       "      <td>137.95</td>\n",
       "      <td>190.03</td>\n",
       "    </tr>\n",
       "  </tbody>\n",
       "</table>\n",
       "</div>"
      ],
      "text/plain": [
       "              1         2         3\n",
       "count 24,995.00 24,998.00 24,998.00\n",
       "mean      92.39     68.98     94.55\n",
       "std       44.35     45.97     44.57\n",
       "min        0.00      0.00      0.01\n",
       "25%       56.26     26.95     59.07\n",
       "50%       91.60     57.09     94.20\n",
       "75%      128.59    110.99    130.34\n",
       "max      185.35    137.95    190.03"
      ]
     },
     "execution_count": 37,
     "metadata": {},
     "output_type": "execute_result"
    }
   ],
   "source": [
    "target_pd = pd.DataFrame(\n",
    "    {\n",
    "        '1': target_test_all[0],\n",
    "        '2': target_test_all[1],\n",
    "        '3': target_test_all[2]\n",
    "    })\n",
    "\n",
    "target_pd.describe()"
   ]
  },
  {
   "cell_type": "code",
   "execution_count": 38,
   "metadata": {
    "ExecuteTime": {
     "end_time": "2023-05-18T09:01:29.479644Z",
     "start_time": "2023-05-18T09:01:29.260380Z"
    }
   },
   "outputs": [
    {
     "data": {
      "image/png": "[encoded data removed]",
      "text/plain": [
       "<Figure size 1100x300 with 3 Axes>"
      ]
     },
     "metadata": {},
     "output_type": "display_data"
    }
   ],
   "source": [
    "fig = plt.figure(figsize=(11, 3))\n",
    "for i in range(3):\n",
    "    ax = fig.add_subplot(1, 3, i + 1)\n",
    "    ax.set_title(str(i + 1))\n",
    "    ax.scatter(\n",
    "        target_test_all[i], predict_test_all[i],\n",
    "        alpha=0.02)\n",
    "\n",
    "    ax.plot(\n",
    "        [target_test_all[i].min(), target_test_all[i].max()],\n",
    "        [target_test_all[i].min(), target_test_all[i].max()],\n",
    "        'k--', lw=2)\n",
    "\n",
    "    ax.set_xlabel('Факт')\n",
    "    ax.set_ylabel('Предсказание')\n",
    "plt.show()"
   ]
  },
  {
   "cell_type": "markdown",
   "metadata": {},
   "source": [
    "### Вывод"
   ]
  },
  {
   "cell_type": "markdown",
   "metadata": {},
   "source": [
    "Всё очень плохо для нормальных распределений добычи (1-й и 3-й файлы)\n",
    "средняя ошибка в районе 54. Если учесть, что общее распределение\n",
    "там 0...180, ошибка, мягко говоря, немаленькая.\n",
    "Среднее предсказанное значение добычи: 120 vs ≈ 93 реальные.\n",
    "\n",
    "На дискретном наборе таргета (напомним, что во 2-м файле всего 12 разных значений),\n",
    "у нас все гораздо лучше: средняя ошибка 0,93"
   ]
  },
  {
   "cell_type": "markdown",
   "metadata": {},
   "source": [
    "## Подготовка к расчёту прибыли"
   ]
  },
  {
   "cell_type": "code",
   "execution_count": 39,
   "metadata": {
    "ExecuteTime": {
     "end_time": "2023-05-18T09:01:29.484489Z",
     "start_time": "2023-05-18T09:01:29.481062Z"
    }
   },
   "outputs": [],
   "source": [
    "BUDGET = 1e10\n",
    "INCOME_PER_KILOBARREL = 450e3\n",
    "\n",
    "REVIEW_COUNT = 500\n",
    "SELECTED_COUNT = 200\n",
    "\n",
    "MAX_FAILURE_CHANCE = 0.025"
   ]
  },
  {
   "cell_type": "code",
   "execution_count": 40,
   "metadata": {
    "ExecuteTime": {
     "end_time": "2023-05-18T09:01:29.491079Z",
     "start_time": "2023-05-18T09:01:29.486162Z"
    }
   },
   "outputs": [
    {
     "name": "stdout",
     "output_type": "stream",
     "text": [
      "Минимальный объем сырья на одной скважине (тыс. бар): 111.11\n",
      "---\n",
      "предсказанный средний запас сырья в 1: 120.62\n",
      "предсказанный средний запас сырья в 2: 69.18\n",
      "предсказанный средний запас сырья в 3: 121.91\n"
     ]
    }
   ],
   "source": [
    "minimal_product = BUDGET / INCOME_PER_KILOBARREL / SELECTED_COUNT\n",
    "print(f'Минимальный объем сырья на одной скважине (тыс. бар):'\n",
    "      f' {minimal_product:.2f}')\n",
    "\n",
    "print('---')\n",
    "for i in range(3):\n",
    "    print(f'предсказанный средний запас сырья в {i + 1}: '\n",
    "          f'{avg_product_all[i]:.2f}')"
   ]
  },
  {
   "cell_type": "markdown",
   "metadata": {},
   "source": [
    "Вывод: прибыль будет, если каждая из 200 итоговых скважин даст больше 111.11\n",
    "тыс. т баррелей. Посмотрим, как справятся наши модели (с их-то погрешностями)"
   ]
  },
  {
   "cell_type": "markdown",
   "metadata": {},
   "source": [
    "## Расчёт прибыли и рисков "
   ]
  },
  {
   "cell_type": "code",
   "execution_count": 41,
   "metadata": {
    "ExecuteTime": {
     "end_time": "2023-05-18T09:01:29.536200Z",
     "start_time": "2023-05-18T09:01:29.499045Z"
    }
   },
   "outputs": [],
   "source": [
    "def revenue(target, predicted, count):\n",
    "    predicted_sorted = predicted.sort_values(ascending=False)\n",
    "    selected = target[predicted_sorted.index][:count]\n",
    "    total_volume = selected.sum()\n",
    "    return total_volume * INCOME_PER_KILOBARREL - BUDGET"
   ]
  },
  {
   "cell_type": "code",
   "execution_count": 42,
   "metadata": {
    "ExecuteTime": {
     "end_time": "2023-05-18T09:23:06.166592Z",
     "start_time": "2023-05-18T09:23:04.835086Z"
    }
   },
   "outputs": [
    {
     "name": "stdout",
     "output_type": "stream",
     "text": [
      "Средняя прибыль в регионе 1: 389,897,463\n",
      "95% дов. интервал -174,911,190 ... 928,851,152\n",
      "вероятность убытков: 8.2%, плохо\n",
      "\n",
      "Средняя прибыль в регионе 2: 535,199,743\n",
      "95% дов. интервал 86,681,038 ... 958,082,040\n",
      "вероятность убытков: 1.4%, ok\n",
      "\n",
      "Средняя прибыль в регионе 3: 350,571,605\n",
      "95% дов. интервал -173,998,524 ... 877,299,634\n",
      "вероятность убытков: 11.3%, плохо\n",
      "\n"
     ]
    }
   ],
   "source": [
    "for region_index in range(3):\n",
    "    state = np.random.RandomState(12345)\n",
    "\n",
    "    predicted = pd.Series(predict_test_all[region_index], name='product')\n",
    "    target = target_test_all[region_index].reset_index(drop=True)\n",
    "\n",
    "    values = []\n",
    "    for i in range(1000):\n",
    "        target_sample = target.sample(REVIEW_COUNT, replace=True, random_state=state)\n",
    "        predicted_sample = predicted.loc[target_sample.index]\n",
    "        values.append(revenue(target_sample, predicted_sample, SELECTED_COUNT))\n",
    "\n",
    "    values = pd.Series(values)\n",
    "    lower = values.quantile(0.025)\n",
    "    upper = values.quantile(1 - 0.025)\n",
    "\n",
    "    mean = values.mean()\n",
    "    loss_probability = (values < 0).mean()\n",
    "    is_ok = \"плохо\" if loss_probability >= MAX_FAILURE_CHANCE else \"ok\"\n",
    "    print(f'Средняя прибыль в регионе {region_index + 1}: {mean:,.0f}')\n",
    "    print(f'95% дов. интервал {lower:,.0f} ... {upper:,.0f}')\n",
    "    print(f'вероятность убытков: {loss_probability:.1%}, {is_ok}')\n",
    "    print()"
   ]
  },
  {
   "cell_type": "markdown",
   "metadata": {},
   "source": [
    "## Вывод\n",
    "\n"
   ]
  },
  {
   "cell_type": "markdown",
   "metadata": {},
   "source": [
    "Регион №2 — единственный регион с «гарантированной» прибылью по нашим моделям.\n",
    "\n",
    "В остальных случаях погрешности слишком большие. Что логично: зависмости в 1 и 2\n",
    "нелинейные, а полиномы мы здесь не используем. Второй регион же отработал хорошо,\n",
    "потому что распределение целевого признака дискретное всего из 12 значений\n",
    "и имеет небывалую корреляцию в единицу с 3-м признаком.\n",
    "\n",
    "==\n",
    "\n",
    "Просьба к ревьюеру: если ошибок нет = переделок не требуется, «пометьте»,\n",
    "пожалуйста, работу принятой. Чтобы мог максимально быстро начать работу над\n",
    "сборным проектом (его условия не видно, пока все «обычные» проекты не приняты)"
   ]
  },
  {
   "cell_type": "markdown",
   "metadata": {},
   "source": [
    "## Чек-лист готовности проекта"
   ]
  },
  {
   "cell_type": "markdown",
   "metadata": {},
   "source": [
    "Поставьте 'x' в выполненных пунктах. Далее нажмите Shift+Enter."
   ]
  },
  {
   "cell_type": "markdown",
   "metadata": {},
   "source": [
    "- [x]  Jupyter Notebook открыт\n",
    "- [x]  Весь код выполняется без ошибок\n",
    "- [x]  Ячейки с кодом расположены в порядке исполнения\n",
    "- [x]  Выполнен шаг 1: данные подготовлены\n",
    "- [x]  Выполнен шаг 2: модели обучены и проверены\n",
    "    - [x]  Данные корректно разбиты на обучающую и валидационную выборки\n",
    "    - [x]  Модели обучены, предсказания сделаны\n",
    "    - [x]  Предсказания и правильные ответы на валидационной выборке сохранены\n",
    "    - [x]  На экране напечатаны результаты\n",
    "    - [x]  Сделаны выводы\n",
    "- [x]  Выполнен шаг 3: проведена подготовка к расчёту прибыли\n",
    "    - [x]  Для всех ключевых значений созданы константы Python\n",
    "    - [x]  Посчитано минимальное среднее количество продукта в месторождениях региона, достаточное для разработки\n",
    "    - [x]  По предыдущему пункту сделаны выводы\n",
    "    - [x]  Написана функция расчёта прибыли\n",
    "- [x]  Выполнен шаг 4: посчитаны риски и прибыль\n",
    "    - [x]  Проведена процедура *Bootstrap*\n",
    "    - [x]  Все параметры бутстрепа соответствуют условию\n",
    "    - [x]  Найдены все нужные величины\n",
    "    - [x]  Предложен регион для разработки месторождения\n",
    "    - [x]  Выбор региона обоснован"
   ]
  },
  {
   "cell_type": "code",
   "execution_count": null,
   "metadata": {},
   "outputs": [],
   "source": []
  }
 ],
 "metadata": {
  "kernelspec": {
   "display_name": "Python 3 (ipykernel)",
   "language": "python",
   "name": "python3"
  },
  "language_info": {
   "codemirror_mode": {
    "name": "ipython",
    "version": 3
   },
   "file_extension": ".py",
   "mimetype": "text/x-python",
   "name": "python",
   "nbconvert_exporter": "python",
   "pygments_lexer": "ipython3",
   "version": "3.9.16"
  },
  "toc": {
   "base_numbering": 1,
   "nav_menu": {},
   "number_sections": true,
   "sideBar": true,
   "skip_h1_title": true,
   "title_cell": "Table of Contents",
   "title_sidebar": "Contents",
   "toc_cell": true,
   "toc_position": {
    "height": "calc(100% - 180px)",
    "left": "10px",
    "top": "150px",
    "width": "256px"
   },
   "toc_section_display": true,
   "toc_window_display": true
  }
 },
 "nbformat": 4,
 "nbformat_minor": 2
}
